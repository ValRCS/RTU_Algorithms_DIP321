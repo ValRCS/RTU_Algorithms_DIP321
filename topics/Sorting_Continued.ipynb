{
  "cells": [
    {
      "cell_type": "markdown",
      "metadata": {
        "id": "biKMskxzOZDi"
      },
      "source": [
        "# More Sorting Algoritms - Heap, Quick, Counting, Bucket, Radix\n"
      ]
    },
    {
      "cell_type": "markdown",
      "metadata": {
        "id": "b5w5EZRRm6tF"
      },
      "source": [
        "* Visualization of these concepts: https://visualgo.net/en\n",
        "\n",
        "* https://www.geeksforgeeks.org/ - many implementations"
      ]
    },
    {
      "cell_type": "code",
      "execution_count": null,
      "metadata": {
        "id": "h92RAOhHm6tI"
      },
      "outputs": [],
      "source": [
        "# Selection sort was\n",
        "# starting from one end or our sequence\n",
        "# select min or max out of unsorted and place in the sequence\n",
        "# keep going backwards or forwards\n",
        "# problem was that min (or max) call would be linear\n",
        "# min or max call would need to go through all the unsorted values each time\n",
        "# what if we had a data structure which lets us get the min or max in better than linear time?\n",
        "# turns out there is such a structure - heap"
      ]
    },
    {
      "cell_type": "markdown",
      "metadata": {
        "id": "fOeTNnyzm6tK"
      },
      "source": [
        "## Heap sort\n",
        "* Selection sort where we utilize a better structure for storing max(or min values)\n",
        "* https://www.cs.usfca.edu/~galles/visualization/Heap.html\n",
        "\n",
        "* https://www.cs.usfca.edu/~galles/visualization/HeapSort.html"
      ]
    },
    {
      "cell_type": "markdown",
      "metadata": {
        "id": "PGpM6tCwM7fR"
      },
      "source": [
        "Heap sort is a comparison-based sorting algorithm that is based on the binary heap data structure. A binary heap is a complete binary tree that satisfies the heap property, which states that the key of each node is greater than or equal to the keys of its children (in a max-heap) or less than or equal to the keys of its children (in a min-heap).\n",
        "\n",
        "The basic idea behind heap sort is to first build a heap out of the input array, then repeatedly remove the root node (which is the maximum or minimum element) and insert it into the sorted output array. By repeatedly removing the root node, the elements of the heap are sorted in ascending or descending order, depending on whether a min-heap or max-heap is used.\n",
        "\n",
        "The algorithm has two main steps:\n",
        "\n",
        "Build a heap out of the input array. This is done by repeatedly inserting elements into the heap and maintaining the heap property.\n",
        "Repeatedly remove the root node and insert it into the sorted output array. This is done by swapping the root node with the last element of the heap, then removing the last element and adjusting the heap to maintain the heap property.\n",
        "The time complexity of heap sort is O(n log n), which is more efficient than some other comparison-based sorting algorithms like bubble sort and insertion sort, but less efficient than others like quicksort and merge sort. However, it has the advantage of being a stable sort algorithm, which means that it preserves the relative order of equal elements.\n",
        "\n",
        "In python, the built-in library heapq can be used to implement a heap and perform heap sort.\n",
        "It's important to notice that the heapq.heapify() function creates a min-heap, and it can be used to sort an array in ascending order. If you want to sort in descending order you will need to negate the elements before passing them to the heapify function and also after extracting them from the heap."
      ]
    },
    {
      "cell_type": "code",
      "execution_count": null,
      "metadata": {
        "id": "suuydssRm6tK"
      },
      "outputs": [],
      "source": [
        "## Heap sort is a selection algorithm\n",
        "# we go through our iterable and select the min or max value out of the unsorted\n",
        "# the only improvement is that we use a more efficient data structure for storing the min or max values(we have to pick side)\n",
        "# the problem was that we had to go through all the unsorted values constantly and look for that min or max\n",
        "# that's where O(n^2) comes from"
      ]
    },
    {
      "cell_type": "code",
      "execution_count": null,
      "metadata": {
        "id": "A3JfsbISm6tL"
      },
      "outputs": [],
      "source": [
        "## https://www.cs.usfca.edu/~galles/visualization/Heap.html - heap data structure visualization"
      ]
    },
    {
      "cell_type": "code",
      "execution_count": 6,
      "metadata": {
        "id": "PJWi5Ohem6tL"
      },
      "outputs": [],
      "source": [
        "import heapq #we are using an existing library of heap data structure\n",
        "def simple_heap_sort(iterable):\n",
        "    # if we wanted OUT OF PLACE heap sort we would have to copy the iterable here\n",
        "    # iterable_copy = list(iterable) # or copy method\n",
        "    heapq.heapify(iterable) # guaranteed linear time by the library but it is IN PLACE\n",
        "    # even if heapify was O(n log n) it would still be good for our purpose\n",
        "    # return [heapq.heappop(iterable) for i in range(len(iterable))] # so no IndexErrors\n",
        "    # the above list comprehension could be written as a simple loop as well\n",
        "    new_list = []\n",
        "    for _ in range(len(iterable)): # underscore because we do not care about the actual index\n",
        "        new_list.append(heapq.heappop(iterable))\n",
        "    return new_list\n",
        "# heappop call is O(log n) so we get our O(n log n)\n",
        "# complexity comes from the single [heapq.heappop(iterable) for i in range(len(iterable))]"
      ]
    },
    {
      "cell_type": "code",
      "execution_count": 2,
      "metadata": {
        "colab": {
          "base_uri": "https://localhost:8080/"
        },
        "id": "wMz6wxoXm6tL",
        "outputId": "dc3386dd-8814-4dc6-e163-01c9596f2129"
      },
      "outputs": [
        {
          "output_type": "execute_result",
          "data": {
            "text/plain": [
              "[-33, -2, 0, 1, 1, 2, 5, 6, 6, 6, 7, 21, 21, 34, 656]"
            ]
          },
          "metadata": {},
          "execution_count": 2
        }
      ],
      "source": [
        "simple_heap_sort([1,34,6,21,6,1,21,656,6,2,7,0,-33,-2,5])"
      ]
    },
    {
      "cell_type": "code",
      "execution_count": 3,
      "metadata": {
        "colab": {
          "base_uri": "https://localhost:8080/"
        },
        "id": "cyZNSfKSg8dn",
        "outputId": "55a58f33-ebff-43c8-e2da-dc5da7eec9c4"
      },
      "outputs": [
        {
          "output_type": "execute_result",
          "data": {
            "text/plain": [
              "[1, 3, 6, 1, -5, -10, 5]"
            ]
          },
          "metadata": {},
          "execution_count": 3
        }
      ],
      "source": [
        "my_list = [1,3,6,1,-5,-10,5]\n",
        "my_list"
      ]
    },
    {
      "cell_type": "code",
      "execution_count": 4,
      "metadata": {
        "colab": {
          "base_uri": "https://localhost:8080/"
        },
        "id": "Fr-AonqGhBEy",
        "outputId": "5c2fc9ba-9495-4c67-b8cb-26a6d24ceee9"
      },
      "outputs": [
        {
          "output_type": "execute_result",
          "data": {
            "text/plain": [
              "([], [-10, -5, 1, 1, 3, 5, 6])"
            ]
          },
          "metadata": {},
          "execution_count": 4
        }
      ],
      "source": [
        "new_list = simple_heap_sort(my_list)\n",
        "my_list, new_list"
      ]
    },
    {
      "cell_type": "code",
      "execution_count": null,
      "metadata": {
        "id": "KJmqOv-jg2qP"
      },
      "outputs": [],
      "source": []
    },
    {
      "cell_type": "code",
      "execution_count": 7,
      "metadata": {
        "id": "dxwzS2zVnrvl"
      },
      "outputs": [],
      "source": [
        "# https://docs.python.org/3/library/heapq.html\n",
        "def heapsort_out_of_place(iterable):  #out of place sort here\n",
        "  h = [] # thats our heap which is going to be empty at first\n",
        "  for value in iterable: # so n times where n is number of items in iterable\n",
        "    heapq.heappush(h, value)  # so  heappush takes log n time\n",
        "  # so in this solution setup takes O(n log n) time as well\n",
        "# thus the above loop will have O(n log n) unlike our heapify which is linear\n",
        "  # new_sorted_list = []\n",
        "  # for _ in range(len(h)):  # so n times\n",
        "  #   new_sorted_list.append(heapq.heappop(h))  # so n times and pop again is log n operation\n",
        "  # return new_sorted_list\n",
        "  # same as above but using list comprehension\n",
        "  return [heapq.heappop(h) for _ in range(len(h))]  # here n times and pop again is log n operation"
      ]
    },
    {
      "cell_type": "code",
      "execution_count": null,
      "metadata": {
        "id": "jJxSx5Qcm6tM"
      },
      "outputs": [],
      "source": [
        "# so our simple heap sort algorithms nicely but in the process of heapify IN PLACE we destroy the original order"
      ]
    },
    {
      "cell_type": "code",
      "execution_count": 8,
      "metadata": {
        "id": "iikmxhC2m6tN"
      },
      "outputs": [],
      "source": [
        "import random\n",
        "random.seed(2024) # to have fixed values\n",
        "r10k = [random.randint(1,1_000_000) for n in range(10_000)]\n",
        "r100k = [random.randint(1,1_000_000) for n in range(100_000)]\n",
        "r1m = [random.randint(1,10_000_000) for n in range(1_000_000)]"
      ]
    },
    {
      "cell_type": "code",
      "execution_count": 9,
      "metadata": {
        "colab": {
          "base_uri": "https://localhost:8080/"
        },
        "id": "tbe0FsM0m6tO",
        "outputId": "8fb123f0-36d1-4c94-bd4d-90649089a3ed"
      },
      "outputs": [
        {
          "output_type": "execute_result",
          "data": {
            "text/plain": [
              "[-3, 1, 2, 3, 3, 6, 7, 21, 67]"
            ]
          },
          "metadata": {},
          "execution_count": 9
        }
      ],
      "source": [
        "heapsort_out_of_place([1,3,6,21,2,3,67,-3,7])"
      ]
    },
    {
      "cell_type": "code",
      "execution_count": 10,
      "metadata": {
        "colab": {
          "base_uri": "https://localhost:8080/"
        },
        "id": "MpJ02Shdm6tP",
        "outputId": "4f750815-fa61-45f8-8234-da1871b65662"
      },
      "outputs": [
        {
          "output_type": "execute_result",
          "data": {
            "text/plain": [
              "[2, 2, 7, 23, 25, 36, 76, 80, 80, 81]"
            ]
          },
          "metadata": {},
          "execution_count": 10
        }
      ],
      "source": [
        "nlist = heapsort_out_of_place(r100k)\n",
        "nlist[:10]"
      ]
    },
    {
      "cell_type": "code",
      "execution_count": 11,
      "metadata": {
        "colab": {
          "base_uri": "https://localhost:8080/"
        },
        "id": "i8EUxW8Lm6tP",
        "outputId": "08dbeb48-72ab-4fd4-801e-3b3aa9c256a3"
      },
      "outputs": [
        {
          "output_type": "execute_result",
          "data": {
            "text/plain": [
              "[81611, 320703, 934884, 240329, 141043]"
            ]
          },
          "metadata": {},
          "execution_count": 11
        }
      ],
      "source": [
        "r100k[:5] # so our original numbers are still unsorted before running our timeit"
      ]
    },
    {
      "cell_type": "code",
      "execution_count": 12,
      "metadata": {
        "colab": {
          "base_uri": "https://localhost:8080/"
        },
        "id": "xBXk3QpIm6tQ",
        "outputId": "d0e4d7e7-f64e-43c2-a461-6cde6abdbf34"
      },
      "outputs": [
        {
          "output_type": "stream",
          "name": "stdout",
          "text": [
            "4.88 ms ± 102 µs per loop (mean ± std. dev. of 7 runs, 100 loops each)\n"
          ]
        }
      ],
      "source": [
        "%%timeit\n",
        "heapsort_out_of_place(r10k)"
      ]
    },
    {
      "cell_type": "code",
      "execution_count": 13,
      "metadata": {
        "colab": {
          "base_uri": "https://localhost:8080/"
        },
        "id": "K5UD4HfnoL1x",
        "outputId": "766aac4f-e202-4678-b698-53bcd7f884ae"
      },
      "outputs": [
        {
          "output_type": "stream",
          "name": "stdout",
          "text": [
            "1.8 ms ± 221 µs per loop (mean ± std. dev. of 7 runs, 1000 loops each)\n"
          ]
        }
      ],
      "source": [
        "%%timeit\n",
        "sorted(r10k)"
      ]
    },
    {
      "cell_type": "code",
      "execution_count": 14,
      "metadata": {
        "colab": {
          "base_uri": "https://localhost:8080/"
        },
        "id": "014OgFjQm6tQ",
        "outputId": "6956fdfd-6baf-44d8-bf46-2a05a080dc81"
      },
      "outputs": [
        {
          "output_type": "stream",
          "name": "stdout",
          "text": [
            "84.7 ms ± 22.2 ms per loop (mean ± std. dev. of 7 runs, 10 loops each)\n"
          ]
        }
      ],
      "source": [
        "%%timeit\n",
        "heapsort_out_of_place(r100k)"
      ]
    },
    {
      "cell_type": "code",
      "execution_count": 15,
      "metadata": {
        "colab": {
          "base_uri": "https://localhost:8080/"
        },
        "id": "oVx6iQLuod22",
        "outputId": "25dfd323-6596-48bc-f30f-4fbd254da182"
      },
      "outputs": [
        {
          "output_type": "stream",
          "name": "stdout",
          "text": [
            "35.7 ms ± 4.39 ms per loop (mean ± std. dev. of 7 runs, 10 loops each)\n"
          ]
        }
      ],
      "source": [
        "%%timeit\n",
        "sorted(r100k)"
      ]
    },
    {
      "cell_type": "code",
      "execution_count": 16,
      "metadata": {
        "colab": {
          "base_uri": "https://localhost:8080/"
        },
        "id": "Y5SzH9uWm6tQ",
        "outputId": "eadd0535-704c-4817-eece-b46128da282c"
      },
      "outputs": [
        {
          "output_type": "stream",
          "name": "stdout",
          "text": [
            "2.12 s ± 366 ms per loop (mean ± std. dev. of 7 runs, 1 loop each)\n"
          ]
        }
      ],
      "source": [
        "%%timeit\n",
        "heapsort_out_of_place(r1m)"
      ]
    },
    {
      "cell_type": "code",
      "execution_count": 17,
      "metadata": {
        "colab": {
          "base_uri": "https://localhost:8080/"
        },
        "id": "1EVqgG2GhHkj",
        "outputId": "2a03b3b2-a86c-4f66-aa02-7a34898f16b8"
      },
      "outputs": [
        {
          "output_type": "stream",
          "name": "stdout",
          "text": [
            "435 ms ± 6.78 ms per loop (mean ± std. dev. of 7 runs, 1 loop each)\n"
          ]
        }
      ],
      "source": [
        "%%timeit\n",
        "sorted(r1m)"
      ]
    },
    {
      "cell_type": "code",
      "execution_count": null,
      "metadata": {
        "id": "dzecmRkFm6tR",
        "outputId": "d59e029c-eea4-4c20-b15f-35b9294fb95e"
      },
      "outputs": [
        {
          "name": "stdout",
          "output_type": "stream",
          "text": [
            "1.58 ms ± 6.18 µs per loop (mean ± std. dev. of 7 runs, 1000 loops each)\n"
          ]
        }
      ],
      "source": [
        "%%timeit\n",
        "sorted(r10k) # timsort which is mergesort plus (insertion sort for < 50 items)"
      ]
    },
    {
      "cell_type": "code",
      "execution_count": null,
      "metadata": {
        "id": "5RyIpVV4m6tR",
        "outputId": "6707107b-946e-4fdf-d099-cde203248ead"
      },
      "outputs": [
        {
          "name": "stdout",
          "output_type": "stream",
          "text": [
            "24.7 ms ± 1.52 ms per loop (mean ± std. dev. of 7 runs, 10 loops each)\n"
          ]
        }
      ],
      "source": [
        "%%timeit\n",
        "sorted(r100k) # timsort which is mergesort plus (insertion sort for < 50 items)"
      ]
    },
    {
      "cell_type": "code",
      "execution_count": null,
      "metadata": {
        "id": "JZfhPyP4m6tR",
        "outputId": "a681bc9f-7bae-4dfa-c528-2d3c0526a920"
      },
      "outputs": [
        {
          "name": "stdout",
          "output_type": "stream",
          "text": [
            "385 ms ± 18.3 ms per loop (mean ± std. dev. of 7 runs, 1 loop each)\n"
          ]
        }
      ],
      "source": [
        "%%timeit\n",
        "sorted(r1m)"
      ]
    },
    {
      "cell_type": "code",
      "execution_count": 18,
      "metadata": {
        "colab": {
          "base_uri": "https://localhost:8080/"
        },
        "id": "rvvHebLJm6tS",
        "outputId": "7921ef61-7958-4222-9ceb-11b6ff87b88f"
      },
      "outputs": [
        {
          "output_type": "stream",
          "name": "stdout",
          "text": [
            "Sorted array is\n",
            "5\n",
            "6\n",
            "7\n",
            "11\n",
            "12\n",
            "13\n"
          ]
        }
      ],
      "source": [
        "# Python program for implementation of heap Sort - GeeksForGeeks Version\n",
        "\n",
        "# To heapify subtree rooted at index i.\n",
        "# n is size of heap\n",
        "\n",
        "\n",
        "def heapify(arr, n, i):\n",
        "    largest = i  # Initialize largest as root\n",
        "    l = 2 * i + 1     # left = 2*i + 1\n",
        "    r = 2 * i + 2     # right = 2*i + 2\n",
        "\n",
        "    # See if left child of root exists and is\n",
        "    # greater than root\n",
        "    if l < n and arr[largest] < arr[l]:\n",
        "        largest = l\n",
        "\n",
        "    # See if right child of root exists and is\n",
        "    # greater than root\n",
        "    if r < n and arr[largest] < arr[r]:\n",
        "        largest = r\n",
        "\n",
        "    # Change root, if needed\n",
        "    if largest != i:\n",
        "        arr[i], arr[largest] = arr[largest], arr[i]  # swap\n",
        "\n",
        "        # Heapify the root.\n",
        "        heapify(arr, n, largest)  # recursive!\n",
        "\n",
        "# The main function to sort an array of given size\n",
        "\n",
        "\n",
        "def heap_sort_geeks(arr):\n",
        "    n = len(arr)\n",
        "\n",
        "    # Build a maxheap.\n",
        "    for i in range(n//2 - 1, -1, -1):\n",
        "        heapify(arr, n, i)\n",
        "\n",
        "    # One by one extract elements\n",
        "    for i in range(n-1, 0, -1):\n",
        "        arr[i], arr[0] = arr[0], arr[i]  # swap\n",
        "        heapify(arr, i, 0)\n",
        "\n",
        "\n",
        "# Driver code\n",
        "arr = [12, 11, 13, 5, 6, 7]\n",
        "heap_sort_geeks(arr)\n",
        "n = len(arr)\n",
        "print(\"Sorted array is\")\n",
        "for i in range(n):\n",
        "    print(\"%d\" % arr[i]),\n",
        "# This code is contributed by Mohit Kumra"
      ]
    },
    {
      "cell_type": "code",
      "execution_count": null,
      "metadata": {
        "colab": {
          "base_uri": "https://localhost:8080/"
        },
        "id": "ADc8aiGMm6tS",
        "outputId": "858e19d6-707a-45cf-d772-50ee78a97bf7"
      },
      "outputs": [
        {
          "name": "stdout",
          "output_type": "stream",
          "text": [
            "83.5 ms ± 1.42 ms per loop (mean ± std. dev. of 7 runs, 10 loops each)\n"
          ]
        }
      ],
      "source": [
        "%%timeit\n",
        "heap_sort_geeks(r10k)"
      ]
    },
    {
      "cell_type": "code",
      "execution_count": null,
      "metadata": {
        "id": "5x6sVOUJm6tT",
        "outputId": "81387089-017b-4322-d43a-329b57ba4572"
      },
      "outputs": [
        {
          "data": {
            "text/plain": [
              "[193, 358, 359, 364, 374, 391, 516, 578, 587, 604]"
            ]
          },
          "execution_count": 17,
          "metadata": {},
          "output_type": "execute_result"
        }
      ],
      "source": [
        "r10k[:10]"
      ]
    },
    {
      "cell_type": "code",
      "execution_count": null,
      "metadata": {
        "id": "wBHqO8JOhE_A"
      },
      "outputs": [],
      "source": []
    },
    {
      "cell_type": "code",
      "execution_count": null,
      "metadata": {
        "id": "TzsUJt2Tm6tT",
        "outputId": "b11989dc-0d9e-4c17-a2b7-3249817e63e4"
      },
      "outputs": [
        {
          "name": "stdout",
          "output_type": "stream",
          "text": [
            "152 ms ± 6.98 ms per loop (mean ± std. dev. of 7 runs, 10 loops each)\n"
          ]
        }
      ],
      "source": [
        "%%timeit\n",
        "heap_sort_geeks(r10k)"
      ]
    },
    {
      "cell_type": "code",
      "execution_count": null,
      "metadata": {
        "colab": {
          "base_uri": "https://localhost:8080/"
        },
        "id": "fDSiK5ISm6tT",
        "outputId": "f977b1ef-6393-4098-e236-66075aec85fa"
      },
      "outputs": [
        {
          "name": "stdout",
          "output_type": "stream",
          "text": [
            "1.12 s ± 27.5 ms per loop (mean ± std. dev. of 7 runs, 1 loop each)\n"
          ]
        }
      ],
      "source": [
        "%%timeit\n",
        "heap_sort_geeks(r100k)"
      ]
    },
    {
      "cell_type": "code",
      "execution_count": null,
      "metadata": {
        "id": "RWl3161tm6tT",
        "outputId": "ae3999d0-5044-403d-8d52-91f965e192c4"
      },
      "outputs": [
        {
          "name": "stdout",
          "output_type": "stream",
          "text": [
            "1.84 s ± 8.07 ms per loop (mean ± std. dev. of 7 runs, 1 loop each)\n"
          ]
        }
      ],
      "source": [
        "%%timeit\n",
        "heap_sort_geeks(r100k)"
      ]
    },
    {
      "cell_type": "code",
      "execution_count": null,
      "metadata": {
        "id": "93XOf7JCm6tU"
      },
      "outputs": [],
      "source": [
        "# so one takeway is unless you have a serious need use existing data structures (collections) whenever possible\n",
        "# your own data structures are likely to be slower\n",
        "# of course if you come up with an improvement\\\n",
        "# that's probably masters thesis worth or even PhD!\n",
        "# the low hanging fruit has already been picked but you never know"
      ]
    },
    {
      "cell_type": "markdown",
      "metadata": {
        "id": "Nsl7iVzCm6tU"
      },
      "source": [
        "![Heap sort](https://upload.wikimedia.org/wikipedia/commons/1/1b/Sorting_heapsort_anim.gif)"
      ]
    },
    {
      "cell_type": "markdown",
      "metadata": {
        "id": "CVe2BxUcm6tU"
      },
      "source": [
        "# Quick Sort"
      ]
    },
    {
      "cell_type": "markdown",
      "metadata": {
        "id": "yAcbm29tm6tU"
      },
      "source": [
        "![QuickSort](https://upload.wikimedia.org/wikipedia/commons/6/6a/Sorting_quicksort_anim.gif)"
      ]
    },
    {
      "cell_type": "markdown",
      "metadata": {
        "id": "5r1TJMHrm6tU"
      },
      "source": [
        "#### Hungarian Dance version - https://www.youtube.com/watch?v=ywWBy6J5gz8"
      ]
    },
    {
      "cell_type": "code",
      "execution_count": null,
      "metadata": {
        "id": "h0C1Oe3bm6tU"
      },
      "outputs": [],
      "source": [
        "# https://en.wikipedia.org/wiki/Tony_Hoare inventor of quicksort in early 1960s\n",
        "\n",
        "# So quick sort algorithm\n",
        "# choose a pivot (some value)\n",
        "# partion values - those smaller go left, those bigger go right\n",
        "# then apply quicksort to these subdivisions recursively\n",
        "\n",
        "#eventually there are nothing to partition and we are done!"
      ]
    },
    {
      "cell_type": "code",
      "execution_count": 19,
      "metadata": {
        "id": "1pbh99Wom6tV"
      },
      "outputs": [],
      "source": [
        "def naive_quicksort(seq):\n",
        "    it = seq.copy() # so we use n space for copy\n",
        "    if len(it) <= 1: # it is possible to get an empty list/array\n",
        "        return it # so this is our base case\n",
        "    pivot = it[0] # random would be even better, but then our algorithm slows down a bit from random\n",
        "    # an adversary could generate a worst case data set\n",
        "    # if my pivot selection is deterministic\n",
        "    # so partitioning will be 2 linear runs and also will take extra memory unlike optimized quicksort\n",
        "    left = [n for n in it if n < pivot]  # assuming no duplicates\n",
        "    right = [n for n in it if n > pivot] # so i am creating new lists/array so not very space efficient\n",
        "    return naive_quicksort(left) + [pivot] + naive_quicksort(right)\n",
        "# so after one sortie pivot is guaranteed to be in the correct place in our sequence/array\n",
        "# so the Recurrence looks like T(n) = 2T(n/2) + n (well n/2 is not guaranteed so it could be worse)"
      ]
    },
    {
      "cell_type": "code",
      "execution_count": 20,
      "metadata": {
        "colab": {
          "base_uri": "https://localhost:8080/"
        },
        "id": "0tlDO1wNm6tV",
        "outputId": "f7dc7f1e-2df8-47b9-9cc4-719401475a6c"
      },
      "outputs": [
        {
          "output_type": "execute_result",
          "data": {
            "text/plain": [
              "[-33, -11, 13, 17, 20, 26, 31, 44, 54, 55, 77, 93]"
            ]
          },
          "metadata": {},
          "execution_count": 20
        }
      ],
      "source": [
        "naive_quicksort([54, 26, 93, 17, 77, 31, 44, 55, 20, -33, 13,-11])"
      ]
    },
    {
      "cell_type": "code",
      "execution_count": 21,
      "metadata": {
        "id": "Jw7bYcI1m6tV"
      },
      "outputs": [],
      "source": [
        "random.seed(2024)\n",
        "r1k = [random.randint(1,1_000_000) for n in range(1_000)]\n",
        "r10k = [random.randint(1,1_000_000) for n in range(10_000)]\n",
        "r100k = [random.randint(1,1_000_000) for n in range(100_000)]\n",
        "r1m = [random.randint(1,10_000_000) for n in range(1_000_000)]"
      ]
    },
    {
      "cell_type": "code",
      "execution_count": 22,
      "metadata": {
        "colab": {
          "base_uri": "https://localhost:8080/"
        },
        "id": "xSLa0ZeXm6tV",
        "outputId": "81044b40-5efa-450d-9368-866e236ed832"
      },
      "outputs": [
        {
          "output_type": "execute_result",
          "data": {
            "text/plain": [
              "([378575, 85299, 363609, 517577, 128624],\n",
              " [777624, 40858, 529737, 491899, 401628],\n",
              " [8182248, 633732, 1030560, 9085858, 8790844])"
            ]
          },
          "metadata": {},
          "execution_count": 22
        }
      ],
      "source": [
        "# sanity check if our date is truly random\n",
        "r10k[:5], r100k[:5], r1m[:5]"
      ]
    },
    {
      "cell_type": "code",
      "execution_count": 23,
      "metadata": {
        "colab": {
          "base_uri": "https://localhost:8080/"
        },
        "id": "ro7Sxibtm6tV",
        "outputId": "6221833d-6cc6-45a5-a8d3-30d352b6d10d"
      },
      "outputs": [
        {
          "output_type": "stream",
          "name": "stdout",
          "text": [
            "18.7 ms ± 3.06 ms per loop (mean ± std. dev. of 7 runs, 100 loops each)\n"
          ]
        }
      ],
      "source": [
        "%%timeit\n",
        "naive_quicksort(r10k)"
      ]
    },
    {
      "cell_type": "code",
      "execution_count": 24,
      "metadata": {
        "colab": {
          "base_uri": "https://localhost:8080/"
        },
        "id": "6cXnImiTmVXB",
        "outputId": "1783e608-082c-476a-d1de-0848b91c8f1f"
      },
      "outputs": [
        {
          "output_type": "stream",
          "name": "stdout",
          "text": [
            "1.8 ms ± 218 µs per loop (mean ± std. dev. of 7 runs, 1000 loops each)\n"
          ]
        }
      ],
      "source": [
        "%%timeit\n",
        "sorted(r10k)"
      ]
    },
    {
      "cell_type": "code",
      "source": [
        "# how about timing 100k\n",
        "%%timeit\n",
        "naive_quicksort(r100k)"
      ],
      "metadata": {
        "id": "CHOe6xqNxfIV",
        "outputId": "d4110aa2-6cd6-432b-9a12-f7a27088772d",
        "colab": {
          "base_uri": "https://localhost:8080/"
        }
      },
      "execution_count": 25,
      "outputs": [
        {
          "output_type": "stream",
          "name": "stdout",
          "text": [
            "230 ms ± 9.36 ms per loop (mean ± std. dev. of 7 runs, 1 loop each)\n"
          ]
        }
      ]
    },
    {
      "cell_type": "code",
      "source": [
        "%%timeit\n",
        "sorted(r100k)"
      ],
      "metadata": {
        "id": "G97wtLFxxocW",
        "outputId": "4de48f76-32e3-46b2-d969-e4406a399bee",
        "colab": {
          "base_uri": "https://localhost:8080/"
        }
      },
      "execution_count": 26,
      "outputs": [
        {
          "output_type": "stream",
          "name": "stdout",
          "text": [
            "24.2 ms ± 680 µs per loop (mean ± std. dev. of 7 runs, 10 loops each)\n"
          ]
        }
      ]
    },
    {
      "cell_type": "code",
      "execution_count": 27,
      "metadata": {
        "colab": {
          "base_uri": "https://localhost:8080/"
        },
        "id": "jezW6yyovNTm",
        "outputId": "a441e7cd-a22b-47b3-b316-8f603d9afef5"
      },
      "outputs": [
        {
          "output_type": "execute_result",
          "data": {
            "text/plain": [
              "[9999, 9998, 9997, 9996, 9995]"
            ]
          },
          "metadata": {},
          "execution_count": 27
        }
      ],
      "source": [
        "reverse10k = list(range(10_000))[::-1]\n",
        "reverse10k[:5]"
      ]
    },
    {
      "cell_type": "code",
      "execution_count": 29,
      "metadata": {
        "id": "D_hNZCG7oCXE"
      },
      "outputs": [],
      "source": [
        "# let's try sorting using our naive quicksort\n",
        "sorted_10k = naive_quicksort(reverse10k)"
      ]
    },
    {
      "cell_type": "code",
      "execution_count": null,
      "metadata": {
        "colab": {
          "base_uri": "https://localhost:8080/"
        },
        "id": "riT7vRWjv1s4",
        "outputId": "77ccb695-95f6-45b7-8dae-8fc6656bfdf2"
      },
      "outputs": [
        {
          "data": {
            "text/plain": [
              "[999, 998, 997, 996, 995]"
            ]
          },
          "execution_count": 24,
          "metadata": {},
          "output_type": "execute_result"
        }
      ],
      "source": [
        "reverse1k = list(range(1_000))[::-1]\n",
        "reverse1k[:5]"
      ]
    },
    {
      "cell_type": "code",
      "execution_count": null,
      "metadata": {
        "colab": {
          "base_uri": "https://localhost:8080/",
          "height": 421
        },
        "id": "QElUDQoDvV_q",
        "outputId": "c78b2a7d-ce92-4c08-db16-23e4b646e2de"
      },
      "outputs": [
        {
          "ename": "RecursionError",
          "evalue": "ignored",
          "output_type": "error",
          "traceback": [
            "\u001b[0;31m---------------------------------------------------------------------------\u001b[0m",
            "\u001b[0;31mRecursionError\u001b[0m                            Traceback (most recent call last)",
            "\u001b[0;32m<ipython-input-25-4919d49e1c06>\u001b[0m in \u001b[0;36m<module>\u001b[0;34m\u001b[0m\n\u001b[0;32m----> 1\u001b[0;31m \u001b[0mget_ipython\u001b[0m\u001b[0;34m(\u001b[0m\u001b[0;34m)\u001b[0m\u001b[0;34m.\u001b[0m\u001b[0mrun_cell_magic\u001b[0m\u001b[0;34m(\u001b[0m\u001b[0;34m'timeit'\u001b[0m\u001b[0;34m,\u001b[0m \u001b[0;34m''\u001b[0m\u001b[0;34m,\u001b[0m \u001b[0;34m'naive_quicksort(reverse10k)\\n'\u001b[0m\u001b[0;34m)\u001b[0m\u001b[0;34m\u001b[0m\u001b[0;34m\u001b[0m\u001b[0m\n\u001b[0m",
            "\u001b[0;32m/usr/local/lib/python3.8/dist-packages/IPython/core/interactiveshell.py\u001b[0m in \u001b[0;36mrun_cell_magic\u001b[0;34m(self, magic_name, line, cell)\u001b[0m\n\u001b[1;32m   2357\u001b[0m             \u001b[0;32mwith\u001b[0m \u001b[0mself\u001b[0m\u001b[0;34m.\u001b[0m\u001b[0mbuiltin_trap\u001b[0m\u001b[0;34m:\u001b[0m\u001b[0;34m\u001b[0m\u001b[0;34m\u001b[0m\u001b[0m\n\u001b[1;32m   2358\u001b[0m                 \u001b[0margs\u001b[0m \u001b[0;34m=\u001b[0m \u001b[0;34m(\u001b[0m\u001b[0mmagic_arg_s\u001b[0m\u001b[0;34m,\u001b[0m \u001b[0mcell\u001b[0m\u001b[0;34m)\u001b[0m\u001b[0;34m\u001b[0m\u001b[0;34m\u001b[0m\u001b[0m\n\u001b[0;32m-> 2359\u001b[0;31m                 \u001b[0mresult\u001b[0m \u001b[0;34m=\u001b[0m \u001b[0mfn\u001b[0m\u001b[0;34m(\u001b[0m\u001b[0;34m*\u001b[0m\u001b[0margs\u001b[0m\u001b[0;34m,\u001b[0m \u001b[0;34m**\u001b[0m\u001b[0mkwargs\u001b[0m\u001b[0;34m)\u001b[0m\u001b[0;34m\u001b[0m\u001b[0;34m\u001b[0m\u001b[0m\n\u001b[0m\u001b[1;32m   2360\u001b[0m             \u001b[0;32mreturn\u001b[0m \u001b[0mresult\u001b[0m\u001b[0;34m\u001b[0m\u001b[0;34m\u001b[0m\u001b[0m\n\u001b[1;32m   2361\u001b[0m \u001b[0;34m\u001b[0m\u001b[0m\n",
            "\u001b[0;32m<decorator-gen-53>\u001b[0m in \u001b[0;36mtimeit\u001b[0;34m(self, line, cell, local_ns)\u001b[0m\n",
            "\u001b[0;32m/usr/local/lib/python3.8/dist-packages/IPython/core/magic.py\u001b[0m in \u001b[0;36m<lambda>\u001b[0;34m(f, *a, **k)\u001b[0m\n\u001b[1;32m    185\u001b[0m     \u001b[0;31m# but it's overkill for just that one bit of state.\u001b[0m\u001b[0;34m\u001b[0m\u001b[0;34m\u001b[0m\u001b[0;34m\u001b[0m\u001b[0m\n\u001b[1;32m    186\u001b[0m     \u001b[0;32mdef\u001b[0m \u001b[0mmagic_deco\u001b[0m\u001b[0;34m(\u001b[0m\u001b[0marg\u001b[0m\u001b[0;34m)\u001b[0m\u001b[0;34m:\u001b[0m\u001b[0;34m\u001b[0m\u001b[0;34m\u001b[0m\u001b[0m\n\u001b[0;32m--> 187\u001b[0;31m         \u001b[0mcall\u001b[0m \u001b[0;34m=\u001b[0m \u001b[0;32mlambda\u001b[0m \u001b[0mf\u001b[0m\u001b[0;34m,\u001b[0m \u001b[0;34m*\u001b[0m\u001b[0ma\u001b[0m\u001b[0;34m,\u001b[0m \u001b[0;34m**\u001b[0m\u001b[0mk\u001b[0m\u001b[0;34m:\u001b[0m \u001b[0mf\u001b[0m\u001b[0;34m(\u001b[0m\u001b[0;34m*\u001b[0m\u001b[0ma\u001b[0m\u001b[0;34m,\u001b[0m \u001b[0;34m**\u001b[0m\u001b[0mk\u001b[0m\u001b[0;34m)\u001b[0m\u001b[0;34m\u001b[0m\u001b[0;34m\u001b[0m\u001b[0m\n\u001b[0m\u001b[1;32m    188\u001b[0m \u001b[0;34m\u001b[0m\u001b[0m\n\u001b[1;32m    189\u001b[0m         \u001b[0;32mif\u001b[0m \u001b[0mcallable\u001b[0m\u001b[0;34m(\u001b[0m\u001b[0marg\u001b[0m\u001b[0;34m)\u001b[0m\u001b[0;34m:\u001b[0m\u001b[0;34m\u001b[0m\u001b[0;34m\u001b[0m\u001b[0m\n",
            "\u001b[0;32m/usr/local/lib/python3.8/dist-packages/IPython/core/magics/execution.py\u001b[0m in \u001b[0;36mtimeit\u001b[0;34m(self, line, cell, local_ns)\u001b[0m\n\u001b[1;32m   1156\u001b[0m             \u001b[0;32mfor\u001b[0m \u001b[0mindex\u001b[0m \u001b[0;32min\u001b[0m \u001b[0mrange\u001b[0m\u001b[0;34m(\u001b[0m\u001b[0;36m0\u001b[0m\u001b[0;34m,\u001b[0m \u001b[0;36m10\u001b[0m\u001b[0;34m)\u001b[0m\u001b[0;34m:\u001b[0m\u001b[0;34m\u001b[0m\u001b[0;34m\u001b[0m\u001b[0m\n\u001b[1;32m   1157\u001b[0m                 \u001b[0mnumber\u001b[0m \u001b[0;34m=\u001b[0m \u001b[0;36m10\u001b[0m \u001b[0;34m**\u001b[0m \u001b[0mindex\u001b[0m\u001b[0;34m\u001b[0m\u001b[0;34m\u001b[0m\u001b[0m\n\u001b[0;32m-> 1158\u001b[0;31m                 \u001b[0mtime_number\u001b[0m \u001b[0;34m=\u001b[0m \u001b[0mtimer\u001b[0m\u001b[0;34m.\u001b[0m\u001b[0mtimeit\u001b[0m\u001b[0;34m(\u001b[0m\u001b[0mnumber\u001b[0m\u001b[0;34m)\u001b[0m\u001b[0;34m\u001b[0m\u001b[0;34m\u001b[0m\u001b[0m\n\u001b[0m\u001b[1;32m   1159\u001b[0m                 \u001b[0;32mif\u001b[0m \u001b[0mtime_number\u001b[0m \u001b[0;34m>=\u001b[0m \u001b[0;36m0.2\u001b[0m\u001b[0;34m:\u001b[0m\u001b[0;34m\u001b[0m\u001b[0;34m\u001b[0m\u001b[0m\n\u001b[1;32m   1160\u001b[0m                     \u001b[0;32mbreak\u001b[0m\u001b[0;34m\u001b[0m\u001b[0;34m\u001b[0m\u001b[0m\n",
            "\u001b[0;32m/usr/local/lib/python3.8/dist-packages/IPython/core/magics/execution.py\u001b[0m in \u001b[0;36mtimeit\u001b[0;34m(self, number)\u001b[0m\n\u001b[1;32m    167\u001b[0m         \u001b[0mgc\u001b[0m\u001b[0;34m.\u001b[0m\u001b[0mdisable\u001b[0m\u001b[0;34m(\u001b[0m\u001b[0;34m)\u001b[0m\u001b[0;34m\u001b[0m\u001b[0;34m\u001b[0m\u001b[0m\n\u001b[1;32m    168\u001b[0m         \u001b[0;32mtry\u001b[0m\u001b[0;34m:\u001b[0m\u001b[0;34m\u001b[0m\u001b[0;34m\u001b[0m\u001b[0m\n\u001b[0;32m--> 169\u001b[0;31m             \u001b[0mtiming\u001b[0m \u001b[0;34m=\u001b[0m \u001b[0mself\u001b[0m\u001b[0;34m.\u001b[0m\u001b[0minner\u001b[0m\u001b[0;34m(\u001b[0m\u001b[0mit\u001b[0m\u001b[0;34m,\u001b[0m \u001b[0mself\u001b[0m\u001b[0;34m.\u001b[0m\u001b[0mtimer\u001b[0m\u001b[0;34m)\u001b[0m\u001b[0;34m\u001b[0m\u001b[0;34m\u001b[0m\u001b[0m\n\u001b[0m\u001b[1;32m    170\u001b[0m         \u001b[0;32mfinally\u001b[0m\u001b[0;34m:\u001b[0m\u001b[0;34m\u001b[0m\u001b[0;34m\u001b[0m\u001b[0m\n\u001b[1;32m    171\u001b[0m             \u001b[0;32mif\u001b[0m \u001b[0mgcold\u001b[0m\u001b[0;34m:\u001b[0m\u001b[0;34m\u001b[0m\u001b[0;34m\u001b[0m\u001b[0m\n",
            "\u001b[0;32m<magic-timeit>\u001b[0m in \u001b[0;36minner\u001b[0;34m(_it, _timer)\u001b[0m\n",
            "\u001b[0;32m<ipython-input-17-47d5cae6cb30>\u001b[0m in \u001b[0;36mnaive_quicksort\u001b[0;34m(seq)\u001b[0m\n\u001b[1;32m      9\u001b[0m     \u001b[0mleft\u001b[0m \u001b[0;34m=\u001b[0m \u001b[0;34m[\u001b[0m\u001b[0mn\u001b[0m \u001b[0;32mfor\u001b[0m \u001b[0mn\u001b[0m \u001b[0;32min\u001b[0m \u001b[0mit\u001b[0m \u001b[0;32mif\u001b[0m \u001b[0mn\u001b[0m \u001b[0;34m<\u001b[0m \u001b[0mpivot\u001b[0m\u001b[0;34m]\u001b[0m  \u001b[0;31m# assuming no duplicates\u001b[0m\u001b[0;34m\u001b[0m\u001b[0;34m\u001b[0m\u001b[0m\n\u001b[1;32m     10\u001b[0m     \u001b[0mright\u001b[0m \u001b[0;34m=\u001b[0m \u001b[0;34m[\u001b[0m\u001b[0mn\u001b[0m \u001b[0;32mfor\u001b[0m \u001b[0mn\u001b[0m \u001b[0;32min\u001b[0m \u001b[0mit\u001b[0m \u001b[0;32mif\u001b[0m \u001b[0mn\u001b[0m \u001b[0;34m>\u001b[0m \u001b[0mpivot\u001b[0m\u001b[0;34m]\u001b[0m \u001b[0;31m# so i am creating new lists/array so not very space efficient\u001b[0m\u001b[0;34m\u001b[0m\u001b[0;34m\u001b[0m\u001b[0m\n\u001b[0;32m---> 11\u001b[0;31m     \u001b[0;32mreturn\u001b[0m \u001b[0mnaive_quicksort\u001b[0m\u001b[0;34m(\u001b[0m\u001b[0mleft\u001b[0m\u001b[0;34m)\u001b[0m \u001b[0;34m+\u001b[0m \u001b[0;34m[\u001b[0m\u001b[0mpivot\u001b[0m\u001b[0;34m]\u001b[0m \u001b[0;34m+\u001b[0m \u001b[0mnaive_quicksort\u001b[0m\u001b[0;34m(\u001b[0m\u001b[0mright\u001b[0m\u001b[0;34m)\u001b[0m\u001b[0;34m\u001b[0m\u001b[0;34m\u001b[0m\u001b[0m\n\u001b[0m\u001b[1;32m     12\u001b[0m \u001b[0;31m# so after one sortie pivot is guaranteed to be in the correct place in our sequence/array\u001b[0m\u001b[0;34m\u001b[0m\u001b[0;34m\u001b[0m\u001b[0;34m\u001b[0m\u001b[0m\n\u001b[1;32m     13\u001b[0m \u001b[0;31m# so the Recurrence looks like T(n) = 2T(n/2) + n (well n/2 is not guaranteed so it could be worse)\u001b[0m\u001b[0;34m\u001b[0m\u001b[0;34m\u001b[0m\u001b[0;34m\u001b[0m\u001b[0m\n",
            "... last 1 frames repeated, from the frame below ...\n",
            "\u001b[0;32m<ipython-input-17-47d5cae6cb30>\u001b[0m in \u001b[0;36mnaive_quicksort\u001b[0;34m(seq)\u001b[0m\n\u001b[1;32m      9\u001b[0m     \u001b[0mleft\u001b[0m \u001b[0;34m=\u001b[0m \u001b[0;34m[\u001b[0m\u001b[0mn\u001b[0m \u001b[0;32mfor\u001b[0m \u001b[0mn\u001b[0m \u001b[0;32min\u001b[0m \u001b[0mit\u001b[0m \u001b[0;32mif\u001b[0m \u001b[0mn\u001b[0m \u001b[0;34m<\u001b[0m \u001b[0mpivot\u001b[0m\u001b[0;34m]\u001b[0m  \u001b[0;31m# assuming no duplicates\u001b[0m\u001b[0;34m\u001b[0m\u001b[0;34m\u001b[0m\u001b[0m\n\u001b[1;32m     10\u001b[0m     \u001b[0mright\u001b[0m \u001b[0;34m=\u001b[0m \u001b[0;34m[\u001b[0m\u001b[0mn\u001b[0m \u001b[0;32mfor\u001b[0m \u001b[0mn\u001b[0m \u001b[0;32min\u001b[0m \u001b[0mit\u001b[0m \u001b[0;32mif\u001b[0m \u001b[0mn\u001b[0m \u001b[0;34m>\u001b[0m \u001b[0mpivot\u001b[0m\u001b[0;34m]\u001b[0m \u001b[0;31m# so i am creating new lists/array so not very space efficient\u001b[0m\u001b[0;34m\u001b[0m\u001b[0;34m\u001b[0m\u001b[0m\n\u001b[0;32m---> 11\u001b[0;31m     \u001b[0;32mreturn\u001b[0m \u001b[0mnaive_quicksort\u001b[0m\u001b[0;34m(\u001b[0m\u001b[0mleft\u001b[0m\u001b[0;34m)\u001b[0m \u001b[0;34m+\u001b[0m \u001b[0;34m[\u001b[0m\u001b[0mpivot\u001b[0m\u001b[0;34m]\u001b[0m \u001b[0;34m+\u001b[0m \u001b[0mnaive_quicksort\u001b[0m\u001b[0;34m(\u001b[0m\u001b[0mright\u001b[0m\u001b[0;34m)\u001b[0m\u001b[0;34m\u001b[0m\u001b[0;34m\u001b[0m\u001b[0m\n\u001b[0m\u001b[1;32m     12\u001b[0m \u001b[0;31m# so after one sortie pivot is guaranteed to be in the correct place in our sequence/array\u001b[0m\u001b[0;34m\u001b[0m\u001b[0;34m\u001b[0m\u001b[0;34m\u001b[0m\u001b[0m\n\u001b[1;32m     13\u001b[0m \u001b[0;31m# so the Recurrence looks like T(n) = 2T(n/2) + n (well n/2 is not guaranteed so it could be worse)\u001b[0m\u001b[0;34m\u001b[0m\u001b[0;34m\u001b[0m\u001b[0;34m\u001b[0m\u001b[0m\n",
            "\u001b[0;31mRecursionError\u001b[0m: maximum recursion depth exceeded in comparison"
          ]
        }
      ],
      "source": [
        "%%timeit\n",
        "naive_quicksort(reverse10k)"
      ]
    },
    {
      "cell_type": "code",
      "execution_count": 28,
      "metadata": {
        "colab": {
          "base_uri": "https://localhost:8080/"
        },
        "id": "TOg8WpllvrJ2",
        "outputId": "7a1ea60d-ad0c-4940-f848-685fc574ccef"
      },
      "outputs": [
        {
          "output_type": "stream",
          "name": "stdout",
          "text": [
            "10000000\n"
          ]
        }
      ],
      "source": [
        "import sys\n",
        "print(sys.getrecursionlimit())"
      ]
    },
    {
      "cell_type": "code",
      "execution_count": null,
      "metadata": {
        "colab": {
          "base_uri": "https://localhost:8080/"
        },
        "id": "GiFplMeIv6FX",
        "outputId": "84a693ff-4bd0-4696-df40-62fd33edb679"
      },
      "outputs": [
        {
          "name": "stdout",
          "output_type": "stream",
          "text": [
            "10 loops, best of 5: 58.9 ms per loop\n"
          ]
        }
      ],
      "source": [
        "%%timeit\n",
        "naive_quicksort(reverse1k)"
      ]
    },
    {
      "cell_type": "code",
      "execution_count": null,
      "metadata": {
        "colab": {
          "base_uri": "https://localhost:8080/"
        },
        "id": "z9BeIJXdwERQ",
        "outputId": "7f72c252-6ec2-4e53-bbc4-34968c4d7da8"
      },
      "outputs": [
        {
          "name": "stdout",
          "output_type": "stream",
          "text": [
            "100 loops, best of 5: 2.48 ms per loop\n"
          ]
        }
      ],
      "source": [
        "%%timeit\n",
        "naive_quicksort(r1k)"
      ]
    },
    {
      "cell_type": "code",
      "execution_count": null,
      "metadata": {
        "colab": {
          "base_uri": "https://localhost:8080/"
        },
        "id": "3EPTN83evsYo",
        "outputId": "6baf7867-f186-4648-875b-8e23b1f1de46"
      },
      "outputs": [
        {
          "name": "stdout",
          "output_type": "stream",
          "text": [
            "12000\n"
          ]
        }
      ],
      "source": [
        "sys.setrecursionlimit(12_000)\n",
        "print(sys.getrecursionlimit())"
      ]
    },
    {
      "cell_type": "code",
      "execution_count": null,
      "metadata": {
        "colab": {
          "base_uri": "https://localhost:8080/"
        },
        "id": "mT6-7QMPm6tV",
        "outputId": "0a507015-385d-4af7-fb9a-17037796b3f4"
      },
      "outputs": [
        {
          "name": "stdout",
          "output_type": "stream",
          "text": [
            "569 ms ± 146 ms per loop (mean ± std. dev. of 7 runs, 1 loop each)\n"
          ]
        }
      ],
      "source": [
        "%%timeit\n",
        "naive_quicksort(r100k)"
      ]
    },
    {
      "cell_type": "code",
      "execution_count": null,
      "metadata": {
        "colab": {
          "base_uri": "https://localhost:8080/"
        },
        "id": "oPDUXcRZvMKU",
        "outputId": "bf95356f-fcb0-4693-ebf1-e54a5b4c49fd"
      },
      "outputs": [
        {
          "name": "stdout",
          "output_type": "stream",
          "text": [
            "22 ms ± 538 µs per loop (mean ± std. dev. of 7 runs, 10 loops each)\n"
          ]
        }
      ],
      "source": [
        "%%timeit\n",
        "sorted(r100k)"
      ]
    },
    {
      "cell_type": "code",
      "execution_count": null,
      "metadata": {
        "colab": {
          "base_uri": "https://localhost:8080/"
        },
        "id": "zMsE4UajnlAs",
        "outputId": "7465788a-9d3e-4f84-99af-68c6301c9abc"
      },
      "outputs": [
        {
          "data": {
            "text/plain": [
              "[599989, 966248, 584492, 55110, 26134, 971497, 803487, 879836, 954536, 802787]"
            ]
          },
          "execution_count": 31,
          "metadata": {},
          "output_type": "execute_result"
        }
      ],
      "source": [
        "r100k[:10]"
      ]
    },
    {
      "cell_type": "code",
      "execution_count": null,
      "metadata": {
        "colab": {
          "base_uri": "https://localhost:8080/"
        },
        "id": "hMH6Qhzzm6tW",
        "outputId": "35ac9164-cf94-4337-a899-4aa7bd4f5d6c"
      },
      "outputs": [
        {
          "name": "stdout",
          "output_type": "stream",
          "text": [
            "1 loop, best of 5: 5.51 s per loop\n"
          ]
        }
      ],
      "source": [
        "%%timeit\n",
        "naive_quicksort(r1m)"
      ]
    },
    {
      "cell_type": "markdown",
      "metadata": {
        "id": "EWKdrq7km6tW"
      },
      "source": [
        "![quick](https://github.com/ValRCS/RTU_Algorithms_DIP321/blob/main/imgs/quicksort.png?raw=1)"
      ]
    },
    {
      "cell_type": "markdown",
      "metadata": {
        "id": "z68pgK23m6tW"
      },
      "source": [
        "$$Complexity: O(nlog(n))$$ $$Worst case : O(n^2)$$"
      ]
    },
    {
      "cell_type": "markdown",
      "metadata": {
        "id": "XIwW3wC6OAkh"
      },
      "source": [
        "The pivot is a key element in the quick sort algorithm that is used as a reference point for partitioning the input array. It is the element around which the partitioning is done. The pivot element is chosen in such a way that it is expected to split the input array roughly in half, which makes the algorithm efficient. The choice of pivot can have a significant impact on the performance of the quick sort algorithm.\n",
        "\n",
        "There are several ways to choose the pivot in quick sort:\n",
        "\n",
        "1. First element: The first element of the input array is chosen as the pivot. This is the simplest and most common method, but it can lead to poor performance if the input array is already sorted or nearly sorted.\n",
        "\n",
        "2. Last element: The last element of the input array is chosen as the pivot. This method is similar to the first element method, but it can lead to better performance if the input array is already sorted in reverse order.\n",
        "\n",
        "3. Middle element: The middle element of the input array is chosen as the pivot. This method is more effective than the first and last element methods as it tends to produce a more balanced partition of the input array.\n",
        "\n",
        "4. Random element: A random element is chosen as the pivot. This method is effective as it ensures that the pivot is not always the same element, and it helps to avoid worst-case scenarios.\n",
        "\n",
        "5. Median of three: The median of the first, middle, and last elements of the input array is chosen as the pivot. This method is effective as it helps to ensure that the pivot is closer to the middle of the array, which leads to a more balanced partition.\n",
        "\n",
        "6. Median of medians: The pivot is chosen as the median of medians, which is the median of groups of 5 or more elements, this method is a little bit more complex but it can help to avoid worst-case scenarios.\n",
        "\n",
        "It's worth noting that the choice of pivot is a trade-off between the performance and the complexity of the algorithm, choosing a random pivot or median of three tends to be the most widely used method in practice."
      ]
    },
    {
      "cell_type": "code",
      "execution_count": null,
      "metadata": {
        "colab": {
          "base_uri": "https://localhost:8080/"
        },
        "id": "xDa1375Irb3l",
        "outputId": "76de4d42-b588-4776-95dc-d1178309479e"
      },
      "outputs": [
        {
          "name": "stdout",
          "output_type": "stream",
          "text": [
            "49.8 ns ± 1.11 ns per loop (mean ± std. dev. of 7 runs, 10000000 loops each)\n"
          ]
        }
      ],
      "source": [
        "%%timeit\n",
        "r100k[0]"
      ]
    },
    {
      "cell_type": "code",
      "execution_count": null,
      "metadata": {
        "colab": {
          "base_uri": "https://localhost:8080/"
        },
        "id": "_U18wnAcrpgj",
        "outputId": "9c1f2653-ba5d-43f7-b65c-f29168dde4ac"
      },
      "outputs": [
        {
          "name": "stdout",
          "output_type": "stream",
          "text": [
            "231 ns ± 7.09 ns per loop (mean ± std. dev. of 7 runs, 1000000 loops each)\n"
          ]
        }
      ],
      "source": [
        "%%timeit\n",
        "r100k[0],r100k[len(r100k)//2],r100k[-1]"
      ]
    },
    {
      "cell_type": "code",
      "execution_count": null,
      "metadata": {
        "colab": {
          "base_uri": "https://localhost:8080/"
        },
        "id": "3qzYZoGQrGR9",
        "outputId": "e5be79f1-ed58-4e30-d096-d78fd7d83086"
      },
      "outputs": [
        {
          "name": "stdout",
          "output_type": "stream",
          "text": [
            "1.19 µs ± 360 ns per loop (mean ± std. dev. of 7 runs, 1000000 loops each)\n"
          ]
        }
      ],
      "source": [
        "%%timeit\n",
        "random.randint(1,1_000_000)"
      ]
    },
    {
      "cell_type": "code",
      "execution_count": null,
      "metadata": {
        "colab": {
          "base_uri": "https://localhost:8080/"
        },
        "id": "iS_Fdye_m6tW",
        "outputId": "8f554f77-d2f1-4fa5-faba-b3f548c8635f"
      },
      "outputs": [
        {
          "name": "stdout",
          "output_type": "stream",
          "text": [
            "[17, 20, 26, 31, 44, 54, 55, 77, 93]\n"
          ]
        }
      ],
      "source": [
        "def quickSort(alist):\n",
        "    quickSortHelper(alist, 0, len(alist) - 1)\n",
        "\n",
        "\n",
        "def quickSortHelper(alist, first, last):\n",
        "    if first < last:\n",
        "\n",
        "        splitpoint = partition(alist, first, last)\n",
        "\n",
        "        quickSortHelper(alist, first, splitpoint - 1)\n",
        "        quickSortHelper(alist, splitpoint + 1, last)\n",
        "\n",
        "\n",
        "def partition(alist, first, last):\n",
        "    pivotvalue = alist[first]\n",
        "\n",
        "    leftmark = first + 1\n",
        "    rightmark = last\n",
        "\n",
        "    done = False\n",
        "    while not done:\n",
        "\n",
        "        while leftmark <= rightmark and alist[leftmark] <= pivotvalue:\n",
        "            leftmark = leftmark + 1\n",
        "\n",
        "        while alist[rightmark] >= pivotvalue and rightmark >= leftmark:\n",
        "            rightmark = rightmark - 1\n",
        "\n",
        "        if rightmark < leftmark:\n",
        "            done = True\n",
        "        else:\n",
        "            temp = alist[leftmark]\n",
        "            alist[leftmark] = alist[rightmark]\n",
        "            alist[rightmark] = temp\n",
        "\n",
        "    temp = alist[first]\n",
        "    alist[first] = alist[rightmark]\n",
        "    alist[rightmark] = temp\n",
        "\n",
        "    return rightmark\n",
        "\n",
        "\n",
        "alist = [54, 26, 93, 17, 77, 31, 44, 55, 20]\n",
        "quickSort(alist) # IN PLACE!\n",
        "print(alist)"
      ]
    },
    {
      "cell_type": "code",
      "execution_count": null,
      "metadata": {
        "id": "pV_DdhpAm6tY"
      },
      "outputs": [],
      "source": [
        "# so quicksort reccurence would be\n",
        "# T(n) = 2T(n/2) + n # soT(n/2) would be average case\n",
        "# worst case would be with pivots at the wrong end (not middle)\n",
        "# T(n) = T(1) + T(n-1) + n # which lead so quadratic complexity\n",
        "# this could in real life scenario if you were applying naive quicksort to reversely ordered list"
      ]
    },
    {
      "cell_type": "code",
      "execution_count": null,
      "metadata": {
        "id": "QvGtrCAMm6tY"
      },
      "outputs": [],
      "source": [
        "# Turns out it can be proven (see Cormen- CLRS Ch. 8 in 3rd edition) that n log n is the best we can do for sorting algorithms which involve\n",
        "# comparisons\n",
        "# also https://cs.stackexchange.com/questions/32311/proving-the-lower-bound-of-compares-in-comparison-based-sorting"
      ]
    },
    {
      "cell_type": "markdown",
      "metadata": {
        "id": "YIpiX-kzLOzV"
      },
      "source": [
        "# Beating O(n log n)\n",
        "\n",
        "* Can we improve on worst case O(n log n) time complexity if we do not use comparision sorts?\n",
        "\n",
        "* How can we sort without comparing?"
      ]
    },
    {
      "cell_type": "code",
      "execution_count": null,
      "metadata": {
        "id": "oQ3eFmGcm6tY"
      },
      "outputs": [],
      "source": [
        "# well those are so called bucket sorts, you have counting sort, radix sort, bucket sort\n",
        "# these will have O(n component + some k some other component) - k being something to do with data"
      ]
    },
    {
      "cell_type": "code",
      "execution_count": 32,
      "metadata": {
        "colab": {
          "base_uri": "https://localhost:8080/"
        },
        "id": "rn3TtZcVm6tY",
        "outputId": "3db72eac-62e1-4a05-8f4c-81e3f9fee23a"
      },
      "outputs": [
        {
          "output_type": "execute_result",
          "data": {
            "text/plain": [
              "[3, 5, 2, 3, 4, 2, 3, 2, 5, 2, 1, 6, 4, 5, 6]"
            ]
          },
          "metadata": {},
          "execution_count": 32
        }
      ],
      "source": [
        "# so if we know we will only have to sort numbers 1 to 6 then we can make a bucket for these numbers\n",
        "dice = [random.randint(1,6) for _ in range(100)]\n",
        "dice[:15] # first 15"
      ]
    },
    {
      "cell_type": "code",
      "execution_count": 33,
      "metadata": {
        "colab": {
          "base_uri": "https://localhost:8080/"
        },
        "id": "V3ClQfEUm6tY",
        "outputId": "5199f9d8-3413-4877-b560-22ec23fb9a67"
      },
      "outputs": [
        {
          "output_type": "execute_result",
          "data": {
            "text/plain": [
              "[1, 2, 2, 2, 2, 3, 3, 3, 4, 4, 5, 5, 5, 6, 6]"
            ]
          },
          "metadata": {},
          "execution_count": 33
        }
      ],
      "source": [
        "sorted(dice[:15])"
      ]
    },
    {
      "cell_type": "markdown",
      "metadata": {
        "id": "yshHy68MIckp"
      },
      "source": [
        "# Counting Sort\n",
        "\n",
        "Counting sort is an **efficient, stable, in-place sorting** algorithm that can sort items with integer keys in a given range. The basic idea behind the algorithm is to count the number of items with a certain key value and use that count information to place the items in their correct position in the sorted output. It is a linear time sorting algorithm, which means it has a time complexity of O(n).\n",
        "\n",
        "Counting sort is typically used as a sub-routine in other sorting algorithms, such as radix sort. It is not a comparison-based sorting algorithm, as it does not rely on comparing the keys of the items to be sorted."
      ]
    },
    {
      "cell_type": "code",
      "execution_count": 34,
      "metadata": {
        "colab": {
          "base_uri": "https://localhost:8080/"
        },
        "id": "8yEiylq_m6tZ",
        "outputId": "f7da8dcc-beef-4b4a-c216-57c995fa3d3f"
      },
      "outputs": [
        {
          "output_type": "execute_result",
          "data": {
            "text/plain": [
              "[0, 0, 0, 0, 0, 0, 0, 0, 0, 0]"
            ]
          },
          "metadata": {},
          "execution_count": 34
        }
      ],
      "source": [
        "buckets = [0 for _ in range(10)] # for dice I only need 6\n",
        "buckets"
      ]
    },
    {
      "cell_type": "code",
      "execution_count": 35,
      "metadata": {
        "id": "tO5A9CxFm6tZ"
      },
      "outputs": [],
      "source": [
        "def naive_digit_sort(dig_list, num_buckets=10, debug=False):\n",
        "    buckets = [0 for _ in range(num_buckets)]  #init buckets(counters) with 0\n",
        "    # linearly go through the original iterable\n",
        "    for digit in dig_list: # O(n) where n is the length of the list\n",
        "        buckets[digit] += 1\n",
        "    if debug:\n",
        "        print(buckets)\n",
        "    # so now I know how many of each digit I have\n",
        "    # I can reconstruct my original list in sorted order\n",
        "    t = [[i]*n for i, n in enumerate(buckets)] # so list of lists\n",
        "    # we will flatten the 2D list\n",
        "    flat_list = [item for sublist in t for item in sublist] #thank you Alex Martelli!\n",
        "    # TODO improve our list reconstruction, no need for the 2D list\n",
        "    return flat_list"
      ]
    },
    {
      "cell_type": "code",
      "execution_count": 39,
      "metadata": {
        "colab": {
          "base_uri": "https://localhost:8080/"
        },
        "id": "Ieac-9dsm6tZ",
        "outputId": "47db010a-e530-4c0c-e3eb-7c2b8518b79e"
      },
      "outputs": [
        {
          "output_type": "stream",
          "name": "stdout",
          "text": [
            "[0, 19, 11, 13, 25, 13, 19, 0, 0, 0]\n"
          ]
        },
        {
          "output_type": "execute_result",
          "data": {
            "text/plain": [
              "([1, 1, 1, 1, 1, 1, 1, 1, 1, 1, 1, 1, 1, 1, 1, 1, 1, 1, 1, 2, 2, 2, 2, 2, 2],\n",
              " [5, 5, 5, 5, 5, 5, 6, 6, 6, 6, 6, 6, 6, 6, 6, 6, 6, 6, 6, 6, 6, 6, 6, 6, 6])"
            ]
          },
          "metadata": {},
          "execution_count": 39
        }
      ],
      "source": [
        "sorted_digits = naive_digit_sort(dice, debug=True)\n",
        "sorted_digits[:25], sorted_digits[-25:]"
      ]
    },
    {
      "cell_type": "code",
      "execution_count": null,
      "metadata": {
        "colab": {
          "base_uri": "https://localhost:8080/"
        },
        "id": "yNC4SLigtYib",
        "outputId": "374c7749-f8c9-47ea-ce81-841b7b87d426"
      },
      "outputs": [
        {
          "data": {
            "text/plain": [
              "[5, 6, 6, 6, 6, 6, 6, 6, 6, 6, 6, 6, 6, 6, 6, 6, 6, 6]"
            ]
          },
          "execution_count": 31,
          "metadata": {},
          "output_type": "execute_result"
        }
      ],
      "source": [
        "sorted_digits[-18:]"
      ]
    },
    {
      "cell_type": "code",
      "execution_count": null,
      "metadata": {
        "colab": {
          "base_uri": "https://localhost:8080/"
        },
        "id": "4TYnn3Egzwys",
        "outputId": "3804d5c9-76a5-4639-ffa8-2ff0ca565597"
      },
      "outputs": [
        {
          "data": {
            "text/plain": [
              "[4, 6, 1, 1, 3, 4, 5, 5, 4, 2, 3, 2, 6, 6, 4]"
            ]
          },
          "execution_count": 36,
          "metadata": {},
          "output_type": "execute_result"
        }
      ],
      "source": [
        "dice[:15]"
      ]
    },
    {
      "cell_type": "code",
      "execution_count": null,
      "metadata": {
        "colab": {
          "base_uri": "https://localhost:8080/"
        },
        "id": "3W9yjZYPz1ZS",
        "outputId": "5194b28b-7635-42b5-c47a-edd3373f603c"
      },
      "outputs": [
        {
          "name": "stdout",
          "output_type": "stream",
          "text": [
            "[0, 22, 22, 16, 15, 10, 15, 0, 0, 0]\n"
          ]
        }
      ],
      "source": [
        "sorted_digits = naive_digit_sort(dice, debug=True)"
      ]
    },
    {
      "cell_type": "code",
      "execution_count": 40,
      "metadata": {
        "id": "WBTMF7tGoCXS"
      },
      "outputs": [],
      "source": [
        "# lets pretend we have dice with 10 sides from 0 to 9\n",
        "TRIALS = 10_000_000\n",
        "dice10 = [random.randint(0,9) for _ in range(TRIALS)]"
      ]
    },
    {
      "cell_type": "code",
      "execution_count": 41,
      "metadata": {
        "id": "malKIikUoCXS",
        "outputId": "371aef92-35ec-4052-c272-4e03f5703d50",
        "colab": {
          "base_uri": "https://localhost:8080/"
        }
      },
      "outputs": [
        {
          "output_type": "stream",
          "name": "stdout",
          "text": [
            "[999988, 1000689, 999469, 1000849, 1001622, 999333, 999411, 998126, 1000574, 999939]\n"
          ]
        },
        {
          "output_type": "execute_result",
          "data": {
            "text/plain": [
              "([0, 0, 0, 0, 0, 0, 0, 0, 0, 0, 0, 0, 0, 0, 0],\n",
              " [9, 9, 9, 9, 9, 9, 9, 9, 9, 9, 9, 9, 9, 9, 9])"
            ]
          },
          "metadata": {},
          "execution_count": 41
        }
      ],
      "source": [
        "dice10_sorted = naive_digit_sort(dice10, num_buckets=10, debug=True)\n",
        "dice10_sorted[:15], dice10_sorted[-15:]"
      ]
    },
    {
      "cell_type": "code",
      "execution_count": null,
      "metadata": {
        "id": "hT2KKecjoCXS"
      },
      "outputs": [],
      "source": []
    },
    {
      "cell_type": "code",
      "execution_count": 42,
      "metadata": {
        "id": "07LKYqkpoCXS",
        "outputId": "375271d3-4761-4401-88bb-189e1afc7332",
        "colab": {
          "base_uri": "https://localhost:8080/"
        }
      },
      "outputs": [
        {
          "output_type": "stream",
          "name": "stdout",
          "text": [
            "1.18 s ± 154 ms per loop (mean ± std. dev. of 7 runs, 1 loop each)\n"
          ]
        }
      ],
      "source": [
        "%%timeit\n",
        "sorted(dice10)"
      ]
    },
    {
      "cell_type": "code",
      "execution_count": 43,
      "metadata": {
        "id": "PNoAwVnqoCXS",
        "outputId": "14a3e799-f2dd-41d7-b841-9936202141e1",
        "colab": {
          "base_uri": "https://localhost:8080/"
        }
      },
      "outputs": [
        {
          "output_type": "stream",
          "name": "stdout",
          "text": [
            "664 ms ± 31 ms per loop (mean ± std. dev. of 7 runs, 1 loop each)\n"
          ]
        }
      ],
      "source": [
        "%%timeit\n",
        "naive_digit_sort(dice10, num_buckets=10)"
      ]
    },
    {
      "cell_type": "code",
      "execution_count": null,
      "metadata": {
        "id": "XxjHN37yoCXT",
        "outputId": "bb70aa72-52c2-4aaa-98c0-b695afbe489a"
      },
      "outputs": [
        {
          "name": "stdout",
          "output_type": "stream",
          "text": [
            "692 µs ± 10.7 µs per loop (mean ± std. dev. of 7 runs, 1,000 loops each)\n"
          ]
        }
      ],
      "source": [
        "%%timeit\n",
        "sorted(dice10)"
      ]
    },
    {
      "cell_type": "code",
      "execution_count": null,
      "metadata": {
        "id": "YEbEGEmWoCXT",
        "outputId": "58d92433-e2be-4fb0-842e-c2356c45adb5"
      },
      "outputs": [
        {
          "data": {
            "text/plain": [
              "Counter({9: 99904,\n",
              "         0: 99814,\n",
              "         2: 99969,\n",
              "         4: 99886,\n",
              "         1: 100146,\n",
              "         5: 99799,\n",
              "         6: 100155,\n",
              "         7: 100299,\n",
              "         3: 99915,\n",
              "         8: 100113})"
            ]
          },
          "execution_count": 40,
          "metadata": {},
          "output_type": "execute_result"
        }
      ],
      "source": [
        "# lets pretend we have dice with 10 sides from 0 to 9\n",
        "TRIALS = 1_000_000\n",
        "dice10_1m = [random.randint(0,9) for _ in range(TRIALS)]\n",
        "from collections import Counter\n",
        "count = Counter(dice10_1m) # counter is roughly what we are doing here\n",
        "count"
      ]
    },
    {
      "cell_type": "code",
      "execution_count": null,
      "metadata": {
        "id": "QXaocRVFoCXT",
        "outputId": "9e771da8-35ca-4a31-b964-d65773c9ef15"
      },
      "outputs": [
        {
          "name": "stdout",
          "output_type": "stream",
          "text": [
            "116 ms ± 3.4 ms per loop (mean ± std. dev. of 7 runs, 10 loops each)\n"
          ]
        }
      ],
      "source": [
        "%%timeit\n",
        "naive_digit_sort(dice10_1m, num_buckets=10)"
      ]
    },
    {
      "cell_type": "code",
      "execution_count": null,
      "metadata": {
        "id": "_eQC3zEToCXU",
        "outputId": "a4b686be-9199-4088-ae59-fc3457d7ab30"
      },
      "outputs": [
        {
          "name": "stdout",
          "output_type": "stream",
          "text": [
            "78.3 ms ± 1.05 ms per loop (mean ± std. dev. of 7 runs, 10 loops each)\n"
          ]
        }
      ],
      "source": [
        "%%timeit\n",
        "sorted(dice10_1m)"
      ]
    },
    {
      "cell_type": "code",
      "execution_count": null,
      "metadata": {
        "colab": {
          "base_uri": "https://localhost:8080/"
        },
        "id": "LP0Sq66z0VZf",
        "outputId": "830406d1-32e2-443b-d7d3-3eb61caedf97"
      },
      "outputs": [
        {
          "data": {
            "text/plain": [
              "([14, 17, 17, 19, 2], 1, 20)"
            ]
          },
          "execution_count": 43,
          "metadata": {},
          "output_type": "execute_result"
        }
      ],
      "source": [
        "d20 = [random.randint(1,20) for _ in range(100_000)]\n",
        "d20[:5], min(d20), max(d20)"
      ]
    },
    {
      "cell_type": "code",
      "execution_count": null,
      "metadata": {
        "colab": {
          "base_uri": "https://localhost:8080/"
        },
        "id": "_uXEJE8P0iSc",
        "outputId": "adf5bc78-f9b6-478f-dd37-6324410a6d3f"
      },
      "outputs": [
        {
          "data": {
            "text/plain": [
              "([1, 1, 1, 1, 1], [20, 20, 20, 20, 20])"
            ]
          },
          "execution_count": 44,
          "metadata": {},
          "output_type": "execute_result"
        }
      ],
      "source": [
        "d20_sorted = naive_digit_sort(d20, num_buckets=21)  # we are too lazy to worry about off by one errors, so leave 0 empty\n",
        "d20_sorted[:5], d20_sorted[-5:]"
      ]
    },
    {
      "cell_type": "code",
      "execution_count": null,
      "metadata": {
        "colab": {
          "base_uri": "https://localhost:8080/"
        },
        "id": "jirbk5da1Gz2",
        "outputId": "61550e01-a31e-4841-d734-6c1e2c8ac757"
      },
      "outputs": [
        {
          "data": {
            "text/plain": [
              "(2703, 999519)"
            ]
          },
          "execution_count": 42,
          "metadata": {},
          "output_type": "execute_result"
        }
      ],
      "source": [
        "min(r1k),max(r1k)  # min and max can be found in linear time so that is not the problem itself"
      ]
    },
    {
      "cell_type": "code",
      "execution_count": null,
      "metadata": {
        "colab": {
          "base_uri": "https://localhost:8080/"
        },
        "id": "xyVf41OC1W6Q",
        "outputId": "1a5cd2f9-6ca7-4796-87a1-21449c7c4d29"
      },
      "outputs": [
        {
          "data": {
            "text/plain": [
              "[844, 1910, 2671, 4048, 4714]"
            ]
          },
          "execution_count": 45,
          "metadata": {},
          "output_type": "execute_result"
        }
      ],
      "source": [
        "r1k_sorted = naive_digit_sort(r1k, num_buckets=1_000_001) # not very efficient use of space to sort 1_000 numbers\n",
        "r1k_sorted[:5]"
      ]
    },
    {
      "cell_type": "code",
      "execution_count": null,
      "metadata": {
        "colab": {
          "base_uri": "https://localhost:8080/"
        },
        "id": "d5wX2fC51p8j",
        "outputId": "3a14d412-f0e2-450b-c824-fd2b1786ac11"
      },
      "outputs": [
        {
          "name": "stdout",
          "output_type": "stream",
          "text": [
            "345 ms ± 27.3 ms per loop (mean ± std. dev. of 7 runs, 1 loop each)\n"
          ]
        }
      ],
      "source": [
        "%%timeit\n",
        "naive_digit_sort(r1k, num_buckets=1_000_001)  # we will spend most of the time on creating the buckets..."
      ]
    },
    {
      "cell_type": "code",
      "execution_count": null,
      "metadata": {
        "colab": {
          "base_uri": "https://localhost:8080/"
        },
        "id": "yLX5ia2frRZv",
        "outputId": "d71ce9a9-58d4-414e-a20c-b48229526745"
      },
      "outputs": [
        {
          "name": "stdout",
          "output_type": "stream",
          "text": [
            "105 µs ± 1.5 µs per loop (mean ± std. dev. of 7 runs, 10000 loops each)\n"
          ]
        }
      ],
      "source": [
        "%%timeit\n",
        "sorted(r1k)"
      ]
    },
    {
      "cell_type": "code",
      "execution_count": null,
      "metadata": {
        "colab": {
          "base_uri": "https://localhost:8080/"
        },
        "id": "4ljHaPSx1vg9",
        "outputId": "c514971b-37f5-4d2b-a5a7-7851b57c5765"
      },
      "outputs": [
        {
          "name": "stdout",
          "output_type": "stream",
          "text": [
            "329 ms ± 14.7 ms per loop (mean ± std. dev. of 7 runs, 1 loop each)\n"
          ]
        }
      ],
      "source": [
        "%%timeit\n",
        "naive_digit_sort(r10k, num_buckets=1_000_001)"
      ]
    },
    {
      "cell_type": "code",
      "execution_count": null,
      "metadata": {
        "colab": {
          "base_uri": "https://localhost:8080/"
        },
        "id": "fgKzQQPv2G-Q",
        "outputId": "bd511bc9-8596-4e68-f373-e38010e33d24"
      },
      "outputs": [
        {
          "name": "stdout",
          "output_type": "stream",
          "text": [
            "368 ms ± 24.9 ms per loop (mean ± std. dev. of 7 runs, 1 loop each)\n"
          ]
        }
      ],
      "source": [
        "%%timeit\n",
        "naive_digit_sort(r100k, num_buckets=1_000_001)"
      ]
    },
    {
      "cell_type": "code",
      "execution_count": null,
      "metadata": {
        "id": "t77P8i8p2QlU"
      },
      "outputs": [],
      "source": [
        "# so here k - the number of different possible values dominates n which is the actual data item count\n"
      ]
    },
    {
      "cell_type": "code",
      "execution_count": null,
      "metadata": {
        "colab": {
          "base_uri": "https://localhost:8080/"
        },
        "id": "RdGENV2n1jdr",
        "outputId": "81aa3e45-1eb5-466b-feed-4fba574d69dd"
      },
      "outputs": [
        {
          "data": {
            "text/plain": [
              "[990668, 991779, 994141, 997742, 999519]"
            ]
          },
          "execution_count": 44,
          "metadata": {},
          "output_type": "execute_result"
        }
      ],
      "source": [
        "r1k_sorted[-5:]"
      ]
    },
    {
      "cell_type": "code",
      "execution_count": null,
      "metadata": {
        "colab": {
          "base_uri": "https://localhost:8080/"
        },
        "id": "g-8yLi8asIyt",
        "outputId": "1fa6c95b-01e8-40ee-d692-298c7f82f301"
      },
      "outputs": [
        {
          "data": {
            "text/plain": [
              "86"
            ]
          },
          "execution_count": 32,
          "metadata": {},
          "output_type": "execute_result"
        }
      ],
      "source": [
        "ord(\"V\")"
      ]
    },
    {
      "cell_type": "code",
      "execution_count": 45,
      "metadata": {
        "colab": {
          "base_uri": "https://localhost:8080/"
        },
        "id": "OYXkkhg6m6tZ",
        "outputId": "41912051-c871-489f-946c-62e6b35d1483"
      },
      "outputs": [
        {
          "output_type": "stream",
          "name": "stdout",
          "text": [
            "Sorted character array is         BRRSTUaaabcddghiiknnnooorrssstttt\n"
          ]
        }
      ],
      "source": [
        "# Python program for counting sort - GeeksForGeeks\n",
        "\n",
        "# The main function that sort the given string arr[] in\n",
        "# alphabetical order\n",
        "def countSort(arr):\n",
        "\n",
        "    # The output character array that will have sorted arr\n",
        "    output = [0 for i in range(len(arr))]\n",
        "\n",
        "    # Create a count array to store count of inidividul\n",
        "    # characters and initialize count array as 0\n",
        "    count = [0 for i in range(256)]\n",
        "    # we could have used a dictionary as well\n",
        "    # so this works because we  are using English ASCII alphabet no Latvian, Russian or Chinese..\n",
        "    # for extra full Unicode we'd need 100k + buckets\n",
        "\n",
        "    # For storing the resulting answer since the\n",
        "    # string is immutable\n",
        "    ans = [\"\" for _ in arr]\n",
        "\n",
        "    # Store count of each character\n",
        "    for i in arr:\n",
        "        count[ord(i)] += 1\n",
        "\n",
        "    # Change count[i] so that count[i] now contains actual\n",
        "    # position of this character in output array\n",
        "    for i in range(256):\n",
        "        count[i] += count[i-1]\n",
        "\n",
        "    # Build the output character array\n",
        "    for i in range(len(arr)):\n",
        "        output[count[ord(arr[i])]-1] = arr[i]\n",
        "        count[ord(arr[i])] -= 1\n",
        "\n",
        "    # Copy the output array to arr, so that arr now\n",
        "    # contains sorted characters\n",
        "    for i in range(len(arr)):\n",
        "        ans[i] = output[i]\n",
        "    return ans\n",
        "\n",
        "# Driver program to test above function\n",
        "arr = \"RTU RBS rocks and sorting is not that bad\"\n",
        "ans = countSort(arr)\n",
        "print(\"Sorted character array is % s\" %(\"\".join(ans)))\n",
        "\n",
        "# This code is contributed by Nikhil Kumar Singh modified by Valdis"
      ]
    },
    {
      "cell_type": "code",
      "execution_count": null,
      "metadata": {
        "colab": {
          "base_uri": "https://localhost:8080/",
          "height": 35
        },
        "id": "LF8iggivm6tZ",
        "outputId": "e9a6a306-8b6e-4502-e377-7c062ff7c563"
      },
      "outputs": [
        {
          "data": {
            "application/vnd.google.colaboratory.intrinsic+json": {
              "type": "string"
            },
            "text/plain": [
              "'   RTUVaaacdeghiilnstt'"
            ]
          },
          "execution_count": 35,
          "metadata": {},
          "output_type": "execute_result"
        }
      ],
      "source": [
        "ans = countSort(\"Valdis teaching at RTU\")\n",
        "\"\".join(ans)"
      ]
    },
    {
      "cell_type": "code",
      "execution_count": null,
      "metadata": {
        "id": "-xGwnQykKrHU"
      },
      "outputs": [],
      "source": []
    },
    {
      "cell_type": "markdown",
      "metadata": {
        "id": "DZC0_qjxj2Oq"
      },
      "source": [
        "![CountingSort](https://opendatastructures.org/ods-java/img4358.png)"
      ]
    },
    {
      "cell_type": "code",
      "execution_count": null,
      "metadata": {
        "id": "YaJvB1Vhm6ta",
        "outputId": "c1360c40-e68d-43c4-dc1f-656a1792d9e1"
      },
      "outputs": [
        {
          "name": "stdout",
          "output_type": "stream",
          "text": [
            "Sorted character array is [-10, -5, -3, -1, 0, 5, 8, 10]\n"
          ]
        }
      ],
      "source": [
        "# Python program for counting sort\n",
        "# which takes negative numbers as well\n",
        "# so we will need to move the buckets\n",
        "\n",
        "# The function that sorts the given arr[]\n",
        "def count_sort(arr):\n",
        "    max_element = int(max(arr)) # these are linear operations\n",
        "    min_element = int(min(arr))\n",
        "    range_of_elements = max_element - min_element + 1\n",
        "    # Create a count array to store count of individual\n",
        "    # elements and initialize count array as 0\n",
        "    count_arr = [0 for _ in range(range_of_elements)]\n",
        "    output_arr = [0 for _ in range(len(arr))]\n",
        "\n",
        "    # Store count of each character\n",
        "    for i in range(0, len(arr)):\n",
        "        count_arr[arr[i]-min_element] += 1\n",
        "\n",
        "    # Change count_arr[i] so that count_arr[i] now contains actual\n",
        "    # position of this element in output array\n",
        "    for i in range(1, len(count_arr)):\n",
        "        count_arr[i] += count_arr[i-1]\n",
        "\n",
        "    # Build the output character array\n",
        "    for i in range(len(arr)-1, -1, -1):\n",
        "        output_arr[count_arr[arr[i] - min_element] - 1] = arr[i]\n",
        "        count_arr[arr[i] - min_element] -= 1\n",
        "\n",
        "    # Copy the output array to arr, so that arr now\n",
        "    # contains sorted characters\n",
        "    for i in range(0, len(arr)):\n",
        "        arr[i] = output_arr[i]\n",
        "\n",
        "    return arr\n",
        "\n",
        "\n",
        "# Driver program to test above function\n",
        "arr = [-5, -10, 0, -3, 8, 5, -1, 10]\n",
        "ans = count_sort(arr)\n",
        "print(\"Sorted character array is \" + str(ans))"
      ]
    },
    {
      "cell_type": "code",
      "execution_count": null,
      "metadata": {
        "id": "ZORwVbkSm6tb",
        "outputId": "b0dbf4e9-b6d9-4b7e-fc2d-0463fa6eb573"
      },
      "outputs": [
        {
          "name": "stdout",
          "output_type": "stream",
          "text": [
            "4.28 ms ± 80.6 µs per loop (mean ± std. dev. of 7 runs, 100 loops each)\n"
          ]
        }
      ],
      "source": [
        "%%timeit\n",
        "count_sort(r1k)"
      ]
    },
    {
      "cell_type": "code",
      "execution_count": null,
      "metadata": {
        "id": "8ziJ-dDQm6tb",
        "outputId": "6a997b7f-8218-4a12-b01f-6b9d003ea47d"
      },
      "outputs": [
        {
          "data": {
            "text/plain": [
              "[2, 7, 11, 23, 35]"
            ]
          },
          "execution_count": 49,
          "metadata": {},
          "output_type": "execute_result"
        }
      ],
      "source": [
        "r1k[:5]"
      ]
    },
    {
      "cell_type": "code",
      "execution_count": null,
      "metadata": {
        "id": "rDsleV8Mm6tb",
        "outputId": "10724ff4-0ce7-45cc-ed32-466227dba3d8"
      },
      "outputs": [
        {
          "data": {
            "text/plain": [
              "[197150, 507406, 183256, 765344, 236740]"
            ]
          },
          "execution_count": 50,
          "metadata": {},
          "output_type": "execute_result"
        }
      ],
      "source": [
        "r10k[:5]"
      ]
    },
    {
      "cell_type": "code",
      "execution_count": null,
      "metadata": {
        "id": "1RMqHq7um6tb",
        "outputId": "16f24bf4-cc44-4625-c5b3-936932c51484"
      },
      "outputs": [
        {
          "name": "stdout",
          "output_type": "stream",
          "text": [
            "366 ms ± 7.02 ms per loop (mean ± std. dev. of 7 runs, 1 loop each)\n"
          ]
        }
      ],
      "source": [
        "%%timeit\n",
        "count_sort(r10k)"
      ]
    },
    {
      "cell_type": "code",
      "execution_count": null,
      "metadata": {
        "id": "uCpj8cEgm6tb",
        "outputId": "33ac6076-dbcd-49c8-9f96-f5efbdfb1e87"
      },
      "outputs": [
        {
          "data": {
            "text/plain": [
              "[177, 274, 370, 530, 706]"
            ]
          },
          "execution_count": 52,
          "metadata": {},
          "output_type": "execute_result"
        }
      ],
      "source": [
        "r10k[:5]"
      ]
    },
    {
      "cell_type": "code",
      "execution_count": null,
      "metadata": {
        "id": "LFye8hl2m6tc",
        "outputId": "a3715d64-a7ea-4f63-e8ac-5033b460d70b"
      },
      "outputs": [
        {
          "data": {
            "text/plain": [
              "[99241, 79321, 253639, 283493, 497741]"
            ]
          },
          "execution_count": 53,
          "metadata": {},
          "output_type": "execute_result"
        }
      ],
      "source": [
        "random.shuffle(r10k)\n",
        "r10k[:5]"
      ]
    },
    {
      "cell_type": "code",
      "execution_count": null,
      "metadata": {
        "id": "b-pVS6jCm6tc",
        "outputId": "c51c44a9-0028-4d08-dff6-68a760137e8f"
      },
      "outputs": [
        {
          "name": "stdout",
          "output_type": "stream",
          "text": [
            "373 ms ± 20.5 ms per loop (mean ± std. dev. of 7 runs, 1 loop each)\n"
          ]
        }
      ],
      "source": [
        "%%timeit\n",
        "count_sort(r10k)"
      ]
    },
    {
      "cell_type": "code",
      "execution_count": null,
      "metadata": {
        "id": "aeyykNVwm6tc",
        "outputId": "d9fd96fb-8537-4d81-ed1e-edfcd630fdd4"
      },
      "outputs": [
        {
          "data": {
            "text/plain": [
              "[177, 274, 370, 530, 706]"
            ]
          },
          "execution_count": 55,
          "metadata": {},
          "output_type": "execute_result"
        }
      ],
      "source": [
        "r10k[:5]"
      ]
    },
    {
      "cell_type": "markdown",
      "metadata": {
        "id": "D4so7XoUI5VN"
      },
      "source": [
        "# Bucket Sort\n",
        "\n",
        "Bucket sort is a sorting algorithm that distributes the elements of an array into a number of \"buckets\" based on their value, then each bucket is sorted individually, either using a different sorting algorithm or by recursively applying the bucket sort. The final output is obtained by concatenating the sorted buckets.\n",
        "\n",
        "Bucket sort is efficient for large data sets that are uniformly distributed across a range, and it is typically used as a sub-routine in other sorting algorithms, such as radix sort.\n",
        "The time complexity of bucket sort is O(n), which is linear, if the distribution of the input data is uniformly distributed and the number of buckets is chosen to be proportional to the range of the input data. Otherwise, the time complexity can be O(n^2) if the number of buckets is small or the input data is not uniformly distributed.\n",
        "\n",
        "Bucket sort is also sometimes called bin sort."
      ]
    },
    {
      "cell_type": "markdown",
      "metadata": {
        "id": "NU33Egl_pJhj"
      },
      "source": [
        "## Normalization\n",
        "\n",
        "[Normalization Techniques](https://developers.google.com/machine-learning/data-prep/transform/normalization)"
      ]
    },
    {
      "cell_type": "code",
      "execution_count": null,
      "metadata": {
        "id": "Y71D-C41pIZu"
      },
      "outputs": [],
      "source": []
    },
    {
      "cell_type": "code",
      "execution_count": null,
      "metadata": {
        "id": "f37KI1YnJWa2"
      },
      "outputs": [],
      "source": [
        "def bucket_sort(arr, buckets_len=10):\n",
        "    # # Find the maximum value in arr\n",
        "    # max_val = max(arr)\n",
        "    # Create a list of buckets\n",
        "    buckets = [[] for _ in range(buckets_len)]\n",
        "    # Place elements in appropriate buckets\n",
        "    # to make it more general you would need to some way to decide on what each bucket represents\n",
        "    # in a regular counting sort each bucket represents single value\n",
        "    # in bucket sort each buckets represents some range of values\n",
        "    # example lets have each bucket represent 10s [0-9,10-19,20-29]\n",
        "    for i in arr:\n",
        "        buckets[i//buckets_len].append(i) # so each bucket represents 10 digits\n",
        "    # Sort the elements in each bucket\n",
        "    for i in range(len(buckets)):\n",
        "        buckets[i] = sorted(buckets[i]) # could use other sorting algorithms of course\n",
        "    # Concatenate all the sorted buckets\n",
        "    result = []\n",
        "    for i in range(len(buckets)):\n",
        "        result.extend(buckets[i])\n",
        "    return result\n",
        "\n",
        "\n",
        "\n"
      ]
    },
    {
      "cell_type": "markdown",
      "metadata": {
        "id": "fU1LJYBmJcEH"
      },
      "source": [
        "Above implementation of the bucket sort algorithm uses the basic idea of the algorithm, which is to distribute the elements of the input array into several buckets based on their value and sort each bucket individually. Then, we concatenate all the sorted buckets to get the final output.\n",
        "In this example, we are using the python built-in sorted() function to sort the elements of each bucket. It's also possible to use other sorting algorithms such as insertion sort or quicksort to sort the elements of each bucket.\n",
        "\n",
        "Note that the above implementation assumes that the input array has integer values in the range of 0 to max_val. If your input array has decimal values or values that are out of this range, you'll need to make some adjustments to the code.\n",
        "\n",
        "\n",
        "\n",
        "\n"
      ]
    },
    {
      "cell_type": "code",
      "execution_count": null,
      "metadata": {
        "colab": {
          "base_uri": "https://localhost:8080/"
        },
        "id": "dyvhFKmyuQNM",
        "outputId": "8e0b446d-7f9c-4ca2-878b-6f7d96297803"
      },
      "outputs": [
        {
          "data": {
            "text/plain": [
              "[84, 5, 40, 34, 20]"
            ]
          },
          "execution_count": 47,
          "metadata": {},
          "output_type": "execute_result"
        }
      ],
      "source": [
        "r100 = [random.randint(0,99) for _ in range(200)]\n",
        "r100[:5]"
      ]
    },
    {
      "cell_type": "code",
      "execution_count": null,
      "metadata": {
        "colab": {
          "base_uri": "https://localhost:8080/"
        },
        "id": "-BJfQWzBuk3J",
        "outputId": "017cf6ba-267a-4c85-b6b8-2e3630465cdb"
      },
      "outputs": [
        {
          "data": {
            "text/plain": [
              "[0, 1, 2, 2, 3, 3, 3, 4, 4, 5, 5, 5, 5, 6, 8]"
            ]
          },
          "execution_count": 48,
          "metadata": {},
          "output_type": "execute_result"
        }
      ],
      "source": [
        "sorted_r100 = bucket_sort(r100)\n",
        "sorted_r100[:15]"
      ]
    },
    {
      "cell_type": "markdown",
      "metadata": {
        "id": "gE_F8sE8JgMb"
      },
      "source": [
        "# Radix Sort\n",
        "\n",
        "Radix sort is an integer sorting algorithm that sorts data with integer keys by grouping the keys by individual digits that share the same significant position and value (i.e. the least-significant digit(LSD) or most-significant digit(MSD)), and then sorting the keys by their individual digits. It is a non-comparison based sorting algorithm and it sorts the elements in linear time, with the time complexity of O(nk) where k is the number of digits in the largest number.\n",
        "\n",
        "Radix sort can be implemented in two ways, either by starting at the least significant digit (LSD) or by starting at the most significant digit (MSD). Starting at the least significant digit is called least-significant-digit radix sort (LSD radix sort) and starting at the most significant digit is called most-significant-digit radix sort (MSD radix sort).\n",
        "\n",
        "The basic idea behind radix sort is to use a stable sorting algorithm, such as counting sort, to sort the elements by each digit. The sorting process is repeated for each digit, starting from the least significant digit and moving towards the most significant digit. Once all the digits have been sorted, the elements will be in the correct order.\n",
        "\n",
        "Radix sort is particularly useful for sorting large numbers of integers or strings, and it is widely used in applications such as databases and numerical simulations.\n",
        "\n",
        "In python, the implementation of radix sort is little complex as python does not have inbuilt support for radix sort. One of the common way is to implement it using the counting sort as a sub-routine.\n",
        "\n",
        "\n",
        "\n",
        "\n",
        "valdis.saulespurens@rtu.lv\n",
        "Implement Radix sort in Python\n",
        "Here is an example of how to implement radix sort in Python:\n",
        "\n",
        "Copy code\n",
        "def radix_sort(arr):\n",
        "    max_val = max(arr)\n",
        "    max_digits = len(str(max_val))\n",
        "    for i in range(max_digits):\n",
        "        buckets = [[] for _ in range(10)]\n",
        "        for val in arr:\n",
        "            digit = (val // (10 ** i)) % 10\n",
        "            buckets[digit].append(val)\n",
        "        arr = [val for bucket in buckets for val in bucket]\n",
        "    return arr\n",
        "This implementation uses the least-significant-digit radix sort (LSD radix sort) method, which starts sorting from the least significant digit. It first finds the maximum value in the input array to determine the number of digits in the largest number. It then starts a loop that iterates over the digits of the largest number.\n",
        "\n",
        "In each iteration, the algorithm uses a list of buckets to group the elements of the input array by their current digit. The digit is calculated by using the modulus and integer division operation on the value of the element. Once all elements are grouped by their digit, the algorithm concatenates the elements of each bucket to form the new input array, ready for the next\n",
        "\n",
        "* [LSD Radix](https://www.geeksforgeeks.org/radix-sort/)\n",
        "\n",
        "* [MSD Radix](https://www.geeksforgeeks.org/msd-most-significant-digit-radix-sort/)\n"
      ]
    },
    {
      "cell_type": "code",
      "execution_count": 46,
      "metadata": {
        "colab": {
          "base_uri": "https://localhost:8080/"
        },
        "id": "Rm5W4P_Pm6ta",
        "outputId": "253da278-db4e-4c04-8d92-cc1901d0d4e1"
      },
      "outputs": [
        {
          "output_type": "stream",
          "name": "stdout",
          "text": [
            "[2, 24, 45, 66, 75, 90, 170, 802]\n"
          ]
        }
      ],
      "source": [
        "# https://en.wikipedia.org/wiki/Radix_sort\n",
        "# Python program for implementation of Radix Sort\n",
        "# A function to do counting sort of arr[] according to\n",
        "# the digit represented by exp.\n",
        "\n",
        "# crucial here is that countingSort is STABLE - order remains same of other components/attributes\n",
        "# here those attributes are digits in other positions\n",
        "def countingSort(arr, exp1):\n",
        "\n",
        "    n = len(arr)\n",
        "\n",
        "    # The output array elements that will have sorted arr\n",
        "    output = [0] * (n)\n",
        "\n",
        "    # initialize count array as 0\n",
        "    count = [0] * (10) # so for each position we have 10 possible digits\n",
        "\n",
        "    # Store count of occurrences in count[]\n",
        "    for i in range(0, n):\n",
        "        index = (arr[i] // exp1) # we use LSD approache here so dividing by exponent will give us the correct digit to use\n",
        "        count[int(index % 10)] += 1\n",
        "\n",
        "    # Change count[i] so that count[i] now contains actual\n",
        "    # position of this digit in output array\n",
        "    for i in range(1, 10):\n",
        "        count[i] += count[i - 1]\n",
        "\n",
        "    # Build the output array\n",
        "    i = n - 1\n",
        "    while i >= 0:\n",
        "        index = (arr[i] / exp1)\n",
        "        output[count[int(index % 10)] - 1] = arr[i]\n",
        "        count[int(index % 10)] -= 1\n",
        "        i -= 1\n",
        "\n",
        "    # Copying the output array to arr[],\n",
        "    # so that arr now contains sorted numbers\n",
        "    i = 0\n",
        "    for i in range(0, len(arr)):\n",
        "        arr[i] = output[i]\n",
        "\n",
        "# Method to do Radix Sort\n",
        "def radixSort(arr):\n",
        "\n",
        "    # Find the maximum number to know number of digits\n",
        "    max1 = max(arr) # linear complexity\n",
        "\n",
        "    # Do counting sort for every digit. Note that instead\n",
        "    # of passing digit number, exp is passed. exp is 10^i\n",
        "    # where i is current digit number\n",
        "    exp = 1\n",
        "    while max1 / exp > 0:\n",
        "        countingSort(arr, exp)\n",
        "        exp *= 10\n",
        "\n",
        "\n",
        "# Driver code\n",
        "arr = [170, 45, 75, 90, 802, 24, 2, 66]\n",
        "\n",
        "# Function Call\n",
        "radixSort(arr)\n",
        "\n",
        "\n",
        "print(arr)\n",
        "\n",
        "# This code is contributed by Mohit Kumra\n",
        "# Edited by Patrick Gallagher"
      ]
    },
    {
      "cell_type": "code",
      "execution_count": 47,
      "metadata": {
        "colab": {
          "base_uri": "https://localhost:8080/"
        },
        "id": "re0YSdw7wqHe",
        "outputId": "e52ab3ee-958b-4d05-8a1a-3116b1afdd7b"
      },
      "outputs": [
        {
          "output_type": "execute_result",
          "data": {
            "text/plain": [
              "[636903290,\n",
              " 869064127,\n",
              " 331674428,\n",
              " 5775591,\n",
              " 574022355,\n",
              " 575872897,\n",
              " 217999644,\n",
              " 555723738,\n",
              " 660715000,\n",
              " 543281283]"
            ]
          },
          "metadata": {},
          "execution_count": 47
        }
      ],
      "source": [
        "r50 = [random.randint(1,1_000_000_000) for _ in range(50)]\n",
        "r50[:10]"
      ]
    },
    {
      "cell_type": "code",
      "execution_count": 48,
      "metadata": {
        "colab": {
          "base_uri": "https://localhost:8080/"
        },
        "id": "Rk13xNxcwyD2",
        "outputId": "60bd4949-5c28-45d4-8cd2-6e8a58adcefb"
      },
      "outputs": [
        {
          "output_type": "execute_result",
          "data": {
            "text/plain": [
              "[5775591,\n",
              " 42172864,\n",
              " 44270495,\n",
              " 50422652,\n",
              " 53385365,\n",
              " 83661139,\n",
              " 98715585,\n",
              " 153096193,\n",
              " 195388133,\n",
              " 209918708,\n",
              " 212994808,\n",
              " 217999644,\n",
              " 229353004,\n",
              " 252057674,\n",
              " 256703468,\n",
              " 320590733,\n",
              " 331674428,\n",
              " 371103442,\n",
              " 384366032,\n",
              " 422990329,\n",
              " 423653981,\n",
              " 482008617,\n",
              " 505807612,\n",
              " 524708097,\n",
              " 526427325,\n",
              " 537257435,\n",
              " 543281283,\n",
              " 549229627,\n",
              " 555723738,\n",
              " 574022355,\n",
              " 575872897,\n",
              " 592992877,\n",
              " 636903290,\n",
              " 643023186,\n",
              " 660715000,\n",
              " 708565951,\n",
              " 728263372,\n",
              " 746898634,\n",
              " 757529883,\n",
              " 777871996,\n",
              " 802848576,\n",
              " 869064127,\n",
              " 877006989,\n",
              " 888117841,\n",
              " 897174228,\n",
              " 898590569,\n",
              " 924468185,\n",
              " 925836791,\n",
              " 928920490,\n",
              " 970946873]"
            ]
          },
          "metadata": {},
          "execution_count": 48
        }
      ],
      "source": [
        "radixSort(r50)  # IN PLACE!!\n",
        "r50\n"
      ]
    },
    {
      "cell_type": "code",
      "execution_count": 52,
      "metadata": {
        "colab": {
          "base_uri": "https://localhost:8080/"
        },
        "id": "TOmvKQBWm6ta",
        "outputId": "ec28147d-94ee-445c-bc47-eb8c5a8d0d2b"
      },
      "outputs": [
        {
          "output_type": "execute_result",
          "data": {
            "text/plain": [
              "[2894, 8295, 5830, 4363, 8256]"
            ]
          },
          "metadata": {},
          "execution_count": 52
        }
      ],
      "source": [
        "r1k = [random.randint(1,10_000) for n in range(1_000)]\n",
        "r1k[:5]"
      ]
    },
    {
      "cell_type": "code",
      "execution_count": 50,
      "metadata": {
        "colab": {
          "base_uri": "https://localhost:8080/"
        },
        "id": "LL6UBX5nm6ta",
        "outputId": "8038a503-8a06-4a32-c078-fb0cf534322d"
      },
      "outputs": [
        {
          "output_type": "stream",
          "name": "stdout",
          "text": [
            "282 ms ± 3.81 ms per loop (mean ± std. dev. of 7 runs, 1 loop each)\n"
          ]
        }
      ],
      "source": [
        "%%timeit\n",
        "radixSort(r1k)"
      ]
    },
    {
      "cell_type": "code",
      "execution_count": 51,
      "metadata": {
        "colab": {
          "base_uri": "https://localhost:8080/"
        },
        "id": "qfGi7suNyhfc",
        "outputId": "0d8527f6-fbdf-4c8c-c92f-3a51699409e8"
      },
      "outputs": [
        {
          "output_type": "stream",
          "name": "stdout",
          "text": [
            "281 ms ± 6.09 ms per loop (mean ± std. dev. of 7 runs, 1 loop each)\n"
          ]
        }
      ],
      "source": [
        "%%timeit\n",
        "radixSort(r1k)"
      ]
    },
    {
      "cell_type": "code",
      "source": [
        "%%timeit\n",
        "sorted(r1k)"
      ],
      "metadata": {
        "id": "n9bIOxwG6LQ-",
        "outputId": "0e207965-cac0-42a5-e961-0cdbed58099f",
        "colab": {
          "base_uri": "https://localhost:8080/"
        }
      },
      "execution_count": 53,
      "outputs": [
        {
          "output_type": "stream",
          "name": "stdout",
          "text": [
            "126 µs ± 16.8 µs per loop (mean ± std. dev. of 7 runs, 10000 loops each)\n"
          ]
        }
      ]
    },
    {
      "cell_type": "code",
      "execution_count": null,
      "metadata": {
        "colab": {
          "base_uri": "https://localhost:8080/"
        },
        "id": "NJkYMTR6ykIV",
        "outputId": "7034cb83-8e70-4d4f-ea27-fe416c19c292"
      },
      "outputs": [
        {
          "data": {
            "text/plain": [
              "[3, 5, 7, 11, 52, 56, 60, 60, 88, 91]"
            ]
          },
          "execution_count": 56,
          "metadata": {},
          "output_type": "execute_result"
        }
      ],
      "source": [
        "r1k[:10]"
      ]
    },
    {
      "cell_type": "code",
      "execution_count": null,
      "metadata": {
        "id": "gfZg2tenm6ta",
        "outputId": "3a46ab1a-4da2-4b50-fb56-fef16c52ea38"
      },
      "outputs": [
        {
          "data": {
            "text/plain": [
              "[2, 7, 11, 23, 35]"
            ]
          },
          "execution_count": 46,
          "metadata": {},
          "output_type": "execute_result"
        }
      ],
      "source": [
        "r1k[:5]"
      ]
    },
    {
      "cell_type": "code",
      "execution_count": null,
      "metadata": {
        "id": "8GZbioKIjcrW"
      },
      "outputs": [],
      "source": []
    },
    {
      "cell_type": "markdown",
      "metadata": {
        "id": "0kdWwIedj5-z"
      },
      "source": [
        "## Counting Sort\n"
      ]
    },
    {
      "cell_type": "code",
      "execution_count": null,
      "metadata": {
        "id": "RsSJSWxjm6tc"
      },
      "outputs": [],
      "source": [
        "# so Bucket, Counting and Radix sorts can theoretically beat O(n log n), but in practice they are less often used,\n",
        "# because they need extra space for the buckets\n",
        "# and they have larger constants\n"
      ]
    },
    {
      "cell_type": "code",
      "execution_count": null,
      "metadata": {
        "id": "hTj7azC6m6tc"
      },
      "outputs": [],
      "source": [
        "# in practice current pragmatic and practial algorithm is Timsort\n",
        "# https://en.wikipedia.org/wiki/Timsort\n",
        "# which uses insertion sort for small number of items and merge sort for larger collections"
      ]
    },
    {
      "cell_type": "code",
      "execution_count": null,
      "metadata": {
        "id": "jmulZZdb3k2g"
      },
      "outputs": [],
      "source": []
    },
    {
      "cell_type": "markdown",
      "metadata": {
        "id": "Px9RN6wh3l3r"
      },
      "source": [
        "# Stable vs Unstable sort"
      ]
    },
    {
      "cell_type": "code",
      "execution_count": 54,
      "metadata": {
        "colab": {
          "base_uri": "https://localhost:8080/"
        },
        "id": "bplSqsuv3oXk",
        "outputId": "799b8a54-515f-40f8-8b18-6a1196afa943"
      },
      "outputs": [
        {
          "output_type": "execute_result",
          "data": {
            "text/plain": [
              "[(3, 'R'),\n",
              " (2, 'i'),\n",
              " (2, 'g'),\n",
              " (2, 'a'),\n",
              " (4, ' '),\n",
              " (1, 'T'),\n",
              " (4, 'e'),\n",
              " (3, 'c'),\n",
              " (6, 'h'),\n",
              " (1, 'n'),\n",
              " (1, 'i'),\n",
              " (5, 'c'),\n",
              " (4, 'a'),\n",
              " (3, 'l'),\n",
              " (3, ' '),\n",
              " (1, 'U'),\n",
              " (3, 'n'),\n",
              " (1, 'i'),\n",
              " (6, 'v'),\n",
              " (5, 'e'),\n",
              " (6, 'r'),\n",
              " (6, 's'),\n",
              " (3, 'i'),\n",
              " (6, 't'),\n",
              " (1, 'y')]"
            ]
          },
          "metadata": {},
          "execution_count": 54
        }
      ],
      "source": [
        "tuple_list = [(random.randint(1,6), c) for c in \"Riga Technical University\"]\n",
        "tuple_list"
      ]
    },
    {
      "cell_type": "code",
      "execution_count": 55,
      "metadata": {
        "colab": {
          "base_uri": "https://localhost:8080/"
        },
        "id": "1BhpsJqc34Xw",
        "outputId": "5989ac8b-57da-4e45-d627-490a2f1aa88b"
      },
      "outputs": [
        {
          "output_type": "execute_result",
          "data": {
            "text/plain": [
              "[(1, 'T'),\n",
              " (1, 'U'),\n",
              " (1, 'i'),\n",
              " (1, 'i'),\n",
              " (1, 'n'),\n",
              " (1, 'y'),\n",
              " (2, 'a'),\n",
              " (2, 'g'),\n",
              " (2, 'i'),\n",
              " (3, ' '),\n",
              " (3, 'R'),\n",
              " (3, 'c'),\n",
              " (3, 'i'),\n",
              " (3, 'l'),\n",
              " (3, 'n'),\n",
              " (4, ' '),\n",
              " (4, 'a'),\n",
              " (4, 'e'),\n",
              " (5, 'c'),\n",
              " (5, 'e'),\n",
              " (6, 'h'),\n",
              " (6, 'r'),\n",
              " (6, 's'),\n",
              " (6, 't'),\n",
              " (6, 'v')]"
            ]
          },
          "metadata": {},
          "execution_count": 55
        }
      ],
      "source": [
        "sorted(tuple_list) # by deafault 2nd key was used as tiebreaker"
      ]
    },
    {
      "cell_type": "code",
      "execution_count": null,
      "metadata": {
        "colab": {
          "base_uri": "https://localhost:8080/"
        },
        "id": "g_W6YdLE4L7q",
        "outputId": "6fe2ab8e-d4db-405d-e9b0-90ec94f6a2c0"
      },
      "outputs": [
        {
          "data": {
            "text/plain": [
              "[(1, ' '),\n",
              " (2, ' '),\n",
              " (3, 'R'),\n",
              " (2, 'T'),\n",
              " (3, 'U'),\n",
              " (6, 'a'),\n",
              " (3, 'a'),\n",
              " (4, 'c'),\n",
              " (2, 'c'),\n",
              " (4, 'e'),\n",
              " (4, 'e'),\n",
              " (5, 'g'),\n",
              " (4, 'h'),\n",
              " (6, 'i'),\n",
              " (5, 'i'),\n",
              " (2, 'i'),\n",
              " (6, 'i'),\n",
              " (3, 'l'),\n",
              " (5, 'n'),\n",
              " (4, 'n'),\n",
              " (5, 'r'),\n",
              " (1, 's'),\n",
              " (3, 't'),\n",
              " (5, 'v'),\n",
              " (3, 'y')]"
            ]
          },
          "execution_count": 52,
          "metadata": {},
          "output_type": "execute_result"
        }
      ],
      "source": [
        "sorted(tuple_list, key = lambda el: el[1]) # so we primary sort key will be 2nd one\n"
      ]
    },
    {
      "cell_type": "code",
      "execution_count": null,
      "metadata": {
        "id": "J4Uk3J644mxE"
      },
      "outputs": [],
      "source": [
        "# so certainly looks like built in sorted which is timsort is stable"
      ]
    },
    {
      "cell_type": "markdown",
      "metadata": {
        "id": "Ogjjl8PYkZjg"
      },
      "source": [
        "# Quad Sort\n"
      ]
    },
    {
      "cell_type": "markdown",
      "metadata": {
        "id": "qZDKeQewkcBP"
      },
      "source": [
        "[QuadSortRepo](https://github.com/scandum/quadsort)\n",
        "\n",
        " branchless merge sort named quadsort\n",
        "\n",
        " Key Idea: quad swap sorts four variables at once.\n",
        "\n",
        " [Discussion with Creator on Reddit in 2020](https://www.reddit.com/r/programming/comments/f3d5q0/quadsort_introduction_to_a_new_stable_sorting/)\n",
        "\n",
        " [Discussion with more alternatives on Hacker News](https://news.ycombinator.com/item?id=22322967)"
      ]
    },
    {
      "cell_type": "code",
      "source": [],
      "metadata": {
        "id": "O3BHkpcK9nKM"
      },
      "execution_count": null,
      "outputs": []
    },
    {
      "cell_type": "markdown",
      "metadata": {
        "id": "j-MmHB_skwEF"
      },
      "source": [
        "            ╭─╮             ╭─╮                  ╭─╮          ╭─╮\n",
        "            │A├─╮         ╭─┤S├────────┬─────────┤?├─╮    ╭───┤F│\n",
        "            ╰─╯ │   ╭─╮   │ ╰─╯        │         ╰┬╯ │   ╭┴╮  ╰─╯\n",
        "                ├───┤?├───┤            │       ╭──╯  ╰───┤?│\n",
        "            ╭─╮ │   ╰─╯   │ ╭─╮        │       │         ╰┬╯  ╭─╮\n",
        "            │A├─╯         ╰─┤S├────────│────────╮         ╰───┤F│\n",
        "            ╰─╯             ╰┬╯        │       ││             ╰─╯\n",
        "                            ╭┴╮ ╭─╮   ╭┴╮ ╭─╮  ││\n",
        "                            │?├─┤F│   │?├─┤F│  ││\n",
        "                            ╰┬╯ ╰─╯   ╰┬╯ ╰─╯  ││\n",
        "            ╭─╮             ╭┴╮        │       ││             ╭─╮\n",
        "            │A├─╮         ╭─┤S├────────│───────╯│         ╭───┤F│\n",
        "            ╰─╯ │   ╭─╮   │ ╰─╯        │        ╰─╮      ╭┴╮  ╰─╯\n",
        "                ├───┤?├───┤            │          │  ╭───┤?│\n",
        "            ╭─╮ │   ╰─╯   │ ╭─╮        │         ╭┴╮ │   ╰┬╯  ╭─╮\n",
        "            │A├─╯         ╰─┤S├────────┴─────────┤?├─╯    ╰───┤F│\n",
        "            ╰─╯             ╰─╯                  ╰─╯          ╰─╯"
      ]
    },
    {
      "cell_type": "markdown",
      "metadata": {
        "id": "8Sm3YsZWmT5K"
      },
      "source": [
        "###  Takeaway - we can minimize constants and work on specific cases\n",
        "\n",
        "### Fundamental limits of O(n log n) for comparison based sorting remain in place\n"
      ]
    },
    {
      "cell_type": "markdown",
      "metadata": {
        "id": "s1KdRaEWmLa_"
      },
      "source": [
        "[Sorting Algos at Open Data Structures](https://opendatastructures.org/ods-python/11_Sorting_Algorithms.html)\n"
      ]
    },
    {
      "cell_type": "markdown",
      "metadata": {
        "id": "5QSBlby5oCXg"
      },
      "source": [
        "## More visualizations\n",
        "\n",
        "* https://www.sortvisualizer.com/ - includes some more esoctic sorts, and you can add your own sorting algorithm!"
      ]
    },
    {
      "cell_type": "code",
      "execution_count": null,
      "metadata": {
        "id": "UYH_7OgXkYR5"
      },
      "outputs": [],
      "source": []
    }
  ],
  "metadata": {
    "colab": {
      "name": "Sorting - Continued.ipynb",
      "provenance": []
    },
    "kernelspec": {
      "display_name": "Python 3",
      "language": "python",
      "name": "python3"
    },
    "language_info": {
      "codemirror_mode": {
        "name": "ipython",
        "version": 3
      },
      "file_extension": ".py",
      "mimetype": "text/x-python",
      "name": "python",
      "nbconvert_exporter": "python",
      "pygments_lexer": "ipython3",
      "version": "3.11.4"
    }
  },
  "nbformat": 4,
  "nbformat_minor": 0
}