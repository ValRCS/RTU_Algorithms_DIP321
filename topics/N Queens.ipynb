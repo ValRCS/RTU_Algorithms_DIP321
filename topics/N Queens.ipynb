{
  "cells": [
    {
      "cell_type": "markdown",
      "metadata": {
        "id": "h0Li5YHDtsKL"
      },
      "source": [
        "# n-queens  problem\n",
        "\n",
        "https://en.wikipedia.org/wiki/Eight_queens_puzzle\n",
        "\n",
        "![Solution](https://upload.wikimedia.org/wikipedia/commons/1/1f/Eight-queens-animation.gif)\n",
        "https://www.geeksforgeeks.org/n-queen-problem-backtracking-3/"
      ]
    },
    {
      "cell_type": "code",
      "execution_count": 3,
      "metadata": {
        "colab": {
          "base_uri": "https://localhost:8080/"
        },
        "id": "l9AyFn99tsKW",
        "outputId": "948781bd-e8d7-4687-9804-31aaa13a2c08"
      },
      "outputs": [
        {
          "data": {
            "text/plain": [
              "4426165368"
            ]
          },
          "execution_count": 3,
          "metadata": {},
          "output_type": "execute_result"
        }
      ],
      "source": [
        "# so if we were going to use completely brute force we would need  to look at C(8,64) solutions\n",
        "# we can use our friend memoized function from last week\n",
        "import functools\n",
        "@functools.lru_cache(maxsize=None)\n",
        "def C_mem(n,k):\n",
        "    if k == 0: return 1\n",
        "    if n == 0: return 0\n",
        "    return C_mem(n-1,k-1) + C_mem(n-1,k)\n",
        "C_mem(64,8)"
      ]
    },
    {
      "cell_type": "code",
      "execution_count": null,
      "metadata": {
        "id": "ge44_GryuaoP"
      },
      "outputs": [],
      "source": [
        "# from itertools import combinations # we could generate all combination\n"
      ]
    },
    {
      "cell_type": "markdown",
      "metadata": {
        "id": "ycyoRgJx-Y11"
      },
      "source": [
        "## Chess pieces in Unicode\n",
        "\n",
        "https://en.wikipedia.org/wiki/Chess_symbols_in_Unicode"
      ]
    },
    {
      "cell_type": "code",
      "execution_count": 4,
      "metadata": {
        "colab": {
          "base_uri": "https://localhost:8080/"
        },
        "id": "eyiW6S___RGW",
        "outputId": "88df31eb-d13c-47b7-8314-48323dfc21e9"
      },
      "outputs": [
        {
          "name": "stdout",
          "output_type": "stream",
          "text": [
            "♕\n",
            "9813\n"
          ]
        }
      ],
      "source": [
        "print(\"♕\")\n",
        "print(ord(\"♕\"))"
      ]
    },
    {
      "cell_type": "markdown",
      "metadata": {
        "id": "sKe3EBVH4Zsd"
      },
      "source": [
        "## N Queens solved with backtracking"
      ]
    },
    {
      "cell_type": "code",
      "execution_count": 5,
      "metadata": {
        "id": "_GPl9u2TtsKa"
      },
      "outputs": [],
      "source": [
        "# Python3 program to solve N Queen \n",
        "# Problem using backtracking \n",
        "\n",
        "def print_solution(board, N): \n",
        "    '''Helper function to print board'''\n",
        "    print(f\"Solution for {N}-queens\")\n",
        "    for i in range(N): \n",
        "        for j in range(N): \n",
        "            print (board[i][j], end = \" \") \n",
        "        print() \n",
        "\n",
        "# A utility function to check if a queen can \n",
        "# be placed on board[row][col]. Note that this \n",
        "# function is called when \"col\" queens are \n",
        "# already placed in columns from 0 to col -1. \n",
        "# So we need to check only left side for \n",
        "# attacking queens \n",
        "def is_safe(board, row, col, N, debug=False): \n",
        "    '''\n",
        "    Checks whether it is safe to put a queen in row,col given a board state\n",
        "    '''\n",
        "    for i in range(col): \n",
        "        if board[row][i] == \"♕\": # old version used 1 which should be faster actually less conversion\n",
        "            return False\n",
        "\n",
        "    # Check upper diagonal on left side \n",
        "    for i, j in zip(range(row, -1, -1), # so we only check backwards for diagonals\n",
        "                    range(col, -1, -1)): \n",
        "        if debug:\n",
        "            print(f\"Checking row {i}, col {j}\")\n",
        "            print_solution(board, N)\n",
        "        if board[i][j] == \"♕\": \n",
        "            return False\n",
        "\n",
        "    # Check lower diagonal on left side - similarly we only check backwards for diagonals\n",
        "    for i, j in zip(range(row, N, 1), \n",
        "                    range(col, -1, -1)): \n",
        "        if board[i][j] == \"♕\": \n",
        "            return False\n",
        "\n",
        "    return True\n",
        "\n",
        "def solveNQUtil(board, col, N, debug=False, space_sym=\"__\"): \n",
        "\n",
        "    # base case: If all queens are placed \n",
        "    # then return true \n",
        "    if col >= N: \n",
        "        return True\n",
        "\n",
        "    # Consider this column and try placing \n",
        "    # this queen in all rows one by one \n",
        "    for i in range(N): \n",
        "\n",
        "        if is_safe(board, i, col, N, debug): \n",
        "\n",
        "            # Place this queen in board[i][col] \n",
        "            board[i][col] = \"♕\"\n",
        "\n",
        "            # recur to place rest of the queens \n",
        "            if solveNQUtil(board, col + 1, N, debug, space_sym) == True: \n",
        "                return True\n",
        "\n",
        "            # If placing queen in board[i][col \n",
        "            # doesn't lead to a solution, then \n",
        "            # queen from board[i][col] \n",
        "            board[i][col] = space_sym\n",
        "\n",
        "    # if the queen can not be placed in any row in \n",
        "    # this colum col then return false \n",
        "    return False\n",
        "\n",
        "# This function solves the N Queen problem using \n",
        "# Backtracking. It mainly uses solveNQUtil() to \n",
        "# solve the problem. It returns false if queens \n",
        "# cannot be placed, otherwise return true and \n",
        "# placement of queens in the form of 1s. \n",
        "# note that there may be more than one \n",
        "# solutions, this function prints one of the \n",
        "# feasible solutions. \n",
        "\n",
        "def solveNQ(N, print_board=True, debug=False, space_sym=\"__\"): # passing in default 4x4\n",
        "    # board = tuple([0,0,0,0] for _ in range(N)) # !!!! bug fixed below \n",
        "    # in normal code base you would delete such code lines\n",
        "    board = tuple([space_sym] * N for _ in range(N)) # we need to create a blank board\n",
        "\n",
        "    if solveNQUtil(board, 0, N, debug, space_sym) is False: \n",
        "        print(\"Solution does not exist\") \n",
        "        return False\n",
        "\n",
        "    if print_board:\n",
        "        print_solution(board, N) \n",
        "    return True\n",
        "\n",
        "\n",
        "\n",
        "# This code is contributed by Divyanshu Mehta \n",
        "# Modified by VS - strive to avoid globals in  your code!\n"
      ]
    },
    {
      "cell_type": "code",
      "execution_count": 6,
      "metadata": {},
      "outputs": [
        {
          "name": "stdout",
          "output_type": "stream",
          "text": [
            "Solution for 1-queens\n",
            "♕ \n"
          ]
        },
        {
          "data": {
            "text/plain": [
              "True"
            ]
          },
          "execution_count": 6,
          "metadata": {},
          "output_type": "execute_result"
        }
      ],
      "source": [
        "solveNQ(1, space_sym = \"__\") "
      ]
    },
    {
      "cell_type": "code",
      "execution_count": 7,
      "metadata": {},
      "outputs": [
        {
          "name": "stdout",
          "output_type": "stream",
          "text": [
            "Solution does not exist\n"
          ]
        },
        {
          "data": {
            "text/plain": [
              "False"
            ]
          },
          "execution_count": 7,
          "metadata": {},
          "output_type": "execute_result"
        }
      ],
      "source": [
        "# 2 will not have a solution\n",
        "solveNQ(2, space_sym = \"__\")"
      ]
    },
    {
      "cell_type": "code",
      "execution_count": 8,
      "metadata": {},
      "outputs": [
        {
          "name": "stdout",
          "output_type": "stream",
          "text": [
            "Solution does not exist\n"
          ]
        },
        {
          "data": {
            "text/plain": [
              "False"
            ]
          },
          "execution_count": 8,
          "metadata": {},
          "output_type": "execute_result"
        }
      ],
      "source": [
        "# similarly 3 will not have a solution\n",
        "solveNQ(3, space_sym = \"__\")"
      ]
    },
    {
      "cell_type": "code",
      "execution_count": 9,
      "metadata": {
        "colab": {
          "base_uri": "https://localhost:8080/"
        },
        "id": "Q_ooZjYKtsKc",
        "outputId": "b84beb7e-5244-4f71-9097-a09eb3364c46"
      },
      "outputs": [
        {
          "name": "stdout",
          "output_type": "stream",
          "text": [
            "Solution for 4-queens\n",
            "__ __ ♕ __ \n",
            "♕ __ __ __ \n",
            "__ __ __ ♕ \n",
            "__ ♕ __ __ \n"
          ]
        },
        {
          "data": {
            "text/plain": [
              "True"
            ]
          },
          "execution_count": 9,
          "metadata": {},
          "output_type": "execute_result"
        }
      ],
      "source": [
        "# finally 4 does have a solution\n",
        "solveNQ(4, space_sym = \"__\") "
      ]
    },
    {
      "cell_type": "code",
      "execution_count": 10,
      "metadata": {},
      "outputs": [
        {
          "data": {
            "text/plain": [
              "1820"
            ]
          },
          "execution_count": 10,
          "metadata": {},
          "output_type": "execute_result"
        }
      ],
      "source": [
        "# how much brute force would we need?\n",
        "C_mem(16,4)"
      ]
    },
    {
      "cell_type": "code",
      "execution_count": 11,
      "metadata": {
        "colab": {
          "base_uri": "https://localhost:8080/"
        },
        "id": "QJxDDxPQ17NM",
        "outputId": "fd66e337-6cb5-4d0a-9b18-75f79526c54c"
      },
      "outputs": [
        {
          "name": "stdout",
          "output_type": "stream",
          "text": [
            "Checking row 0, col 0\n",
            "Solution for 4-queens\n",
            "__ __ __ __ \n",
            "__ __ __ __ \n",
            "__ __ __ __ \n",
            "__ __ __ __ \n",
            "Checking row 1, col 1\n",
            "Solution for 4-queens\n",
            "♕ __ __ __ \n",
            "__ __ __ __ \n",
            "__ __ __ __ \n",
            "__ __ __ __ \n",
            "Checking row 0, col 0\n",
            "Solution for 4-queens\n",
            "♕ __ __ __ \n",
            "__ __ __ __ \n",
            "__ __ __ __ \n",
            "__ __ __ __ \n",
            "Checking row 2, col 1\n",
            "Solution for 4-queens\n",
            "♕ __ __ __ \n",
            "__ __ __ __ \n",
            "__ __ __ __ \n",
            "__ __ __ __ \n",
            "Checking row 1, col 0\n",
            "Solution for 4-queens\n",
            "♕ __ __ __ \n",
            "__ __ __ __ \n",
            "__ __ __ __ \n",
            "__ __ __ __ \n",
            "Checking row 1, col 2\n",
            "Solution for 4-queens\n",
            "♕ __ __ __ \n",
            "__ __ __ __ \n",
            "__ ♕ __ __ \n",
            "__ __ __ __ \n",
            "Checking row 0, col 1\n",
            "Solution for 4-queens\n",
            "♕ __ __ __ \n",
            "__ __ __ __ \n",
            "__ ♕ __ __ \n",
            "__ __ __ __ \n",
            "Checking row 3, col 2\n",
            "Solution for 4-queens\n",
            "♕ __ __ __ \n",
            "__ __ __ __ \n",
            "__ ♕ __ __ \n",
            "__ __ __ __ \n",
            "Checking row 2, col 1\n",
            "Solution for 4-queens\n",
            "♕ __ __ __ \n",
            "__ __ __ __ \n",
            "__ ♕ __ __ \n",
            "__ __ __ __ \n",
            "Checking row 3, col 1\n",
            "Solution for 4-queens\n",
            "♕ __ __ __ \n",
            "__ __ __ __ \n",
            "__ __ __ __ \n",
            "__ __ __ __ \n",
            "Checking row 2, col 0\n",
            "Solution for 4-queens\n",
            "♕ __ __ __ \n",
            "__ __ __ __ \n",
            "__ __ __ __ \n",
            "__ __ __ __ \n",
            "Checking row 1, col 2\n",
            "Solution for 4-queens\n",
            "♕ __ __ __ \n",
            "__ __ __ __ \n",
            "__ __ __ __ \n",
            "__ ♕ __ __ \n",
            "Checking row 0, col 1\n",
            "Solution for 4-queens\n",
            "♕ __ __ __ \n",
            "__ __ __ __ \n",
            "__ __ __ __ \n",
            "__ ♕ __ __ \n",
            "Checking row 2, col 3\n",
            "Solution for 4-queens\n",
            "♕ __ __ __ \n",
            "__ __ ♕ __ \n",
            "__ __ __ __ \n",
            "__ ♕ __ __ \n",
            "Checking row 1, col 2\n",
            "Solution for 4-queens\n",
            "♕ __ __ __ \n",
            "__ __ ♕ __ \n",
            "__ __ __ __ \n",
            "__ ♕ __ __ \n",
            "Checking row 2, col 2\n",
            "Solution for 4-queens\n",
            "♕ __ __ __ \n",
            "__ __ __ __ \n",
            "__ __ __ __ \n",
            "__ ♕ __ __ \n",
            "Checking row 1, col 1\n",
            "Solution for 4-queens\n",
            "♕ __ __ __ \n",
            "__ __ __ __ \n",
            "__ __ __ __ \n",
            "__ ♕ __ __ \n",
            "Checking row 0, col 0\n",
            "Solution for 4-queens\n",
            "♕ __ __ __ \n",
            "__ __ __ __ \n",
            "__ __ __ __ \n",
            "__ ♕ __ __ \n",
            "Checking row 1, col 0\n",
            "Solution for 4-queens\n",
            "__ __ __ __ \n",
            "__ __ __ __ \n",
            "__ __ __ __ \n",
            "__ __ __ __ \n",
            "Checking row 0, col 1\n",
            "Solution for 4-queens\n",
            "__ __ __ __ \n",
            "♕ __ __ __ \n",
            "__ __ __ __ \n",
            "__ __ __ __ \n",
            "Checking row 2, col 1\n",
            "Solution for 4-queens\n",
            "__ __ __ __ \n",
            "♕ __ __ __ \n",
            "__ __ __ __ \n",
            "__ __ __ __ \n",
            "Checking row 1, col 0\n",
            "Solution for 4-queens\n",
            "__ __ __ __ \n",
            "♕ __ __ __ \n",
            "__ __ __ __ \n",
            "__ __ __ __ \n",
            "Checking row 3, col 1\n",
            "Solution for 4-queens\n",
            "__ __ __ __ \n",
            "♕ __ __ __ \n",
            "__ __ __ __ \n",
            "__ __ __ __ \n",
            "Checking row 2, col 0\n",
            "Solution for 4-queens\n",
            "__ __ __ __ \n",
            "♕ __ __ __ \n",
            "__ __ __ __ \n",
            "__ __ __ __ \n",
            "Checking row 0, col 2\n",
            "Solution for 4-queens\n",
            "__ __ __ __ \n",
            "♕ __ __ __ \n",
            "__ __ __ __ \n",
            "__ ♕ __ __ \n",
            "Checking row 2, col 3\n",
            "Solution for 4-queens\n",
            "__ __ ♕ __ \n",
            "♕ __ __ __ \n",
            "__ __ __ __ \n",
            "__ ♕ __ __ \n",
            "Checking row 1, col 2\n",
            "Solution for 4-queens\n",
            "__ __ ♕ __ \n",
            "♕ __ __ __ \n",
            "__ __ __ __ \n",
            "__ ♕ __ __ \n",
            "Checking row 0, col 1\n",
            "Solution for 4-queens\n",
            "__ __ ♕ __ \n",
            "♕ __ __ __ \n",
            "__ __ __ __ \n",
            "__ ♕ __ __ \n",
            "Solution for 4-queens\n",
            "__ __ ♕ __ \n",
            "♕ __ __ __ \n",
            "__ __ __ ♕ \n",
            "__ ♕ __ __ \n"
          ]
        },
        {
          "data": {
            "text/plain": [
              "True"
            ]
          },
          "execution_count": 11,
          "metadata": {},
          "output_type": "execute_result"
        }
      ],
      "source": [
        "solveNQ(4, debug=True, space_sym = \"__\") "
      ]
    },
    {
      "cell_type": "code",
      "execution_count": 22,
      "metadata": {
        "colab": {
          "base_uri": "https://localhost:8080/"
        },
        "id": "ezCgtuiftsKc",
        "outputId": "63f4c884-eed7-4e99-db72-c7a20232ca03"
      },
      "outputs": [
        {
          "name": "stdout",
          "output_type": "stream",
          "text": [
            "Checking row 0, col 0\n",
            "__ __ __ \n",
            "__ __ __ \n",
            "__ __ __ \n",
            "Checking row 1, col 1\n",
            "♕ __ __ \n",
            "__ __ __ \n",
            "__ __ __ \n",
            "Checking row 0, col 0\n",
            "♕ __ __ \n",
            "__ __ __ \n",
            "__ __ __ \n",
            "Checking row 2, col 1\n",
            "♕ __ __ \n",
            "__ __ __ \n",
            "__ __ __ \n",
            "Checking row 1, col 0\n",
            "♕ __ __ \n",
            "__ __ __ \n",
            "__ __ __ \n",
            "Checking row 1, col 2\n",
            "♕ __ __ \n",
            "__ __ __ \n",
            "__ ♕ __ \n",
            "Checking row 0, col 1\n",
            "♕ __ __ \n",
            "__ __ __ \n",
            "__ ♕ __ \n",
            "Checking row 1, col 0\n",
            "__ __ __ \n",
            "__ __ __ \n",
            "__ __ __ \n",
            "Checking row 0, col 1\n",
            "__ __ __ \n",
            "♕ __ __ \n",
            "__ __ __ \n",
            "Checking row 2, col 1\n",
            "__ __ __ \n",
            "♕ __ __ \n",
            "__ __ __ \n",
            "Checking row 1, col 0\n",
            "__ __ __ \n",
            "♕ __ __ \n",
            "__ __ __ \n",
            "Checking row 2, col 0\n",
            "__ __ __ \n",
            "__ __ __ \n",
            "__ __ __ \n",
            "Checking row 0, col 1\n",
            "__ __ __ \n",
            "__ __ __ \n",
            "♕ __ __ \n",
            "Checking row 1, col 2\n",
            "__ ♕ __ \n",
            "__ __ __ \n",
            "♕ __ __ \n",
            "Checking row 0, col 1\n",
            "__ ♕ __ \n",
            "__ __ __ \n",
            "♕ __ __ \n",
            "Checking row 1, col 1\n",
            "__ __ __ \n",
            "__ __ __ \n",
            "♕ __ __ \n",
            "Checking row 0, col 0\n",
            "__ __ __ \n",
            "__ __ __ \n",
            "♕ __ __ \n"
          ]
        },
        {
          "data": {
            "text/plain": [
              "False"
            ]
          },
          "execution_count": 22,
          "metadata": {},
          "output_type": "execute_result"
        }
      ],
      "source": [
        "# Driver Code \n",
        "solveNQ(3, debug=True) "
      ]
    },
    {
      "cell_type": "code",
      "execution_count": 12,
      "metadata": {
        "colab": {
          "base_uri": "https://localhost:8080/"
        },
        "id": "AH5xm2Bkvv0c",
        "outputId": "710e7668-9caf-4485-bd63-a6b35ddb76e0"
      },
      "outputs": [
        {
          "name": "stdout",
          "output_type": "stream",
          "text": [
            "Solution for 5-queens\n",
            "♕ __ __ __ __ \n",
            "__ __ __ ♕ __ \n",
            "__ ♕ __ __ __ \n",
            "__ __ __ __ ♕ \n",
            "__ __ ♕ __ __ \n"
          ]
        },
        {
          "data": {
            "text/plain": [
              "True"
            ]
          },
          "execution_count": 12,
          "metadata": {},
          "output_type": "execute_result"
        }
      ],
      "source": [
        "# Driver Code \n",
        "solveNQ(5) "
      ]
    },
    {
      "cell_type": "code",
      "execution_count": 10,
      "metadata": {
        "colab": {
          "base_uri": "https://localhost:8080/"
        },
        "id": "Vt7IfJtdv5J4",
        "outputId": "b22f934e-b644-4f5c-952c-5fcffbf0d805"
      },
      "outputs": [
        {
          "name": "stdout",
          "output_type": "stream",
          "text": [
            "Checking row 0, col 0\n",
            "Solution for 5-queens\n",
            "__ __ __ __ __ \n",
            "__ __ __ __ __ \n",
            "__ __ __ __ __ \n",
            "__ __ __ __ __ \n",
            "__ __ __ __ __ \n",
            "Checking row 1, col 1\n",
            "Solution for 5-queens\n",
            "♕ __ __ __ __ \n",
            "__ __ __ __ __ \n",
            "__ __ __ __ __ \n",
            "__ __ __ __ __ \n",
            "__ __ __ __ __ \n",
            "Checking row 0, col 0\n",
            "Solution for 5-queens\n",
            "♕ __ __ __ __ \n",
            "__ __ __ __ __ \n",
            "__ __ __ __ __ \n",
            "__ __ __ __ __ \n",
            "__ __ __ __ __ \n",
            "Checking row 2, col 1\n",
            "Solution for 5-queens\n",
            "♕ __ __ __ __ \n",
            "__ __ __ __ __ \n",
            "__ __ __ __ __ \n",
            "__ __ __ __ __ \n",
            "__ __ __ __ __ \n",
            "Checking row 1, col 0\n",
            "Solution for 5-queens\n",
            "♕ __ __ __ __ \n",
            "__ __ __ __ __ \n",
            "__ __ __ __ __ \n",
            "__ __ __ __ __ \n",
            "__ __ __ __ __ \n",
            "Checking row 1, col 2\n",
            "Solution for 5-queens\n",
            "♕ __ __ __ __ \n",
            "__ __ __ __ __ \n",
            "__ ♕ __ __ __ \n",
            "__ __ __ __ __ \n",
            "__ __ __ __ __ \n",
            "Checking row 0, col 1\n",
            "Solution for 5-queens\n",
            "♕ __ __ __ __ \n",
            "__ __ __ __ __ \n",
            "__ ♕ __ __ __ \n",
            "__ __ __ __ __ \n",
            "__ __ __ __ __ \n",
            "Checking row 3, col 2\n",
            "Solution for 5-queens\n",
            "♕ __ __ __ __ \n",
            "__ __ __ __ __ \n",
            "__ ♕ __ __ __ \n",
            "__ __ __ __ __ \n",
            "__ __ __ __ __ \n",
            "Checking row 2, col 1\n",
            "Solution for 5-queens\n",
            "♕ __ __ __ __ \n",
            "__ __ __ __ __ \n",
            "__ ♕ __ __ __ \n",
            "__ __ __ __ __ \n",
            "__ __ __ __ __ \n",
            "Checking row 4, col 2\n",
            "Solution for 5-queens\n",
            "♕ __ __ __ __ \n",
            "__ __ __ __ __ \n",
            "__ ♕ __ __ __ \n",
            "__ __ __ __ __ \n",
            "__ __ __ __ __ \n",
            "Checking row 3, col 1\n",
            "Solution for 5-queens\n",
            "♕ __ __ __ __ \n",
            "__ __ __ __ __ \n",
            "__ ♕ __ __ __ \n",
            "__ __ __ __ __ \n",
            "__ __ __ __ __ \n",
            "Checking row 2, col 0\n",
            "Solution for 5-queens\n",
            "♕ __ __ __ __ \n",
            "__ __ __ __ __ \n",
            "__ ♕ __ __ __ \n",
            "__ __ __ __ __ \n",
            "__ __ __ __ __ \n",
            "Checking row 1, col 3\n",
            "Solution for 5-queens\n",
            "♕ __ __ __ __ \n",
            "__ __ __ __ __ \n",
            "__ ♕ __ __ __ \n",
            "__ __ __ __ __ \n",
            "__ __ ♕ __ __ \n",
            "Checking row 0, col 2\n",
            "Solution for 5-queens\n",
            "♕ __ __ __ __ \n",
            "__ __ __ __ __ \n",
            "__ ♕ __ __ __ \n",
            "__ __ __ __ __ \n",
            "__ __ ♕ __ __ \n",
            "Checking row 3, col 4\n",
            "Solution for 5-queens\n",
            "♕ __ __ __ __ \n",
            "__ __ __ ♕ __ \n",
            "__ ♕ __ __ __ \n",
            "__ __ __ __ __ \n",
            "__ __ ♕ __ __ \n",
            "Checking row 2, col 3\n",
            "Solution for 5-queens\n",
            "♕ __ __ __ __ \n",
            "__ __ __ ♕ __ \n",
            "__ ♕ __ __ __ \n",
            "__ __ __ __ __ \n",
            "__ __ ♕ __ __ \n",
            "Checking row 1, col 2\n",
            "Solution for 5-queens\n",
            "♕ __ __ __ __ \n",
            "__ __ __ ♕ __ \n",
            "__ ♕ __ __ __ \n",
            "__ __ __ __ __ \n",
            "__ __ ♕ __ __ \n",
            "Checking row 0, col 1\n",
            "Solution for 5-queens\n",
            "♕ __ __ __ __ \n",
            "__ __ __ ♕ __ \n",
            "__ ♕ __ __ __ \n",
            "__ __ __ __ __ \n",
            "__ __ ♕ __ __ \n",
            "Solution for 5-queens\n",
            "♕ __ __ __ __ \n",
            "__ __ __ ♕ __ \n",
            "__ ♕ __ __ __ \n",
            "__ __ __ __ ♕ \n",
            "__ __ ♕ __ __ \n"
          ]
        },
        {
          "data": {
            "text/plain": [
              "True"
            ]
          },
          "execution_count": 10,
          "metadata": {},
          "output_type": "execute_result"
        }
      ],
      "source": [
        "solveNQ(5, debug=True) "
      ]
    },
    {
      "cell_type": "markdown",
      "metadata": {},
      "source": [
        "## Solving N queens for N 4 to 20"
      ]
    },
    {
      "cell_type": "code",
      "execution_count": 13,
      "metadata": {
        "colab": {
          "base_uri": "https://localhost:8080/"
        },
        "id": "Jic8FG0atsKg",
        "outputId": "082ee1b0-e6f1-4f04-c089-366458607e96"
      },
      "outputs": [
        {
          "name": "stdout",
          "output_type": "stream",
          "text": [
            "Solution for 4-queens\n",
            "__ __ ♕ __ \n",
            "♕ __ __ __ \n",
            "__ __ __ ♕ \n",
            "__ ♕ __ __ \n",
            "----------------------------------------\n",
            "Solution for 5-queens\n",
            "♕ __ __ __ __ \n",
            "__ __ __ ♕ __ \n",
            "__ ♕ __ __ __ \n",
            "__ __ __ __ ♕ \n",
            "__ __ ♕ __ __ \n",
            "----------------------------------------\n",
            "Solution for 6-queens\n",
            "__ __ __ ♕ __ __ \n",
            "♕ __ __ __ __ __ \n",
            "__ __ __ __ ♕ __ \n",
            "__ ♕ __ __ __ __ \n",
            "__ __ __ __ __ ♕ \n",
            "__ __ ♕ __ __ __ \n",
            "----------------------------------------\n",
            "Solution for 7-queens\n",
            "♕ __ __ __ __ __ __ \n",
            "__ __ __ __ ♕ __ __ \n",
            "__ ♕ __ __ __ __ __ \n",
            "__ __ __ __ __ ♕ __ \n",
            "__ __ ♕ __ __ __ __ \n",
            "__ __ __ __ __ __ ♕ \n",
            "__ __ __ ♕ __ __ __ \n",
            "----------------------------------------\n",
            "Solution for 8-queens\n",
            "♕ __ __ __ __ __ __ __ \n",
            "__ __ __ __ __ __ ♕ __ \n",
            "__ __ __ __ ♕ __ __ __ \n",
            "__ __ __ __ __ __ __ ♕ \n",
            "__ ♕ __ __ __ __ __ __ \n",
            "__ __ __ ♕ __ __ __ __ \n",
            "__ __ __ __ __ ♕ __ __ \n",
            "__ __ ♕ __ __ __ __ __ \n",
            "----------------------------------------\n",
            "Solution for 9-queens\n",
            "♕ __ __ __ __ __ __ __ __ \n",
            "__ __ __ __ ♕ __ __ __ __ \n",
            "__ ♕ __ __ __ __ __ __ __ \n",
            "__ __ __ __ __ ♕ __ __ __ \n",
            "__ __ __ __ __ __ __ __ ♕ \n",
            "__ __ ♕ __ __ __ __ __ __ \n",
            "__ __ __ __ __ __ __ ♕ __ \n",
            "__ __ __ ♕ __ __ __ __ __ \n",
            "__ __ __ __ __ __ ♕ __ __ \n",
            "----------------------------------------\n",
            "Solution for 10-queens\n",
            "♕ __ __ __ __ __ __ __ __ __ \n",
            "__ __ __ __ __ __ __ ♕ __ __ \n",
            "__ ♕ __ __ __ __ __ __ __ __ \n",
            "__ __ __ __ __ __ __ __ ♕ __ \n",
            "__ __ __ __ __ ♕ __ __ __ __ \n",
            "__ __ ♕ __ __ __ __ __ __ __ \n",
            "__ __ __ __ __ __ __ __ __ ♕ \n",
            "__ __ __ ♕ __ __ __ __ __ __ \n",
            "__ __ __ __ __ __ ♕ __ __ __ \n",
            "__ __ __ __ ♕ __ __ __ __ __ \n",
            "----------------------------------------\n",
            "Solution for 11-queens\n",
            "♕ __ __ __ __ __ __ __ __ __ __ \n",
            "__ __ __ __ __ __ ♕ __ __ __ __ \n",
            "__ ♕ __ __ __ __ __ __ __ __ __ \n",
            "__ __ __ __ __ __ __ ♕ __ __ __ \n",
            "__ __ ♕ __ __ __ __ __ __ __ __ \n",
            "__ __ __ __ __ __ __ __ ♕ __ __ \n",
            "__ __ __ ♕ __ __ __ __ __ __ __ \n",
            "__ __ __ __ __ __ __ __ __ ♕ __ \n",
            "__ __ __ __ ♕ __ __ __ __ __ __ \n",
            "__ __ __ __ __ __ __ __ __ __ ♕ \n",
            "__ __ __ __ __ ♕ __ __ __ __ __ \n",
            "----------------------------------------\n",
            "Solution for 12-queens\n",
            "♕ __ __ __ __ __ __ __ __ __ __ __ \n",
            "__ __ __ __ __ __ __ __ ♕ __ __ __ \n",
            "__ ♕ __ __ __ __ __ __ __ __ __ __ \n",
            "__ __ __ __ __ __ __ __ __ __ __ ♕ \n",
            "__ __ ♕ __ __ __ __ __ __ __ __ __ \n",
            "__ __ __ __ __ __ ♕ __ __ __ __ __ \n",
            "__ __ __ __ __ __ __ __ __ ♕ __ __ \n",
            "__ __ __ ♕ __ __ __ __ __ __ __ __ \n",
            "__ __ __ __ __ __ __ __ __ __ ♕ __ \n",
            "__ __ __ __ ♕ __ __ __ __ __ __ __ \n",
            "__ __ __ __ __ __ __ ♕ __ __ __ __ \n",
            "__ __ __ __ __ ♕ __ __ __ __ __ __ \n",
            "----------------------------------------\n",
            "Solution for 13-queens\n",
            "♕ __ __ __ __ __ __ __ __ __ __ __ __ \n",
            "__ __ __ ♕ __ __ __ __ __ __ __ __ __ \n",
            "__ ♕ __ __ __ __ __ __ __ __ __ __ __ \n",
            "__ __ __ __ __ __ __ __ ♕ __ __ __ __ \n",
            "__ __ ♕ __ __ __ __ __ __ __ __ __ __ \n",
            "__ __ __ __ __ __ __ __ __ ♕ __ __ __ \n",
            "__ __ __ __ __ __ __ __ __ __ __ __ ♕ \n",
            "__ __ __ __ __ __ __ __ __ __ ♕ __ __ \n",
            "__ __ __ __ ♕ __ __ __ __ __ __ __ __ \n",
            "__ __ __ __ __ __ ♕ __ __ __ __ __ __ \n",
            "__ __ __ __ __ __ __ __ __ __ __ ♕ __ \n",
            "__ __ __ __ __ ♕ __ __ __ __ __ __ __ \n",
            "__ __ __ __ __ __ __ ♕ __ __ __ __ __ \n",
            "----------------------------------------\n",
            "Solution for 14-queens\n",
            "♕ __ __ __ __ __ __ __ __ __ __ __ __ __ \n",
            "__ __ __ __ __ __ __ __ __ __ ♕ __ __ __ \n",
            "__ ♕ __ __ __ __ __ __ __ __ __ __ __ __ \n",
            "__ __ __ __ __ __ __ ♕ __ __ __ __ __ __ \n",
            "__ __ ♕ __ __ __ __ __ __ __ __ __ __ __ \n",
            "__ __ __ __ __ __ __ __ __ __ __ ♕ __ __ \n",
            "__ __ __ ♕ __ __ __ __ __ __ __ __ __ __ \n",
            "__ __ __ __ __ __ __ __ __ __ __ __ ♕ __ \n",
            "__ __ __ __ __ __ __ __ __ ♕ __ __ __ __ \n",
            "__ __ __ __ __ ♕ __ __ __ __ __ __ __ __ \n",
            "__ __ __ __ __ __ __ __ __ __ __ __ __ ♕ \n",
            "__ __ __ __ ♕ __ __ __ __ __ __ __ __ __ \n",
            "__ __ __ __ __ __ ♕ __ __ __ __ __ __ __ \n",
            "__ __ __ __ __ __ __ __ ♕ __ __ __ __ __ \n",
            "----------------------------------------\n",
            "Solution for 15-queens\n",
            "♕ __ __ __ __ __ __ __ __ __ __ __ __ __ __ \n",
            "__ __ __ ♕ __ __ __ __ __ __ __ __ __ __ __ \n",
            "__ ♕ __ __ __ __ __ __ __ __ __ __ __ __ __ \n",
            "__ __ __ __ __ __ __ ♕ __ __ __ __ __ __ __ \n",
            "__ __ ♕ __ __ __ __ __ __ __ __ __ __ __ __ \n",
            "__ __ __ __ __ __ __ __ __ __ ♕ __ __ __ __ \n",
            "__ __ __ __ __ __ __ __ __ __ __ __ ♕ __ __ \n",
            "__ __ __ __ __ __ __ __ __ __ __ __ __ __ ♕ \n",
            "__ __ __ __ __ __ __ __ __ ♕ __ __ __ __ __ \n",
            "__ __ __ __ ♕ __ __ __ __ __ __ __ __ __ __ \n",
            "__ __ __ __ __ __ __ __ __ __ __ __ __ ♕ __ \n",
            "__ __ __ __ __ ♕ __ __ __ __ __ __ __ __ __ \n",
            "__ __ __ __ __ __ __ __ ♕ __ __ __ __ __ __ \n",
            "__ __ __ __ __ __ ♕ __ __ __ __ __ __ __ __ \n",
            "__ __ __ __ __ __ __ __ __ __ __ ♕ __ __ __ \n",
            "----------------------------------------\n",
            "Solution for 16-queens\n",
            "♕ __ __ __ __ __ __ __ __ __ __ __ __ __ __ __ \n",
            "__ __ __ ♕ __ __ __ __ __ __ __ __ __ __ __ __ \n",
            "__ ♕ __ __ __ __ __ __ __ __ __ __ __ __ __ __ \n",
            "__ __ __ __ __ __ __ __ __ __ __ __ ♕ __ __ __ \n",
            "__ __ ♕ __ __ __ __ __ __ __ __ __ __ __ __ __ \n",
            "__ __ __ __ __ __ __ __ __ ♕ __ __ __ __ __ __ \n",
            "__ __ __ __ __ __ __ __ __ __ __ ♕ __ __ __ __ \n",
            "__ __ __ __ __ __ __ __ __ __ __ __ __ __ ♕ __ \n",
            "__ __ __ __ __ ♕ __ __ __ __ __ __ __ __ __ __ \n",
            "__ __ __ __ __ __ __ __ __ __ __ __ __ __ __ ♕ \n",
            "__ __ __ __ __ __ __ __ __ __ __ __ __ ♕ __ __ \n",
            "__ __ __ __ __ __ __ ♕ __ __ __ __ __ __ __ __ \n",
            "__ __ __ __ ♕ __ __ __ __ __ __ __ __ __ __ __ \n",
            "__ __ __ __ __ __ ♕ __ __ __ __ __ __ __ __ __ \n",
            "__ __ __ __ __ __ __ __ ♕ __ __ __ __ __ __ __ \n",
            "__ __ __ __ __ __ __ __ __ __ ♕ __ __ __ __ __ \n",
            "----------------------------------------\n",
            "Solution for 17-queens\n",
            "♕ __ __ __ __ __ __ __ __ __ __ __ __ __ __ __ __ \n",
            "__ __ __ ♕ __ __ __ __ __ __ __ __ __ __ __ __ __ \n",
            "__ ♕ __ __ __ __ __ __ __ __ __ __ __ __ __ __ __ \n",
            "__ __ __ __ __ __ __ __ __ __ __ ♕ __ __ __ __ __ \n",
            "__ __ ♕ __ __ __ __ __ __ __ __ __ __ __ __ __ __ \n",
            "__ __ __ __ __ __ __ __ __ __ __ __ ♕ __ __ __ __ \n",
            "__ __ __ __ __ __ __ ♕ __ __ __ __ __ __ __ __ __ \n",
            "__ __ __ __ ♕ __ __ __ __ __ __ __ __ __ __ __ __ \n",
            "__ __ __ __ __ __ __ __ __ __ __ __ __ ♕ __ __ __ \n",
            "__ __ __ __ __ __ __ __ __ __ __ __ __ __ __ ♕ __ \n",
            "__ __ __ __ __ ♕ __ __ __ __ __ __ __ __ __ __ __ \n",
            "__ __ __ __ __ __ __ __ __ __ __ __ __ __ ♕ __ __ \n",
            "__ __ __ __ __ __ __ __ __ __ __ __ __ __ __ __ ♕ \n",
            "__ __ __ __ __ __ __ __ __ ♕ __ __ __ __ __ __ __ \n",
            "__ __ __ __ __ __ ♕ __ __ __ __ __ __ __ __ __ __ \n",
            "__ __ __ __ __ __ __ __ ♕ __ __ __ __ __ __ __ __ \n",
            "__ __ __ __ __ __ __ __ __ __ ♕ __ __ __ __ __ __ \n",
            "----------------------------------------\n",
            "Solution for 18-queens\n",
            "♕ __ __ __ __ __ __ __ __ __ __ __ __ __ __ __ __ __ \n",
            "__ __ __ ♕ __ __ __ __ __ __ __ __ __ __ __ __ __ __ \n",
            "__ ♕ __ __ __ __ __ __ __ __ __ __ __ __ __ __ __ __ \n",
            "__ __ __ __ __ __ __ __ __ __ __ __ __ ♕ __ __ __ __ \n",
            "__ __ ♕ __ __ __ __ __ __ __ __ __ __ __ __ __ __ __ \n",
            "__ __ __ __ __ __ __ __ __ __ ♕ __ __ __ __ __ __ __ \n",
            "__ __ __ __ __ __ __ __ __ __ __ __ ♕ __ __ __ __ __ \n",
            "__ __ __ __ ♕ __ __ __ __ __ __ __ __ __ __ __ __ __ \n",
            "__ __ __ __ __ __ __ __ __ __ __ __ __ __ __ ♕ __ __ \n",
            "__ __ __ __ __ __ __ __ __ __ __ __ __ __ __ __ __ ♕ \n",
            "__ __ __ __ __ __ __ __ __ __ __ __ __ __ ♕ __ __ __ \n",
            "__ __ __ __ __ __ ♕ __ __ __ __ __ __ __ __ __ __ __ \n",
            "__ __ __ __ __ __ __ __ ♕ __ __ __ __ __ __ __ __ __ \n",
            "__ __ __ __ __ __ __ __ __ __ __ __ __ __ __ __ ♕ __ \n",
            "__ __ __ __ __ ♕ __ __ __ __ __ __ __ __ __ __ __ __ \n",
            "__ __ __ __ __ __ __ ♕ __ __ __ __ __ __ __ __ __ __ \n",
            "__ __ __ __ __ __ __ __ __ ♕ __ __ __ __ __ __ __ __ \n",
            "__ __ __ __ __ __ __ __ __ __ __ ♕ __ __ __ __ __ __ \n",
            "----------------------------------------\n",
            "Solution for 19-queens\n",
            "♕ __ __ __ __ __ __ __ __ __ __ __ __ __ __ __ __ __ __ \n",
            "__ __ __ ♕ __ __ __ __ __ __ __ __ __ __ __ __ __ __ __ \n",
            "__ ♕ __ __ __ __ __ __ __ __ __ __ __ __ __ __ __ __ __ \n",
            "__ __ __ __ ♕ __ __ __ __ __ __ __ __ __ __ __ __ __ __ \n",
            "__ __ ♕ __ __ __ __ __ __ __ __ __ __ __ __ __ __ __ __ \n",
            "__ __ __ __ __ __ __ __ __ __ __ __ __ __ ♕ __ __ __ __ \n",
            "__ __ __ __ __ __ __ __ __ __ ♕ __ __ __ __ __ __ __ __ \n",
            "__ __ __ __ __ __ __ __ __ __ __ __ __ __ __ ♕ __ __ __ \n",
            "__ __ __ __ __ ♕ __ __ __ __ __ __ __ __ __ __ __ __ __ \n",
            "__ __ __ __ __ __ __ __ __ __ __ __ __ __ __ __ ♕ __ __ \n",
            "__ __ __ __ __ __ __ __ __ __ __ __ __ ♕ __ __ __ __ __ \n",
            "__ __ __ __ __ __ __ __ __ __ __ __ __ __ __ __ __ ♕ __ \n",
            "__ __ __ __ __ __ ♕ __ __ __ __ __ __ __ __ __ __ __ __ \n",
            "__ __ __ __ __ __ __ __ __ __ __ __ __ __ __ __ __ __ ♕ \n",
            "__ __ __ __ __ __ __ ♕ __ __ __ __ __ __ __ __ __ __ __ \n",
            "__ __ __ __ __ __ __ __ __ __ __ ♕ __ __ __ __ __ __ __ \n",
            "__ __ __ __ __ __ __ __ ♕ __ __ __ __ __ __ __ __ __ __ \n",
            "__ __ __ __ __ __ __ __ __ __ __ __ ♕ __ __ __ __ __ __ \n",
            "__ __ __ __ __ __ __ __ __ ♕ __ __ __ __ __ __ __ __ __ \n",
            "----------------------------------------\n",
            "Solution for 20-queens\n",
            "♕ __ __ __ __ __ __ __ __ __ __ __ __ __ __ __ __ __ __ __ \n",
            "__ __ __ ♕ __ __ __ __ __ __ __ __ __ __ __ __ __ __ __ __ \n",
            "__ ♕ __ __ __ __ __ __ __ __ __ __ __ __ __ __ __ __ __ __ \n",
            "__ __ __ __ ♕ __ __ __ __ __ __ __ __ __ __ __ __ __ __ __ \n",
            "__ __ ♕ __ __ __ __ __ __ __ __ __ __ __ __ __ __ __ __ __ \n",
            "__ __ __ __ __ __ __ __ __ __ __ __ __ __ __ __ __ __ ♕ __ \n",
            "__ __ __ __ __ __ __ __ __ __ __ __ __ __ __ __ ♕ __ __ __ \n",
            "__ __ __ __ __ __ __ __ __ __ __ __ __ __ ♕ __ __ __ __ __ \n",
            "__ __ __ __ __ __ __ __ __ __ __ ♕ __ __ __ __ __ __ __ __ \n",
            "__ __ __ __ __ __ __ __ __ __ __ __ __ __ __ ♕ __ __ __ __ \n",
            "__ __ __ __ __ __ __ __ __ __ __ __ __ __ __ __ __ __ __ ♕ \n",
            "__ __ __ __ __ __ __ ♕ __ __ __ __ __ __ __ __ __ __ __ __ \n",
            "__ __ __ __ __ ♕ __ __ __ __ __ __ __ __ __ __ __ __ __ __ \n",
            "__ __ __ __ __ __ __ __ __ __ __ __ __ __ __ __ __ ♕ __ __ \n",
            "__ __ __ __ __ __ ♕ __ __ __ __ __ __ __ __ __ __ __ __ __ \n",
            "__ __ __ __ __ __ __ __ __ __ __ __ ♕ __ __ __ __ __ __ __ \n",
            "__ __ __ __ __ __ __ __ __ __ ♕ __ __ __ __ __ __ __ __ __ \n",
            "__ __ __ __ __ __ __ __ ♕ __ __ __ __ __ __ __ __ __ __ __ \n",
            "__ __ __ __ __ __ __ __ __ __ __ __ __ ♕ __ __ __ __ __ __ \n",
            "__ __ __ __ __ __ __ __ __ ♕ __ __ __ __ __ __ __ __ __ __ \n",
            "----------------------------------------\n"
          ]
        }
      ],
      "source": [
        "#\n",
        "for n in range(4,21):\n",
        "    solveNQ(n)\n",
        "    print(\"-\"*40)"
      ]
    },
    {
      "cell_type": "code",
      "execution_count": 14,
      "metadata": {},
      "outputs": [
        {
          "name": "stdout",
          "output_type": "stream",
          "text": [
            "Number of ways to place 19 queens on a 19x19 board: 19870867053543756004133247695400\n",
            "Length of the solution: 32\n"
          ]
        }
      ],
      "source": [
        "pick_19_361 =C_mem(19*19,19)# Brute Force would note be feasible here...\n",
        "print(f\"Number of ways to place 19 queens on a 19x19 board: {pick_19_361}\")\n",
        "print(f\"Length of the solution: {len(str(pick_19_361))}\")"
      ]
    },
    {
      "cell_type": "code",
      "execution_count": 15,
      "metadata": {},
      "outputs": [
        {
          "name": "stdout",
          "output_type": "stream",
          "text": [
            "Number of ways to place 20 queens on a 20x20 board: 2788360983670896737872851072994080\n",
            "Length of the solution: 34\n"
          ]
        }
      ],
      "source": [
        "pick20_400 = C_mem(20*20,20)\n",
        "print(f\"Number of ways to place 20 queens on a 20x20 board: {pick20_400}\")\n",
        "print(f\"Length of the solution: {len(str(pick20_400))}\")"
      ]
    },
    {
      "cell_type": "code",
      "execution_count": null,
      "metadata": {
        "id": "lnr6C1z7tsKh"
      },
      "outputs": [],
      "source": [
        "# since we choose our paths deterministically we get the same solution always\n",
        "# we could flip the board around to get mirror and rotated solutions\n"
      ]
    },
    {
      "cell_type": "code",
      "execution_count": 16,
      "metadata": {
        "colab": {
          "base_uri": "https://localhost:8080/"
        },
        "id": "LmQ-ZliOtsKi",
        "outputId": "e443cd39-eab1-4d46-bf92-3d38b9287c0b"
      },
      "outputs": [
        {
          "name": "stdout",
          "output_type": "stream",
          "text": [
            "18.3 μs ± 1.44 μs per loop (mean ± std. dev. of 7 runs, 100,000 loops each)\n"
          ]
        }
      ],
      "source": [
        "%%timeit\n",
        "solveNQ(4, print_board=False)"
      ]
    },
    {
      "cell_type": "code",
      "execution_count": 17,
      "metadata": {
        "colab": {
          "base_uri": "https://localhost:8080/"
        },
        "id": "L9MHluW13B25",
        "outputId": "f9d91213-e05b-441a-e949-0b724882df3a"
      },
      "outputs": [
        {
          "name": "stdout",
          "output_type": "stream",
          "text": [
            "11.3 μs ± 1.03 μs per loop (mean ± std. dev. of 7 runs, 100,000 loops each)\n"
          ]
        }
      ],
      "source": [
        "%%timeit\n",
        "solveNQ(5, print_board=False)"
      ]
    },
    {
      "cell_type": "code",
      "execution_count": 11,
      "metadata": {
        "colab": {
          "base_uri": "https://localhost:8080/"
        },
        "id": "ODbn4nZHd1Lc",
        "outputId": "7f5f1063-3dd2-4ea7-9e41-d6750f7ab86e"
      },
      "outputs": [
        {
          "name": "stdout",
          "output_type": "stream",
          "text": [
            "Solution for 5-queens\n",
            "♕ __ __ __ __ \n",
            "__ __ __ ♕ __ \n",
            "__ ♕ __ __ __ \n",
            "__ __ __ __ ♕ \n",
            "__ __ ♕ __ __ \n"
          ]
        },
        {
          "data": {
            "text/plain": [
              "True"
            ]
          },
          "execution_count": 11,
          "metadata": {},
          "output_type": "execute_result"
        }
      ],
      "source": [
        "solveNQ(5)"
      ]
    },
    {
      "cell_type": "markdown",
      "metadata": {
        "id": "_cLptlFg3Leq"
      },
      "source": [
        "### Solution for 5 Queens is faster than 4 Queens\n",
        "\n",
        "Why?\n",
        "\n",
        "Here the 5 queens have a solution with first queen in corner so we have less backtracking to do."
      ]
    },
    {
      "cell_type": "code",
      "execution_count": 17,
      "metadata": {
        "colab": {
          "base_uri": "https://localhost:8080/"
        },
        "id": "IZtt4jt53iTb",
        "outputId": "70d9f902-a893-4012-dffc-31ef498048b3"
      },
      "outputs": [
        {
          "name": "stdout",
          "output_type": "stream",
          "text": [
            "178 µs ± 15 µs per loop (mean ± std. dev. of 7 runs, 1,000 loops each)\n"
          ]
        }
      ],
      "source": [
        "%%timeit\n",
        "solveNQ(6, print_board=False)"
      ]
    },
    {
      "cell_type": "code",
      "execution_count": 18,
      "metadata": {
        "colab": {
          "base_uri": "https://localhost:8080/"
        },
        "id": "Nx-s1ASi3qO7",
        "outputId": "ca43d0f0-3f72-40de-af51-4be3267a0bfd"
      },
      "outputs": [
        {
          "name": "stdout",
          "output_type": "stream",
          "text": [
            "49.9 µs ± 1.32 µs per loop (mean ± std. dev. of 7 runs, 10,000 loops each)\n"
          ]
        }
      ],
      "source": [
        "%%timeit\n",
        "solveNQ(7, print_board=False)"
      ]
    },
    {
      "cell_type": "code",
      "execution_count": 19,
      "metadata": {
        "colab": {
          "base_uri": "https://localhost:8080/"
        },
        "id": "bXoLjRiLeH-H",
        "outputId": "1f91d461-4f60-4d03-b7d8-733bbc1aec6c"
      },
      "outputs": [
        {
          "name": "stdout",
          "output_type": "stream",
          "text": [
            "Solution for 7-queens\n",
            "♕ __ __ __ __ __ __ \n",
            "__ __ __ __ ♕ __ __ \n",
            "__ ♕ __ __ __ __ __ \n",
            "__ __ __ __ __ ♕ __ \n",
            "__ __ ♕ __ __ __ __ \n",
            "__ __ __ __ __ __ ♕ \n",
            "__ __ __ ♕ __ __ __ \n"
          ]
        },
        {
          "data": {
            "text/plain": [
              "True"
            ]
          },
          "execution_count": 19,
          "metadata": {},
          "output_type": "execute_result"
        }
      ],
      "source": [
        "# again 7 is \"lucky\" with the paths\n",
        "solveNQ(7)"
      ]
    },
    {
      "cell_type": "code",
      "execution_count": 18,
      "metadata": {
        "colab": {
          "base_uri": "https://localhost:8080/"
        },
        "id": "m7ous-RT3wIv",
        "outputId": "6fbc1762-b4d3-42fb-c3bd-76d47eab6b82"
      },
      "outputs": [
        {
          "name": "stdout",
          "output_type": "stream",
          "text": [
            "499 μs ± 66.1 μs per loop (mean ± std. dev. of 7 runs, 1,000 loops each)\n"
          ]
        }
      ],
      "source": [
        "%%timeit\n",
        "solveNQ(8, print_board=False)"
      ]
    },
    {
      "cell_type": "code",
      "execution_count": 21,
      "metadata": {
        "colab": {
          "base_uri": "https://localhost:8080/"
        },
        "id": "BNQwRMlC36MP",
        "outputId": "8d0e6121-8448-4768-bfcd-9e3e98862586"
      },
      "outputs": [
        {
          "name": "stdout",
          "output_type": "stream",
          "text": [
            "363 µs ± 14.3 µs per loop (mean ± std. dev. of 7 runs, 1,000 loops each)\n"
          ]
        }
      ],
      "source": [
        "%%timeit\n",
        "solveNQ(9, print_board=False)"
      ]
    },
    {
      "cell_type": "code",
      "execution_count": null,
      "metadata": {
        "colab": {
          "base_uri": "https://localhost:8080/"
        },
        "id": "JXZa3Fqw3-5L",
        "outputId": "6d7849b9-7109-41a5-f641-223da7135a3a"
      },
      "outputs": [
        {
          "name": "stdout",
          "output_type": "stream",
          "text": [
            "1.31 ms ± 346 µs per loop (mean ± std. dev. of 7 runs, 1000 loops each)\n"
          ]
        }
      ],
      "source": [
        "%%timeit\n",
        "solveNQ(10, print_board=False)"
      ]
    },
    {
      "cell_type": "code",
      "execution_count": null,
      "metadata": {
        "id": "N4k7AMKltsKi"
      },
      "outputs": [],
      "source": [
        "# reason we got a solution does not exist is that we already prefilled the board after first run :)\n"
      ]
    },
    {
      "cell_type": "code",
      "execution_count": null,
      "metadata": {
        "id": "P0GoZjtJtsKi"
      },
      "outputs": [],
      "source": []
    },
    {
      "cell_type": "markdown",
      "metadata": {
        "id": "28kt3yWwtsKi"
      },
      "source": [
        "## Idea - choose path at random among all remaining paths\n",
        "We are still going to check all paths (until we find a solution)"
      ]
    },
    {
      "cell_type": "code",
      "execution_count": 19,
      "metadata": {
        "id": "mtqCVWEifgty"
      },
      "outputs": [],
      "source": [
        "import random\n",
        "def solveNQUtil(board, col, N, debug=False, space_sym=\"__\", strategy=\"top\"): \n",
        "\n",
        "    # base case: If all queens are placed \n",
        "    # then return true \n",
        "    if col >= N: \n",
        "        return True\n",
        "\n",
        "    # so we choose a strategy on the order of exploring paths\n",
        "    # in this case the paths are represented by rows\n",
        "    if strategy == \"top\":\n",
        "        rows = range(N)\n",
        "    elif strategy == \"random\":\n",
        "        rows = random.sample(list(range(N)),k=N)\n",
        "    elif strategy == \"bottom\": \n",
        "        rows = reversed(range(N))\n",
        "    else:\n",
        "        print(\"Unknown strategy - exiting\")\n",
        "        return\n",
        "\n",
        "    for i in rows: \n",
        "\n",
        "        if is_safe(board, i, col, N, debug): \n",
        "\n",
        "            # Place this queen in board[i][col] \n",
        "            board[i][col] = \"♕\"\n",
        "\n",
        "            # recur to place rest of the queens \n",
        "            if solveNQUtil(board, col + 1, N, debug, space_sym, strategy) == True: \n",
        "                return True\n",
        "\n",
        "            # If placing queen in board[i][col \n",
        "            # doesn't lead to a solution, then \n",
        "            # queen from board[i][col] \n",
        "            board[i][col] = space_sym\n",
        "\n",
        "    # if the queen can not be placed in any row in \n",
        "    # this colum col then return false \n",
        "    return False\n",
        "\n",
        "# This function solves the N Queen problem using \n",
        "# Backtracking. It mainly uses solveNQUtil() to \n",
        "# solve the problem. It returns false if queens \n",
        "# cannot be placed, otherwise return true and \n",
        "# placement of queens in the form of 1s. \n",
        "# note that there may be more than one \n",
        "# solutions, this function prints one of the \n",
        "# feasible solutions. \n",
        "\n",
        "def solveNQ(N, print_board=True, debug=False, space_sym=\"__\", strategy=\"top\"): # passing in default 4x4\n",
        "    # board = tuple([0,0,0,0] for _ in range(N)) # !!!! bug fixed below \n",
        "    # in normal code base you would delete such code lines\n",
        "    board = tuple([space_sym] * N for _ in range(N)) # we need to create a blank board\n",
        "\n",
        "    if solveNQUtil(board, 0, N, debug, space_sym, strategy) == False: \n",
        "        #print (\"Solution does not exist\") \n",
        "        return False\n",
        "\n",
        "    if print_board:\n",
        "        print_solution(board, N) \n",
        "    return True\n",
        "\n",
        "\n",
        "\n",
        "# This code is contributed by Divyanshu Mehta \n",
        "# Modified by VS - strive to avoid globals in  your code!"
      ]
    },
    {
      "cell_type": "code",
      "execution_count": 20,
      "metadata": {
        "colab": {
          "base_uri": "https://localhost:8080/"
        },
        "id": "9s-mWSLptsKj",
        "outputId": "0118b147-2069-484d-aa91-d5a4ed13838f"
      },
      "outputs": [
        {
          "data": {
            "text/plain": [
              "[3, 3, 4, 4, 0]"
            ]
          },
          "execution_count": 20,
          "metadata": {},
          "output_type": "execute_result"
        }
      ],
      "source": [
        "# choices is not suitable here because of potential duplications/replacements\n",
        "# we do not want to check same row twice!\n",
        "random.choices(list(range(5)),k=5) # no good we got dupes"
      ]
    },
    {
      "cell_type": "code",
      "execution_count": 21,
      "metadata": {
        "colab": {
          "base_uri": "https://localhost:8080/"
        },
        "id": "_Cwri9F-tsKj",
        "outputId": "3ca94ab7-4e3f-4f2c-df28-be9546d7d046",
        "scrolled": true
      },
      "outputs": [
        {
          "data": {
            "text/plain": [
              "[1, 4, 3, 5, 0, 2]"
            ]
          },
          "execution_count": 21,
          "metadata": {},
          "output_type": "execute_result"
        }
      ],
      "source": [
        "# this is suitable for our use case\n",
        "random.sample(list(range(6)),k=6) # this what we want a random sample of uniques"
      ]
    },
    {
      "cell_type": "code",
      "execution_count": 27,
      "metadata": {},
      "outputs": [],
      "source": [
        "# alternative would be shuffle but for that we would need a premade list that is modified IN PLACE\n",
        "random.shuffle(list(range(7))) # notice nothing is returned"
      ]
    },
    {
      "cell_type": "code",
      "execution_count": 22,
      "metadata": {
        "colab": {
          "base_uri": "https://localhost:8080/"
        },
        "id": "1vp1XkADtsKk",
        "outputId": "f59c5e0f-a21b-49bb-acd5-25dc7cd3ebf8"
      },
      "outputs": [
        {
          "name": "stdout",
          "output_type": "stream",
          "text": [
            "Solution for 4-queens\n",
            "__ __ ♕ __ \n",
            "♕ __ __ __ \n",
            "__ __ __ ♕ \n",
            "__ ♕ __ __ \n"
          ]
        },
        {
          "data": {
            "text/plain": [
              "True"
            ]
          },
          "execution_count": 22,
          "metadata": {},
          "output_type": "execute_result"
        }
      ],
      "source": [
        "solveNQ(4)"
      ]
    },
    {
      "cell_type": "code",
      "execution_count": 30,
      "metadata": {
        "colab": {
          "base_uri": "https://localhost:8080/"
        },
        "id": "ya2mfFuotsKk",
        "outputId": "d992d900-32af-4ee9-de0c-f69aebc07856"
      },
      "outputs": [
        {
          "name": "stdout",
          "output_type": "stream",
          "text": [
            "Solution for 4-queens\n",
            "__ __ ♕ __ \n",
            "♕ __ __ __ \n",
            "__ __ __ ♕ \n",
            "__ ♕ __ __ \n"
          ]
        },
        {
          "data": {
            "text/plain": [
              "True"
            ]
          },
          "execution_count": 30,
          "metadata": {},
          "output_type": "execute_result"
        }
      ],
      "source": [
        "solveNQ(4, strategy=\"random\") # so by throwin the dice enough time I got the mirror solution"
      ]
    },
    {
      "cell_type": "code",
      "execution_count": 65,
      "metadata": {
        "colab": {
          "base_uri": "https://localhost:8080/"
        },
        "id": "fdfI3lYdg1JZ",
        "outputId": "84493bd5-2b73-4036-873b-fdca84f3f65c"
      },
      "outputs": [
        {
          "name": "stdout",
          "output_type": "stream",
          "text": [
            "Solution for 8-queens\n",
            "♕ __ __ __ __ __ __ __ \n",
            "__ __ __ __ __ __ ♕ __ \n",
            "__ __ __ __ ♕ __ __ __ \n",
            "__ __ __ __ __ __ __ ♕ \n",
            "__ ♕ __ __ __ __ __ __ \n",
            "__ __ __ ♕ __ __ __ __ \n",
            "__ __ __ __ __ ♕ __ __ \n",
            "__ __ ♕ __ __ __ __ __ \n"
          ]
        },
        {
          "data": {
            "text/plain": [
              "True"
            ]
          },
          "execution_count": 65,
          "metadata": {},
          "output_type": "execute_result"
        }
      ],
      "source": [
        "solveNQ(8, strategy=\"random\")"
      ]
    },
    {
      "cell_type": "code",
      "execution_count": null,
      "metadata": {
        "id": "McSww2K4hFNJ"
      },
      "outputs": [],
      "source": [
        "## This randomization approach is quite useful across the board\n",
        "## Case in point modern LLM models - which have a temperature parameter - basically randomness factor"
      ]
    },
    {
      "cell_type": "markdown",
      "metadata": {
        "id": "A0UPOXAB6JRA"
      },
      "source": [
        "### Timing Random Solutions"
      ]
    },
    {
      "cell_type": "code",
      "execution_count": 66,
      "metadata": {
        "colab": {
          "base_uri": "https://localhost:8080/"
        },
        "id": "37u7tplbtsKk",
        "outputId": "b6776975-98ee-4e33-e45b-e1afc78a5bf0"
      },
      "outputs": [
        {
          "name": "stdout",
          "output_type": "stream",
          "text": [
            "18.3 μs ± 1.08 μs per loop (mean ± std. dev. of 7 runs, 100,000 loops each)\n"
          ]
        }
      ],
      "source": [
        "%%timeit\n",
        "solveNQ(4, print_board=False, strategy=\"top\")"
      ]
    },
    {
      "cell_type": "code",
      "execution_count": null,
      "metadata": {
        "id": "3OFuuw6OtsKk"
      },
      "outputs": [],
      "source": [
        "# what does it mean that our randomized solution worked faster than hardcoded selection?\n",
        "# random is about twice as fast in this case"
      ]
    },
    {
      "cell_type": "code",
      "execution_count": 67,
      "metadata": {
        "colab": {
          "base_uri": "https://localhost:8080/"
        },
        "id": "91HOLVAltsKk",
        "outputId": "621e076b-8bef-45c3-f2d3-b34e1be03c6a"
      },
      "outputs": [
        {
          "name": "stdout",
          "output_type": "stream",
          "text": [
            "29.1 μs ± 1.22 μs per loop (mean ± std. dev. of 7 runs, 10,000 loops each)\n"
          ]
        }
      ],
      "source": [
        "%%timeit\n",
        "solveNQ(4, print_board=False, strategy=\"random\")"
      ]
    },
    {
      "cell_type": "code",
      "execution_count": 68,
      "metadata": {
        "colab": {
          "base_uri": "https://localhost:8080/"
        },
        "id": "mykqLKNftsKk",
        "outputId": "2f5218bd-2368-482e-8044-1e3a89bba98c"
      },
      "outputs": [
        {
          "name": "stdout",
          "output_type": "stream",
          "text": [
            "458 μs ± 23.5 μs per loop (mean ± std. dev. of 7 runs, 1,000 loops each)\n"
          ]
        }
      ],
      "source": [
        "%%timeit\n",
        "solveNQ(8, print_board=False, strategy=\"top\")"
      ]
    },
    {
      "cell_type": "code",
      "execution_count": 69,
      "metadata": {
        "colab": {
          "base_uri": "https://localhost:8080/"
        },
        "id": "O1rem2JJhub_",
        "outputId": "8d3ff19e-ee78-4224-e358-034482a415b1"
      },
      "outputs": [
        {
          "name": "stdout",
          "output_type": "stream",
          "text": [
            "207 μs ± 10.1 μs per loop (mean ± std. dev. of 7 runs, 1,000 loops each)\n"
          ]
        }
      ],
      "source": [
        "%%timeit\n",
        "solveNQ(8, print_board=False, strategy=\"random\")"
      ]
    },
    {
      "cell_type": "markdown",
      "metadata": {
        "id": "zGO7-UAU6Oeg"
      },
      "source": [
        "Interesting moment our random solution is on average a bit faster than deterministic solution. \n",
        "\n",
        "Why?\n",
        "\n",
        "If deterministic solution has many false paths at first -> dead ends.\n",
        "\n",
        "With randomized we skip the bad paths by pure chance.\n",
        "\n",
        "This will depend on particular problem domain."
      ]
    },
    {
      "cell_type": "code",
      "execution_count": 66,
      "metadata": {
        "colab": {
          "base_uri": "https://localhost:8080/"
        },
        "id": "uvC7Jn4OtsKl",
        "outputId": "aab1abe8-ae82-415a-d7fa-962c229d9dd9"
      },
      "outputs": [
        {
          "name": "stdout",
          "output_type": "stream",
          "text": [
            "Solution for 16-queens\n",
            "__ __ __ __ ♕ __ __ __ __ __ __ __ __ __ __ __ \n",
            "__ __ __ __ __ __ __ __ __ ♕ __ __ __ __ __ __ \n",
            "♕ __ __ __ __ __ __ __ __ __ __ __ __ __ __ __ \n",
            "__ __ __ __ __ __ __ __ __ __ __ __ __ ♕ __ __ \n",
            "__ __ __ ♕ __ __ __ __ __ __ __ __ __ __ __ __ \n",
            "__ __ __ __ __ __ __ __ __ __ __ __ ♕ __ __ __ \n",
            "__ __ __ __ __ __ __ __ __ __ __ __ __ __ __ ♕ \n",
            "__ __ __ __ __ __ __ ♕ __ __ __ __ __ __ __ __ \n",
            "__ __ __ __ __ __ __ __ __ __ ♕ __ __ __ __ __ \n",
            "__ __ ♕ __ __ __ __ __ __ __ __ __ __ __ __ __ \n",
            "__ __ __ __ __ ♕ __ __ __ __ __ __ __ __ __ __ \n",
            "__ __ __ __ __ __ __ __ ♕ __ __ __ __ __ __ __ \n",
            "__ ♕ __ __ __ __ __ __ __ __ __ __ __ __ __ __ \n",
            "__ __ __ __ __ __ __ __ __ __ __ __ __ __ ♕ __ \n",
            "__ __ __ __ __ __ ♕ __ __ __ __ __ __ __ __ __ \n",
            "__ __ __ __ __ __ __ __ __ __ __ ♕ __ __ __ __ \n"
          ]
        },
        {
          "data": {
            "text/plain": [
              "True"
            ]
          },
          "execution_count": 66,
          "metadata": {},
          "output_type": "execute_result"
        }
      ],
      "source": [
        "solveNQ(16, strategy=\"random\")"
      ]
    },
    {
      "cell_type": "code",
      "execution_count": 67,
      "metadata": {
        "colab": {
          "base_uri": "https://localhost:8080/"
        },
        "id": "i-lC2gdRtsKl",
        "outputId": "c2241ad2-0eff-4257-8bcd-b29fb1b1ea0c"
      },
      "outputs": [
        {
          "name": "stdout",
          "output_type": "stream",
          "text": [
            "199 ms ± 9.2 ms per loop (mean ± std. dev. of 7 runs, 10 loops each)\n"
          ]
        }
      ],
      "source": [
        "%%timeit\n",
        "solveNQ(16, print_board=False, strategy=\"top\")"
      ]
    },
    {
      "cell_type": "code",
      "execution_count": 69,
      "metadata": {
        "colab": {
          "base_uri": "https://localhost:8080/"
        },
        "id": "08x2Nzc-66HU",
        "outputId": "a7557157-2f1b-4392-86df-d8fb74bfc132"
      },
      "outputs": [
        {
          "name": "stdout",
          "output_type": "stream",
          "text": [
            "5.9 ms ± 757 µs per loop (mean ± std. dev. of 7 runs, 100 loops each)\n"
          ]
        }
      ],
      "source": [
        "%%timeit\n",
        "solveNQ(16, print_board=False, strategy=\"random\")"
      ]
    },
    {
      "cell_type": "code",
      "execution_count": 65,
      "metadata": {
        "colab": {
          "base_uri": "https://localhost:8080/"
        },
        "id": "wgg3pYN_iX7j",
        "outputId": "a9e43c27-b01b-4450-a76f-03d5c680d98f"
      },
      "outputs": [
        {
          "name": "stdout",
          "output_type": "stream",
          "text": [
            "150 ms ± 40.6 ms per loop (mean ± std. dev. of 7 runs, 10 loops each)\n"
          ]
        }
      ],
      "source": [
        "# For 17 top strategy should win \n",
        "%%timeit\n",
        "solveNQ(17, print_board=False, strategy=\"top\")"
      ]
    },
    {
      "cell_type": "code",
      "execution_count": 66,
      "metadata": {
        "colab": {
          "base_uri": "https://localhost:8080/"
        },
        "id": "B-cjc5ceig9v",
        "outputId": "6bca41e8-0db0-4d77-cd31-0127cb0134b9"
      },
      "outputs": [
        {
          "name": "stdout",
          "output_type": "stream",
          "text": [
            "8.64 ms ± 2.1 ms per loop (mean ± std. dev. of 7 runs, 100 loops each)\n"
          ]
        }
      ],
      "source": [
        "# our Random approach wins again!\n",
        "%%timeit\n",
        "solveNQ(17, print_board=False, strategy=\"random\")"
      ]
    },
    {
      "cell_type": "markdown",
      "metadata": {
        "id": "21gKbctZ7Y61"
      },
      "source": [
        "## N Queens with Reverse Heuristic \n",
        "\n",
        "Let's try solving with queens in reverse order"
      ]
    },
    {
      "cell_type": "code",
      "execution_count": 71,
      "metadata": {
        "colab": {
          "base_uri": "https://localhost:8080/"
        },
        "id": "G7A71kpatsKm",
        "outputId": "337127fc-e320-4356-f2ba-d7e94be1f601"
      },
      "outputs": [
        {
          "name": "stdout",
          "output_type": "stream",
          "text": [
            "Solution for 4-queens\n",
            "__ ♕ __ __ \n",
            "__ __ __ ♕ \n",
            "♕ __ __ __ \n",
            "__ __ ♕ __ \n"
          ]
        },
        {
          "data": {
            "text/plain": [
              "True"
            ]
          },
          "execution_count": 71,
          "metadata": {},
          "output_type": "execute_result"
        }
      ],
      "source": [
        "solveNQ(4, strategy=\"bottom\")  # deteriministic try lowest row first"
      ]
    },
    {
      "cell_type": "markdown",
      "metadata": {
        "id": "AOHoNfSb81S3"
      },
      "source": [
        "## Comparing all 3 solutions\n"
      ]
    },
    {
      "cell_type": "code",
      "execution_count": 72,
      "metadata": {
        "colab": {
          "base_uri": "https://localhost:8080/"
        },
        "id": "dwAMUtz9tsKm",
        "outputId": "e9f64728-1eda-43e6-81e7-c0bc65b8d4a6"
      },
      "outputs": [
        {
          "name": "stdout",
          "output_type": "stream",
          "text": [
            "590 μs ± 102 μs per loop (mean ± std. dev. of 7 runs, 1,000 loops each)\n"
          ]
        }
      ],
      "source": [
        "%%timeit\n",
        "solveNQ(10, print_board=False, strategy=\"top\")"
      ]
    },
    {
      "cell_type": "code",
      "execution_count": 73,
      "metadata": {
        "colab": {
          "base_uri": "https://localhost:8080/"
        },
        "id": "mahmSbU2tsKm",
        "outputId": "543b99cd-cf2b-4d7b-b217-6d7dc9a161a1"
      },
      "outputs": [
        {
          "name": "stdout",
          "output_type": "stream",
          "text": [
            "606 μs ± 89.6 μs per loop (mean ± std. dev. of 7 runs, 1,000 loops each)\n"
          ]
        }
      ],
      "source": [
        "%%timeit\n",
        "solveNQ(10, print_board=False, strategy=\"random\")"
      ]
    },
    {
      "cell_type": "code",
      "execution_count": 74,
      "metadata": {
        "colab": {
          "base_uri": "https://localhost:8080/"
        },
        "id": "Kbp4Dyby8aKB",
        "outputId": "3b0fdd58-b817-413d-de5a-bc8a2f61009f"
      },
      "outputs": [
        {
          "name": "stdout",
          "output_type": "stream",
          "text": [
            "678 μs ± 89.8 μs per loop (mean ± std. dev. of 7 runs, 1,000 loops each)\n"
          ]
        }
      ],
      "source": [
        "%%timeit\n",
        "solveNQ(10, print_board=False, strategy=\"bottom\")"
      ]
    },
    {
      "cell_type": "code",
      "execution_count": 74,
      "metadata": {
        "colab": {
          "base_uri": "https://localhost:8080/"
        },
        "id": "FqlJrKmIjODN",
        "outputId": "41f2abde-9e9c-49ee-d6c0-6a7b2bd83f3d"
      },
      "outputs": [
        {
          "name": "stdout",
          "output_type": "stream",
          "text": [
            "198 ms ± 25.7 ms per loop (mean ± std. dev. of 7 runs, 1 loop each)\n"
          ]
        }
      ],
      "source": [
        "%%timeit\n",
        "solveNQ(16, print_board=False, strategy=\"top\")"
      ]
    },
    {
      "cell_type": "code",
      "execution_count": 75,
      "metadata": {
        "colab": {
          "base_uri": "https://localhost:8080/"
        },
        "id": "ozqkVPpsjQ9C",
        "outputId": "36e632a8-b230-4131-c0f7-e7c8818a3369"
      },
      "outputs": [
        {
          "name": "stdout",
          "output_type": "stream",
          "text": [
            "5.1 ms ± 1.23 ms per loop (mean ± std. dev. of 7 runs, 100 loops each)\n"
          ]
        }
      ],
      "source": [
        "%%timeit\n",
        "solveNQ(16, print_board=False, strategy=\"random\")"
      ]
    },
    {
      "cell_type": "code",
      "execution_count": 76,
      "metadata": {
        "colab": {
          "base_uri": "https://localhost:8080/"
        },
        "id": "Kv_iwKD5jX-2",
        "outputId": "b8bd0877-f2e9-444a-9fb3-96c8d409e69e"
      },
      "outputs": [
        {
          "name": "stdout",
          "output_type": "stream",
          "text": [
            "215 ms ± 24.5 ms per loop (mean ± std. dev. of 7 runs, 1 loop each)\n"
          ]
        }
      ],
      "source": [
        "%%timeit\n",
        "solveNQ(16, print_board=False, strategy=\"bottom\")"
      ]
    },
    {
      "cell_type": "code",
      "execution_count": 78,
      "metadata": {},
      "outputs": [
        {
          "name": "stdout",
          "output_type": "stream",
          "text": [
            "116 ms ± 3.69 ms per loop (mean ± std. dev. of 7 runs, 10 loops each)\n"
          ]
        }
      ],
      "source": [
        "%%timeit\n",
        "# how about 17?\n",
        "solveNQ(17, print_board=False, strategy=\"top\")"
      ]
    },
    {
      "cell_type": "code",
      "execution_count": 79,
      "metadata": {},
      "outputs": [
        {
          "name": "stdout",
          "output_type": "stream",
          "text": [
            "7.88 ms ± 1.84 ms per loop (mean ± std. dev. of 7 runs, 100 loops each)\n"
          ]
        }
      ],
      "source": [
        "%%timeit\n",
        "solveNQ(17, print_board=False, strategy=\"random\")"
      ]
    },
    {
      "cell_type": "code",
      "execution_count": 80,
      "metadata": {},
      "outputs": [
        {
          "name": "stdout",
          "output_type": "stream",
          "text": [
            "130 ms ± 5.21 ms per loop (mean ± std. dev. of 7 runs, 10 loops each)\n"
          ]
        }
      ],
      "source": [
        "%%timeit\n",
        "solveNQ(17, print_board=False, strategy=\"bottom\")"
      ]
    },
    {
      "cell_type": "markdown",
      "metadata": {},
      "source": [
        "### Conclusion on comparing N queens placement strategies\n",
        "\n",
        "So random strategy is faster than deterministic strategy.\n",
        "This is due to the structure of the problem.\n",
        "In this case reverse strategy was slightly slower than top.\n",
        "\n",
        "Which strategy to choose? - Famous answer - it depends...\n",
        "It depends on the problem specifics."
      ]
    },
    {
      "cell_type": "code",
      "execution_count": 75,
      "metadata": {},
      "outputs": [
        {
          "name": "stdout",
          "output_type": "stream",
          "text": [
            "Solution for 50-queens\n",
            "__ __ __ __ __ __ __ ♕ __ __ __ __ __ __ __ __ __ __ __ __ __ __ __ __ __ __ __ __ __ __ __ __ __ __ __ __ __ __ __ __ __ __ __ __ __ __ __ __ __ __ \n",
            "__ __ __ __ __ __ __ __ __ __ __ __ __ __ __ __ __ __ __ __ __ __ __ __ __ __ __ __ __ __ __ __ __ __ __ __ __ __ __ __ __ __ ♕ __ __ __ __ __ __ __ \n",
            "__ __ __ __ __ __ __ __ __ __ __ __ __ __ __ __ __ __ __ __ __ __ __ __ __ __ __ __ __ __ __ __ __ ♕ __ __ __ __ __ __ __ __ __ __ __ __ __ __ __ __ \n",
            "__ __ __ __ __ __ __ __ __ __ __ __ __ __ __ __ __ __ __ __ __ ♕ __ __ __ __ __ __ __ __ __ __ __ __ __ __ __ __ __ __ __ __ __ __ __ __ __ __ __ __ \n",
            "__ __ __ __ __ __ __ __ __ __ __ __ __ __ __ __ __ __ __ __ __ __ __ __ __ __ __ ♕ __ __ __ __ __ __ __ __ __ __ __ __ __ __ __ __ __ __ __ __ __ __ \n",
            "__ __ __ __ __ __ __ __ __ __ __ __ __ __ __ __ ♕ __ __ __ __ __ __ __ __ __ __ __ __ __ __ __ __ __ __ __ __ __ __ __ __ __ __ __ __ __ __ __ __ __ \n",
            "__ __ __ __ __ __ __ __ __ __ __ __ __ __ __ __ __ __ __ __ __ __ __ __ __ __ __ __ __ __ __ ♕ __ __ __ __ __ __ __ __ __ __ __ __ __ __ __ __ __ __ \n",
            "__ __ __ __ __ __ __ __ __ __ __ __ __ __ __ __ __ __ __ __ __ __ __ ♕ __ __ __ __ __ __ __ __ __ __ __ __ __ __ __ __ __ __ __ __ __ __ __ __ __ __ \n",
            "__ __ __ __ __ __ __ __ __ __ __ ♕ __ __ __ __ __ __ __ __ __ __ __ __ __ __ __ __ __ __ __ __ __ __ __ __ __ __ __ __ __ __ __ __ __ __ __ __ __ __ \n",
            "__ __ __ ♕ __ __ __ __ __ __ __ __ __ __ __ __ __ __ __ __ __ __ __ __ __ __ __ __ __ __ __ __ __ __ __ __ __ __ __ __ __ __ __ __ __ __ __ __ __ __ \n",
            "__ __ __ __ __ __ __ __ __ __ __ __ __ __ __ __ __ __ __ __ __ __ ♕ __ __ __ __ __ __ __ __ __ __ __ __ __ __ __ __ __ __ __ __ __ __ __ __ __ __ __ \n",
            "__ __ __ __ __ __ __ __ __ __ __ __ __ __ __ ♕ __ __ __ __ __ __ __ __ __ __ __ __ __ __ __ __ __ __ __ __ __ __ __ __ __ __ __ __ __ __ __ __ __ __ \n",
            "__ __ __ __ __ __ __ __ __ __ __ __ __ __ __ __ __ __ __ __ __ __ __ __ __ __ __ __ __ __ __ __ __ __ __ __ __ __ __ ♕ __ __ __ __ __ __ __ __ __ __ \n",
            "__ __ __ __ __ __ __ __ __ __ __ __ __ __ ♕ __ __ __ __ __ __ __ __ __ __ __ __ __ __ __ __ __ __ __ __ __ __ __ __ __ __ __ __ __ __ __ __ __ __ __ \n",
            "♕ __ __ __ __ __ __ __ __ __ __ __ __ __ __ __ __ __ __ __ __ __ __ __ __ __ __ __ __ __ __ __ __ __ __ __ __ __ __ __ __ __ __ __ __ __ __ __ __ __ \n",
            "__ __ __ __ __ __ __ __ __ __ __ __ __ __ __ __ __ __ __ __ __ __ __ __ __ __ __ __ __ __ __ __ __ __ __ __ __ __ __ __ __ __ __ __ __ __ __ __ __ ♕ \n",
            "__ __ __ __ __ __ __ __ __ __ __ __ __ __ __ __ __ __ __ __ __ __ __ __ __ __ __ __ __ __ __ __ __ __ __ __ __ __ __ __ __ __ __ __ __ ♕ __ __ __ __ \n",
            "__ __ __ __ __ __ __ __ ♕ __ __ __ __ __ __ __ __ __ __ __ __ __ __ __ __ __ __ __ __ __ __ __ __ __ __ __ __ __ __ __ __ __ __ __ __ __ __ __ __ __ \n",
            "__ __ __ __ __ __ __ __ __ __ __ __ __ __ __ __ __ __ __ __ __ __ __ __ __ __ __ __ __ __ __ __ ♕ __ __ __ __ __ __ __ __ __ __ __ __ __ __ __ __ __ \n",
            "__ __ __ __ __ __ __ __ __ __ __ __ __ __ __ __ __ __ __ __ __ __ __ __ __ __ __ __ ♕ __ __ __ __ __ __ __ __ __ __ __ __ __ __ __ __ __ __ __ __ __ \n",
            "__ __ __ __ __ __ __ __ __ __ __ __ __ __ __ __ __ __ __ __ __ __ __ __ __ ♕ __ __ __ __ __ __ __ __ __ __ __ __ __ __ __ __ __ __ __ __ __ __ __ __ \n",
            "__ ♕ __ __ __ __ __ __ __ __ __ __ __ __ __ __ __ __ __ __ __ __ __ __ __ __ __ __ __ __ __ __ __ __ __ __ __ __ __ __ __ __ __ __ __ __ __ __ __ __ \n",
            "__ __ __ __ __ __ __ __ __ __ __ __ __ __ __ __ __ __ ♕ __ __ __ __ __ __ __ __ __ __ __ __ __ __ __ __ __ __ __ __ __ __ __ __ __ __ __ __ __ __ __ \n",
            "__ __ __ __ __ __ __ __ __ __ __ __ __ ♕ __ __ __ __ __ __ __ __ __ __ __ __ __ __ __ __ __ __ __ __ __ __ __ __ __ __ __ __ __ __ __ __ __ __ __ __ \n",
            "__ __ __ __ __ __ __ __ __ __ __ __ __ __ __ __ __ __ __ __ __ __ __ __ __ __ __ __ __ __ __ __ __ __ __ __ __ __ __ __ __ __ __ ♕ __ __ __ __ __ __ \n",
            "__ __ __ __ __ __ __ __ __ __ __ __ __ __ __ __ __ __ __ __ __ __ __ __ __ __ __ __ __ __ __ __ __ __ __ ♕ __ __ __ __ __ __ __ __ __ __ __ __ __ __ \n",
            "__ __ __ __ __ __ __ __ __ __ __ __ __ __ __ __ __ __ __ __ __ __ __ __ __ __ __ __ __ __ __ __ __ __ __ __ __ __ __ __ __ __ __ __ __ __ __ ♕ __ __ \n",
            "__ __ ♕ __ __ __ __ __ __ __ __ __ __ __ __ __ __ __ __ __ __ __ __ __ __ __ __ __ __ __ __ __ __ __ __ __ __ __ __ __ __ __ __ __ __ __ __ __ __ __ \n",
            "__ __ __ __ __ __ __ __ __ __ __ __ __ __ __ __ __ __ __ __ __ __ __ __ __ __ ♕ __ __ __ __ __ __ __ __ __ __ __ __ __ __ __ __ __ __ __ __ __ __ __ \n",
            "__ __ __ __ __ __ __ __ __ __ ♕ __ __ __ __ __ __ __ __ __ __ __ __ __ __ __ __ __ __ __ __ __ __ __ __ __ __ __ __ __ __ __ __ __ __ __ __ __ __ __ \n",
            "__ __ __ __ __ __ __ __ __ __ __ __ __ __ __ __ __ __ __ ♕ __ __ __ __ __ __ __ __ __ __ __ __ __ __ __ __ __ __ __ __ __ __ __ __ __ __ __ __ __ __ \n",
            "__ __ __ __ __ __ __ __ __ __ __ __ __ __ __ __ __ __ __ __ __ __ __ __ __ __ __ __ __ __ __ __ __ __ __ __ __ __ __ __ __ __ __ __ ♕ __ __ __ __ __ \n",
            "__ __ __ __ __ __ __ __ __ __ __ __ __ __ __ __ __ __ __ __ ♕ __ __ __ __ __ __ __ __ __ __ __ __ __ __ __ __ __ __ __ __ __ __ __ __ __ __ __ __ __ \n",
            "__ __ __ __ __ __ __ __ __ __ __ __ __ __ __ __ __ __ __ __ __ __ __ __ __ __ __ __ __ __ __ __ __ __ __ __ __ __ __ __ __ __ __ __ __ __ __ __ ♕ __ \n",
            "__ __ __ __ __ __ __ __ __ __ __ __ __ __ __ __ __ __ __ __ __ __ __ __ __ __ __ __ __ __ __ __ __ __ __ __ __ __ __ __ ♕ __ __ __ __ __ __ __ __ __ \n",
            "__ __ __ __ __ __ __ __ __ __ __ __ __ __ __ __ __ __ __ __ __ __ __ __ __ __ __ __ __ __ __ __ __ __ __ __ __ ♕ __ __ __ __ __ __ __ __ __ __ __ __ \n",
            "__ __ __ __ __ __ __ __ __ __ __ __ __ __ __ __ __ __ __ __ __ __ __ __ __ __ __ __ __ ♕ __ __ __ __ __ __ __ __ __ __ __ __ __ __ __ __ __ __ __ __ \n",
            "__ __ __ __ ♕ __ __ __ __ __ __ __ __ __ __ __ __ __ __ __ __ __ __ __ __ __ __ __ __ __ __ __ __ __ __ __ __ __ __ __ __ __ __ __ __ __ __ __ __ __ \n",
            "__ __ __ __ __ __ __ __ __ __ __ __ __ __ __ __ __ __ __ __ __ __ __ __ __ __ __ __ __ __ __ __ __ __ __ __ __ __ __ __ __ __ __ __ __ __ ♕ __ __ __ \n",
            "__ __ __ __ __ __ __ __ __ __ __ __ __ __ __ __ __ __ __ __ __ __ __ __ __ __ __ __ __ __ __ __ __ __ __ __ __ __ ♕ __ __ __ __ __ __ __ __ __ __ __ \n",
            "__ __ __ __ __ __ ♕ __ __ __ __ __ __ __ __ __ __ __ __ __ __ __ __ __ __ __ __ __ __ __ __ __ __ __ __ __ __ __ __ __ __ __ __ __ __ __ __ __ __ __ \n",
            "__ __ __ __ __ __ __ __ __ __ __ __ __ __ __ __ __ __ __ __ __ __ __ __ __ __ __ __ __ __ __ __ __ __ __ __ __ __ __ __ __ ♕ __ __ __ __ __ __ __ __ \n",
            "__ __ __ __ __ __ __ __ __ __ __ __ __ __ __ __ __ __ __ __ __ __ __ __ __ __ __ __ __ __ __ __ __ __ ♕ __ __ __ __ __ __ __ __ __ __ __ __ __ __ __ \n",
            "__ __ __ __ __ ♕ __ __ __ __ __ __ __ __ __ __ __ __ __ __ __ __ __ __ __ __ __ __ __ __ __ __ __ __ __ __ __ __ __ __ __ __ __ __ __ __ __ __ __ __ \n",
            "__ __ __ __ __ __ __ __ __ __ __ __ ♕ __ __ __ __ __ __ __ __ __ __ __ __ __ __ __ __ __ __ __ __ __ __ __ __ __ __ __ __ __ __ __ __ __ __ __ __ __ \n",
            "__ __ __ __ __ __ __ __ __ __ __ __ __ __ __ __ __ ♕ __ __ __ __ __ __ __ __ __ __ __ __ __ __ __ __ __ __ __ __ __ __ __ __ __ __ __ __ __ __ __ __ \n",
            "__ __ __ __ __ __ __ __ __ ♕ __ __ __ __ __ __ __ __ __ __ __ __ __ __ __ __ __ __ __ __ __ __ __ __ __ __ __ __ __ __ __ __ __ __ __ __ __ __ __ __ \n",
            "__ __ __ __ __ __ __ __ __ __ __ __ __ __ __ __ __ __ __ __ __ __ __ __ ♕ __ __ __ __ __ __ __ __ __ __ __ __ __ __ __ __ __ __ __ __ __ __ __ __ __ \n",
            "__ __ __ __ __ __ __ __ __ __ __ __ __ __ __ __ __ __ __ __ __ __ __ __ __ __ __ __ __ __ ♕ __ __ __ __ __ __ __ __ __ __ __ __ __ __ __ __ __ __ __ \n",
            "__ __ __ __ __ __ __ __ __ __ __ __ __ __ __ __ __ __ __ __ __ __ __ __ __ __ __ __ __ __ __ __ __ __ __ __ ♕ __ __ __ __ __ __ __ __ __ __ __ __ __ \n"
          ]
        },
        {
          "data": {
            "text/plain": [
              "True"
            ]
          },
          "execution_count": 75,
          "metadata": {},
          "output_type": "execute_result"
        }
      ],
      "source": [
        "# let's find 50 queens on 50x50 board\n",
        "solveNQ(50, strategy=\"random\")"
      ]
    },
    {
      "cell_type": "code",
      "execution_count": 82,
      "metadata": {},
      "outputs": [
        {
          "ename": "KeyboardInterrupt",
          "evalue": "",
          "output_type": "error",
          "traceback": [
            "\u001b[1;31m---------------------------------------------------------------------------\u001b[0m",
            "\u001b[1;31mKeyboardInterrupt\u001b[0m                         Traceback (most recent call last)",
            "Cell \u001b[1;32mIn[82], line 2\u001b[0m\n\u001b[0;32m      1\u001b[0m \u001b[38;5;66;03m# how about top strategy?\u001b[39;00m\n\u001b[1;32m----> 2\u001b[0m \u001b[43msolveNQ\u001b[49m\u001b[43m(\u001b[49m\u001b[38;5;241;43m50\u001b[39;49m\u001b[43m,\u001b[49m\u001b[43m \u001b[49m\u001b[43mstrategy\u001b[49m\u001b[38;5;241;43m=\u001b[39;49m\u001b[38;5;124;43m\"\u001b[39;49m\u001b[38;5;124;43mtop\u001b[39;49m\u001b[38;5;124;43m\"\u001b[39;49m\u001b[43m)\u001b[49m\n",
            "Cell \u001b[1;32mIn[22], line 55\u001b[0m, in \u001b[0;36msolveNQ\u001b[1;34m(N, print_board, debug, space_sym, strategy)\u001b[0m\n\u001b[0;32m     50\u001b[0m \u001b[38;5;28;01mdef\u001b[39;00m \u001b[38;5;21msolveNQ\u001b[39m(N, print_board\u001b[38;5;241m=\u001b[39m\u001b[38;5;28;01mTrue\u001b[39;00m, debug\u001b[38;5;241m=\u001b[39m\u001b[38;5;28;01mFalse\u001b[39;00m, space_sym\u001b[38;5;241m=\u001b[39m\u001b[38;5;124m\"\u001b[39m\u001b[38;5;124m__\u001b[39m\u001b[38;5;124m\"\u001b[39m, strategy\u001b[38;5;241m=\u001b[39m\u001b[38;5;124m\"\u001b[39m\u001b[38;5;124mtop\u001b[39m\u001b[38;5;124m\"\u001b[39m): \u001b[38;5;66;03m# passing in default 4x4\u001b[39;00m\n\u001b[0;32m     51\u001b[0m     \u001b[38;5;66;03m# board = tuple([0,0,0,0] for _ in range(N)) # !!!! bug fixed below \u001b[39;00m\n\u001b[0;32m     52\u001b[0m     \u001b[38;5;66;03m# in normal code base you would delete such code lines\u001b[39;00m\n\u001b[0;32m     53\u001b[0m     board \u001b[38;5;241m=\u001b[39m \u001b[38;5;28mtuple\u001b[39m([space_sym] \u001b[38;5;241m*\u001b[39m N \u001b[38;5;28;01mfor\u001b[39;00m _ \u001b[38;5;129;01min\u001b[39;00m \u001b[38;5;28mrange\u001b[39m(N)) \u001b[38;5;66;03m# we need to create a blank board\u001b[39;00m\n\u001b[1;32m---> 55\u001b[0m     \u001b[38;5;28;01mif\u001b[39;00m \u001b[43msolveNQUtil\u001b[49m\u001b[43m(\u001b[49m\u001b[43mboard\u001b[49m\u001b[43m,\u001b[49m\u001b[43m \u001b[49m\u001b[38;5;241;43m0\u001b[39;49m\u001b[43m,\u001b[49m\u001b[43m \u001b[49m\u001b[43mN\u001b[49m\u001b[43m,\u001b[49m\u001b[43m \u001b[49m\u001b[43mdebug\u001b[49m\u001b[43m,\u001b[49m\u001b[43m \u001b[49m\u001b[43mspace_sym\u001b[49m\u001b[43m,\u001b[49m\u001b[43m \u001b[49m\u001b[43mstrategy\u001b[49m\u001b[43m)\u001b[49m \u001b[38;5;241m==\u001b[39m \u001b[38;5;28;01mFalse\u001b[39;00m: \n\u001b[0;32m     56\u001b[0m         \u001b[38;5;66;03m#print (\"Solution does not exist\") \u001b[39;00m\n\u001b[0;32m     57\u001b[0m         \u001b[38;5;28;01mreturn\u001b[39;00m \u001b[38;5;28;01mFalse\u001b[39;00m\n\u001b[0;32m     59\u001b[0m     \u001b[38;5;28;01mif\u001b[39;00m print_board:\n",
            "Cell \u001b[1;32mIn[22], line 29\u001b[0m, in \u001b[0;36msolveNQUtil\u001b[1;34m(board, col, N, debug, space_sym, strategy)\u001b[0m\n\u001b[0;32m     26\u001b[0m board[i][col] \u001b[38;5;241m=\u001b[39m \u001b[38;5;124m\"\u001b[39m\u001b[38;5;124m♕\u001b[39m\u001b[38;5;124m\"\u001b[39m\n\u001b[0;32m     28\u001b[0m \u001b[38;5;66;03m# recur to place rest of the queens \u001b[39;00m\n\u001b[1;32m---> 29\u001b[0m \u001b[38;5;28;01mif\u001b[39;00m \u001b[43msolveNQUtil\u001b[49m\u001b[43m(\u001b[49m\u001b[43mboard\u001b[49m\u001b[43m,\u001b[49m\u001b[43m \u001b[49m\u001b[43mcol\u001b[49m\u001b[43m \u001b[49m\u001b[38;5;241;43m+\u001b[39;49m\u001b[43m \u001b[49m\u001b[38;5;241;43m1\u001b[39;49m\u001b[43m,\u001b[49m\u001b[43m \u001b[49m\u001b[43mN\u001b[49m\u001b[43m,\u001b[49m\u001b[43m \u001b[49m\u001b[43mdebug\u001b[49m\u001b[43m,\u001b[49m\u001b[43m \u001b[49m\u001b[43mspace_sym\u001b[49m\u001b[43m,\u001b[49m\u001b[43m \u001b[49m\u001b[43mstrategy\u001b[49m\u001b[43m)\u001b[49m \u001b[38;5;241m==\u001b[39m \u001b[38;5;28;01mTrue\u001b[39;00m: \n\u001b[0;32m     30\u001b[0m     \u001b[38;5;28;01mreturn\u001b[39;00m \u001b[38;5;28;01mTrue\u001b[39;00m\n\u001b[0;32m     32\u001b[0m \u001b[38;5;66;03m# If placing queen in board[i][col \u001b[39;00m\n\u001b[0;32m     33\u001b[0m \u001b[38;5;66;03m# doesn't lead to a solution, then \u001b[39;00m\n\u001b[0;32m     34\u001b[0m \u001b[38;5;66;03m# queen from board[i][col] \u001b[39;00m\n",
            "Cell \u001b[1;32mIn[22], line 29\u001b[0m, in \u001b[0;36msolveNQUtil\u001b[1;34m(board, col, N, debug, space_sym, strategy)\u001b[0m\n\u001b[0;32m     26\u001b[0m board[i][col] \u001b[38;5;241m=\u001b[39m \u001b[38;5;124m\"\u001b[39m\u001b[38;5;124m♕\u001b[39m\u001b[38;5;124m\"\u001b[39m\n\u001b[0;32m     28\u001b[0m \u001b[38;5;66;03m# recur to place rest of the queens \u001b[39;00m\n\u001b[1;32m---> 29\u001b[0m \u001b[38;5;28;01mif\u001b[39;00m \u001b[43msolveNQUtil\u001b[49m\u001b[43m(\u001b[49m\u001b[43mboard\u001b[49m\u001b[43m,\u001b[49m\u001b[43m \u001b[49m\u001b[43mcol\u001b[49m\u001b[43m \u001b[49m\u001b[38;5;241;43m+\u001b[39;49m\u001b[43m \u001b[49m\u001b[38;5;241;43m1\u001b[39;49m\u001b[43m,\u001b[49m\u001b[43m \u001b[49m\u001b[43mN\u001b[49m\u001b[43m,\u001b[49m\u001b[43m \u001b[49m\u001b[43mdebug\u001b[49m\u001b[43m,\u001b[49m\u001b[43m \u001b[49m\u001b[43mspace_sym\u001b[49m\u001b[43m,\u001b[49m\u001b[43m \u001b[49m\u001b[43mstrategy\u001b[49m\u001b[43m)\u001b[49m \u001b[38;5;241m==\u001b[39m \u001b[38;5;28;01mTrue\u001b[39;00m: \n\u001b[0;32m     30\u001b[0m     \u001b[38;5;28;01mreturn\u001b[39;00m \u001b[38;5;28;01mTrue\u001b[39;00m\n\u001b[0;32m     32\u001b[0m \u001b[38;5;66;03m# If placing queen in board[i][col \u001b[39;00m\n\u001b[0;32m     33\u001b[0m \u001b[38;5;66;03m# doesn't lead to a solution, then \u001b[39;00m\n\u001b[0;32m     34\u001b[0m \u001b[38;5;66;03m# queen from board[i][col] \u001b[39;00m\n",
            "    \u001b[1;31m[... skipping similar frames: solveNQUtil at line 29 (30 times)]\u001b[0m\n",
            "Cell \u001b[1;32mIn[22], line 29\u001b[0m, in \u001b[0;36msolveNQUtil\u001b[1;34m(board, col, N, debug, space_sym, strategy)\u001b[0m\n\u001b[0;32m     26\u001b[0m board[i][col] \u001b[38;5;241m=\u001b[39m \u001b[38;5;124m\"\u001b[39m\u001b[38;5;124m♕\u001b[39m\u001b[38;5;124m\"\u001b[39m\n\u001b[0;32m     28\u001b[0m \u001b[38;5;66;03m# recur to place rest of the queens \u001b[39;00m\n\u001b[1;32m---> 29\u001b[0m \u001b[38;5;28;01mif\u001b[39;00m \u001b[43msolveNQUtil\u001b[49m\u001b[43m(\u001b[49m\u001b[43mboard\u001b[49m\u001b[43m,\u001b[49m\u001b[43m \u001b[49m\u001b[43mcol\u001b[49m\u001b[43m \u001b[49m\u001b[38;5;241;43m+\u001b[39;49m\u001b[43m \u001b[49m\u001b[38;5;241;43m1\u001b[39;49m\u001b[43m,\u001b[49m\u001b[43m \u001b[49m\u001b[43mN\u001b[49m\u001b[43m,\u001b[49m\u001b[43m \u001b[49m\u001b[43mdebug\u001b[49m\u001b[43m,\u001b[49m\u001b[43m \u001b[49m\u001b[43mspace_sym\u001b[49m\u001b[43m,\u001b[49m\u001b[43m \u001b[49m\u001b[43mstrategy\u001b[49m\u001b[43m)\u001b[49m \u001b[38;5;241m==\u001b[39m \u001b[38;5;28;01mTrue\u001b[39;00m: \n\u001b[0;32m     30\u001b[0m     \u001b[38;5;28;01mreturn\u001b[39;00m \u001b[38;5;28;01mTrue\u001b[39;00m\n\u001b[0;32m     32\u001b[0m \u001b[38;5;66;03m# If placing queen in board[i][col \u001b[39;00m\n\u001b[0;32m     33\u001b[0m \u001b[38;5;66;03m# doesn't lead to a solution, then \u001b[39;00m\n\u001b[0;32m     34\u001b[0m \u001b[38;5;66;03m# queen from board[i][col] \u001b[39;00m\n",
            "Cell \u001b[1;32mIn[22], line 23\u001b[0m, in \u001b[0;36msolveNQUtil\u001b[1;34m(board, col, N, debug, space_sym, strategy)\u001b[0m\n\u001b[0;32m     19\u001b[0m     \u001b[38;5;28;01mreturn\u001b[39;00m\n\u001b[0;32m     21\u001b[0m \u001b[38;5;28;01mfor\u001b[39;00m i \u001b[38;5;129;01min\u001b[39;00m rows: \n\u001b[1;32m---> 23\u001b[0m     \u001b[38;5;28;01mif\u001b[39;00m \u001b[43mis_safe\u001b[49m\u001b[43m(\u001b[49m\u001b[43mboard\u001b[49m\u001b[43m,\u001b[49m\u001b[43m \u001b[49m\u001b[43mi\u001b[49m\u001b[43m,\u001b[49m\u001b[43m \u001b[49m\u001b[43mcol\u001b[49m\u001b[43m,\u001b[49m\u001b[43m \u001b[49m\u001b[43mN\u001b[49m\u001b[43m,\u001b[49m\u001b[43m \u001b[49m\u001b[43mdebug\u001b[49m\u001b[43m)\u001b[49m: \n\u001b[0;32m     24\u001b[0m \n\u001b[0;32m     25\u001b[0m         \u001b[38;5;66;03m# Place this queen in board[i][col] \u001b[39;00m\n\u001b[0;32m     26\u001b[0m         board[i][col] \u001b[38;5;241m=\u001b[39m \u001b[38;5;124m\"\u001b[39m\u001b[38;5;124m♕\u001b[39m\u001b[38;5;124m\"\u001b[39m\n\u001b[0;32m     28\u001b[0m         \u001b[38;5;66;03m# recur to place rest of the queens \u001b[39;00m\n",
            "Cell \u001b[1;32mIn[3], line 32\u001b[0m, in \u001b[0;36mis_safe\u001b[1;34m(board, row, col, N, debug)\u001b[0m\n\u001b[0;32m     30\u001b[0m         \u001b[38;5;28mprint\u001b[39m(\u001b[38;5;124mf\u001b[39m\u001b[38;5;124m\"\u001b[39m\u001b[38;5;124mChecking row \u001b[39m\u001b[38;5;132;01m{\u001b[39;00mi\u001b[38;5;132;01m}\u001b[39;00m\u001b[38;5;124m, col \u001b[39m\u001b[38;5;132;01m{\u001b[39;00mj\u001b[38;5;132;01m}\u001b[39;00m\u001b[38;5;124m\"\u001b[39m)\n\u001b[0;32m     31\u001b[0m         print_solution(board, N)\n\u001b[1;32m---> 32\u001b[0m     \u001b[38;5;28;01mif\u001b[39;00m board[i][j] \u001b[38;5;241m==\u001b[39m \u001b[38;5;124m\"\u001b[39m\u001b[38;5;124m♕\u001b[39m\u001b[38;5;124m\"\u001b[39m: \n\u001b[0;32m     33\u001b[0m         \u001b[38;5;28;01mreturn\u001b[39;00m \u001b[38;5;28;01mFalse\u001b[39;00m\n\u001b[0;32m     35\u001b[0m \u001b[38;5;66;03m# Check lower diagonal on left side - similarly we only check backwards for diagonals\u001b[39;00m\n",
            "\u001b[1;31mKeyboardInterrupt\u001b[0m: "
          ]
        }
      ],
      "source": [
        "# how about top strategy?\n",
        "# solveNQ(50, strategy=\"top\") - took 6mins 50secs and no solution"
      ]
    },
    {
      "cell_type": "code",
      "execution_count": null,
      "metadata": {
        "id": "mYxrKgm1jncX"
      },
      "outputs": [],
      "source": [
        "## TODO add non-recursive solution \n",
        "\n",
        "# you would need some data structure to store paths to explore and ones you have already explored\n",
        "# most likely some tree type structure\n",
        "# you could have a list or 2d list as well\n"
      ]
    },
    {
      "cell_type": "markdown",
      "metadata": {
        "id": "uE10QW6584_0"
      },
      "source": [
        "## For Branch and Bound Lecture"
      ]
    },
    {
      "cell_type": "code",
      "execution_count": null,
      "metadata": {
        "id": "7u18JW6DtsKo",
        "outputId": "1048d09a-f375-4822-b69a-918340e44694"
      },
      "outputs": [
        {
          "name": "stdout",
          "output_type": "stream",
          "text": [
            "1 0 0 0 0 0 0 0 \n",
            "0 0 0 0 0 0 1 0 \n",
            "0 0 0 0 1 0 0 0 \n",
            "0 0 0 0 0 0 0 1 \n",
            "0 1 0 0 0 0 0 0 \n",
            "0 0 0 1 0 0 0 0 \n",
            "0 0 0 0 0 1 0 0 \n",
            "0 0 1 0 0 0 0 0 \n"
          ]
        },
        {
          "data": {
            "text/plain": [
              "True"
            ]
          },
          "execution_count": 22,
          "metadata": {},
          "output_type": "execute_result"
        }
      ],
      "source": [
        "# Branch and Bound approach\n",
        "\n",
        "\"\"\" Python3 program to solve N Queen Problem\n",
        "using Branch or Bound \"\"\"\n",
        " \n",
        "N = 8\n",
        " \n",
        "\"\"\" A utility function to prsolution \"\"\"\n",
        "def printSolutionBB(board):\n",
        "    for i in range(N):\n",
        "        for j in range(N):\n",
        "            print(board[i][j], end = \" \")\n",
        "        print()\n",
        "\n",
        "\"\"\" A Optimized function to check if\n",
        "a queen can be placed on board[row][col] \"\"\"\n",
        "def isSafeBB(row, col, slashCode, backslashCode,\n",
        "           rowLookup, slashCodeLookup,\n",
        "                       backslashCodeLookup):\n",
        "    if (slashCodeLookup[slashCode[row][col]] or\n",
        "        backslashCodeLookup[backslashCode[row][col]] or\n",
        "        rowLookup[row]):\n",
        "        return False\n",
        "    return True\n",
        " \n",
        "\"\"\" A recursive utility function\n",
        "   to solve N Queen problem \"\"\"\n",
        "def solveNQueensUtilBB(board, col, slashCode, backslashCode,\n",
        "                     rowLookup, slashCodeLookup,\n",
        "                     backslashCodeLookup):\n",
        "                         \n",
        "    \"\"\" base case: If all queens are\n",
        "       placed then return True \"\"\"\n",
        "    if(col >= N):\n",
        "        return True\n",
        "    for i in range(N):\n",
        "        if(isSafeBB(i, col, slashCode, backslashCode,\n",
        "                  rowLookup, slashCodeLookup,\n",
        "                  backslashCodeLookup)):\n",
        "                     \n",
        "            \"\"\" Place this queen in board[i][col] \"\"\"\n",
        "            board[i][col] = 1\n",
        "            rowLookup[i] = True\n",
        "            slashCodeLookup[slashCode[i][col]] = True\n",
        "            backslashCodeLookup[backslashCode[i][col]] = True\n",
        "             \n",
        "            \"\"\" recur to place rest of the queens \"\"\"\n",
        "            if(solveNQueensUtilBB(board, col + 1,\n",
        "                                slashCode, backslashCode,\n",
        "                                rowLookup, slashCodeLookup,\n",
        "                                backslashCodeLookup)):\n",
        "                return True\n",
        "             \n",
        "            \"\"\" If placing queen in board[i][col]\n",
        "            doesn't lead to a solution,then backtrack \"\"\"\n",
        "             \n",
        "            \"\"\" Remove queen from board[i][col] \"\"\"\n",
        "            board[i][col] = 0\n",
        "            rowLookup[i] = False\n",
        "            slashCodeLookup[slashCode[i][col]] = False\n",
        "            backslashCodeLookup[backslashCode[i][col]] = False\n",
        "             \n",
        "    \"\"\" If queen can not be place in any row in\n",
        "    this colum col then return False \"\"\"\n",
        "    return False\n",
        " \n",
        "\"\"\" This function solves the N Queen problem using\n",
        "Branch or Bound. It mainly uses solveNQueensUtil()to\n",
        "solve the problem. It returns False if queens\n",
        "cannot be placed,otherwise return True or\n",
        "prints placement of queens in the form of 1s.\n",
        "Please note that there may be more than one\n",
        "solutions,this function prints one of the\n",
        "feasible solutions.\"\"\"\n",
        "def solveNQueensBB(debug=False):\n",
        "    board = [[0 for i in range(N)]\n",
        "                for j in range(N)]\n",
        "     \n",
        "    # helper matrices\n",
        "    slashCode = [[0 for i in range(N)]\n",
        "                    for j in range(N)]\n",
        "    backslashCode = [[0 for i in range(N)]\n",
        "                        for j in range(N)]\n",
        "     \n",
        "    # arrays to tell us which rows are occupied\n",
        "    rowLookup = [False] * N\n",
        "     \n",
        "    # keep two arrays to tell us\n",
        "    # which diagonals are occupied\n",
        "    x = 2 * N - 1\n",
        "    slashCodeLookup = [False] * x\n",
        "    backslashCodeLookup = [False] * x\n",
        "     \n",
        "    # initialize helper matrices\n",
        "    for rr in range(N):\n",
        "        for cc in range(N):\n",
        "            slashCode[rr][cc] = rr + cc\n",
        "            backslashCode[rr][cc] = rr - cc + 7\n",
        "     \n",
        "    if(solveNQueensUtilBB(board, 0, slashCode, backslashCode,\n",
        "                        rowLookup, slashCodeLookup,\n",
        "                        backslashCodeLookup) == False):\n",
        "        print(\"Solution does not exist\")\n",
        "        return False\n",
        "         \n",
        "    # solution found\n",
        "    if debug:\n",
        "        printSolutionBB(board)\n",
        "    return True\n",
        " \n",
        "# Driver Cde\n",
        "solveNQueensBB(debug=True)\n",
        " \n",
        "# This code is contributed by SHUBHAMSINGH10"
      ]
    },
    {
      "cell_type": "code",
      "execution_count": null,
      "metadata": {
        "id": "P_IkNGQctsKo",
        "outputId": "e4c8cc67-10e7-44db-8f8d-45472b157b04"
      },
      "outputs": [
        {
          "name": "stdout",
          "output_type": "stream",
          "text": [
            "628 µs ± 7.31 µs per loop (mean ± std. dev. of 7 runs, 1000 loops each)\n"
          ]
        }
      ],
      "source": [
        "%%timeit\n",
        "solveNQueensBB()"
      ]
    },
    {
      "cell_type": "code",
      "execution_count": null,
      "metadata": {
        "id": "_Dl10e0ctsKp",
        "outputId": "02908053-2f6a-4d80-90a1-23de6a060d87"
      },
      "outputs": [
        {
          "name": "stdout",
          "output_type": "stream",
          "text": [
            "1 0 0 0 0 0 0 0 0 0 0 0 \n",
            "0 0 0 0 0 0 0 0 1 0 0 0 \n",
            "0 1 0 0 0 0 0 0 0 0 0 0 \n",
            "0 0 0 0 0 0 0 0 0 0 0 1 \n",
            "0 0 1 0 0 0 0 0 0 0 0 0 \n",
            "0 0 0 0 0 0 1 0 0 0 0 0 \n",
            "0 0 0 0 0 0 0 0 0 1 0 0 \n",
            "0 0 0 1 0 0 0 0 0 0 0 0 \n",
            "0 0 0 0 0 0 0 0 0 0 1 0 \n",
            "0 0 0 0 1 0 0 0 0 0 0 0 \n",
            "0 0 0 0 0 0 0 1 0 0 0 0 \n",
            "0 0 0 0 0 1 0 0 0 0 0 0 \n"
          ]
        },
        {
          "data": {
            "text/plain": [
              "True"
            ]
          },
          "execution_count": 9,
          "metadata": {},
          "output_type": "execute_result"
        }
      ],
      "source": [
        "N = 12\n",
        "solveNQueens(debug=True)"
      ]
    },
    {
      "cell_type": "code",
      "execution_count": null,
      "metadata": {
        "id": "IL0sWBTwtsKp",
        "outputId": "8388bf2c-1891-4b47-dbf9-6f1703624092"
      },
      "outputs": [
        {
          "name": "stdout",
          "output_type": "stream",
          "text": [
            "1 0 0 0 0 0 0 0 \n",
            "0 0 0 0 0 0 1 0 \n",
            "0 0 0 0 1 0 0 0 \n",
            "0 0 0 0 0 0 0 1 \n",
            "0 1 0 0 0 0 0 0 \n",
            "0 0 0 1 0 0 0 0 \n",
            "0 0 0 0 0 1 0 0 \n",
            "0 0 1 0 0 0 0 0 \n",
            "1 0 0 0 0 0 0 0 0 \n",
            "0 0 0 0 1 0 0 0 0 \n",
            "0 1 0 0 0 0 0 0 0 \n",
            "0 0 0 0 0 1 0 0 0 \n",
            "0 0 0 0 0 0 0 0 1 \n",
            "0 0 1 0 0 0 0 0 0 \n",
            "0 0 0 0 0 0 0 1 0 \n",
            "0 0 0 1 0 0 0 0 0 \n",
            "0 0 0 0 0 0 1 0 0 \n",
            "1 0 0 0 0 0 0 0 0 0 \n",
            "0 0 0 0 0 0 0 1 0 0 \n",
            "0 1 0 0 0 0 0 0 0 0 \n",
            "0 0 0 0 0 0 0 0 1 0 \n",
            "0 0 0 0 0 1 0 0 0 0 \n",
            "0 0 1 0 0 0 0 0 0 0 \n",
            "0 0 0 0 0 0 0 0 0 1 \n",
            "0 0 0 1 0 0 0 0 0 0 \n",
            "0 0 0 0 0 0 1 0 0 0 \n",
            "0 0 0 0 1 0 0 0 0 0 \n",
            "1 0 0 0 0 0 0 0 0 0 0 \n",
            "0 0 0 0 0 0 1 0 0 0 0 \n",
            "0 1 0 0 0 0 0 0 0 0 0 \n",
            "0 0 0 0 0 0 0 1 0 0 0 \n",
            "0 0 1 0 0 0 0 0 0 0 0 \n",
            "0 0 0 0 0 0 0 0 1 0 0 \n",
            "0 0 0 1 0 0 0 0 0 0 0 \n",
            "0 0 0 0 0 0 0 0 0 1 0 \n",
            "0 0 0 0 1 0 0 0 0 0 0 \n",
            "0 0 0 0 0 0 0 0 0 0 1 \n",
            "0 0 0 0 0 1 0 0 0 0 0 \n",
            "1 0 0 0 0 0 0 0 0 0 0 0 \n",
            "0 0 0 0 0 0 0 0 1 0 0 0 \n",
            "0 1 0 0 0 0 0 0 0 0 0 0 \n",
            "0 0 0 0 0 0 0 0 0 0 0 1 \n",
            "0 0 1 0 0 0 0 0 0 0 0 0 \n",
            "0 0 0 0 0 0 1 0 0 0 0 0 \n",
            "0 0 0 0 0 0 0 0 0 1 0 0 \n",
            "0 0 0 1 0 0 0 0 0 0 0 0 \n",
            "0 0 0 0 0 0 0 0 0 0 1 0 \n",
            "0 0 0 0 1 0 0 0 0 0 0 0 \n",
            "0 0 0 0 0 0 0 1 0 0 0 0 \n",
            "0 0 0 0 0 1 0 0 0 0 0 0 \n",
            "1 0 0 0 0 0 0 0 0 0 0 0 0 \n",
            "0 0 0 1 0 0 0 0 0 0 0 0 0 \n",
            "0 1 0 0 0 0 0 0 0 0 0 0 0 \n",
            "0 0 0 0 0 0 0 0 1 0 0 0 0 \n",
            "0 0 1 0 0 0 0 0 0 0 0 0 0 \n",
            "0 0 0 0 0 0 0 0 0 1 0 0 0 \n",
            "0 0 0 0 0 0 0 0 0 0 0 0 1 \n",
            "0 0 0 0 0 0 0 0 0 0 1 0 0 \n",
            "0 0 0 0 1 0 0 0 0 0 0 0 0 \n",
            "0 0 0 0 0 0 1 0 0 0 0 0 0 \n",
            "0 0 0 0 0 0 0 0 0 0 0 1 0 \n",
            "0 0 0 0 0 1 0 0 0 0 0 0 0 \n",
            "0 0 0 0 0 0 0 1 0 0 0 0 0 \n",
            "1 0 0 0 0 0 0 0 0 0 0 0 0 0 \n",
            "0 0 0 0 0 0 0 0 0 0 1 0 0 0 \n",
            "0 1 0 0 0 0 0 0 0 0 0 0 0 0 \n",
            "0 0 0 0 0 0 0 1 0 0 0 0 0 0 \n",
            "0 0 1 0 0 0 0 0 0 0 0 0 0 0 \n",
            "0 0 0 0 0 0 0 0 0 0 0 1 0 0 \n",
            "0 0 0 1 0 0 0 0 0 0 0 0 0 0 \n",
            "0 0 0 0 0 0 0 0 0 0 0 0 1 0 \n",
            "0 0 0 0 0 0 0 0 0 1 0 0 0 0 \n",
            "0 0 0 0 0 1 0 0 0 0 0 0 0 0 \n",
            "0 0 0 0 0 0 0 0 0 0 0 0 0 1 \n",
            "0 0 0 0 1 0 0 0 0 0 0 0 0 0 \n",
            "0 0 0 0 0 0 1 0 0 0 0 0 0 0 \n",
            "0 0 0 0 0 0 0 0 1 0 0 0 0 0 \n",
            "1 0 0 0 0 0 0 0 0 0 0 0 0 0 0 \n",
            "0 0 0 1 0 0 0 0 0 0 0 0 0 0 0 \n",
            "0 1 0 0 0 0 0 0 0 0 0 0 0 0 0 \n",
            "0 0 0 0 0 0 0 1 0 0 0 0 0 0 0 \n",
            "0 0 1 0 0 0 0 0 0 0 0 0 0 0 0 \n",
            "0 0 0 0 0 0 0 0 0 0 1 0 0 0 0 \n",
            "0 0 0 0 0 0 0 0 0 0 0 0 1 0 0 \n",
            "0 0 0 0 0 0 0 0 0 0 0 0 0 0 1 \n",
            "0 0 0 0 0 0 0 0 0 1 0 0 0 0 0 \n",
            "0 0 0 0 1 0 0 0 0 0 0 0 0 0 0 \n",
            "0 0 0 0 0 0 0 0 0 0 0 0 0 1 0 \n",
            "0 0 0 0 0 1 0 0 0 0 0 0 0 0 0 \n",
            "0 0 0 0 0 0 0 0 1 0 0 0 0 0 0 \n",
            "0 0 0 0 0 0 1 0 0 0 0 0 0 0 0 \n",
            "0 0 0 0 0 0 0 0 0 0 0 1 0 0 0 \n",
            "1 0 0 0 0 0 0 0 0 0 0 0 0 0 0 0 \n",
            "0 0 0 1 0 0 0 0 0 0 0 0 0 0 0 0 \n",
            "0 1 0 0 0 0 0 0 0 0 0 0 0 0 0 0 \n",
            "0 0 0 0 0 0 0 0 0 0 0 0 1 0 0 0 \n",
            "0 0 1 0 0 0 0 0 0 0 0 0 0 0 0 0 \n",
            "0 0 0 0 0 0 0 0 0 1 0 0 0 0 0 0 \n",
            "0 0 0 0 0 0 0 0 0 0 0 1 0 0 0 0 \n",
            "0 0 0 0 0 0 0 0 0 0 0 0 0 0 1 0 \n",
            "0 0 0 0 0 1 0 0 0 0 0 0 0 0 0 0 \n",
            "0 0 0 0 0 0 0 0 0 0 0 0 0 0 0 1 \n",
            "0 0 0 0 0 0 0 0 0 0 0 0 0 1 0 0 \n",
            "0 0 0 0 0 0 0 1 0 0 0 0 0 0 0 0 \n",
            "0 0 0 0 1 0 0 0 0 0 0 0 0 0 0 0 \n",
            "0 0 0 0 0 0 1 0 0 0 0 0 0 0 0 0 \n",
            "0 0 0 0 0 0 0 0 1 0 0 0 0 0 0 0 \n",
            "0 0 0 0 0 0 0 0 0 0 1 0 0 0 0 0 \n"
          ]
        }
      ],
      "source": [
        "for n in range(8, 17):\n",
        "    N = n\n",
        "    solveNQueens(debug=True)"
      ]
    },
    {
      "cell_type": "code",
      "execution_count": null,
      "metadata": {
        "id": "QqKHzTvttsKp"
      },
      "outputs": [],
      "source": [
        "N=12\n"
      ]
    },
    {
      "cell_type": "code",
      "execution_count": null,
      "metadata": {
        "id": "2ewmkStotsKp",
        "outputId": "5056a46c-fc7e-452c-dbf7-74565ad8b614"
      },
      "outputs": [
        {
          "name": "stdout",
          "output_type": "stream",
          "text": [
            "2 ms ± 58 µs per loop (mean ± std. dev. of 7 runs, 1000 loops each)\n"
          ]
        }
      ],
      "source": [
        "%%timeit\n",
        "solveNQueensBB()"
      ]
    },
    {
      "cell_type": "code",
      "execution_count": null,
      "metadata": {
        "id": "chffsEOQtsKp",
        "outputId": "4e0f9834-c946-4234-9cac-08091f0b9976"
      },
      "outputs": [
        {
          "name": "stdout",
          "output_type": "stream",
          "text": [
            "62.5 µs ± 1.92 µs per loop (mean ± std. dev. of 7 runs, 10000 loops each)\n"
          ]
        }
      ],
      "source": [
        "%%timeit\n",
        "solveNQ([[0]*N for _ in range(N)], print_board=False)"
      ]
    },
    {
      "cell_type": "code",
      "execution_count": null,
      "metadata": {
        "id": "Az_Hl5O8tsKq"
      },
      "outputs": [],
      "source": [
        "N=16"
      ]
    },
    {
      "cell_type": "code",
      "execution_count": null,
      "metadata": {
        "id": "OSrEuigCtsKq",
        "outputId": "9ebcd92d-26a8-4b5a-f0f3-c910fc98ad0d"
      },
      "outputs": [
        {
          "name": "stdout",
          "output_type": "stream",
          "text": [
            "1 0 0 0 0 0 0 0 0 0 0 0 0 0 0 0 \n",
            "0 0 0 1 0 0 0 0 0 0 0 0 0 0 0 0 \n",
            "0 1 0 0 0 0 0 0 0 0 0 0 0 0 0 0 \n",
            "0 0 0 0 0 0 0 0 0 0 0 0 1 0 0 0 \n",
            "0 0 1 0 0 0 0 0 0 0 0 0 0 0 0 0 \n",
            "0 0 0 0 0 0 0 0 0 1 0 0 0 0 0 0 \n",
            "0 0 0 0 0 0 0 0 0 0 0 1 0 0 0 0 \n",
            "0 0 0 0 0 0 0 0 0 0 0 0 0 0 1 0 \n",
            "0 0 0 0 0 1 0 0 0 0 0 0 0 0 0 0 \n",
            "0 0 0 0 0 0 0 0 0 0 0 0 0 0 0 1 \n",
            "0 0 0 0 0 0 0 0 0 0 0 0 0 1 0 0 \n",
            "0 0 0 0 0 0 0 1 0 0 0 0 0 0 0 0 \n",
            "0 0 0 0 1 0 0 0 0 0 0 0 0 0 0 0 \n",
            "0 0 0 0 0 0 1 0 0 0 0 0 0 0 0 0 \n",
            "0 0 0 0 0 0 0 0 1 0 0 0 0 0 0 0 \n",
            "0 0 0 0 0 0 0 0 0 0 1 0 0 0 0 0 \n"
          ]
        },
        {
          "data": {
            "text/plain": [
              "True"
            ]
          },
          "execution_count": 19,
          "metadata": {},
          "output_type": "execute_result"
        }
      ],
      "source": [
        "solveNQ([[0]*N for _ in range(N)])"
      ]
    },
    {
      "cell_type": "code",
      "execution_count": null,
      "metadata": {
        "id": "sWT0ZVlLtsKq",
        "outputId": "3a5ad8e3-85fe-4638-9e73-70d5eb0b71b4"
      },
      "outputs": [
        {
          "name": "stdout",
          "output_type": "stream",
          "text": [
            "419 ms ± 29.6 ms per loop (mean ± std. dev. of 7 runs, 1 loop each)\n"
          ]
        }
      ],
      "source": [
        "%%timeit\n",
        "solveNQ([[0]*N for _ in range(N)], print_board=False)"
      ]
    },
    {
      "cell_type": "code",
      "execution_count": null,
      "metadata": {
        "id": "LQJ_mVcctsKq",
        "outputId": "772cf52a-b92b-4263-86f2-b22ee7a30261"
      },
      "outputs": [
        {
          "name": "stdout",
          "output_type": "stream",
          "text": [
            "622 µs ± 5.13 µs per loop (mean ± std. dev. of 7 runs, 1000 loops each)\n"
          ]
        }
      ],
      "source": [
        "%%timeit\n",
        "solveNQueensBB()"
      ]
    },
    {
      "cell_type": "code",
      "execution_count": null,
      "metadata": {
        "id": "xVUrqhA6tsKq",
        "outputId": "74d3fc42-ab9f-4df9-c8e4-23e2c53df7fd"
      },
      "outputs": [
        {
          "name": "stdout",
          "output_type": "stream",
          "text": [
            "1 0 0 0 0 0 0 0 0 0 0 0 0 0 0 0 0 0 0 0 \n",
            "0 0 0 1 0 0 0 0 0 0 0 0 0 0 0 0 0 0 0 0 \n",
            "0 1 0 0 0 0 0 0 0 0 0 0 0 0 0 0 0 0 0 0 \n",
            "0 0 0 0 1 0 0 0 0 0 0 0 0 0 0 0 0 0 0 0 \n",
            "0 0 1 0 0 0 0 0 0 0 0 0 0 0 0 0 0 0 0 0 \n",
            "0 0 0 0 0 0 0 0 0 0 0 0 0 0 0 0 0 0 1 0 \n",
            "0 0 0 0 0 0 0 0 0 0 0 0 0 0 0 0 1 0 0 0 \n",
            "0 0 0 0 0 0 0 0 0 0 0 0 0 0 1 0 0 0 0 0 \n",
            "0 0 0 0 0 0 0 0 0 0 0 1 0 0 0 0 0 0 0 0 \n",
            "0 0 0 0 0 0 0 0 0 0 0 0 0 0 0 1 0 0 0 0 \n",
            "0 0 0 0 0 0 0 0 0 0 0 0 0 0 0 0 0 0 0 1 \n",
            "0 0 0 0 0 0 0 1 0 0 0 0 0 0 0 0 0 0 0 0 \n",
            "0 0 0 0 0 1 0 0 0 0 0 0 0 0 0 0 0 0 0 0 \n",
            "0 0 0 0 0 0 0 0 0 0 0 0 0 0 0 0 0 1 0 0 \n",
            "0 0 0 0 0 0 1 0 0 0 0 0 0 0 0 0 0 0 0 0 \n",
            "0 0 0 0 0 0 0 0 0 0 0 0 1 0 0 0 0 0 0 0 \n",
            "0 0 0 0 0 0 0 0 0 0 1 0 0 0 0 0 0 0 0 0 \n",
            "0 0 0 0 0 0 0 0 1 0 0 0 0 0 0 0 0 0 0 0 \n",
            "0 0 0 0 0 0 0 0 0 0 0 0 0 1 0 0 0 0 0 0 \n",
            "0 0 0 0 0 0 0 0 0 1 0 0 0 0 0 0 0 0 0 0 \n"
          ]
        },
        {
          "data": {
            "text/plain": [
              "True"
            ]
          },
          "execution_count": 16,
          "metadata": {},
          "output_type": "execute_result"
        }
      ],
      "source": [
        "N=20\n",
        "solveNQueensBB(debug=True)"
      ]
    },
    {
      "cell_type": "code",
      "execution_count": null,
      "metadata": {
        "id": "bJiE2A_DtsKq",
        "outputId": "37e07219-d751-4ce4-8b20-818baf5d21e4"
      },
      "outputs": [
        {
          "name": "stdout",
          "output_type": "stream",
          "text": [
            "2.05 s ± 13.8 ms per loop (mean ± std. dev. of 7 runs, 1 loop each)\n"
          ]
        }
      ],
      "source": [
        "%%timeit\n",
        "solveNQueensBB()"
      ]
    },
    {
      "cell_type": "code",
      "execution_count": null,
      "metadata": {
        "id": "5X4csndDtsKr",
        "outputId": "161b18a0-9f4b-443c-c070-42f3bf8f8836"
      },
      "outputs": [
        {
          "name": "stdout",
          "output_type": "stream",
          "text": [
            "0 1 0 0 0 0 0 0 0 0 0 0 0 0 0 0 0 0 0 0 \n",
            "0 0 0 0 1 0 0 0 0 0 0 0 0 0 0 0 0 0 0 0 \n",
            "0 0 1 0 0 0 0 0 0 0 0 0 0 0 0 0 0 0 0 0 \n",
            "0 0 0 0 0 1 0 0 0 0 0 0 0 0 0 0 0 0 0 0 \n",
            "0 0 0 1 0 0 0 0 0 0 0 0 0 0 0 0 0 0 0 0 \n",
            "0 0 0 0 0 0 0 0 0 0 0 0 1 0 0 0 0 0 0 0 \n",
            "0 0 0 0 0 0 0 0 0 0 0 0 0 0 0 1 0 0 0 0 \n",
            "0 0 0 0 0 0 0 0 0 0 0 0 0 0 0 0 0 0 1 0 \n",
            "0 0 0 0 0 0 1 0 0 0 0 0 0 0 0 0 0 0 0 0 \n",
            "0 0 0 0 0 0 0 0 0 0 0 0 0 1 0 0 0 0 0 0 \n",
            "0 0 0 0 0 0 0 0 0 0 0 0 0 0 0 0 1 0 0 0 \n",
            "0 0 0 0 0 0 0 0 0 0 0 0 0 0 0 0 0 0 0 1 \n",
            "0 0 0 0 0 0 0 0 0 0 0 0 0 0 0 0 0 1 0 0 \n",
            "0 0 0 0 0 0 0 1 0 0 0 0 0 0 0 0 0 0 0 0 \n",
            "0 0 0 0 0 0 0 0 0 0 1 0 0 0 0 0 0 0 0 0 \n",
            "0 0 0 0 0 0 0 0 1 0 0 0 0 0 0 0 0 0 0 0 \n",
            "0 0 0 0 0 0 0 0 0 0 0 1 0 0 0 0 0 0 0 0 \n",
            "0 0 0 0 0 0 0 0 0 0 0 0 0 0 1 0 0 0 0 0 \n",
            "1 0 0 0 0 0 0 0 0 0 0 0 0 0 0 0 0 0 0 0 \n",
            "0 0 0 0 0 0 0 0 0 1 0 0 0 0 0 0 0 0 0 0 \n"
          ]
        },
        {
          "data": {
            "text/plain": [
              "True"
            ]
          },
          "execution_count": 22,
          "metadata": {},
          "output_type": "execute_result"
        }
      ],
      "source": [
        "N=20\n",
        "solveNQRandom([[0]*N for _ in range(N)])"
      ]
    },
    {
      "cell_type": "code",
      "execution_count": null,
      "metadata": {
        "id": "KToekqTbtsKr",
        "outputId": "a9eef4a3-87d0-4de3-877a-f141a9ad6990"
      },
      "outputs": [
        {
          "name": "stdout",
          "output_type": "stream",
          "text": [
            "The slowest run took 101.48 times longer than the fastest. This could mean that an intermediate result is being cached.\n",
            "5.04 s ± 4.6 s per loop (mean ± std. dev. of 7 runs, 1 loop each)\n"
          ]
        }
      ],
      "source": [
        "%%timeit\n",
        "solveNQRandom([[0]*N for _ in range(N)], print_board=False)"
      ]
    }
  ],
  "metadata": {
    "colab": {
      "provenance": [],
      "toc_visible": true
    },
    "kernelspec": {
      "display_name": "Python 3",
      "language": "python",
      "name": "python3"
    },
    "language_info": {
      "codemirror_mode": {
        "name": "ipython",
        "version": 3
      },
      "file_extension": ".py",
      "mimetype": "text/x-python",
      "name": "python",
      "nbconvert_exporter": "python",
      "pygments_lexer": "ipython3",
      "version": "3.12.1"
    }
  },
  "nbformat": 4,
  "nbformat_minor": 0
}
