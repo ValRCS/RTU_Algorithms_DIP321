{
  "cells": [
    {
      "cell_type": "markdown",
      "metadata": {
        "id": "WP_4lhEPE6VX"
      },
      "source": [
        "# Dynamic Programming\n",
        "\n",
        "adopted from: https://www.amazon.com/Python-Algorithms-Mastering-Basic-Language/dp/148420056X\n",
        "\n",
        "Python Algorithms: Mastering Basic Algorithms in the Python Language"
      ]
    },
    {
      "cell_type": "markdown",
      "metadata": {
        "id": "1Q35vmYLE6Vb"
      },
      "source": [
        "![Bellman](https://upload.wikimedia.org/wikipedia/en/7/7a/Richard_Ernest_Bellman.jpg)\n",
        "\n",
        "https://en.wikipedia.org/wiki/Richard_E._Bellman"
      ]
    },
    {
      "cell_type": "markdown",
      "metadata": {
        "id": "DgFO0AYbE6Vb"
      },
      "source": [
        "## Dynamic Programming - not the programming in computer terms!\n",
        "The term dynamic programming (or simply DP) can be a bit confusing to newcomers. Both of the words are\n",
        "used in a different way than most might expect. Programming here refers to making a set of choices (as in “linear\n",
        "programming”) and thus has more in common with the way the term is used in, say, television, than in writing\n",
        "computer programs. Dynamic simply means that things change over time—in this case, that each choice depends\n",
        "on the previous one. In other words, this “dynamicism” has little to do with the program you’ll write and is just a\n",
        "description of the problem class. In Bellman’s own words, “I thought dynamic programming was a good name. It was\n",
        "something not even a Congressman could object to. So I used it as an umbrella for my activities"
      ]
    },
    {
      "cell_type": "markdown",
      "metadata": {
        "id": "nHyDglmXE6Vc"
      },
      "source": [
        "* The core technique of DP -> caching\n",
        "* Decompose your problem recursively/inductively (usual)\n",
        "* allow overlap between the subproblems.\n",
        "* Plain recursive solution xponential number of times -> caching trims away waste\n",
        "* result is usually both an impressively efficient algorithm and a greater insight into the problem.\n",
        "\n",
        "\n",
        "Commonly, DP algorithms turn the recursive formulation upside down, making it iterative and filling out some\n",
        "data structure (such as a multidimensional array) step by step.\n",
        "\n",
        "* Another option well suited to high-level languages such as Python—is to implement the recursive formulation directly but to cache the return\n",
        "values.\n",
        "* If a call is made more than once with the same arguments, the result is simply returned directly from the\n",
        "cache. This is known as **memoization**"
      ]
    },
    {
      "cell_type": "markdown",
      "metadata": {
        "id": "N_LytZk-E6Vd"
      },
      "source": [
        "## Little puzzle: Longest Increasing Subsequence\n",
        "\n",
        "Say you have a sequence of numbers, and you want to find its\n",
        "longest increasing (or, rather nondecreasing) subsequence—or one of them, if there are more. A subsequence consists\n",
        "of a subset of the elements in their original order. So, for example, in the sequence [3, 1, 0, 2, 4], one solution\n",
        "would be [1, 2, 4]."
      ]
    },
    {
      "cell_type": "markdown",
      "metadata": {
        "id": "xunM5tBSGoq9"
      },
      "source": [
        "# Brute force - when in doubt use brute force"
      ]
    },
    {
      "cell_type": "code",
      "execution_count": 1,
      "metadata": {
        "id": "D-PPHZ-zGDgM"
      },
      "outputs": [],
      "source": [
        "from itertools import combinations # from standard library"
      ]
    },
    {
      "cell_type": "code",
      "execution_count": 2,
      "metadata": {
        "colab": {
          "base_uri": "https://localhost:8080/"
        },
        "id": "S5rsatOEGJCv",
        "outputId": "9760c796-436a-4261-aa94-a2ae6489d075"
      },
      "outputs": [
        {
          "output_type": "execute_result",
          "data": {
            "text/plain": [
              "[3, 1, 0, 2, 4]"
            ]
          },
          "metadata": {},
          "execution_count": 2
        }
      ],
      "source": [
        "my_list = [3, 1, 0, 2, 4]\n",
        "my_list"
      ]
    },
    {
      "cell_type": "code",
      "execution_count": 3,
      "metadata": {
        "colab": {
          "base_uri": "https://localhost:8080/"
        },
        "id": "bb6hD7cCGNan",
        "outputId": "e4820dd2-77ea-41b2-eb78-5cd5dc05c4d1"
      },
      "outputs": [
        {
          "output_type": "execute_result",
          "data": {
            "text/plain": [
              "[(3, 1, 0, 2), (3, 1, 0, 4), (3, 1, 2, 4), (3, 0, 2, 4), (1, 0, 2, 4)]"
            ]
          },
          "metadata": {},
          "execution_count": 3
        }
      ],
      "source": [
        "list(combinations(my_list, 4))"
      ]
    },
    {
      "cell_type": "code",
      "execution_count": null,
      "metadata": {
        "id": "uWq89cKhxa8P",
        "outputId": "d993c265-f834-4751-bc70-430c69874159"
      },
      "outputs": [
        {
          "data": {
            "text/plain": [
              "[(3, 1, 0),\n",
              " (3, 1, 2),\n",
              " (3, 1, 4),\n",
              " (3, 0, 2),\n",
              " (3, 0, 4),\n",
              " (3, 2, 4),\n",
              " (1, 0, 2),\n",
              " (1, 0, 4),\n",
              " (1, 2, 4),\n",
              " (0, 2, 4)]"
            ]
          },
          "execution_count": 4,
          "metadata": {},
          "output_type": "execute_result"
        }
      ],
      "source": [
        "list(combinations(my_list, 3)) # 5 choose 3 - formula is n! / (k! * (n - k)!)\n",
        "# n is the number of items in the list - 5\n",
        "# k is the number of items in each combination - 3\n",
        "# so here we have 5! / (3! * (5 - 3)!) = 5! / (3! * 2!) = 120 / (6 * 2) = 120 / 12 = 10"
      ]
    },
    {
      "cell_type": "code",
      "execution_count": null,
      "metadata": {
        "id": "Tp8w7i52xa8Q",
        "outputId": "f4b15d88-e2b2-422a-da8a-b963bfcc878a"
      },
      "outputs": [
        {
          "data": {
            "text/plain": [
              "[(3, 1),\n",
              " (3, 0),\n",
              " (3, 2),\n",
              " (3, 4),\n",
              " (1, 0),\n",
              " (1, 2),\n",
              " (1, 4),\n",
              " (0, 2),\n",
              " (0, 4),\n",
              " (2, 4)]"
            ]
          },
          "execution_count": 5,
          "metadata": {},
          "output_type": "execute_result"
        }
      ],
      "source": [
        "list(combinations(my_list, 2))"
      ]
    },
    {
      "cell_type": "code",
      "execution_count": null,
      "metadata": {
        "id": "_BFPuYaXxa8Q",
        "outputId": "a8bee77c-0d34-48cc-fce4-7c82976443cf"
      },
      "outputs": [
        {
          "data": {
            "text/plain": [
              "[(3,), (1,), (0,), (2,), (4,)]"
            ]
          },
          "execution_count": 5,
          "metadata": {},
          "output_type": "execute_result"
        }
      ],
      "source": [
        "list(combinations(my_list, 1))\n",
        "# gives us a list of single item tuples"
      ]
    },
    {
      "cell_type": "code",
      "execution_count": 4,
      "metadata": {
        "id": "1gzLkFkHE6Vd"
      },
      "outputs": [],
      "source": [
        "\n",
        "def naive_list(seq):\n",
        "    for length in range(len(seq), 0, -1): # n, n-1, ... , 1 # worse case for decreasing range would be 1 item as a solution\n",
        "        for sub in combinations(seq, length): # Subsequences of given length\n",
        "            # TODO find a faster way to check if the subsequence is sorted\n",
        "            if list(sub) == sorted(sub): # An increasing subsequence? sorted one would be same with the original one\n",
        "                # possible we could cache the sorted version of the subsequence\n",
        "                return sub # Return it!"
      ]
    },
    {
      "cell_type": "code",
      "execution_count": 5,
      "metadata": {
        "colab": {
          "base_uri": "https://localhost:8080/"
        },
        "id": "Z9-20xdBE6Ve",
        "outputId": "eaa7c15f-14d6-4b82-fb28-f0fde8c7708c"
      },
      "outputs": [
        {
          "output_type": "execute_result",
          "data": {
            "text/plain": [
              "(1, 2, 4)"
            ]
          },
          "metadata": {},
          "execution_count": 5
        }
      ],
      "source": [
        "naive_list([3,1,0,2,4])"
      ]
    },
    {
      "cell_type": "code",
      "execution_count": null,
      "metadata": {
        "colab": {
          "base_uri": "https://localhost:8080/"
        },
        "id": "QopIZ4_xGdET",
        "outputId": "421809ff-e574-4f08-9c18-3acc6b32a2d2"
      },
      "outputs": [
        {
          "data": {
            "text/plain": [
              "[(3, 1, 0),\n",
              " (3, 1, 2),\n",
              " (3, 1, 4),\n",
              " (3, 0, 2),\n",
              " (3, 0, 4),\n",
              " (3, 2, 4),\n",
              " (1, 0, 2),\n",
              " (1, 0, 4),\n",
              " (1, 2, 4),\n",
              " (0, 2, 4)]"
            ]
          },
          "execution_count": 8,
          "metadata": {},
          "output_type": "execute_result"
        }
      ],
      "source": [
        "# i started with 5 then 4 then checked 3 number combination\n",
        "list(combinations(my_list, 3))"
      ]
    },
    {
      "cell_type": "code",
      "execution_count": 6,
      "metadata": {
        "colab": {
          "base_uri": "https://localhost:8080/"
        },
        "id": "hvkZV9ATE6Vg",
        "outputId": "8b8652bc-26ea-4a5c-99b9-dc8862915558"
      },
      "outputs": [
        {
          "output_type": "execute_result",
          "data": {
            "text/plain": [
              "(0, 2, 3, 4, 6)"
            ]
          },
          "metadata": {},
          "execution_count": 6
        }
      ],
      "source": [
        "naive_list([5,0,2,1,6,3,7,4,6])"
      ]
    },
    {
      "cell_type": "code",
      "execution_count": null,
      "metadata": {
        "id": "rFwKUQT6GkHO"
      },
      "outputs": [],
      "source": [
        "# This works (on smaller sequences at least)\n",
        "\n"
      ]
    },
    {
      "cell_type": "code",
      "execution_count": 7,
      "metadata": {
        "id": "TwI6rosjHr7v",
        "outputId": "20854423-51e5-4999-9e8f-5ca30cce9a20",
        "colab": {
          "base_uri": "https://localhost:8080/"
        }
      },
      "outputs": [
        {
          "output_type": "execute_result",
          "data": {
            "text/plain": [
              "[61, 24, 94, 75, 39, 26, 93, 53, 97, 92]"
            ]
          },
          "metadata": {},
          "execution_count": 7
        }
      ],
      "source": [
        "import random\n",
        "random.seed(2024) # Set the seed so we all get the same pseudo-\"random\" results\n",
        "r10 = [random.randint(1,100) for _ in range(10)]\n",
        "r20 = [random.randint(1,100) for _ in range(20)]\n",
        "r25 = [random.randint(1,100) for _ in range(25)]\n",
        "r100 = [random.randint(1,1000) for _ in range(100)]\n",
        "r1k = [random.randint(1,10_000) for _ in range(1000)]\n",
        "r10"
      ]
    },
    {
      "cell_type": "code",
      "execution_count": 8,
      "metadata": {
        "colab": {
          "base_uri": "https://localhost:8080/"
        },
        "id": "a02-vEMsIjDE",
        "outputId": "dba92e94-7773-4404-b649-18f1500cc8a9"
      },
      "outputs": [
        {
          "output_type": "execute_result",
          "data": {
            "text/plain": [
              "(61, 75, 93, 97)"
            ]
          },
          "metadata": {},
          "execution_count": 8
        }
      ],
      "source": [
        "naive_list(r10)"
      ]
    },
    {
      "cell_type": "code",
      "execution_count": 9,
      "metadata": {
        "colab": {
          "base_uri": "https://localhost:8080/"
        },
        "id": "X-mcEBf8IA7E",
        "outputId": "b15690b3-bbe0-4e7d-980d-1cb4d77c491d"
      },
      "outputs": [
        {
          "output_type": "stream",
          "name": "stdout",
          "text": [
            "172 µs ± 19.2 µs per loop (mean ± std. dev. of 7 runs, 10000 loops each)\n"
          ]
        }
      ],
      "source": [
        "%%timeit\n",
        "naive_list(r10)"
      ]
    },
    {
      "cell_type": "code",
      "execution_count": 10,
      "metadata": {
        "colab": {
          "base_uri": "https://localhost:8080/"
        },
        "id": "Cm1fa0MXIqQ5",
        "outputId": "7f853068-5c23-4d1c-a009-89dae4629df8"
      },
      "outputs": [
        {
          "output_type": "execute_result",
          "data": {
            "text/plain": [
              "(34, 46, 54, 68, 79, 91, 94)"
            ]
          },
          "metadata": {},
          "execution_count": 10
        }
      ],
      "source": [
        "naive_list(r20)"
      ]
    },
    {
      "cell_type": "code",
      "execution_count": 11,
      "metadata": {
        "colab": {
          "base_uri": "https://localhost:8080/"
        },
        "id": "EtqW37roIoNV",
        "outputId": "92570424-8377-4a48-b0be-4f7503e065e3"
      },
      "outputs": [
        {
          "output_type": "stream",
          "name": "stdout",
          "text": [
            "300 ms ± 5.11 ms per loop (mean ± std. dev. of 7 runs, 1 loop each)\n"
          ]
        }
      ],
      "source": [
        "%%timeit\n",
        "naive_list(r20)"
      ]
    },
    {
      "cell_type": "code",
      "execution_count": null,
      "metadata": {
        "colab": {
          "base_uri": "https://localhost:8080/"
        },
        "id": "6RzVfqsSJEJz",
        "outputId": "06703687-31db-4cd6-e47b-404a4169f4aa"
      },
      "outputs": [
        {
          "data": {
            "text/plain": [
              "(27, 28, 53, 54, 60, 93, 96, 98)"
            ]
          },
          "execution_count": 13,
          "metadata": {},
          "output_type": "execute_result"
        }
      ],
      "source": [
        "naive_list(r25)"
      ]
    },
    {
      "cell_type": "code",
      "execution_count": null,
      "metadata": {
        "id": "uaSPoi8YE6Vg"
      },
      "outputs": [],
      "source": [
        "# how about complexity?\n",
        "# Two nested loops -> n^2 ?\n",
        "# Hint combinations is not O(1).... so it is at least O(n^2) but more likely O(n^3) or worse\n",
        "\n",
        "# TODO find exact complexity of this naive_list\n",
        "# HINT anything involving factorials, is going to be candidate for factorial complexity"
      ]
    },
    {
      "cell_type": "markdown",
      "metadata": {
        "id": "ud6e9cg7xa8S"
      },
      "source": [
        "## Fibonacci numbers"
      ]
    },
    {
      "cell_type": "code",
      "execution_count": 13,
      "metadata": {
        "id": "zkJRpCMhE6Vh"
      },
      "outputs": [],
      "source": [
        "## Fibonacci\n",
        "def fib(i): # finding i-th member in our Fibonacci chain 1,1,2,3,5,8,13,21,34,55,89\n",
        "    if i < 2: # base case - first two numbers are 1\n",
        "        return 1\n",
        "    else:\n",
        "        return fib(i-1) + fib(i-2) # we have two recursive calls, but our problem space is not going down by half"
      ]
    },
    {
      "cell_type": "code",
      "execution_count": 14,
      "metadata": {
        "colab": {
          "base_uri": "https://localhost:8080/"
        },
        "id": "Ol8nzEjlHCKL",
        "outputId": "d8f29db0-a63c-42ad-8259-e2c3ec70acf7"
      },
      "outputs": [
        {
          "output_type": "execute_result",
          "data": {
            "text/plain": [
              "(1, 1, 2, 3, 5, 8)"
            ]
          },
          "metadata": {},
          "execution_count": 14
        }
      ],
      "source": [
        "fib(0),fib(1),fib(2),fib(3),fib(4),fib(5)"
      ]
    },
    {
      "cell_type": "code",
      "execution_count": 15,
      "metadata": {
        "colab": {
          "base_uri": "https://localhost:8080/"
        },
        "id": "DrqbFRJPE6Vi",
        "outputId": "4b6a743e-9574-4c10-f753-4e1c62bc8de1"
      },
      "outputs": [
        {
          "output_type": "stream",
          "name": "stdout",
          "text": [
            "1 1 1.0\n",
            "2 1 2.0\n",
            "3 2 1.5\n",
            "5 3 1.66666667\n",
            "8 5 1.6\n",
            "13 8 1.625\n",
            "21 13 1.61538462\n",
            "34 21 1.61904762\n",
            "55 34 1.61764706\n",
            "89 55 1.61818182\n",
            "144 89 1.61797753\n",
            "233 144 1.61805556\n",
            "377 233 1.61802575\n",
            "610 377 1.61803714\n",
            "987 610 1.61803279\n",
            "1597 987 1.61803445\n",
            "2584 1597 1.61803381\n",
            "4181 2584 1.61803406\n",
            "6765 4181 1.61803396\n"
          ]
        }
      ],
      "source": [
        "# sidenote: Fibonaccy ratios approach golden mean\n",
        "for n in range(1,20):\n",
        "    print(fib(n), fib(n-1), round(fib(n)/fib(n-1),8))"
      ]
    },
    {
      "cell_type": "markdown",
      "metadata": {
        "id": "VXDrc0YVE6Vj"
      },
      "source": [
        "![Fib Spiral](https://upload.wikimedia.org/wikipedia/commons/thumb/9/93/Fibonacci_spiral_34.svg/500px-Fibonacci_spiral_34.svg.png)"
      ]
    },
    {
      "cell_type": "markdown",
      "metadata": {
        "id": "kqfqC7YnE6Vj"
      },
      "source": [
        "https://en.wikipedia.org/wiki/Golden_ratio"
      ]
    },
    {
      "cell_type": "code",
      "execution_count": 16,
      "metadata": {
        "colab": {
          "base_uri": "https://localhost:8080/"
        },
        "id": "AndoTITxE6Vj",
        "outputId": "c1bfb36f-0a58-4b76-8f75-fb6d7e235444"
      },
      "outputs": [
        {
          "output_type": "execute_result",
          "data": {
            "text/plain": [
              "1346269"
            ]
          },
          "metadata": {},
          "execution_count": 16
        }
      ],
      "source": [
        "# so far so good?\n",
        "fib(30)"
      ]
    },
    {
      "cell_type": "code",
      "execution_count": 17,
      "metadata": {
        "colab": {
          "base_uri": "https://localhost:8080/"
        },
        "id": "MHq9gpm0Hkik",
        "outputId": "65b57a0c-ae53-46c4-9994-c3824ea33094"
      },
      "outputs": [
        {
          "output_type": "execute_result",
          "data": {
            "text/plain": [
              "14930352"
            ]
          },
          "metadata": {},
          "execution_count": 17
        }
      ],
      "source": [
        "fib(35)"
      ]
    },
    {
      "cell_type": "code",
      "execution_count": null,
      "metadata": {
        "colab": {
          "base_uri": "https://localhost:8080/"
        },
        "id": "B0Uv-ha6HrBT",
        "outputId": "440ea9cb-fbe5-4cb6-bdf2-e3a53cf6a6cb"
      },
      "outputs": [
        {
          "data": {
            "text/plain": [
              "24157817"
            ]
          },
          "execution_count": 24,
          "metadata": {},
          "output_type": "execute_result"
        }
      ],
      "source": [
        "fib(36)"
      ]
    },
    {
      "cell_type": "markdown",
      "metadata": {
        "id": "gaNsl4ooE6Vj"
      },
      "source": [
        "#https://stackoverflow.com/questions/35959100/explanation-on-fibonacci-recursion\n",
        "![FibTree](https://i.stack.imgur.com/QVSdv.png)"
      ]
    },
    {
      "cell_type": "code",
      "execution_count": 18,
      "metadata": {
        "id": "gh9G9pDBE6Vk"
      },
      "outputs": [],
      "source": [
        "from functools import wraps\n",
        "# memo is a function that takes a function as argument and returns a wrapped version of this function with caching\n",
        "def memo(func):\n",
        "    cache = {} # Stored subproblem solutions, this dictionary - Hashmap type - so O(1) lookup\n",
        "    @wraps(func) # Make wrap look like func\n",
        "    def wrap(*args): # The memoized wrapper\n",
        "        if args not in cache: # Not already computed? O(1) lookup\n",
        "            cache[args] = func(*args) # Compute & cache the solution O(1) to store - of func itself will have some cost\n",
        "        return cache[args] # Return the cached solution - return again is O(1)\n",
        "    return wrap # Return the wrapper\n",
        "# PS Python actually has memoization library as well - we are learning here"
      ]
    },
    {
      "cell_type": "code",
      "execution_count": 19,
      "metadata": {
        "id": "j9WGS7jsE6Vk"
      },
      "outputs": [],
      "source": [
        "fib_memo = memo(fib) #functions are first class citizens in Python\n"
      ]
    },
    {
      "cell_type": "code",
      "execution_count": 20,
      "metadata": {
        "colab": {
          "base_uri": "https://localhost:8080/"
        },
        "id": "ft1J8tgME6Vk",
        "outputId": "44945215-4b9a-4460-9efc-d6800ddd5f8a"
      },
      "outputs": [
        {
          "output_type": "execute_result",
          "data": {
            "text/plain": [
              "1346269"
            ]
          },
          "metadata": {},
          "execution_count": 20
        }
      ],
      "source": [
        "fib_memo(30)"
      ]
    },
    {
      "cell_type": "code",
      "execution_count": 21,
      "metadata": {
        "colab": {
          "base_uri": "https://localhost:8080/"
        },
        "id": "JU7lUnoeKqYi",
        "outputId": "310e7e3f-21bd-4ccb-e90d-f325dada1d97"
      },
      "outputs": [
        {
          "output_type": "execute_result",
          "data": {
            "text/plain": [
              "9227465"
            ]
          },
          "metadata": {},
          "execution_count": 21
        }
      ],
      "source": [
        "fib_memo(34)"
      ]
    },
    {
      "cell_type": "code",
      "execution_count": 22,
      "metadata": {
        "id": "liXlbYbQxa8U",
        "outputId": "7fd2a01f-eb03-49ec-8ce0-fedb9fdbeefd",
        "colab": {
          "base_uri": "https://localhost:8080/"
        }
      },
      "outputs": [
        {
          "output_type": "execute_result",
          "data": {
            "text/plain": [
              "14930352"
            ]
          },
          "metadata": {},
          "execution_count": 22
        }
      ],
      "source": [
        "fib_memo(35)"
      ]
    },
    {
      "cell_type": "code",
      "execution_count": null,
      "metadata": {
        "colab": {
          "base_uri": "https://localhost:8080/"
        },
        "id": "o9fuyP39E6Vl",
        "outputId": "619ac08c-3600-4202-da63-4b9bcac97576"
      },
      "outputs": [
        {
          "name": "stdout",
          "output_type": "stream",
          "text": [
            "1 loop, best of 5: 4.08 s per loop\n"
          ]
        }
      ],
      "source": [
        "%%timeit\n",
        "fib(35)"
      ]
    },
    {
      "cell_type": "code",
      "execution_count": 23,
      "metadata": {
        "id": "WLYRbw4-E6Vl"
      },
      "outputs": [],
      "source": [
        "@memo # this is a decorator - meaning we wrap our fib_m function in memo function\n",
        "def fib_m(i):\n",
        "    if i < 2:\n",
        "        return 1\n",
        "    else:\n",
        "        return fib_m(i-1) + fib_m(i-2)"
      ]
    },
    {
      "cell_type": "code",
      "execution_count": 24,
      "metadata": {
        "colab": {
          "base_uri": "https://localhost:8080/"
        },
        "id": "Nz46YPZGE6Vl",
        "outputId": "b922694e-4626-4a4d-ada2-6a4b88e674a2"
      },
      "outputs": [
        {
          "output_type": "stream",
          "name": "stdout",
          "text": [
            "101 ns ± 0.453 ns per loop (mean ± std. dev. of 7 runs, 10000000 loops each)\n"
          ]
        }
      ],
      "source": [
        "%%timeit\n",
        "fib_m(35)"
      ]
    },
    {
      "cell_type": "code",
      "execution_count": 25,
      "metadata": {
        "colab": {
          "base_uri": "https://localhost:8080/"
        },
        "id": "g43ffT2WK5mE",
        "outputId": "79aaefa1-eb77-482b-f1ba-8280b79e24b6"
      },
      "outputs": [
        {
          "output_type": "stream",
          "name": "stdout",
          "text": [
            "102 ns ± 0.48 ns per loop (mean ± std. dev. of 7 runs, 10000000 loops each)\n"
          ]
        }
      ],
      "source": [
        "%%timeit\n",
        "fib_m(38)"
      ]
    },
    {
      "cell_type": "code",
      "execution_count": null,
      "metadata": {
        "colab": {
          "base_uri": "https://localhost:8080/"
        },
        "id": "varRk-TpLG-0",
        "outputId": "f9c4239c-5882-403f-b851-0eeba3d88e0f"
      },
      "outputs": [
        {
          "name": "stdout",
          "output_type": "stream",
          "text": [
            "313 ns ± 33.8 ns per loop (mean ± std. dev. of 7 runs, 1,000,000 loops each)\n"
          ]
        }
      ],
      "source": [
        "%%timeit\n",
        "fib_m(45)"
      ]
    },
    {
      "cell_type": "code",
      "execution_count": null,
      "metadata": {
        "id": "nO5JzuRPE6Vl"
      },
      "outputs": [],
      "source": []
    },
    {
      "cell_type": "code",
      "execution_count": null,
      "metadata": {
        "colab": {
          "base_uri": "https://localhost:8080/"
        },
        "id": "NCImh-7GE6Vm",
        "outputId": "7280effb-d544-47ad-d844-52325aea7671"
      },
      "outputs": [
        {
          "data": {
            "text/plain": [
              "24157817"
            ]
          },
          "execution_count": 23,
          "metadata": {},
          "output_type": "execute_result"
        }
      ],
      "source": [
        "fib_m(36) # well the book implemention does not quite work, it is not caching properly"
      ]
    },
    {
      "cell_type": "code",
      "execution_count": null,
      "metadata": {
        "colab": {
          "base_uri": "https://localhost:8080/"
        },
        "id": "--c7uK81E6Vm",
        "outputId": "6bcce2d6-a615-4b1f-fcdf-444b2bfdf34e"
      },
      "outputs": [
        {
          "data": {
            "text/plain": [
              "165580141"
            ]
          },
          "execution_count": 24,
          "metadata": {},
          "output_type": "execute_result"
        }
      ],
      "source": [
        "fib_m(40)"
      ]
    },
    {
      "cell_type": "code",
      "execution_count": null,
      "metadata": {
        "colab": {
          "base_uri": "https://localhost:8080/"
        },
        "id": "jR0QrUAiE6Vm",
        "outputId": "6733edce-5591-4e33-8b3b-001c77868b01"
      },
      "outputs": [
        {
          "data": {
            "text/plain": [
              "2504730781961"
            ]
          },
          "execution_count": 25,
          "metadata": {},
          "output_type": "execute_result"
        }
      ],
      "source": [
        "fib_m(60)"
      ]
    },
    {
      "cell_type": "code",
      "execution_count": 26,
      "metadata": {
        "colab": {
          "base_uri": "https://localhost:8080/"
        },
        "id": "wm6eXes3E6Vm",
        "outputId": "8547187c-3433-401e-8e99-25d27af3eb80"
      },
      "outputs": [
        {
          "output_type": "execute_result",
          "data": {
            "text/plain": [
              "453973694165307953197296969697410619233826"
            ]
          },
          "metadata": {},
          "execution_count": 26
        }
      ],
      "source": [
        "fib_m(200)"
      ]
    },
    {
      "cell_type": "code",
      "execution_count": 27,
      "metadata": {
        "colab": {
          "base_uri": "https://localhost:8080/"
        },
        "id": "jd8vClkwLa3r",
        "outputId": "6c5d3fe7-aaf4-4625-b8a0-c47842d0d963"
      },
      "outputs": [
        {
          "output_type": "execute_result",
          "data": {
            "text/plain": [
              "1000"
            ]
          },
          "metadata": {},
          "execution_count": 27
        }
      ],
      "source": [
        "import sys\n",
        "sys.getrecursionlimit()"
      ]
    },
    {
      "cell_type": "code",
      "execution_count": 28,
      "metadata": {
        "colab": {
          "base_uri": "https://localhost:8080/"
        },
        "id": "fQw7FaH0E6Vn",
        "outputId": "1f802178-3d08-4fec-fabd-4b7d6d928f91"
      },
      "outputs": [
        {
          "output_type": "execute_result",
          "data": {
            "text/plain": [
              "178684461669052552311410692812805706249615844217278044703496837914086683543763273909969771627106004287604844670397177991379601"
            ]
          },
          "metadata": {},
          "execution_count": 28
        }
      ],
      "source": [
        "fib_m(600) # on Google Colab stack size is limited to 1k by defaulb"
      ]
    },
    {
      "cell_type": "code",
      "execution_count": 29,
      "metadata": {
        "id": "9k29aWklKCJb"
      },
      "outputs": [],
      "source": [
        "import sys\n",
        "sys.setrecursionlimit(100_000)"
      ]
    },
    {
      "cell_type": "code",
      "execution_count": 30,
      "metadata": {
        "id": "1T8dN_FOxa8d",
        "outputId": "cb5e75e0-757e-469f-d918-05d6492b1220",
        "colab": {
          "base_uri": "https://localhost:8080/"
        }
      },
      "outputs": [
        {
          "output_type": "execute_result",
          "data": {
            "text/plain": [
              "100000"
            ]
          },
          "metadata": {},
          "execution_count": 30
        }
      ],
      "source": [
        "# check recursion limit\n",
        "sys.getrecursionlimit()"
      ]
    },
    {
      "cell_type": "code",
      "execution_count": 31,
      "metadata": {
        "colab": {
          "base_uri": "https://localhost:8080/"
        },
        "id": "7Phhhrn6E6Vn",
        "outputId": "0d48bde7-968a-4189-8ed6-a21993d50254"
      },
      "outputs": [
        {
          "output_type": "execute_result",
          "data": {
            "text/plain": [
              "6835702259575806647045396549170580107055408029365524565407553367798082454408054014954534318953113802726603726769523447478238192192714526677939943338306101405105414819705664090901813637296453767095528104868264704914433529355579148731044685634135487735897954629842516947101494253575869699893400976539545740214819819151952085089538422954565146720383752121972115725761141759114990448978941370030912401573418221496592822626"
            ]
          },
          "metadata": {},
          "execution_count": 31
        }
      ],
      "source": [
        "fib_m(2000)\n",
        "# sadly memoization will not solved stack overflow problem"
      ]
    },
    {
      "cell_type": "code",
      "execution_count": null,
      "metadata": {
        "colab": {
          "base_uri": "https://localhost:8080/"
        },
        "id": "1sudl6SYE6Vn",
        "outputId": "a1f80e88-157d-4e51-e34e-30592dacee9f"
      },
      "outputs": [
        {
          "data": {
            "text/plain": [
              "6276302800488957086035253108349684055478528702736457439025824448927937256811663264475883711527806250329984690249846819800648580083040107584710332687596562185073640422286799239932615797105974710857095487342820351307477141875012176874307156016229965832589137779724973854362777629878229505500260477136108363709090010421536915488632339240756987974122598603591920306874926755600361865354330444681915154695741851960071089944015319300128574107662757054790648152751366475529121877212785489665101733755898580317984402963873738187000120737824193162011399200547424034440836239726275765901190914513013217132050988064832024783370583789324109052449717186857327239783000020791777804503930439875068662687670678802914269784817022567088069496231111407908953313902398529655056082228598715882365779469902465675715699187225655878240668599547496218159297881601061923195562143932693324644219266564617042934227893371179832389642895285401263875342640468017378925921483580111278055044254198382265567395946431803304304326865077742925818757370691726168228648841319231470626"
            ]
          },
          "execution_count": 30,
          "metadata": {},
          "output_type": "execute_result"
        }
      ],
      "source": [
        "fib_m(5000)\n",
        "# sadly memoization will not help us with stack overflow , a good way to force kernel restart :)"
      ]
    },
    {
      "cell_type": "code",
      "execution_count": 32,
      "metadata": {
        "id": "Gg81YxScE6Vn"
      },
      "outputs": [],
      "source": [
        "import functools\n",
        "# https://stackoverflow.com/questions/1988804/what-is-memoization-and-how-can-i-use-it-in-python\n",
        "@functools.lru_cache(maxsize=None) #by default only 128 latest so by setting it to None I cache everything - this is a decorator\n",
        "def fib(num):\n",
        "    if num < 2:\n",
        "        return num\n",
        "    else:\n",
        "        return fib(num-1) + fib(num-2)\n",
        "# in 3.9 Python there is a newer @functools.cache - similar idea"
      ]
    },
    {
      "cell_type": "code",
      "execution_count": 33,
      "metadata": {
        "colab": {
          "base_uri": "https://localhost:8080/"
        },
        "id": "Zmfn99TsE6Vn",
        "outputId": "de1769dd-2230-49a9-c524-638e76c18f3c"
      },
      "outputs": [
        {
          "output_type": "execute_result",
          "data": {
            "text/plain": [
              "9227465"
            ]
          },
          "metadata": {},
          "execution_count": 33
        }
      ],
      "source": [
        "fib(35)"
      ]
    },
    {
      "cell_type": "code",
      "execution_count": 34,
      "metadata": {
        "colab": {
          "base_uri": "https://localhost:8080/"
        },
        "id": "CJM44ffOE6Vn",
        "outputId": "9bcf9575-0703-4ae8-85bf-1e8821a17f66"
      },
      "outputs": [
        {
          "output_type": "stream",
          "name": "stdout",
          "text": [
            "41.4 ns ± 0.428 ns per loop (mean ± std. dev. of 7 runs, 10000000 loops each)\n"
          ]
        }
      ],
      "source": [
        "%%timeit\n",
        "fib(35)"
      ]
    },
    {
      "cell_type": "code",
      "execution_count": null,
      "metadata": {
        "colab": {
          "base_uri": "https://localhost:8080/"
        },
        "id": "HrrY4tyTL-EA",
        "outputId": "7794d189-7ba7-4f43-c0ea-f5f61aff7044"
      },
      "outputs": [
        {
          "name": "stdout",
          "output_type": "stream",
          "text": [
            "82.7 ns ± 2.6 ns per loop (mean ± std. dev. of 7 runs, 10,000,000 loops each)\n"
          ]
        }
      ],
      "source": [
        "%%timeit\n",
        "fib(45)"
      ]
    },
    {
      "cell_type": "code",
      "execution_count": 35,
      "metadata": {
        "colab": {
          "base_uri": "https://localhost:8080/"
        },
        "id": "YNQQZQrdKl7c",
        "outputId": "00fb040a-352a-4b7f-8cf3-7811304bf1e6"
      },
      "outputs": [
        {
          "output_type": "stream",
          "name": "stdout",
          "text": [
            "42.9 ns ± 0.331 ns per loop (mean ± std. dev. of 7 runs, 10000000 loops each)\n"
          ]
        }
      ],
      "source": [
        "%%timeit\n",
        "fib(100)"
      ]
    },
    {
      "cell_type": "code",
      "execution_count": null,
      "metadata": {
        "id": "WExPESYDxa8e",
        "outputId": "6744049a-8ffd-474f-bf6b-0fcf8c8bc5db"
      },
      "outputs": [
        {
          "data": {
            "text/plain": [
              "54877108839480000051413673948383714443800519309123592724494953427039811201064341234954387521525390615504949092187441218246679104731442473022013980160407007017175697317900483275246652938800"
            ]
          },
          "execution_count": 25,
          "metadata": {},
          "output_type": "execute_result"
        }
      ],
      "source": [
        "fib(900)"
      ]
    },
    {
      "cell_type": "code",
      "execution_count": null,
      "metadata": {
        "id": "DzukVWJcxa8e",
        "outputId": "0dc89aea-01a5-4ac1-ca29-7fa01fbfd27b"
      },
      "outputs": [
        {
          "data": {
            "text/plain": [
              "43466557686937456435688527675040625802564660517371780402481729089536555417949051890403879840079255169295922593080322634775209689623239873322471161642996440906533187938298969649928516003704476137795166849228875"
            ]
          },
          "execution_count": 26,
          "metadata": {},
          "output_type": "execute_result"
        }
      ],
      "source": [
        "fib(1_000)"
      ]
    },
    {
      "cell_type": "code",
      "execution_count": 36,
      "metadata": {
        "id": "xEPf-Xxpxa8e",
        "outputId": "be6be382-7583-486a-f1ee-28f0e400b1bc",
        "colab": {
          "base_uri": "https://localhost:8080/"
        }
      },
      "outputs": [
        {
          "output_type": "stream",
          "name": "stdout",
          "text": [
            "41.9 ns ± 0.34 ns per loop (mean ± std. dev. of 7 runs, 10000000 loops each)\n"
          ]
        }
      ],
      "source": [
        "%%timeit\n",
        "fib(1_000)"
      ]
    },
    {
      "cell_type": "code",
      "execution_count": null,
      "metadata": {
        "colab": {
          "base_uri": "https://localhost:8080/"
        },
        "id": "3BBdXcLtKtJl",
        "outputId": "706b011e-b515-4c86-8ecd-d892700eea29"
      },
      "outputs": [
        {
          "name": "stdout",
          "output_type": "stream",
          "text": [
            "The slowest run took 44.83 times longer than the fastest. This could mean that an intermediate result is being cached.\n",
            "1000000 loops, best of 5: 247 ns per loop\n"
          ]
        }
      ],
      "source": [
        "%%timeit\n",
        "fib_m(100)  # so my memoization solution is about 2.5x slower than library solution but both are extremely fast"
      ]
    },
    {
      "cell_type": "code",
      "execution_count": null,
      "metadata": {
        "id": "hXzXT0LJE6Vo"
      },
      "outputs": [],
      "source": [
        "# so official caching version is 3 times faster than our self-made version, factor of 3 is not a dealbreak but nice to know"
      ]
    },
    {
      "cell_type": "code",
      "execution_count": null,
      "metadata": {
        "id": "3F-YesuFE6Vo",
        "outputId": "c6c7f4d8-fae2-465b-fbd2-3cb2fc4a2020"
      },
      "outputs": [
        {
          "data": {
            "text/plain": [
              "102334155"
            ]
          },
          "execution_count": 4,
          "metadata": {},
          "output_type": "execute_result"
        }
      ],
      "source": [
        "fib(40)"
      ]
    },
    {
      "cell_type": "code",
      "execution_count": null,
      "metadata": {
        "id": "AfiykkfqE6Vo",
        "outputId": "3817bde4-67de-4f6c-9810-4788eff86724"
      },
      "outputs": [
        {
          "data": {
            "text/plain": [
              "354224848179261915075"
            ]
          },
          "execution_count": 5,
          "metadata": {},
          "output_type": "execute_result"
        }
      ],
      "source": [
        "fib(100)"
      ]
    },
    {
      "cell_type": "code",
      "execution_count": null,
      "metadata": {
        "id": "tboJ30OtE6Vo",
        "outputId": "697811b5-6cdd-4265-d363-f07fa205a616"
      },
      "outputs": [
        {
          "data": {
            "text/plain": [
              "280571172992510140037611932413038677189525"
            ]
          },
          "execution_count": 42,
          "metadata": {},
          "output_type": "execute_result"
        }
      ],
      "source": [
        "fib(200)"
      ]
    },
    {
      "cell_type": "code",
      "execution_count": null,
      "metadata": {
        "id": "LYc5pkzmE6Vo",
        "outputId": "04aa6695-6641-4b73-fb7d-16dc131992fc"
      },
      "outputs": [
        {
          "data": {
            "text/plain": [
              "27269884455406270157991615313642198705000779992917725821180502894974726476373026809482509284562310031170172380127627214493597616743856443016039972205847405917634660750474914561879656763268658528092195715626073248224067794253809132219056382939163918400"
            ]
          },
          "execution_count": 41,
          "metadata": {},
          "output_type": "execute_result"
        }
      ],
      "source": [
        "fib(1200)"
      ]
    },
    {
      "cell_type": "code",
      "execution_count": null,
      "metadata": {
        "id": "qQfhLNVJE6Vp",
        "outputId": "f1ef2e18-ac77-45c2-8c66-3d807c186b8b"
      },
      "outputs": [
        {
          "data": {
            "text/plain": [
              "410615886307971260333568378719267105220125108637369252408885430926905584274113403731330491660850044560830036835706942274588569362145476502674373045446852160486606292497360503469773453733196887405847255290082049086907512622059054542195889758031109222670849274793859539133318371244795543147611073276240066737934085191731810993201706776838934766764778739502174470268627820918553842225858306408301661862900358266857238210235802504351951472997919676524004784236376453347268364152648346245840573214241419937917242918602639810097866942392015404620153818671425739835074851396421139982713640679581178458198658692285968043243656709796000"
            ]
          },
          "execution_count": 9,
          "metadata": {},
          "output_type": "execute_result"
        }
      ],
      "source": [
        "fib(3000)"
      ]
    },
    {
      "cell_type": "code",
      "execution_count": null,
      "metadata": {
        "id": "40lNbsHjE6Vp"
      },
      "outputs": [],
      "source": [
        "# so the problem with TOP-DOWN memoization is that we are still left with recursive calls going over our stack limit"
      ]
    },
    {
      "cell_type": "markdown",
      "metadata": {
        "id": "OuoqwIHxE6Vp"
      },
      "source": [
        "## So how to solve the stack overflow problem?"
      ]
    },
    {
      "cell_type": "code",
      "execution_count": null,
      "metadata": {
        "id": "0BUK19eXE6Vp"
      },
      "outputs": [],
      "source": [
        "# we could try the build up solution - meaning BOTTOM-UP method\n",
        "# this will usually be an iterative(looping) solution so no worries about stack\n"
      ]
    },
    {
      "cell_type": "markdown",
      "metadata": {
        "id": "9PvgaddjMxK8"
      },
      "source": [
        "# Iterative version of Fibonacci with full table"
      ]
    },
    {
      "cell_type": "code",
      "execution_count": 37,
      "metadata": {
        "id": "BsDQLkWTE6Vp"
      },
      "outputs": [],
      "source": [
        "# silly iterative version\n",
        "# useful if you want to return ALL fibs\n",
        "def fib_it(n): # so n will be 0 based\n",
        "    fibs = [1,1] #so we are going to build our answers\n",
        "    # lets pretend we do not know of any formulas and optimizations\n",
        "#     n += 1 # fix this\n",
        "    if n < 2:\n",
        "        return fibs[n] # off by one errors\n",
        "    ndx = 2\n",
        "    while ndx <= n:\n",
        "        fibs.append(fibs[ndx-1]+fibs[ndx-2]) # so I am building a 1-d table(array/list) of answers\n",
        "        # so appending to list incurs some cost as well\n",
        "        # in fib we could have of course just stored 2 previous values instead of all\n",
        "        ndx+=1\n",
        "    return fibs[n] # again off by one indexing 0 based in python and 1 based in our function\n"
      ]
    },
    {
      "cell_type": "code",
      "execution_count": 38,
      "metadata": {
        "colab": {
          "base_uri": "https://localhost:8080/"
        },
        "id": "Fum7eojEE6Vp",
        "outputId": "41278c16-af07-44a5-d1f4-9c54133c5204"
      },
      "outputs": [
        {
          "output_type": "execute_result",
          "data": {
            "text/plain": [
              "2"
            ]
          },
          "metadata": {},
          "execution_count": 38
        }
      ],
      "source": [
        "fib_it(2)"
      ]
    },
    {
      "cell_type": "code",
      "execution_count": 39,
      "metadata": {
        "colab": {
          "base_uri": "https://localhost:8080/"
        },
        "id": "3rgA_z7oQBWU",
        "outputId": "6486ff84-4e34-498e-a173-02ab15f5479d"
      },
      "outputs": [
        {
          "output_type": "execute_result",
          "data": {
            "text/plain": [
              "5"
            ]
          },
          "metadata": {},
          "execution_count": 39
        }
      ],
      "source": [
        "fib_it(4)"
      ]
    },
    {
      "cell_type": "code",
      "execution_count": 40,
      "metadata": {
        "colab": {
          "base_uri": "https://localhost:8080/"
        },
        "id": "88xImqKVQFWC",
        "outputId": "cabbfe86-adaa-4a06-9a10-668365e7366e"
      },
      "outputs": [
        {
          "output_type": "execute_result",
          "data": {
            "text/plain": [
              "573147844013817084101"
            ]
          },
          "metadata": {},
          "execution_count": 40
        }
      ],
      "source": [
        "fib_it(100)"
      ]
    },
    {
      "cell_type": "code",
      "execution_count": null,
      "metadata": {
        "id": "AjdNRvfexa8h",
        "outputId": "221d24ff-846d-4331-c4f4-1894fe308936"
      },
      "outputs": [
        {
          "data": {
            "text/plain": [
              "(0, 1, 1, 2)"
            ]
          },
          "execution_count": 36,
          "metadata": {},
          "output_type": "execute_result"
        }
      ],
      "source": [
        "fib(0),fib(1),fib(2),fib(3)"
      ]
    },
    {
      "cell_type": "code",
      "execution_count": null,
      "metadata": {
        "id": "Xv30to7Gxa8h",
        "outputId": "7883a118-e8ef-4be7-ea27-72420b8f0f33"
      },
      "outputs": [
        {
          "data": {
            "text/plain": [
              "1"
            ]
          },
          "execution_count": 33,
          "metadata": {},
          "output_type": "execute_result"
        }
      ],
      "source": [
        "fib_it(0)"
      ]
    },
    {
      "cell_type": "code",
      "execution_count": 41,
      "metadata": {
        "id": "EBYeZZANxa8h",
        "outputId": "b0a3d846-cc25-4f1f-f016-8e4824413ec7",
        "colab": {
          "base_uri": "https://localhost:8080/"
        }
      },
      "outputs": [
        {
          "output_type": "execute_result",
          "data": {
            "text/plain": [
              "43466557686937456435688527675040625802564660517371780402481729089536555417949051890403879840079255169295922593080322634775209689623239873322471161642996440906533187938298969649928516003704476137795166849228875"
            ]
          },
          "metadata": {},
          "execution_count": 41
        }
      ],
      "source": [
        "fib_it(999)"
      ]
    },
    {
      "cell_type": "code",
      "execution_count": 42,
      "metadata": {
        "id": "moHfMkF-xa8h",
        "outputId": "23c8b888-739b-4bda-b3f7-0c95aab1e260",
        "colab": {
          "base_uri": "https://localhost:8080/"
        }
      },
      "outputs": [
        {
          "output_type": "stream",
          "name": "stdout",
          "text": [
            "48.9 ns ± 0.483 ns per loop (mean ± std. dev. of 7 runs, 10000000 loops each)\n"
          ]
        }
      ],
      "source": [
        "%%timeit\n",
        "fib(999)"
      ]
    },
    {
      "cell_type": "code",
      "execution_count": null,
      "metadata": {
        "id": "hSoP2colxa8h",
        "outputId": "12d1b4e1-67f6-4558-cc9b-ecc060e3772b"
      },
      "outputs": [
        {
          "name": "stdout",
          "output_type": "stream",
          "text": [
            "186 µs ± 21.6 µs per loop (mean ± std. dev. of 7 runs, 1,000 loops each)\n"
          ]
        }
      ],
      "source": [
        "%%timeit\n",
        "fib_it(999)"
      ]
    },
    {
      "cell_type": "code",
      "execution_count": null,
      "metadata": {
        "colab": {
          "base_uri": "https://localhost:8080/"
        },
        "id": "xiTazbxwQIlq",
        "outputId": "008642dc-530b-4988-f3d0-c208867c3fb3"
      },
      "outputs": [
        {
          "name": "stdout",
          "output_type": "stream",
          "text": [
            "8.08 µs ± 488 ns per loop (mean ± std. dev. of 7 runs, 100,000 loops each)\n"
          ]
        }
      ],
      "source": [
        "%%timeit\n",
        "fib_it(35)\n",
        "# turns out this solution will be slower than memoized recursive solution\n",
        "# why because we spend time setting up a list and appending items"
      ]
    },
    {
      "cell_type": "code",
      "execution_count": null,
      "metadata": {
        "colab": {
          "base_uri": "https://localhost:8080/"
        },
        "id": "VBTw3NOQMgPE",
        "outputId": "7e4d06a2-a2c7-4c18-d156-336717a94a7f"
      },
      "outputs": [
        {
          "name": "stdout",
          "output_type": "stream",
          "text": [
            "21.5 µs ± 3.44 µs per loop (mean ± std. dev. of 7 runs, 10,000 loops each)\n"
          ]
        }
      ],
      "source": [
        "%%timeit\n",
        "fib_it(100)"
      ]
    },
    {
      "cell_type": "code",
      "execution_count": null,
      "metadata": {
        "id": "W8PMCQqGxa8i",
        "outputId": "4f0ab913-78c0-494c-85da-24e3dea6dbde"
      },
      "outputs": [
        {
          "name": "stdout",
          "output_type": "stream",
          "text": [
            "5.86 ms ± 294 µs per loop (mean ± std. dev. of 7 runs, 100 loops each)\n"
          ]
        }
      ],
      "source": [
        "%%timeit\n",
        "fib_it(10_000)"
      ]
    },
    {
      "cell_type": "code",
      "execution_count": null,
      "metadata": {
        "id": "vfvm7Xv5xa8i",
        "outputId": "51ecfd7c-d6d4-4bc0-f7c8-bb11d674e80a"
      },
      "outputs": [
        {
          "data": {
            "text/plain": [
              "2090"
            ]
          },
          "execution_count": 41,
          "metadata": {},
          "output_type": "execute_result"
        }
      ],
      "source": [
        "len(str(fib_it(10_000)))"
      ]
    },
    {
      "cell_type": "code",
      "execution_count": null,
      "metadata": {
        "colab": {
          "base_uri": "https://localhost:8080/"
        },
        "id": "yLV1O-c4E6Vp",
        "outputId": "76707384-6258-42c6-c4ea-0b8daaa6824f"
      },
      "outputs": [
        {
          "name": "stdout",
          "output_type": "stream",
          "text": [
            "1\n",
            "1\n",
            "2\n",
            "3\n",
            "5\n",
            "8\n",
            "13\n",
            "21\n",
            "34\n",
            "55\n",
            "89\n"
          ]
        }
      ],
      "source": [
        "for n in range(0,10+1):\n",
        "    print(fib_it(n))"
      ]
    },
    {
      "cell_type": "code",
      "execution_count": null,
      "metadata": {
        "id": "DQMtfDnoE6Vq",
        "outputId": "7d5fb1a1-f002-4ccd-c495-90fd29721630"
      },
      "outputs": [
        {
          "data": {
            "text/plain": [
              "(8, 13)"
            ]
          },
          "execution_count": 22,
          "metadata": {},
          "output_type": "execute_result"
        }
      ],
      "source": [
        "fib_it(5),fib_it(6)"
      ]
    },
    {
      "cell_type": "code",
      "execution_count": null,
      "metadata": {
        "id": "OJAMTwK8E6Vq",
        "outputId": "b42d272f-1cf8-408a-e6b3-b7895c956363"
      },
      "outputs": [
        {
          "data": {
            "text/plain": [
              "(14930352, 24157817)"
            ]
          },
          "execution_count": 23,
          "metadata": {},
          "output_type": "execute_result"
        }
      ],
      "source": [
        "fib_it(35),fib_it(36)"
      ]
    },
    {
      "cell_type": "code",
      "execution_count": null,
      "metadata": {
        "id": "Y-kzVM2qE6Vq",
        "outputId": "4b719e83-713c-4957-bed9-50d3def95179"
      },
      "outputs": [
        {
          "name": "stdout",
          "output_type": "stream",
          "text": [
            "15.1 µs ± 160 ns per loop (mean ± std. dev. of 7 runs, 100000 loops each)\n"
          ]
        }
      ],
      "source": [
        "%%timeit\n",
        "fib_it(35)"
      ]
    },
    {
      "cell_type": "code",
      "execution_count": null,
      "metadata": {
        "id": "y4wSQvsZE6Vq"
      },
      "outputs": [],
      "source": [
        "# so one way we could improve is that we do not need to store all this knowledge about previous solutions,\n",
        "# (unless we were building a table of ALL solutions)"
      ]
    },
    {
      "cell_type": "code",
      "execution_count": 43,
      "metadata": {
        "id": "okMgP0wXE6Vq"
      },
      "outputs": [],
      "source": [
        "# so we only need to store 2 values, but this would be improving constant and solving our space complexity\n",
        "# instead of needing O(n) to store our fib(n), we just need O(1) - since we are onl storing two values\n",
        "def fib_v2(n):\n",
        "    prev, cur = 1, 1 # so we save memory by not storing all previous values\n",
        "    if n <= 1:\n",
        "        return prev\n",
        "    ndx = 2\n",
        "    while ndx <= n:\n",
        "        prev, cur = cur, prev+cur # python makes it easy to assign 2 values at once with tuple unpacking, right side eval first\n",
        "        # if your language does not support it you can simply use a third temp variable\n",
        "        ndx += 1\n",
        "    return cur"
      ]
    },
    {
      "cell_type": "code",
      "execution_count": 44,
      "metadata": {
        "colab": {
          "base_uri": "https://localhost:8080/"
        },
        "id": "evs_wBulE6Vq",
        "outputId": "f64ab7dc-d1b5-49fa-faa7-baa83def5f40"
      },
      "outputs": [
        {
          "output_type": "execute_result",
          "data": {
            "text/plain": [
              "(8, 13)"
            ]
          },
          "metadata": {},
          "execution_count": 44
        }
      ],
      "source": [
        "fib_v2(5),fib_v2(6)"
      ]
    },
    {
      "cell_type": "code",
      "execution_count": 45,
      "metadata": {
        "colab": {
          "base_uri": "https://localhost:8080/"
        },
        "id": "_9IRI-X6E6Vr",
        "outputId": "69355fe2-45c0-415d-d5b1-797ff91edbd2"
      },
      "outputs": [
        {
          "output_type": "execute_result",
          "data": {
            "text/plain": [
              "43466557686937456435688527675040625802564660517371780402481729089536555417949051890403879840079255169295922593080322634775209689623239873322471161642996440906533187938298969649928516003704476137795166849228875"
            ]
          },
          "metadata": {},
          "execution_count": 45
        }
      ],
      "source": [
        "fib_v2(999)"
      ]
    },
    {
      "cell_type": "code",
      "execution_count": 47,
      "metadata": {
        "colab": {
          "base_uri": "https://localhost:8080/"
        },
        "id": "iGStUFCtE6Vr",
        "outputId": "31a50bda-848d-4ef3-c854-1ff1159ad3a6"
      },
      "outputs": [
        {
          "output_type": "stream",
          "name": "stdout",
          "text": [
            "44.4 µs ± 605 ns per loop (mean ± std. dev. of 7 runs, 10000 loops each)\n"
          ]
        }
      ],
      "source": [
        "%%timeit\n",
        "fib_v2(999)"
      ]
    },
    {
      "cell_type": "code",
      "execution_count": 49,
      "metadata": {
        "colab": {
          "base_uri": "https://localhost:8080/"
        },
        "id": "NohzfwxmRbV4",
        "outputId": "62530703-cc2f-4a88-9f64-166d8f14815e"
      },
      "outputs": [
        {
          "output_type": "stream",
          "name": "stdout",
          "text": [
            "3.58 µs ± 113 ns per loop (mean ± std. dev. of 7 runs, 100000 loops each)\n"
          ]
        }
      ],
      "source": [
        "%%timeit\n",
        "fib_v2(100)"
      ]
    },
    {
      "cell_type": "code",
      "execution_count": 50,
      "metadata": {
        "id": "GkoPTphpxa8j",
        "outputId": "31361000-7baf-4c92-858e-f0b8878e4438",
        "colab": {
          "base_uri": "https://localhost:8080/"
        }
      },
      "outputs": [
        {
          "output_type": "stream",
          "name": "stdout",
          "text": [
            "1.31 ms ± 148 µs per loop (mean ± std. dev. of 7 runs, 1000 loops each)\n"
          ]
        }
      ],
      "source": [
        "%%timeit\n",
        "fib_v2(10_000)"
      ]
    },
    {
      "cell_type": "code",
      "execution_count": null,
      "metadata": {
        "id": "GcVSRSI2xa8j",
        "outputId": "8cc22ece-badb-4567-80a3-3b1b7bb9a98f"
      },
      "outputs": [
        {
          "data": {
            "text/plain": [
              "2090"
            ]
          },
          "execution_count": 59,
          "metadata": {},
          "output_type": "execute_result"
        }
      ],
      "source": [
        "len(str(fib_v2(10_000)))"
      ]
    },
    {
      "cell_type": "markdown",
      "metadata": {
        "id": "CMdl2byYE6Vr"
      },
      "source": [
        "# Pascal's triangle\n",
        "![Triangle](https://upload.wikimedia.org/wikipedia/commons/0/0d/PascalTriangleAnimated2.gif)"
      ]
    },
    {
      "cell_type": "markdown",
      "metadata": {
        "id": "2AR6ExgbE6Vr"
      },
      "source": [
        "The combinatorial\n",
        "meaning of C(n,k) is the number of k-sized subsets you can get from a set of size n."
      ]
    },
    {
      "cell_type": "markdown",
      "metadata": {
        "id": "90UKr7_hE6Vr"
      },
      "source": [
        "In mathematics, a combination is a selection of items from a collection, such that the order of selection does not matter (unlike permutations). https://en.wikipedia.org/wiki/Combination"
      ]
    },
    {
      "cell_type": "code",
      "execution_count": 51,
      "metadata": {
        "id": "KqlWiaj2E6Vr"
      },
      "outputs": [],
      "source": [
        "# this is horrible again we have 2 recursive calls for each call\n",
        "def C(n,k):\n",
        "    # first base case\n",
        "    if k == 0: return 1 # means we have chosen all k items\n",
        "    if n == 0: return 0 # means we have no items to choose from\n",
        "    return C(n-1,k-1) + C(n-1,k)"
      ]
    },
    {
      "cell_type": "code",
      "execution_count": 52,
      "metadata": {
        "colab": {
          "base_uri": "https://localhost:8080/"
        },
        "id": "6fTEMT6yQcA3",
        "outputId": "4e1ff4ef-1333-4706-bdb6-41779174a08d"
      },
      "outputs": [
        {
          "output_type": "execute_result",
          "data": {
            "text/plain": [
              "(1, 2, 1)"
            ]
          },
          "metadata": {},
          "execution_count": 52
        }
      ],
      "source": [
        "C(2,0),C(2,1),C(2,2)"
      ]
    },
    {
      "cell_type": "code",
      "execution_count": 53,
      "metadata": {
        "colab": {
          "base_uri": "https://localhost:8080/"
        },
        "id": "4K2Y7E6nE6Vr",
        "outputId": "18950926-2f3d-4da7-f8e2-d7a16e900fbb"
      },
      "outputs": [
        {
          "output_type": "execute_result",
          "data": {
            "text/plain": [
              "(1, 3, 3, 1)"
            ]
          },
          "metadata": {},
          "execution_count": 53
        }
      ],
      "source": [
        "C(3,0),C(3,1),C(3,2),C(3,3)"
      ]
    },
    {
      "cell_type": "code",
      "execution_count": 54,
      "metadata": {
        "colab": {
          "base_uri": "https://localhost:8080/"
        },
        "id": "kHYtq81HE6Vs",
        "outputId": "8f8e7dcd-8759-44b5-de2a-84bbd38b83fd"
      },
      "outputs": [
        {
          "output_type": "execute_result",
          "data": {
            "text/plain": [
              "(1, 4, 6, 4, 1)"
            ]
          },
          "metadata": {},
          "execution_count": 54
        }
      ],
      "source": [
        "C(4,0),C(4,1),C(4,2),C(4,3),C(4,4)"
      ]
    },
    {
      "cell_type": "code",
      "execution_count": 55,
      "metadata": {
        "colab": {
          "base_uri": "https://localhost:8080/"
        },
        "id": "7SQQ4kfGE6Vs",
        "outputId": "a6aa9922-8c61-45be-f47a-2e689ebea83a"
      },
      "outputs": [
        {
          "output_type": "stream",
          "name": "stdout",
          "text": [
            "1 5 10 10 5 1 \n"
          ]
        }
      ],
      "source": [
        "for k in range(6):\n",
        "    print(C(5,k), end=\" \")\n",
        "print()"
      ]
    },
    {
      "cell_type": "code",
      "execution_count": 56,
      "metadata": {
        "colab": {
          "base_uri": "https://localhost:8080/"
        },
        "id": "NF2yHuv-E6Vs",
        "outputId": "d604f766-ab4e-4eed-a1fa-265ceaad9d15"
      },
      "outputs": [
        {
          "output_type": "execute_result",
          "data": {
            "text/plain": [
              "125970"
            ]
          },
          "metadata": {},
          "execution_count": 56
        }
      ],
      "source": [
        "C(20,12) # so choosing 12 items from 20"
      ]
    },
    {
      "cell_type": "code",
      "execution_count": 57,
      "metadata": {
        "colab": {
          "base_uri": "https://localhost:8080/"
        },
        "id": "2rVq_bG5Q3cL",
        "outputId": "c9edf538-8adb-4487-d04d-fdd125ec312f"
      },
      "outputs": [
        {
          "output_type": "stream",
          "name": "stdout",
          "text": [
            "115 ms ± 7.13 ms per loop (mean ± std. dev. of 7 runs, 10 loops each)\n"
          ]
        }
      ],
      "source": [
        "%%timeit\n",
        "C(20,12)"
      ]
    },
    {
      "cell_type": "code",
      "execution_count": null,
      "metadata": {
        "id": "2TZ1CrVjE6Vs"
      },
      "outputs": [],
      "source": [
        "import functools"
      ]
    },
    {
      "cell_type": "code",
      "execution_count": 58,
      "metadata": {
        "id": "m0dYahENE6Vs"
      },
      "outputs": [],
      "source": [
        "@functools.lru_cache(maxsize=None)\n",
        "def C_mem(n,k):\n",
        "    if k == 0: return 1\n",
        "    if n == 0: return 0\n",
        "    return C_mem(n-1,k-1) + C_mem(n-1,k)"
      ]
    },
    {
      "cell_type": "code",
      "execution_count": 59,
      "metadata": {
        "colab": {
          "base_uri": "https://localhost:8080/"
        },
        "id": "Ep7vHpLUE6Vs",
        "outputId": "a53bbd7d-2bf0-45da-8dde-f369eb7203f8"
      },
      "outputs": [
        {
          "output_type": "execute_result",
          "data": {
            "text/plain": [
              "125970"
            ]
          },
          "metadata": {},
          "execution_count": 59
        }
      ],
      "source": [
        "C_mem(20,12)"
      ]
    },
    {
      "cell_type": "code",
      "execution_count": 60,
      "metadata": {
        "colab": {
          "base_uri": "https://localhost:8080/"
        },
        "id": "mX7jfFTFE6Vt",
        "outputId": "67101dad-cbce-48c1-d128-4c367aae99ed"
      },
      "outputs": [
        {
          "output_type": "stream",
          "name": "stdout",
          "text": [
            "61.5 ns ± 13.3 ns per loop (mean ± std. dev. of 7 runs, 10000000 loops each)\n"
          ]
        }
      ],
      "source": [
        "%%timeit\n",
        "C_mem(20,12)"
      ]
    },
    {
      "cell_type": "code",
      "execution_count": 61,
      "metadata": {
        "colab": {
          "base_uri": "https://localhost:8080/"
        },
        "id": "HJ6EIoemS40Q",
        "outputId": "798bacde-3776-4f36-bdd4-89cdf2ba142c"
      },
      "outputs": [
        {
          "output_type": "stream",
          "name": "stdout",
          "text": [
            "65.4 ns ± 12.9 ns per loop (mean ± std. dev. of 7 runs, 10000000 loops each)\n"
          ]
        }
      ],
      "source": [
        "%%timeit\n",
        "C_mem(25,15)"
      ]
    },
    {
      "cell_type": "code",
      "execution_count": 62,
      "metadata": {
        "colab": {
          "base_uri": "https://localhost:8080/"
        },
        "id": "yiJTACtvTAaN",
        "outputId": "f2d6f5a0-7ee1-4879-ec82-c32ab62fc4c4"
      },
      "outputs": [
        {
          "output_type": "stream",
          "name": "stdout",
          "text": [
            "519 ms ± 69.5 ms per loop (mean ± std. dev. of 7 runs, 1 loop each)\n"
          ]
        }
      ],
      "source": [
        "%%timeit\n",
        "C(22,14)"
      ]
    },
    {
      "cell_type": "code",
      "source": [
        "%%timeit\n",
        "C_mem(22,14)\n"
      ],
      "metadata": {
        "id": "h_wHWYmT4azo",
        "outputId": "fd95418c-0968-4e27-ae90-be86e6bd0a93",
        "colab": {
          "base_uri": "https://localhost:8080/"
        }
      },
      "execution_count": 63,
      "outputs": [
        {
          "output_type": "stream",
          "name": "stdout",
          "text": [
            "65.8 ns ± 1.27 ns per loop (mean ± std. dev. of 7 runs, 10000000 loops each)\n"
          ]
        }
      ]
    },
    {
      "cell_type": "code",
      "execution_count": 65,
      "metadata": {
        "colab": {
          "base_uri": "https://localhost:8080/"
        },
        "id": "pvhuiNFKRjcG",
        "outputId": "f9d6d724-107a-4e22-ac43-674659bfc8a7"
      },
      "outputs": [
        {
          "output_type": "stream",
          "name": "stdout",
          "text": [
            "Python 3.11.11\n"
          ]
        }
      ],
      "source": [
        "!python --version  # so have to wait for Google to upgrade Python to 3.9, but of course you can try at home on your own computer"
      ]
    },
    {
      "cell_type": "code",
      "execution_count": 66,
      "metadata": {
        "id": "TiUCa-xXxa8m",
        "outputId": "285ce380-c0f6-4e86-c551-7c9e504c8ad6",
        "colab": {
          "base_uri": "https://localhost:8080/"
        }
      },
      "outputs": [
        {
          "output_type": "execute_result",
          "data": {
            "text/plain": [
              "47129212243960"
            ]
          },
          "metadata": {},
          "execution_count": 66
        }
      ],
      "source": [
        "C_mem(50,30)"
      ]
    },
    {
      "cell_type": "code",
      "source": [
        "C_mem(64,8)"
      ],
      "metadata": {
        "id": "AW3fzzmz4msa",
        "outputId": "9daef432-6837-4aca-fa79-b2aa3ed4ca1d",
        "colab": {
          "base_uri": "https://localhost:8080/"
        }
      },
      "execution_count": 67,
      "outputs": [
        {
          "output_type": "execute_result",
          "data": {
            "text/plain": [
              "4426165368"
            ]
          },
          "metadata": {},
          "execution_count": 67
        }
      ]
    },
    {
      "cell_type": "code",
      "execution_count": null,
      "metadata": {
        "id": "t9CdTP6Cxa8m",
        "outputId": "fc7cadbe-383f-4c53-8d5d-4427d12a4489"
      },
      "outputs": [
        {
          "name": "stdout",
          "output_type": "stream",
          "text": [
            "131 ns ± 5.35 ns per loop (mean ± std. dev. of 7 runs, 10,000,000 loops each)\n"
          ]
        }
      ],
      "source": [
        "%%timeit\n",
        "C_mem(50,30)"
      ]
    },
    {
      "cell_type": "markdown",
      "metadata": {
        "id": "FexxuZllxa8m"
      },
      "source": [
        "### lru_cache wrapper\n",
        "\n",
        "Newer versions of Python have a decorator that does the same thing as our memoize function. It’s called lru_cache\n",
        "There is even a maxsize parameter that allows you to limit the size of the cache. This is useful if you know that\n",
        "you’ll only need the last n results. The name stands for “least recently used,” and it means that if the cache is full"
      ]
    },
    {
      "cell_type": "code",
      "execution_count": null,
      "metadata": {
        "colab": {
          "base_uri": "https://localhost:8080/"
        },
        "id": "9EodFSFvE6Vs",
        "outputId": "4ba4cf23-02fc-440c-b1c3-55ff7225be23"
      },
      "outputs": [
        {
          "data": {
            "text/plain": [
              "4426165368"
            ]
          },
          "execution_count": 61,
          "metadata": {},
          "output_type": "execute_result"
        }
      ],
      "source": [
        "C_mem(64,8) # so BRUTE FORCE for 8-queens problem would require checking this many"
      ]
    },
    {
      "cell_type": "code",
      "execution_count": null,
      "metadata": {
        "colab": {
          "base_uri": "https://localhost:8080/"
        },
        "id": "OBn3uGHhE6Vt",
        "outputId": "37620e08-1978-420a-ce42-ba6eb7abb842"
      },
      "outputs": [
        {
          "data": {
            "text/plain": [
              "4294967296"
            ]
          },
          "execution_count": 62,
          "metadata": {},
          "output_type": "execute_result"
        }
      ],
      "source": [
        "2**32 # no relation to above number"
      ]
    },
    {
      "cell_type": "code",
      "execution_count": null,
      "metadata": {
        "id": "TuK0WFtVE6Vt",
        "outputId": "11e92bd7-d81c-41ee-dd37-e694eec41bd5"
      },
      "outputs": [
        {
          "name": "stdout",
          "output_type": "stream",
          "text": [
            "203 ns ± 30 ns per loop (mean ± std. dev. of 7 runs, 1000000 loops each)\n"
          ]
        }
      ],
      "source": [
        "%%timeit\n",
        "C_mem(20,12)"
      ]
    },
    {
      "cell_type": "markdown",
      "metadata": {
        "id": "txUq8Ik5E6Vt"
      },
      "source": [
        "So 3 Million times faster\n",
        "And it will only get worse with larger n and k values\n"
      ]
    },
    {
      "cell_type": "code",
      "execution_count": null,
      "metadata": {
        "colab": {
          "base_uri": "https://localhost:8080/"
        },
        "id": "fay8GdXTE6Vt",
        "outputId": "297df8e9-ef0c-4a1e-e40d-1b43c606e845"
      },
      "outputs": [
        {
          "data": {
            "text/plain": [
              "646646"
            ]
          },
          "execution_count": 61,
          "metadata": {},
          "output_type": "execute_result"
        }
      ],
      "source": [
        "C(22,10)  # keeps getting slower"
      ]
    },
    {
      "cell_type": "code",
      "execution_count": null,
      "metadata": {
        "colab": {
          "base_uri": "https://localhost:8080/"
        },
        "id": "rJWU5PHVE6Vt",
        "outputId": "e1260f11-bba9-4f96-9d8b-c91db7e49d24"
      },
      "outputs": [
        {
          "data": {
            "text/plain": [
              "5852925"
            ]
          },
          "execution_count": 62,
          "metadata": {},
          "output_type": "execute_result"
        }
      ],
      "source": [
        "C_mem(30,22)"
      ]
    },
    {
      "cell_type": "code",
      "execution_count": null,
      "metadata": {
        "colab": {
          "base_uri": "https://localhost:8080/"
        },
        "id": "as9IJvoRE6Vt",
        "outputId": "9df72185-c621-4af9-d89f-8e68b11301ab"
      },
      "outputs": [
        {
          "data": {
            "text/plain": [
              "46437038934385738875060685074580974915827322393712987687159475139635977046776280972687848152763132582010929859049061968000"
            ]
          },
          "execution_count": 73,
          "metadata": {},
          "output_type": "execute_result"
        }
      ],
      "source": [
        "C_mem(500,127)"
      ]
    },
    {
      "cell_type": "code",
      "execution_count": null,
      "metadata": {
        "colab": {
          "base_uri": "https://localhost:8080/"
        },
        "id": "ymxWm6qAE6Vt",
        "outputId": "fd90aef9-3a25-4930-c9f3-8e107a97146a"
      },
      "outputs": [
        {
          "ename": "RecursionError",
          "evalue": "maximum recursion depth exceeded",
          "output_type": "error",
          "traceback": [
            "\u001b[1;31m---------------------------------------------------------------------------\u001b[0m",
            "\u001b[1;31mRecursionError\u001b[0m                            Traceback (most recent call last)",
            "Input \u001b[1;32mIn [74]\u001b[0m, in \u001b[0;36m<cell line: 1>\u001b[1;34m()\u001b[0m\n\u001b[1;32m----> 1\u001b[0m \u001b[43mC_mem\u001b[49m\u001b[43m(\u001b[49m\u001b[38;5;241;43m2000\u001b[39;49m\u001b[43m,\u001b[49m\u001b[38;5;241;43m1555\u001b[39;49m\u001b[43m)\u001b[49m\n",
            "Input \u001b[1;32mIn [67]\u001b[0m, in \u001b[0;36mC_mem\u001b[1;34m(n, k)\u001b[0m\n\u001b[0;32m      3\u001b[0m \u001b[38;5;28;01mif\u001b[39;00m k \u001b[38;5;241m==\u001b[39m \u001b[38;5;241m0\u001b[39m: \u001b[38;5;28;01mreturn\u001b[39;00m \u001b[38;5;241m1\u001b[39m\n\u001b[0;32m      4\u001b[0m \u001b[38;5;28;01mif\u001b[39;00m n \u001b[38;5;241m==\u001b[39m \u001b[38;5;241m0\u001b[39m: \u001b[38;5;28;01mreturn\u001b[39;00m \u001b[38;5;241m0\u001b[39m\n\u001b[1;32m----> 5\u001b[0m \u001b[38;5;28;01mreturn\u001b[39;00m \u001b[43mC_mem\u001b[49m\u001b[43m(\u001b[49m\u001b[43mn\u001b[49m\u001b[38;5;241;43m-\u001b[39;49m\u001b[38;5;241;43m1\u001b[39;49m\u001b[43m,\u001b[49m\u001b[43mk\u001b[49m\u001b[38;5;241;43m-\u001b[39;49m\u001b[38;5;241;43m1\u001b[39;49m\u001b[43m)\u001b[49m \u001b[38;5;241m+\u001b[39m C_mem(n\u001b[38;5;241m-\u001b[39m\u001b[38;5;241m1\u001b[39m,k)\n",
            "Input \u001b[1;32mIn [67]\u001b[0m, in \u001b[0;36mC_mem\u001b[1;34m(n, k)\u001b[0m\n\u001b[0;32m      3\u001b[0m \u001b[38;5;28;01mif\u001b[39;00m k \u001b[38;5;241m==\u001b[39m \u001b[38;5;241m0\u001b[39m: \u001b[38;5;28;01mreturn\u001b[39;00m \u001b[38;5;241m1\u001b[39m\n\u001b[0;32m      4\u001b[0m \u001b[38;5;28;01mif\u001b[39;00m n \u001b[38;5;241m==\u001b[39m \u001b[38;5;241m0\u001b[39m: \u001b[38;5;28;01mreturn\u001b[39;00m \u001b[38;5;241m0\u001b[39m\n\u001b[1;32m----> 5\u001b[0m \u001b[38;5;28;01mreturn\u001b[39;00m \u001b[43mC_mem\u001b[49m\u001b[43m(\u001b[49m\u001b[43mn\u001b[49m\u001b[38;5;241;43m-\u001b[39;49m\u001b[38;5;241;43m1\u001b[39;49m\u001b[43m,\u001b[49m\u001b[43mk\u001b[49m\u001b[38;5;241;43m-\u001b[39;49m\u001b[38;5;241;43m1\u001b[39;49m\u001b[43m)\u001b[49m \u001b[38;5;241m+\u001b[39m C_mem(n\u001b[38;5;241m-\u001b[39m\u001b[38;5;241m1\u001b[39m,k)\n",
            "    \u001b[1;31m[... skipping similar frames: C_mem at line 5 (1483 times)]\u001b[0m\n",
            "Input \u001b[1;32mIn [67]\u001b[0m, in \u001b[0;36mC_mem\u001b[1;34m(n, k)\u001b[0m\n\u001b[0;32m      3\u001b[0m \u001b[38;5;28;01mif\u001b[39;00m k \u001b[38;5;241m==\u001b[39m \u001b[38;5;241m0\u001b[39m: \u001b[38;5;28;01mreturn\u001b[39;00m \u001b[38;5;241m1\u001b[39m\n\u001b[0;32m      4\u001b[0m \u001b[38;5;28;01mif\u001b[39;00m n \u001b[38;5;241m==\u001b[39m \u001b[38;5;241m0\u001b[39m: \u001b[38;5;28;01mreturn\u001b[39;00m \u001b[38;5;241m0\u001b[39m\n\u001b[1;32m----> 5\u001b[0m \u001b[38;5;28;01mreturn\u001b[39;00m \u001b[43mC_mem\u001b[49m\u001b[43m(\u001b[49m\u001b[43mn\u001b[49m\u001b[38;5;241;43m-\u001b[39;49m\u001b[38;5;241;43m1\u001b[39;49m\u001b[43m,\u001b[49m\u001b[43mk\u001b[49m\u001b[38;5;241;43m-\u001b[39;49m\u001b[38;5;241;43m1\u001b[39;49m\u001b[43m)\u001b[49m \u001b[38;5;241m+\u001b[39m C_mem(n\u001b[38;5;241m-\u001b[39m\u001b[38;5;241m1\u001b[39m,k)\n",
            "\u001b[1;31mRecursionError\u001b[0m: maximum recursion depth exceeded"
          ]
        }
      ],
      "source": [
        "C_mem(2000,1555) # so we calculated how many different ways we can pick 1555 items out of set of 2000 items"
      ]
    },
    {
      "cell_type": "code",
      "execution_count": null,
      "metadata": {
        "colab": {
          "base_uri": "https://localhost:8080/"
        },
        "id": "Qjf0JzfnSH0D",
        "outputId": "da660e2e-469a-452a-c8ae-f992846166da"
      },
      "outputs": [
        {
          "data": {
            "text/plain": [
              "13983816"
            ]
          },
          "execution_count": 65,
          "metadata": {},
          "output_type": "execute_result"
        }
      ],
      "source": [
        "C_mem(49,6)"
      ]
    },
    {
      "cell_type": "code",
      "execution_count": null,
      "metadata": {
        "colab": {
          "base_uri": "https://localhost:8080/"
        },
        "id": "eXf1nB3TSLCp",
        "outputId": "8a34f1da-41fe-4230-b0b1-a9d4da3979cd"
      },
      "outputs": [
        {
          "data": {
            "text/plain": [
              "202927725"
            ]
          },
          "execution_count": 66,
          "metadata": {},
          "output_type": "execute_result"
        }
      ],
      "source": [
        "C_mem(55,7)  # so our odds in lotteries are not so great..."
      ]
    },
    {
      "cell_type": "markdown",
      "metadata": {
        "id": "jsDs1fpWE6Vu"
      },
      "source": [
        "You may at times want to rewrite your code to make it iterative. This\n",
        "can make it faster, and you avoid exhausting the stack if the recursion depth gets excessive. There’s another reason, too:\n",
        "The iterative versions are often based on a specially constructed cache, rather than the generic “dict keyed by parameter\n",
        "tuples” used in my @memo.\n",
        "\n",
        "This means that you can sometimes use more efficient structures, such as the multidimensional\n",
        "arrays of NumPy (this is a C type array dense and efficient), or even just nested lists.\n",
        "\n",
        "This custom cache design\n",
        "makes it possible to do use DP in more low-level languages(ahem C, C++), where general, abstract solutions such as our @memo decorator\n",
        "are often not feasible.\n",
        "\n",
        "Note that even though these two techniques often go hand in hand, you are certainly free to use an\n",
        "iterative solution with a more generic cache or a recursive one with a tailored structure for your subproblem solutions.\n",
        "\n",
        "Let’s reverse our algorithm, filling out Pascal’s triangle directly."
      ]
    },
    {
      "cell_type": "code",
      "execution_count": 68,
      "metadata": {
        "id": "Y8UK4bDVE6Vu"
      },
      "outputs": [],
      "source": [
        "from collections import defaultdict  # we could use a regular dict , just less work with defaultdict\n",
        "# in your language check what collections are available, C#, Java have very nice collections libraries\n",
        "# careful with C++ collections, check complexity on some of them, it might not be O(1) - map for one (which turns out to be ordered)\n",
        "# you'd need to look up documentation for that particular structure - so in C++ you might need to use unordered map"
      ]
    },
    {
      "cell_type": "code",
      "execution_count": 69,
      "metadata": {
        "id": "lx96Rw9rE6Vu"
      },
      "outputs": [],
      "source": [
        "def pascal_up(n,k):\n",
        "    # so tabulated solution, we are going to build a table of solutions\n",
        "    Cit = defaultdict(int)\n",
        "    # Cit = {} # turns out going to plain dictionary did not help at all, slow down by 10%\n",
        "    # careful from off by one errors\n",
        "    for row in range(n+1):\n",
        "        Cit[row,0] = 1 # we could have used previous row to calculate this one, technically just need first one\n",
        "        for col in range(1,k+1): # looking like O(n*k) space and time complexity here right?\n",
        "            # I am using get to avoid looking at edge cases (where we have no value to look up)\n",
        "            Cit[row,col] = Cit.get((row-1,col-1),0) + Cit.get((row-1,col),0)\n",
        "    return Cit[n,k]"
      ]
    },
    {
      "cell_type": "markdown",
      "metadata": {
        "id": "xm9S0fBWxa8o"
      },
      "source": [
        "### Pascal triangle with iterative DP - tabulation"
      ]
    },
    {
      "cell_type": "code",
      "execution_count": 70,
      "metadata": {
        "id": "eb1lsGV2xa8o",
        "outputId": "f17ed5a2-d8fd-4304-d66b-7e27ebac7035",
        "colab": {
          "base_uri": "https://localhost:8080/"
        }
      },
      "outputs": [
        {
          "output_type": "execute_result",
          "data": {
            "text/plain": [
              "125970"
            ]
          },
          "metadata": {},
          "execution_count": 70
        }
      ],
      "source": [
        "pascal_up(20,12)"
      ]
    },
    {
      "cell_type": "code",
      "execution_count": 71,
      "metadata": {
        "id": "Z1DwUh55xa8o",
        "outputId": "35f52904-5f7f-4625-f4a2-a3569553774a",
        "colab": {
          "base_uri": "https://localhost:8080/"
        }
      },
      "outputs": [
        {
          "output_type": "stream",
          "name": "stdout",
          "text": [
            "63.6 µs ± 563 ns per loop (mean ± std. dev. of 7 runs, 10000 loops each)\n"
          ]
        }
      ],
      "source": [
        "%%timeit\n",
        "pascal_up(20,12)"
      ]
    },
    {
      "cell_type": "code",
      "execution_count": 72,
      "metadata": {
        "id": "fCYHbajExa8o",
        "outputId": "bbc89a29-2b7d-42bf-c903-3edfa82394e1",
        "colab": {
          "base_uri": "https://localhost:8080/"
        }
      },
      "outputs": [
        {
          "output_type": "execute_result",
          "data": {
            "text/plain": [
              "47129212243960"
            ]
          },
          "metadata": {},
          "execution_count": 72
        }
      ],
      "source": [
        "pascal_up(50,30)"
      ]
    },
    {
      "cell_type": "code",
      "execution_count": 73,
      "metadata": {
        "id": "wIb5pxBdxa8o",
        "outputId": "3423d4b8-fd76-43fe-e874-280b2b7eb4ab",
        "colab": {
          "base_uri": "https://localhost:8080/"
        }
      },
      "outputs": [
        {
          "output_type": "stream",
          "name": "stdout",
          "text": [
            "474 µs ± 113 µs per loop (mean ± std. dev. of 7 runs, 1000 loops each)\n"
          ]
        }
      ],
      "source": [
        "%%timeit\n",
        "pascal_up(50,30)"
      ]
    },
    {
      "cell_type": "code",
      "execution_count": null,
      "metadata": {
        "id": "QzC8uB1oxa8o",
        "outputId": "78ecc534-c099-49c0-84a2-19dce57af72d"
      },
      "outputs": [
        {
          "name": "stdout",
          "output_type": "stream",
          "text": [
            "131 ns ± 6.31 ns per loop (mean ± std. dev. of 7 runs, 10,000,000 loops each)\n"
          ]
        }
      ],
      "source": [
        "%%timeit\n",
        "C_mem(20,12)"
      ]
    },
    {
      "cell_type": "code",
      "execution_count": 74,
      "metadata": {
        "id": "B5Hq3IKaxa8o",
        "outputId": "bf5f26ef-ba46-4603-be0a-d62cfa3a7bf0",
        "colab": {
          "base_uri": "https://localhost:8080/"
        }
      },
      "outputs": [
        {
          "output_type": "execute_result",
          "data": {
            "text/plain": [
              "1647278652451762678788128833110870712983038446517480945400"
            ]
          },
          "metadata": {},
          "execution_count": 74
        }
      ],
      "source": [
        "pascal_up(200,120)"
      ]
    },
    {
      "cell_type": "code",
      "execution_count": null,
      "metadata": {
        "id": "zqwl2IWmxa8p",
        "outputId": "b60af69a-4738-4644-dda3-a0bb481060a3"
      },
      "outputs": [
        {
          "data": {
            "text/plain": [
              "1647278652451762678788128833110870712983038446517480945400"
            ]
          },
          "metadata": {},
          "output_type": "display_data"
        }
      ],
      "source": [
        "C_mem(200,120)"
      ]
    },
    {
      "cell_type": "code",
      "execution_count": null,
      "metadata": {
        "id": "Ao30kBM_xa8p",
        "outputId": "8126c77d-6cc1-495c-8cb6-ad3f2d4114c3"
      },
      "outputs": [
        {
          "data": {
            "text/plain": [
              "1978313580909322814404279742888220639083711979061915952790417145826485941327234894939258385780824686228079384862407027961433025056766438463773323839416940536781231172166724228912771210164695158929585213737757529910987728315522103983421673060914798337366517226742260910135847960153174204828837881201328813992496688218062280491920325152745752467152549279836765394857076973819686255193997158217396454096616616197813730448592629973705108771904401411312180534910702836373199696360608671550707240571399665331895768867458771375296689485866658969198724600312085207901774291234960477899482724866200"
            ]
          },
          "execution_count": 71,
          "metadata": {},
          "output_type": "execute_result"
        }
      ],
      "source": [
        "pascal_up(2024,1223)"
      ]
    },
    {
      "cell_type": "code",
      "execution_count": null,
      "metadata": {
        "id": "lVFrxdmZxa8p"
      },
      "outputs": [],
      "source": [
        "# C_mem(2000,1255) # so we see the need for iterative version - other way would be to allow tail call optimization in functional languages"
      ]
    },
    {
      "cell_type": "code",
      "execution_count": null,
      "metadata": {
        "id": "zzPj9Tf7xa8p"
      },
      "outputs": [],
      "source": [
        "# so we could futher save memory for our pascal_up by only saving the needed information meaning we only need the previous row"
      ]
    },
    {
      "cell_type": "code",
      "execution_count": null,
      "metadata": {
        "id": "kNbmXShVxa8p"
      },
      "outputs": [],
      "source": []
    },
    {
      "cell_type": "markdown",
      "metadata": {
        "id": "edCfFXHcxa8p"
      },
      "source": [
        "### Pascal triangle with iterative DP - tabulation"
      ]
    },
    {
      "cell_type": "code",
      "execution_count": null,
      "metadata": {
        "id": "FWbHTNpHxa8p",
        "outputId": "17a6a1fd-75f5-4184-bab9-c26cc5d3f95b"
      },
      "outputs": [
        {
          "data": {
            "text/plain": [
              "125970"
            ]
          },
          "metadata": {},
          "output_type": "display_data"
        }
      ],
      "source": [
        "pascal_up(20,12)"
      ]
    },
    {
      "cell_type": "code",
      "execution_count": null,
      "metadata": {
        "id": "EG5NwMr1xa8p",
        "outputId": "ef660de6-8c1b-456f-c476-45cca7d14f90"
      },
      "outputs": [
        {
          "name": "stdout",
          "output_type": "stream",
          "text": [
            "137 µs ± 4.18 µs per loop (mean ± std. dev. of 7 runs, 10,000 loops each)\n"
          ]
        }
      ],
      "source": [
        "%%timeit\n",
        "pascal_up(20,12)"
      ]
    },
    {
      "cell_type": "code",
      "execution_count": null,
      "metadata": {
        "id": "1bJFGnq4xa8q",
        "outputId": "599a4406-1e97-4fa8-bbe2-d6b4cf07d6ae"
      },
      "outputs": [
        {
          "data": {
            "text/plain": [
              "47129212243960"
            ]
          },
          "metadata": {},
          "output_type": "display_data"
        }
      ],
      "source": [
        "pascal_up(50,30)"
      ]
    },
    {
      "cell_type": "code",
      "execution_count": 75,
      "metadata": {
        "id": "EktwG-61xa8q",
        "outputId": "abf7757d-e106-41ee-805c-1563d18d334a",
        "colab": {
          "base_uri": "https://localhost:8080/"
        }
      },
      "outputs": [
        {
          "output_type": "stream",
          "name": "stdout",
          "text": [
            "406 µs ± 5.44 µs per loop (mean ± std. dev. of 7 runs, 1000 loops each)\n"
          ]
        }
      ],
      "source": [
        "%%timeit\n",
        "pascal_up(50,30)"
      ]
    },
    {
      "cell_type": "code",
      "execution_count": null,
      "metadata": {
        "id": "Js-_U1oGxa8q",
        "outputId": "bd130b11-d855-4397-b1f3-37748069ed6a"
      },
      "outputs": [
        {
          "name": "stdout",
          "output_type": "stream",
          "text": [
            "131 ns ± 6.31 ns per loop (mean ± std. dev. of 7 runs, 10,000,000 loops each)\n"
          ]
        }
      ],
      "source": [
        "%%timeit\n",
        "C_mem(20,12)"
      ]
    },
    {
      "cell_type": "code",
      "execution_count": null,
      "metadata": {
        "id": "mdvS0NJfxa8q",
        "outputId": "954da242-54b1-44a5-d934-00105e64b04f"
      },
      "outputs": [
        {
          "data": {
            "text/plain": [
              "1647278652451762678788128833110870712983038446517480945400"
            ]
          },
          "metadata": {},
          "output_type": "display_data"
        }
      ],
      "source": [
        "pascal_up(200,120)"
      ]
    },
    {
      "cell_type": "code",
      "execution_count": null,
      "metadata": {
        "id": "2XIxswRjxa8q",
        "outputId": "83764c16-3fdd-4c71-890b-3fa23ec8d40f"
      },
      "outputs": [
        {
          "data": {
            "text/plain": [
              "1647278652451762678788128833110870712983038446517480945400"
            ]
          },
          "metadata": {},
          "output_type": "display_data"
        }
      ],
      "source": [
        "C_mem(200,120)"
      ]
    },
    {
      "cell_type": "code",
      "execution_count": null,
      "metadata": {
        "id": "aFTdK6Cmxa8q",
        "outputId": "7304c24a-5cd1-4dc2-feb1-ef978547eda0"
      },
      "outputs": [
        {
          "data": {
            "text/plain": [
              "59109593628908414948382028796066195825322294401884421608567282370732677108447726193711784730302760990299603214712874545403948907216441186822204871444990120418511945136706510520055755556735802821658571978418751352273298267569828345746978809441973750241286775122448947529540564006233186974990594534845090378195822798749749716850238790136589693799060708520531078121496569151588079913232831392320592160010660575061801016625866394043795717433667107028907325906172066327055484845091441072359350112683890957329354388664535777738465246096416216139097702868890896959249389851651200"
            ]
          },
          "metadata": {},
          "output_type": "display_data"
        }
      ],
      "source": [
        "pascal_up(2000,1255)"
      ]
    },
    {
      "cell_type": "code",
      "execution_count": null,
      "metadata": {
        "id": "Aqv5GMK-xa8q"
      },
      "outputs": [],
      "source": [
        "# C_mem(2000,1255) # so we see the need for iterative version - other way would be to allow tail call optimization in functional languages"
      ]
    },
    {
      "cell_type": "code",
      "execution_count": null,
      "metadata": {
        "id": "3Wbk32-6xa8q"
      },
      "outputs": [],
      "source": [
        "# so we could futher save memory for our pascal_up by only saving the needed information meaning we only need the previous row"
      ]
    },
    {
      "cell_type": "markdown",
      "metadata": {
        "id": "sJZ7T2S4E6Vv"
      },
      "source": [
        "# Difference between TOP-DOWN (with memoization) and BOTTOM-UP (with filling up DP table)"
      ]
    },
    {
      "cell_type": "markdown",
      "metadata": {
        "id": "owaZ3qQjE6Vv"
      },
      "source": [
        "Basically the same thing is going on. The main difference is that we need to figure out which cells in the cache\n",
        "need to be filled out, and we need to find a safe order to do it in so that when we’re about to calculate C[row,col], the\n",
        "cells C[row-1,col-1] and C[row-1,col] are already calculated. With the memoized function, we needn’t worry about\n",
        "either issue: It will calculate whatever it needs recursively."
      ]
    },
    {
      "cell_type": "code",
      "execution_count": null,
      "metadata": {
        "id": "3CYUYrbVE6Vv"
      },
      "outputs": [],
      "source": [
        "## Back to LIS"
      ]
    },
    {
      "cell_type": "code",
      "execution_count": 76,
      "metadata": {
        "id": "0yytK5wtE6Vw"
      },
      "outputs": [],
      "source": [
        "# so recursive memoized solution - TOP/DOWN\n",
        "def rec_lis(seq): # Longest increasing subseq.\n",
        "    @functools.lru_cache(maxsize=None)\n",
        "    def L(cur): # Longest ending at seq[cur]\n",
        "        res = 1 # Length is at least 1 - because well because one number is always going to be a solution to non empty list\n",
        "        # so for example reversely sorted list would have a solution 1 - because the numbers are going down\n",
        "        for pre in range(cur): # Potential predecessors\n",
        "            if seq[pre] <= seq[cur]: # A valid (smaller) predec.\n",
        "                res = max(res, 1 + L(pre)) # Can we improve the solution?\n",
        "        return res\n",
        "    return max(L(i) for i in range(len(seq))) # The longest of them all"
      ]
    },
    {
      "cell_type": "code",
      "execution_count": 77,
      "metadata": {
        "colab": {
          "base_uri": "https://localhost:8080/"
        },
        "id": "BQPJ4iwqE6Vw",
        "outputId": "c062e590-d9a6-407b-8eb0-7ba76504cea2"
      },
      "outputs": [
        {
          "output_type": "execute_result",
          "data": {
            "text/plain": [
              "3"
            ]
          },
          "metadata": {},
          "execution_count": 77
        }
      ],
      "source": [
        "rec_lis([3,1,0,2,4])"
      ]
    },
    {
      "cell_type": "code",
      "execution_count": 78,
      "metadata": {
        "id": "T42Zb-Oaxa8r",
        "outputId": "0357a06d-b123-42d3-a157-8a9c2635fbf4",
        "colab": {
          "base_uri": "https://localhost:8080/"
        }
      },
      "outputs": [
        {
          "output_type": "execute_result",
          "data": {
            "text/plain": [
              "(1, 2, 4, 7, 9)"
            ]
          },
          "metadata": {},
          "execution_count": 78
        }
      ],
      "source": [
        "naive_list([3,1,0,2,4,7,-6,9])"
      ]
    },
    {
      "cell_type": "code",
      "execution_count": 79,
      "metadata": {
        "colab": {
          "base_uri": "https://localhost:8080/"
        },
        "id": "CtUpotvQVP1O",
        "outputId": "fcb2b09f-50c5-41d6-c4e3-eb529f03978f"
      },
      "outputs": [
        {
          "output_type": "execute_result",
          "data": {
            "text/plain": [
              "5"
            ]
          },
          "metadata": {},
          "execution_count": 79
        }
      ],
      "source": [
        "rec_lis([3,1,0,2,4,7,-6,9])  # so 5 should be answer here"
      ]
    },
    {
      "cell_type": "code",
      "execution_count": null,
      "metadata": {
        "id": "6cAdtPoFE6Vw"
      },
      "outputs": [],
      "source": [
        "# so recursive memoized solution - TOP/DOWN\n",
        "# TODO add sequence passing\n",
        "def rec_lis_full(seq): # Longest increasing subseq.\n",
        "    @functools.lru_cache(maxsize=None)\n",
        "    def L(cur): # Longest ending at seq[cur]\n",
        "        res = 1 # Length is at least 1\n",
        "        for pre in range(cur): # Potential predecessors\n",
        "            if seq[pre] <= seq[cur]: # A valid (smaller) predec.\n",
        "                res = max(res, 1 + L(pre)) # Can we improve the solution?\n",
        "        return res\n",
        "    return max(L(i) for i in range(len(seq))) # The longest of them all"
      ]
    },
    {
      "cell_type": "code",
      "execution_count": 80,
      "metadata": {
        "id": "22aVVrNlE6Vw"
      },
      "outputs": [],
      "source": [
        "# tabulated solution\n",
        "# tabulation is the classical dynamic programming approach - BOTTOM - UP\n",
        "def basic_lis(seq, debug=True):\n",
        "    L = [1] * len(seq)\n",
        "    for cur, val in enumerate(seq):\n",
        "        for pre in range(cur): # so two nested loops smells quadratic right?\n",
        "            if seq[pre] < val:\n",
        "                L[cur] = max(L[cur], 1 + L[pre])\n",
        "                if debug:\n",
        "                    print(L)\n",
        "    return max(L) # linear lookup"
      ]
    },
    {
      "cell_type": "code",
      "execution_count": null,
      "metadata": {
        "id": "31FLwbqBE6Vw"
      },
      "outputs": [],
      "source": [
        "# TODO add iterative sequence passing"
      ]
    },
    {
      "cell_type": "code",
      "execution_count": 81,
      "metadata": {
        "colab": {
          "base_uri": "https://localhost:8080/"
        },
        "id": "j_bkXMVbE6Vw",
        "outputId": "9419be40-a217-4639-9808-e987774474d6"
      },
      "outputs": [
        {
          "output_type": "stream",
          "name": "stdout",
          "text": [
            "[1, 1, 2, 1, 1]\n",
            "[1, 1, 2, 1, 2]\n",
            "[1, 1, 2, 1, 2]\n",
            "[1, 1, 2, 1, 3]\n",
            "[1, 1, 2, 1, 3]\n"
          ]
        },
        {
          "output_type": "execute_result",
          "data": {
            "text/plain": [
              "3"
            ]
          },
          "metadata": {},
          "execution_count": 81
        }
      ],
      "source": [
        "basic_lis([3,1,2,0,4])"
      ]
    },
    {
      "cell_type": "code",
      "execution_count": null,
      "metadata": {
        "colab": {
          "base_uri": "https://localhost:8080/"
        },
        "id": "ZethbYVLXGuk",
        "outputId": "1a5555b6-2fc7-47a4-fe1c-e088ff62e0f5"
      },
      "outputs": [
        {
          "name": "stdout",
          "output_type": "stream",
          "text": [
            "[1, 1, 1, 2, 1]\n",
            "[1, 1, 1, 2, 1]\n",
            "[1, 1, 1, 2, 2]\n",
            "[1, 1, 1, 2, 2]\n",
            "[1, 1, 1, 2, 2]\n",
            "[1, 1, 1, 2, 3]\n"
          ]
        },
        {
          "data": {
            "text/plain": [
              "3"
            ]
          },
          "execution_count": 104,
          "metadata": {},
          "output_type": "execute_result"
        }
      ],
      "source": [
        "basic_lis([3,1,0,2,4])"
      ]
    },
    {
      "cell_type": "code",
      "execution_count": null,
      "metadata": {
        "colab": {
          "base_uri": "https://localhost:8080/"
        },
        "id": "x2RFNwZiV2RU",
        "outputId": "093974d8-900a-4341-9fa6-8d8fda8d8bf2"
      },
      "outputs": [
        {
          "data": {
            "text/plain": [
              "5"
            ]
          },
          "execution_count": 82,
          "metadata": {},
          "output_type": "execute_result"
        }
      ],
      "source": [
        "basic_lis([3,1,0,2,4,7,-6,9])"
      ]
    },
    {
      "cell_type": "code",
      "execution_count": null,
      "metadata": {
        "colab": {
          "base_uri": "https://localhost:8080/"
        },
        "id": "hWAX7ICPE6Vw",
        "outputId": "db0c79b2-a308-4804-8a0a-f78bc4f7c6d5"
      },
      "outputs": [
        {
          "name": "stdout",
          "output_type": "stream",
          "text": [
            "100 V\n",
            "101 a\n",
            "102 l\n",
            "103 d\n",
            "104 i\n",
            "105 s\n"
          ]
        }
      ],
      "source": [
        "for i,n in enumerate(\"Valdis\",start=100):  # just a Pythonic way of adding index to sequences\n",
        "    print(i,n)"
      ]
    },
    {
      "cell_type": "code",
      "execution_count": null,
      "metadata": {
        "id": "1WAsZp0GE6Vx",
        "outputId": "3017c987-579f-46e9-b14d-230f40d39d75"
      },
      "outputs": [
        {
          "name": "stdout",
          "output_type": "stream",
          "text": [
            "[1, 1, 1, 2, 1, 1, 1, 1]\n",
            "[1, 1, 1, 2, 1, 1, 1, 1]\n",
            "[1, 1, 1, 2, 2, 1, 1, 1]\n",
            "[1, 1, 1, 2, 2, 1, 1, 1]\n",
            "[1, 1, 1, 2, 2, 1, 1, 1]\n",
            "[1, 1, 1, 2, 3, 1, 1, 1]\n",
            "[1, 1, 1, 2, 3, 2, 1, 1]\n",
            "[1, 1, 1, 2, 3, 2, 1, 1]\n",
            "[1, 1, 1, 2, 3, 2, 1, 1]\n",
            "[1, 1, 1, 2, 3, 3, 1, 1]\n",
            "[1, 1, 1, 2, 3, 4, 1, 1]\n",
            "[1, 1, 1, 2, 3, 4, 2, 1]\n",
            "[1, 1, 1, 2, 3, 4, 2, 1]\n",
            "[1, 1, 1, 2, 3, 4, 2, 1]\n",
            "[1, 1, 1, 2, 3, 4, 3, 1]\n",
            "[1, 1, 1, 2, 3, 4, 4, 1]\n",
            "[1, 1, 1, 2, 3, 4, 5, 1]\n",
            "[1, 1, 1, 2, 3, 4, 5, 2]\n",
            "[1, 1, 1, 2, 3, 4, 5, 2]\n",
            "[1, 1, 1, 2, 3, 4, 5, 2]\n",
            "[1, 1, 1, 2, 3, 4, 5, 3]\n",
            "[1, 1, 1, 2, 3, 4, 5, 4]\n"
          ]
        },
        {
          "data": {
            "text/plain": [
              "5"
            ]
          },
          "execution_count": 90,
          "metadata": {},
          "output_type": "execute_result"
        }
      ],
      "source": [
        "basic_lis([3,1,0,2,4,7,9,6])"
      ]
    },
    {
      "cell_type": "code",
      "execution_count": null,
      "metadata": {
        "id": "tDDag4_8WH_z"
      },
      "outputs": [],
      "source": [
        "# so basic_lis is tabulating and using two nested loops - thus O(n^2) (again not all nested loops will be n^2 but most are)\n",
        "# can we do better for this increasing subsequence length"
      ]
    },
    {
      "cell_type": "markdown",
      "metadata": {
        "id": "IlMrFt8IE6Vx"
      },
      "source": [
        "A crucial insight is that if more than one predecessor terminate subsequences of length m, it doesn’t matter which\n",
        "one of them we use—they’ll all give us an optimal answer. Say, we want to keep only one of them around; which one\n",
        "should we keep? The only safe choice would be to keep the smallest of them, because that wouldn’t wrongly preclude\n",
        "any later elements from building on it. So let’s say, inductively, that at a certain point we have a sequence end of\n",
        "endpoints, where end[idx] is the smallest among the endpoints we’ve seen for increasing subsequences of length idx+1\n",
        "(we’re indexing from 0). Because we’re iterating over the sequence, these will all have occurred earlier than our current\n",
        "value, val. All we need now is an inductive step for extending end, finding out how to add val to it. If we can do that, at\n",
        "the end of the algorithm len(end) will give us the final answer—the length of the longest increasing subsequence."
      ]
    },
    {
      "cell_type": "markdown",
      "metadata": {
        "id": "n37dP2YUE6Vx"
      },
      "source": [
        "This devilishly clever little algorithm was first was first described by Michael L. Fredman in 1975\n",
        "\n",
        "## Optimal Longest Increasing Subsequence\n",
        "https://www.sciencedirect.com/science/article/pii/0012365X7590103X"
      ]
    },
    {
      "cell_type": "code",
      "execution_count": null,
      "metadata": {
        "id": "gxt6q5PjE6Vx"
      },
      "outputs": [],
      "source": [
        "# https://docs.python.org/3/library/bisect.html - basically we use binary search to find insertion points\n",
        "from bisect import bisect  # provides support for maintaining a list in sorted order without having to sort the list after each insertion.\n",
        "def lis(seq): # Longest increasing subseq.\n",
        "    end = [] # End-values for all lengths\n",
        "    for val in seq: # Try every value, in order\n",
        "        idx = bisect(end, val) # no way to make this constant but this is logn\n",
        "        if idx == len(end): # Can we build on an end val?\n",
        "            end.append(val) # Longest seq. extended\n",
        "        else:\n",
        "            end[idx] = val # Prev. endpoint reduced\n",
        "    return len(end) # The longest we found"
      ]
    },
    {
      "cell_type": "code",
      "execution_count": null,
      "metadata": {
        "colab": {
          "base_uri": "https://localhost:8080/"
        },
        "id": "cF9YeUTpE6Vx",
        "outputId": "596f4850-1aaf-4c20-bdcc-e7bd9cf269f3"
      },
      "outputs": [
        {
          "data": {
            "text/plain": [
              "5"
            ]
          },
          "execution_count": 92,
          "metadata": {},
          "output_type": "execute_result"
        }
      ],
      "source": [
        "lis([3,1,0,2,4,7,9,6])"
      ]
    },
    {
      "cell_type": "markdown",
      "metadata": {
        "id": "OzEnGDgpZNSv"
      },
      "source": [
        "## So Top-Down\n",
        "* Create a recursive solution\n",
        "* memoize it - (cache it!)\n",
        "\n",
        "## Bottom-Up\n",
        "* figure out a way of storing previous results\n",
        "* tabulate(calculate) up\n",
        "* you might not need to store the full table maybe just previous row - can save space"
      ]
    },
    {
      "cell_type": "markdown",
      "metadata": {
        "id": "ZfZ3ySJcxa8t"
      },
      "source": []
    },
    {
      "cell_type": "code",
      "execution_count": null,
      "metadata": {
        "id": "zLh1a8cTxa8t"
      },
      "outputs": [],
      "source": [
        "## TODO tabulated solution to LIS problem that returns the actual sequence"
      ]
    },
    {
      "cell_type": "markdown",
      "metadata": {
        "id": "CYagkYI7xa8t"
      },
      "source": [
        "## Coin change solution using dynamic bottom-up programming\n",
        "\n",
        "Idea is to use a table of previous results to calculate the next one\n",
        "Next solution has to be a sum of two previous solutions - so we can use the previous results to calculate the next one"
      ]
    },
    {
      "cell_type": "markdown",
      "metadata": {
        "id": "_HOS6C3Exa8t"
      },
      "source": [
        "Let's remember how our greedy solution failed on some cases\n",
        "\n",
        "* For example Greedy would fail on [1, 3, 4] and 6 - where correct solution is 3,3 but greedy would give 4,1,1\n",
        "* Another fail would be on [1,10,25] and 31 - greedy would give 25,1,1,1,1,1,1 and correct solution is 10,10,10,1\n",
        "\n",
        "Instead we will use a dynamic programming solution - we will use a table to store the results of the previous solutions and use them to calculate the next one"
      ]
    },
    {
      "cell_type": "code",
      "execution_count": 82,
      "metadata": {
        "id": "GB8T4ctlxa8u",
        "outputId": "9a0ee216-2592-4d5b-a4ca-401a72c3b442",
        "colab": {
          "base_uri": "https://localhost:8080/"
        }
      },
      "outputs": [
        {
          "output_type": "stream",
          "name": "stdout",
          "text": [
            "(0, 0)\n",
            "(1, 1)\n",
            "(2, 2)\n",
            "(3, 3)\n",
            "(4, 4)\n",
            "(5, 1)\n",
            "(6, 2)\n",
            "(7, 3)\n",
            "(8, 4)\n",
            "(9, 5)\n",
            "(10, 1)\n",
            "(11, 2)\n",
            "(12, 3)\n",
            "(13, 4)\n",
            "(14, 5)\n",
            "(15, 2)\n",
            "(16, 3)\n",
            "(17, 4)\n",
            "(18, 5)\n",
            "(19, 6)\n",
            "(20, 2)\n",
            "(21, 3)\n",
            "(22, 4)\n",
            "(23, 5)\n",
            "(24, 6)\n",
            "(25, 1)\n",
            "(26, 2)\n",
            "(27, 3)\n",
            "(28, 4)\n",
            "(29, 5)\n",
            "(30, 2)\n",
            "(31, 3)\n"
          ]
        }
      ],
      "source": [
        "# we will use a list to store our results\n",
        "# we will have a sorted list of coins for each amount\n",
        "# if we have a coin matching the amount we will add it to the list\n",
        "def find_minimum_coins(amount, coins=(1,5,10,25)):\n",
        "    table = [0] * (amount + 1) # so we are going to store our results here\n",
        "    for i in range(1, amount + 1): # so we are going to go through all amounts\n",
        "        table[i] = min(table[i - c] + 1 for c in coins if c <= i) # so we are going to find the minimum number of coins for each amount\n",
        "    return table[amount], table\n",
        "\n",
        "# let's test it on 31\n",
        "coin_cnt, full_solution = find_minimum_coins(31)\n",
        "# print full solution with amounts\n",
        "print(*list(enumerate(full_solution)), sep=\"\\n\")"
      ]
    },
    {
      "cell_type": "code",
      "execution_count": 83,
      "metadata": {
        "id": "whk5gKcVxa8u",
        "outputId": "8b71bd07-4a56-4913-a6fb-123a02a35feb",
        "colab": {
          "base_uri": "https://localhost:8080/"
        }
      },
      "outputs": [
        {
          "output_type": "stream",
          "name": "stdout",
          "text": [
            "(0, 0)\n",
            "(1, 1)\n",
            "(2, 2)\n",
            "(3, 3)\n",
            "(4, 4)\n",
            "(5, 5)\n",
            "(6, 6)\n",
            "(7, 1)\n",
            "(8, 2)\n",
            "(9, 3)\n",
            "(10, 1)\n",
            "(11, 2)\n",
            "(12, 3)\n",
            "(13, 4)\n",
            "(14, 2)\n",
            "(15, 3)\n"
          ]
        }
      ],
      "source": [
        "# lets try it for amount 15, and coins being (1,7,10)\n",
        "coin_cnt, full_solution = find_minimum_coins(15, (1,7,10))\n",
        "# print full solution with amounts\n",
        "print(*list(enumerate(full_solution)), sep=\"\\n\")"
      ]
    },
    {
      "cell_type": "code",
      "execution_count": 84,
      "metadata": {
        "id": "FZ640wQzxa8u",
        "outputId": "409e1162-a930-4cb3-a880-773c52311e81",
        "colab": {
          "base_uri": "https://localhost:8080/"
        }
      },
      "outputs": [
        {
          "output_type": "stream",
          "name": "stdout",
          "text": [
            "(0, 0)\n",
            "(1, 1)\n",
            "(2, 2)\n",
            "(3, 3)\n",
            "(4, 4)\n",
            "(5, 5)\n",
            "(6, 6)\n",
            "(7, 7)\n",
            "(8, 8)\n",
            "(9, 9)\n",
            "(10, 1)\n",
            "(11, 2)\n",
            "(12, 3)\n",
            "(13, 4)\n",
            "(14, 5)\n",
            "(15, 6)\n",
            "(16, 7)\n",
            "(17, 8)\n",
            "(18, 9)\n",
            "(19, 10)\n",
            "(20, 2)\n",
            "(21, 3)\n",
            "(22, 4)\n",
            "(23, 5)\n",
            "(24, 6)\n",
            "(25, 1)\n",
            "(26, 2)\n",
            "(27, 3)\n",
            "(28, 4)\n",
            "(29, 5)\n",
            "(30, 3)\n",
            "(31, 4)\n"
          ]
        }
      ],
      "source": [
        "# now let's test 31 but use only coins (1,10,25)\n",
        "coin_cnt, full_solution = find_minimum_coins(31, (1,10,25))\n",
        "# print full solution with amounts\n",
        "print(*list(enumerate(full_solution)), sep=\"\\n\")"
      ]
    },
    {
      "cell_type": "code",
      "execution_count": null,
      "metadata": {
        "id": "J0mTDMqHxa8u",
        "outputId": "846aca7e-12e3-401c-b032-176e388c94bc"
      },
      "outputs": [
        {
          "data": {
            "text/plain": [
              "(9223372036854775807, 9223372036854775807)"
            ]
          },
          "execution_count": 81,
          "metadata": {},
          "output_type": "execute_result"
        }
      ],
      "source": [
        "# lets get max int from sys\n",
        "import sys\n",
        "sys.maxsize, 2**63-1 # which is 2^63 - 1 because we also have 0 in our range\n"
      ]
    },
    {
      "cell_type": "code",
      "execution_count": 85,
      "metadata": {
        "id": "SAvf0kGcxa8u",
        "outputId": "c60715d0-5c4b-44d1-d48f-1cf984444d7b",
        "colab": {
          "base_uri": "https://localhost:8080/"
        }
      },
      "outputs": [
        {
          "output_type": "stream",
          "name": "stdout",
          "text": [
            "3\n",
            "[[], [1], [1, 1], [1, 1, 1], [1, 1, 1, 1], [5], [1, 5], [1, 1, 5], [1, 1, 1, 5], [1, 1, 1, 1, 5], [10], [1, 10], [1, 1, 10], [1, 1, 1, 10], [1, 1, 1, 1, 10], [5, 10], [1, 5, 10], [1, 1, 5, 10], [1, 1, 1, 5, 10], [1, 1, 1, 1, 5, 10], [10, 10], [1, 10, 10], [1, 1, 10, 10], [1, 1, 1, 10, 10], [1, 1, 1, 1, 10, 10], [25], [1, 25], [1, 1, 25], [1, 1, 1, 25], [1, 1, 1, 1, 25], [5, 25], [1, 5, 25]]\n"
          ]
        }
      ],
      "source": [
        "# let's modify the function to store the actual coins used\n",
        "def find_minimum_coins(amount, coins=(1,5,10,25)):\n",
        "    table = [sys.maxsize] * (amount + 1) # so we are going to store our results here\n",
        "    coins_used = [[]] * (amount + 1) # so we are going to store our results here\n",
        "    for i in range(1, amount + 1): # so we are going to go through all amounts\n",
        "        # table[i], coins_used[i] = min((table[i - c] + 1, c) for c in coins if c <= i) # so we are going to find the minimum number of coins for each amount\n",
        "        if i in coins: # exact match so only 1 coin needed\n",
        "            table[i] = 1\n",
        "            coins_used[i] = [i]\n",
        "        else: # now we need to find a minimum by combining previous solutions\n",
        "            for n in range(i//2+1): # you could just go throuh i but this is a bit faster\n",
        "                # we check previous solutions for minimum\n",
        "                if table[n] + table[i-n] < table[i]:\n",
        "                    table[i] = table[n] + table[i-n]\n",
        "                    coins_used[i] = coins_used[n] + coins_used[i-n]\n",
        "    return table[amount], coins_used\n",
        "\n",
        "# test it on 31\n",
        "coin_cnt, coins_used = find_minimum_coins(31)\n",
        "# print coin_cnt\n",
        "print(coin_cnt)\n",
        "# print coins used\n",
        "print(coins_used)"
      ]
    },
    {
      "cell_type": "code",
      "execution_count": 86,
      "metadata": {
        "id": "u2ViIcS0xa8u",
        "outputId": "df0241d4-e803-4809-aa57-53b7d1b71042",
        "colab": {
          "base_uri": "https://localhost:8080/"
        }
      },
      "outputs": [
        {
          "output_type": "stream",
          "name": "stdout",
          "text": [
            "4\n",
            "[]\n",
            "[1]\n",
            "[1, 1]\n",
            "[1, 1, 1]\n",
            "[1, 1, 1, 1]\n",
            "[1, 1, 1, 1, 1]\n",
            "[1, 1, 1, 1, 1, 1]\n",
            "[1, 1, 1, 1, 1, 1, 1]\n",
            "[1, 1, 1, 1, 1, 1, 1, 1]\n",
            "[1, 1, 1, 1, 1, 1, 1, 1, 1]\n",
            "[10]\n",
            "[1, 10]\n",
            "[1, 1, 10]\n",
            "[1, 1, 1, 10]\n",
            "[1, 1, 1, 1, 10]\n",
            "[1, 1, 1, 1, 1, 10]\n",
            "[1, 1, 1, 1, 1, 1, 10]\n",
            "[1, 1, 1, 1, 1, 1, 1, 10]\n",
            "[1, 1, 1, 1, 1, 1, 1, 1, 10]\n",
            "[1, 1, 1, 1, 1, 1, 1, 1, 1, 10]\n",
            "[10, 10]\n",
            "[1, 10, 10]\n",
            "[1, 1, 10, 10]\n",
            "[1, 1, 1, 10, 10]\n",
            "[1, 1, 1, 1, 10, 10]\n",
            "[25]\n",
            "[1, 25]\n",
            "[1, 1, 25]\n",
            "[1, 1, 1, 25]\n",
            "[1, 1, 1, 1, 25]\n",
            "[10, 10, 10]\n",
            "[1, 10, 10, 10]\n"
          ]
        }
      ],
      "source": [
        "# now let's check with 1,10,25 on 31\n",
        "coin_cnt, coins_used = find_minimum_coins(31, (1,10,25))\n",
        "# print coin_cnt\n",
        "print(coin_cnt)\n",
        "# print coins used\n",
        "print(*coins_used, sep=\"\\n\")"
      ]
    },
    {
      "cell_type": "markdown",
      "metadata": {
        "id": "OsN2RBM1xa8u"
      },
      "source": [
        "## Algorithms that use Dynamic Programming\n",
        "\n",
        "### Graph algorithms\n",
        "\n",
        "* Shortest path algorithms\n",
        "* Longest path algorithms\n",
        "* Minimum spanning tree algorithms\n",
        "* Maximum flow algorithms\n",
        "\n",
        "### String algorithms\n",
        "\n",
        "* Longest common subsequence\n",
        "* Longest increasing subsequence\n",
        "* Edit distance\n",
        "\n",
        "### Combinatorial algorithms\n",
        "\n",
        "* Binomial coefficients - Pascal's triangle\n",
        "* Fibonacci numbers\n",
        "* Factorials\n",
        "\n",
        "### Geometric algorithms\n",
        "\n",
        "* Convex hull\n",
        "* Closest pair of points\n",
        "* Largest empty rectangle"
      ]
    }
  ],
  "metadata": {
    "colab": {
      "name": "Dynamic Programming.ipynb",
      "provenance": []
    },
    "kernelspec": {
      "display_name": "Python 3",
      "language": "python",
      "name": "python3"
    },
    "language_info": {
      "codemirror_mode": {
        "name": "ipython",
        "version": 3
      },
      "file_extension": ".py",
      "mimetype": "text/x-python",
      "name": "python",
      "nbconvert_exporter": "python",
      "pygments_lexer": "ipython3",
      "version": "3.11.4"
    }
  },
  "nbformat": 4,
  "nbformat_minor": 0
}