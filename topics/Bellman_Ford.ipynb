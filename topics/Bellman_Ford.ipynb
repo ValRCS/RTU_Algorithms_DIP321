{
  "cells": [
    {
      "cell_type": "markdown",
      "metadata": {
        "id": "goQ47-Uz5WT6"
      },
      "source": [
        "# Bellman-Ford Algorithm\n",
        "\n",
        "Bellman-Ford algorithm is used to find the shortest paths from the source vertex to all other vertices in the weighted graph. It is similar to Dijkstra's algorithm but it can work with graphs in which edges can have negative weights.\n",
        "\n",
        "More on Bellman-Ford algorithm:\n",
        "* https://en.wikipedia.org/wiki/Bellman%E2%80%93Ford_algorithm\n",
        "* https://www.geeksforgeeks.org/bellman-ford-algorithm-dp-23/ - G4G can have mistakes, so be careful"
      ]
    },
    {
      "cell_type": "code",
      "execution_count": 1,
      "metadata": {
        "id": "bGMcEZgI5WT7",
        "outputId": "954ad627-d804-4983-e29c-7a2d263a9b3a",
        "colab": {
          "base_uri": "https://localhost:8080/"
        }
      },
      "outputs": [
        {
          "output_type": "stream",
          "name": "stdout",
          "text": [
            "([0, 2, 4, 2], [-1, 0, 1, 2])\n"
          ]
        }
      ],
      "source": [
        "# first simple Bellman Ford where nodes are represented by integers\n",
        "# and edges are represented by a list of tuples (u, v, w) where u is the source node, v is the destination node and w is the weight of the edge\n",
        "\n",
        "def bellman_ford(n, edges, source):\n",
        "    # initialize the distance array\n",
        "    dist = [float('inf') for _ in range(n)]\n",
        "    dist[source] = 0\n",
        "    # let's keep previous node for each node to reconstruct the path\n",
        "    prev = [-1 for _ in range(n)]\n",
        "\n",
        "    # relax all edges n - 1 times\n",
        "    for _ in range(n - 1):\n",
        "        for u, v, w in edges:\n",
        "            if dist[u] + w < dist[v]:\n",
        "                dist[v] = dist[u] + w\n",
        "                prev[v] = u # so we know which node leads to v\n",
        "\n",
        "    # check for negative cycles\n",
        "    for u, v, w in edges:\n",
        "        if dist[u] + w < dist[v]:\n",
        "            print(\"Negative cycle detected!! Infinite money glitch!\")\n",
        "            return None, None\n",
        "\n",
        "    return dist, prev\n",
        "\n",
        "# test with a simple example of 4 nodes and 5 edges\n",
        "n = 4\n",
        "edges = [(0, 1, 2),\n",
        "         (0, 2, 5),\n",
        "         (1, 0, 1),\n",
        "         (1, 2, 2),\n",
        "         (2, 3, -2)]\n",
        "source = 0\n",
        "print(bellman_ford(n, edges, source)) # [0, 2, 4, 2]"
      ]
    },
    {
      "cell_type": "code",
      "execution_count": 2,
      "metadata": {
        "id": "9g4MCNWM5WT8",
        "outputId": "870b16c7-535f-426a-c61d-bfa33ab3c924",
        "colab": {
          "base_uri": "https://localhost:8080/"
        }
      },
      "outputs": [
        {
          "output_type": "stream",
          "name": "stdout",
          "text": [
            "Negative cycle detected!! Infinite money glitch!\n",
            "(None, None)\n"
          ]
        }
      ],
      "source": [
        "# let's add a negative cycle so from 3 to 0 with weight -4\n",
        "edges.append((3, 0, -4))\n",
        "print(bellman_ford(n, edges, source)) # None"
      ]
    },
    {
      "cell_type": "code",
      "execution_count": 3,
      "metadata": {
        "id": "ge3Q03LJ5WT9",
        "outputId": "ad536ab2-a8a7-4b4f-e046-a43a2fab5d6e",
        "colab": {
          "base_uri": "https://localhost:8080/"
        }
      },
      "outputs": [
        {
          "output_type": "stream",
          "name": "stdout",
          "text": [
            "([0, 2, 4, 2], [-1, 0, 1, 2])\n"
          ]
        }
      ],
      "source": [
        "# let's replace last one with a positive cycle so from 3 to 0 with weight 4\n",
        "edges[-1] = (3, 0, 10) # this particular edge does not help at all\n",
        "print(bellman_ford(n, edges, source)) # [0, 2, 4, 6]"
      ]
    },
    {
      "cell_type": "code",
      "execution_count": 4,
      "metadata": {
        "id": "q_zGLSPZ5WT9",
        "outputId": "84283429-c33a-411a-b291-9fc5d7ae496d",
        "colab": {
          "base_uri": "https://localhost:8080/"
        }
      },
      "outputs": [
        {
          "output_type": "stream",
          "name": "stdout",
          "text": [
            "([0, 2, -4, -6], [-1, 0, 0, 2])\n"
          ]
        }
      ],
      "source": [
        "# let's change 0,2 to -4\n",
        "edges[1] = (0, 2, -4)\n",
        "print(bellman_ford(n, edges, source)) # [0, 2, -4, -6]\n",
        "# no negative cycle because 3 to 0 costs 10 and not -6"
      ]
    },
    {
      "cell_type": "markdown",
      "metadata": {
        "id": "uiWjnhB45WT9"
      },
      "source": [
        "## NetworkX\n",
        "\n",
        "NetworkX is a Python package for the creation, manipulation, and study of the structure, dynamics, and functions of complex networks.\n",
        "\n",
        "Bellman-Ford implementation in NetworkX:\n",
        "\n",
        "https://networkx.org/documentation/stable/reference/algorithms/generated/networkx.algorithms.shortest_paths.weighted.single_source_bellman_ford.html#networkx.algorithms.shortest_paths.weighted.single_source_bellman_ford"
      ]
    },
    {
      "cell_type": "code",
      "execution_count": null,
      "metadata": {
        "id": "QW-1JZQJ5WT-",
        "outputId": "6e08bfc4-07f7-4612-c116-3c052d6a8197"
      },
      "outputs": [
        {
          "data": {
            "text/plain": [
              "A"
            ]
          },
          "execution_count": 8,
          "metadata": {},
          "output_type": "execute_result"
        }
      ],
      "source": [
        "# Add TODO to implement a graph class with nodes and edges\n",
        "# again we will have a Graph class and a Node class\n",
        "\n",
        "class Node:\n",
        "    def __init__(self, name, value):\n",
        "        self.name = name\n",
        "        self.value = value\n",
        "        self.connections = []\n",
        "\n",
        "    def add_connection(self, node:Node, weight=1):\n",
        "        self.connections.append((node, weight))\n",
        "\n",
        "    def __repr__(self):\n",
        "        return str(self.value)\n",
        "\n",
        "class Graph:\n",
        "    def __init__(self):\n",
        "        self.nodes = {}\n",
        "\n",
        "    def add_node(self, name, value):\n",
        "        self.nodes[name] = Node(name,value)\n",
        "\n",
        "    def add_edge(self, node1:Node, node2:Node, weight=1):\n",
        "        node1 = self.nodes.get(node1.value)\n",
        "        node2 = self.nodes.get(node2.value)\n",
        "        if node1 and node2:\n",
        "            node1.add_connection(node2, weight)\n",
        "            node2.add_connection(node1, weight)\n",
        "\n",
        "    def __repr__(self):\n",
        "        return str([str(node) for node in self.nodes])\n",
        "\n",
        "    # bellman-ford algorithm\n",
        "    def bellman_ford(self, start):\n",
        "        # initialize distances to all nodes as infinity\n",
        "        distances = {node: float('infinity') for node in self.nodes}\n",
        "        # set the distance to the starting node as 0\n",
        "        distances[start] = 0\n",
        "\n",
        "        # iterate through all the edges\n",
        "        for _ in range(len(self.nodes) - 1): # _ means we don't care about the value\n",
        "            for node in self.nodes:\n",
        "                for connection, weight in node.connections:\n",
        "                    if distances[node] + weight < distances[connection]:\n",
        "                        distances[connection] = distances[node] + weight\n",
        "\n",
        "        return distances\n",
        "\n",
        "# test it\n",
        "g = Graph()\n",
        "g.add_node('A')\n",
        "g.add_node('B')\n",
        "g.add_node('C')\n",
        "g.add_node('D')\n",
        "# g.add_edge('A', 'B', 3)\n",
        "# g.add_edge('B', 'C', -1)\n",
        "# g.add_edge('C', 'D', 2)\n",
        "# g.add_edge('A', 'C', 5)\n",
        "g.add_edge(g.nodes['A'], g.nodes['B'], 3)\n",
        "g.add_edge(g.nodes['B'], g.nodes['C'], -1)\n",
        "g.add_edge(g.nodes['C'], g.nodes['D'], 2)\n",
        "g.add_edge(g.nodes['A'], g.nodes['C'], 5)\n",
        "\n",
        "\n",
        "first_node = g.nodes['A']\n",
        "# print first_node\n",
        "first_node\n",
        "# TODO fix types"
      ]
    }
  ],
  "metadata": {
    "kernelspec": {
      "display_name": "Python 3",
      "language": "python",
      "name": "python3"
    },
    "language_info": {
      "codemirror_mode": {
        "name": "ipython",
        "version": 3
      },
      "file_extension": ".py",
      "mimetype": "text/x-python",
      "name": "python",
      "nbconvert_exporter": "python",
      "pygments_lexer": "ipython3",
      "version": "3.11.4"
    },
    "colab": {
      "provenance": []
    }
  },
  "nbformat": 4,
  "nbformat_minor": 0
}