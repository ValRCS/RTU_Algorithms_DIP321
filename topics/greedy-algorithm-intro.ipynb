{
  "cells": [
    {
      "cell_type": "markdown",
      "metadata": {
        "id": "jtAFRoZaoNie"
      },
      "source": [
        "# Introduction to Greedy Algorithms\n",
        "\n",
        "Adopted from: https://github.com/rasbt/algorithms_in_ipython_notebooks"
      ]
    },
    {
      "cell_type": "markdown",
      "metadata": {
        "id": "0ApEtUSCoNih"
      },
      "source": [
        "![Burns](https://upload.wikimedia.org/wikipedia/en/5/56/Mr_Burns.png) | ![Gordon](https://upload.wikimedia.org/wikipedia/en/4/40/Gordon_Gekko.jpg)\n",
        "From: https://en.wikipedia.org/wiki/Wall_Street_(1987_film)"
      ]
    },
    {
      "cell_type": "markdown",
      "metadata": {
        "id": "bB34HJCAoNii"
      },
      "source": [
        "The subfamily of *Greedy Algorithms* is one of the main paradigms of algorithmic problem solving next to *Dynamic Programming* and *Divide & Conquer Algorithms*. The main goal behind greedy algorithms is to implement an efficient procedure for often computationally more complex, often infeasible brute-force methods such as exhaustive search algorithms.\n",
        "\n",
        "The main outline of a greedy algorithms consists of 3 steps:\n",
        "\n",
        "- make a greedy choice\n",
        "- reduce the problem to a subproblem (a smaller problem of the similar type as the original one)\n",
        "- repeat\n",
        "\n",
        "So, greedy algorithms are essentially a problem solving heuristic, an iterative process of tackling a problem in multiple stages while making an locally optimal choice at each stage. In practice, and depending on the problem task, making this series of locally optimal (\"greedy\") choices must not necessarily lead to a globally optimal solution."
      ]
    },
    {
      "cell_type": "markdown",
      "metadata": {
        "id": "M_axjeZXoNij"
      },
      "source": [
        "![Greedy Mountain](https://upload.wikimedia.org/wikipedia/commons/8/8c/Greedy-search-path-example.gif)"
      ]
    },
    {
      "cell_type": "code",
      "execution_count": null,
      "metadata": {
        "id": "DJ2_mo4ioNij"
      },
      "outputs": [],
      "source": []
    },
    {
      "cell_type": "markdown",
      "metadata": {
        "id": "j3Fca1BgoNik"
      },
      "source": [
        "## Example 1: Coin Changer\n",
        "\n",
        "To look at a first, naive example of a greedy algorithm, let's implement a simple coin changing machine. Given a money value in cents, we want to return the minimum possible number of coins, whereas the possible denominations are 1, 5, 10, and 20 cents."
      ]
    },
    {
      "cell_type": "markdown",
      "metadata": {
        "id": "wixTyDvjoNik"
      },
      "source": [
        "![Coin](https://upload.wikimedia.org/wikipedia/commons/thumb/d/da/Greedy_algorithm_36_cents.svg/1200px-Greedy_algorithm_36_cents.svg.png)"
      ]
    },
    {
      "cell_type": "code",
      "execution_count": 4,
      "metadata": {
        "id": "JVtyhAa2oNil"
      },
      "outputs": [],
      "source": [
        "def coinchanger(cents, denominations=(1, 2, 5, 10, 20, 50, 100, 200, 500, 1000, 2000)):\n",
        "    coins = {d: 0 for d in denominations}  # initialize the dictionary with 0 counts, no change given just yet\n",
        "    # so we sort the keys of the coins in reverse order\n",
        "    # because our greedy rule\n",
        "    # specifies that we should try the biggest denomination available first\n",
        "    for c in sorted(coins.keys(), reverse=True):\n",
        "        coins[c] += cents // c # so you take as many as you can evenly, this is the greedy part\n",
        "        cents = cents % c # then you store whatever is left\n",
        "        # eventually provided we have 1 unit coin in our denominations\n",
        "        # we should reach no cents left\n",
        "        if not cents:\n",
        "            total_coins = sum([i for i in coins.values()])\n",
        "            return sorted(coins.items(), reverse=True), total_coins"
      ]
    },
    {
      "cell_type": "markdown",
      "metadata": {
        "id": "WR60EtVFoNim"
      },
      "source": [
        "The funtion above creates a dictionary, `coins`, which tracks the number of coins of each denomination to be returned. Then, we iterate though the denominations in descending order of their value. Now, in a \"greedy\" fashion, we count the highest possible number of coins from the largest denomination in the first step. We repeat this process until we reached the smallest denomination or the number of remaining `cents` reaches 0."
      ]
    },
    {
      "cell_type": "code",
      "execution_count": 2,
      "metadata": {
        "id": "8E_hAilpoNim",
        "outputId": "86976dbf-5bbb-4727-c0d8-3771664f4467",
        "colab": {
          "base_uri": "https://localhost:8080/"
        }
      },
      "outputs": [
        {
          "output_type": "execute_result",
          "data": {
            "text/plain": [
              "([(2000, 0),\n",
              "  (1000, 0),\n",
              "  (500, 0),\n",
              "  (200, 0),\n",
              "  (100, 1),\n",
              "  (50, 0),\n",
              "  (20, 0),\n",
              "  (10, 0),\n",
              "  (5, 0),\n",
              "  (1, 0)],\n",
              " 1)"
            ]
          },
          "metadata": {},
          "execution_count": 2
        }
      ],
      "source": [
        "coinchanger(cents=100)"
      ]
    },
    {
      "cell_type": "code",
      "source": [
        "coinchanger(cents=98)"
      ],
      "metadata": {
        "id": "RbubGPq4W1Sf",
        "outputId": "fcd100cb-1fc2-4d7c-81c1-18c47a0a1cd9",
        "colab": {
          "base_uri": "https://localhost:8080/"
        }
      },
      "execution_count": 5,
      "outputs": [
        {
          "output_type": "execute_result",
          "data": {
            "text/plain": [
              "([(2000, 0),\n",
              "  (1000, 0),\n",
              "  (500, 0),\n",
              "  (200, 0),\n",
              "  (100, 0),\n",
              "  (50, 1),\n",
              "  (20, 2),\n",
              "  (10, 0),\n",
              "  (5, 1),\n",
              "  (2, 1),\n",
              "  (1, 1)],\n",
              " 6)"
            ]
          },
          "metadata": {},
          "execution_count": 5
        }
      ]
    },
    {
      "cell_type": "code",
      "execution_count": 6,
      "metadata": {
        "id": "Kl-zyfLXoNin",
        "outputId": "fd1b7781-4c3f-47e9-b39f-e7b02b49a6e7",
        "colab": {
          "base_uri": "https://localhost:8080/"
        }
      },
      "outputs": [
        {
          "output_type": "execute_result",
          "data": {
            "text/plain": [
              "([(2000, 0),\n",
              "  (1000, 0),\n",
              "  (500, 0),\n",
              "  (200, 1),\n",
              "  (100, 1),\n",
              "  (50, 1),\n",
              "  (20, 1),\n",
              "  (10, 0),\n",
              "  (5, 1),\n",
              "  (2, 1),\n",
              "  (1, 0)],\n",
              " 6)"
            ]
          },
          "metadata": {},
          "execution_count": 6
        }
      ],
      "source": [
        "coinchanger(cents=377)"
      ]
    },
    {
      "cell_type": "code",
      "execution_count": 7,
      "metadata": {
        "id": "CzLvfsWpoNin",
        "outputId": "20ce076d-ee7d-400e-c94e-e7cb0cd02bdc",
        "colab": {
          "base_uri": "https://localhost:8080/"
        }
      },
      "outputs": [
        {
          "output_type": "execute_result",
          "data": {
            "text/plain": [
              "([(2000, 2),\n",
              "  (1000, 0),\n",
              "  (500, 0),\n",
              "  (200, 1),\n",
              "  (100, 1),\n",
              "  (50, 1),\n",
              "  (20, 0),\n",
              "  (10, 0),\n",
              "  (5, 1),\n",
              "  (2, 0),\n",
              "  (1, 1)],\n",
              " 7)"
            ]
          },
          "metadata": {},
          "execution_count": 7
        }
      ],
      "source": [
        "coinchanger(cents=4356) # 43 euros and 56 cents"
      ]
    },
    {
      "cell_type": "code",
      "execution_count": 8,
      "metadata": {
        "id": "oF6OwuYYoNio",
        "outputId": "6415d6bb-aad1-43d0-dc72-67d2e261ddb1",
        "colab": {
          "base_uri": "https://localhost:8080/"
        }
      },
      "outputs": [
        {
          "output_type": "execute_result",
          "data": {
            "text/plain": [
              "([(10, 1), (7, 0), (1, 5)], 6)"
            ]
          },
          "metadata": {},
          "execution_count": 8
        }
      ],
      "source": [
        "coinchanger(cents=15, denominations=(1,7,10)) # this is where greedy algorithm would fail"
      ]
    },
    {
      "cell_type": "code",
      "source": [
        "coinchanger(cents=15, denominations=(1,6,10)) # here optimal solution would have been 2x6 + 3x1 == 5 coins"
      ],
      "metadata": {
        "id": "641OCQoFX6zr",
        "outputId": "743666b5-6a02-44fd-f613-2ab34ca331df",
        "colab": {
          "base_uri": "https://localhost:8080/"
        }
      },
      "execution_count": 9,
      "outputs": [
        {
          "output_type": "execute_result",
          "data": {
            "text/plain": [
              "([(10, 1), (6, 0), (1, 5)], 6)"
            ]
          },
          "metadata": {},
          "execution_count": 9
        }
      ]
    },
    {
      "cell_type": "markdown",
      "source": [
        "## Hypothesis for \"greed\" failing on coin change\n",
        "\n",
        "Next coin should be less than twice the previous -> then \"greedy\" approach will fail.\n",
        "\n",
        "See if you can find real life examples of such coin."
      ],
      "metadata": {
        "id": "CP4kMYBgYCVp"
      }
    },
    {
      "cell_type": "code",
      "execution_count": null,
      "metadata": {
        "id": "NoS2yahcoNio",
        "outputId": "5af2d0e8-4e37-4ab8-8cd0-d077b4613b06",
        "colab": {
          "base_uri": "https://localhost:8080/"
        }
      },
      "outputs": [
        {
          "output_type": "execute_result",
          "data": {
            "text/plain": [
              "([(25, 1), (10, 2), (5, 0), (3, 0), (1, 2)], 5)"
            ]
          },
          "metadata": {},
          "execution_count": 7
        }
      ],
      "source": [
        "# soviet roubles\n",
        "coinchanger(cents=47, denominations=(1,3,5,10,25))"
      ]
    },
    {
      "cell_type": "markdown",
      "metadata": {
        "id": "1DnN_PYzoNip"
      },
      "source": [
        "Calling out `coinchanger` function with 100 cents as input, it returns 5 coins a 20 cents, the smallest, possible number of coins that can be returned in this case. Below are some more examples:"
      ]
    },
    {
      "cell_type": "code",
      "execution_count": null,
      "metadata": {
        "id": "OtoNHw0OoNip",
        "outputId": "deaa362c-1e6e-4090-c200-f610fc7ba7f8"
      },
      "outputs": [
        {
          "data": {
            "text/plain": [
              "([(2000, 0),\n",
              "  (1000, 0),\n",
              "  (500, 0),\n",
              "  (100, 0),\n",
              "  (50, 0),\n",
              "  (20, 0),\n",
              "  (10, 0),\n",
              "  (5, 1),\n",
              "  (1, 0)],\n",
              " 1)"
            ]
          },
          "execution_count": 10,
          "metadata": {},
          "output_type": "execute_result"
        }
      ],
      "source": [
        "coinchanger(cents=5)"
      ]
    },
    {
      "cell_type": "code",
      "execution_count": null,
      "metadata": {
        "id": "mn1QNNr6oNip",
        "outputId": "05c53940-4497-4ae3-d116-a9462293283b"
      },
      "outputs": [
        {
          "data": {
            "text/plain": [
              "([(2000, 0),\n",
              "  (1000, 0),\n",
              "  (500, 0),\n",
              "  (100, 0),\n",
              "  (50, 0),\n",
              "  (20, 0),\n",
              "  (10, 0),\n",
              "  (5, 0),\n",
              "  (1, 4)],\n",
              " 4)"
            ]
          },
          "execution_count": 11,
          "metadata": {},
          "output_type": "execute_result"
        }
      ],
      "source": [
        "coinchanger(cents=4)"
      ]
    },
    {
      "cell_type": "code",
      "execution_count": null,
      "metadata": {
        "id": "figv78jgoNiq",
        "outputId": "a57d5530-37a2-41ea-c1a5-764dc40f2b90"
      },
      "outputs": [
        {
          "data": {
            "text/plain": [
              "([(2000, 0),\n",
              "  (1000, 0),\n",
              "  (500, 0),\n",
              "  (100, 0),\n",
              "  (50, 0),\n",
              "  (20, 1),\n",
              "  (10, 0),\n",
              "  (5, 0),\n",
              "  (1, 3)],\n",
              " 4)"
            ]
          },
          "execution_count": 13,
          "metadata": {},
          "output_type": "execute_result"
        }
      ],
      "source": [
        "coinchanger(cents=23)"
      ]
    },
    {
      "cell_type": "markdown",
      "metadata": {
        "id": "Tler1D-OoNiq"
      },
      "source": [
        "## Example 2: Knapsack"
      ]
    },
    {
      "cell_type": "markdown",
      "metadata": {
        "id": "d86T44eyoNiq"
      },
      "source": [
        "![Knap](https://upload.wikimedia.org/wikipedia/commons/thumb/f/fd/Knapsack.svg/500px-Knapsack.svg.png)"
      ]
    },
    {
      "cell_type": "markdown",
      "metadata": {
        "id": "95lDKIRMoNiq"
      },
      "source": [
        "Now, let us take a look at a classic, combinatorial optimization problem, the so-called \"knapsack\" problem. Here, we can think of a \"knapsack\" as a rucksack, and our goal is to fill it with items so that the rucksack's contents have the highest possible value. Of course, the knappsack has a certain weight capacity, and each item is associated with a certain value and a weight. In other words, we want to maximize the value of the knapsack subject to the constraint that we don't exceed its weight capacity.\n",
        "\n",
        "As trivial as it sounds, the knapsack problem is still one of the most popular algorithmic problems in the modern computer science area. There are numerous applications of knapsack problems, and to provide an intuitive real-world example: We could think of sports betting or daily fantasy soccer predictions as a knapsack problem, where we want to construct a squad of players with the highest possible points to salary ratio."
      ]
    },
    {
      "cell_type": "markdown",
      "metadata": {
        "id": "EJZ8b3F8oNiq"
      },
      "source": [
        "### 0-1 Knapsack"
      ]
    },
    {
      "cell_type": "markdown",
      "metadata": {
        "id": "0Ed2hKGooNir"
      },
      "source": [
        "Let's us take a look the probably simplest variation of the knapsack problem, the 0-1 knapsack, and tackle it using a \"greedy\" strategy. In the 0-1 knapsack, we have a given set of items, $i_1, i_2, ..., i_m$, that we can use to fill the knapsack. Again, the knapsack has a fixed capacity, and the items are associated with weights, $w_1, w_2, ..., w_m$, and values $v_1, v_2, ..., v_m$. While our goal is still to pack the knapsack with a combination of items so that it carries the highest possible value, the 0-1 knapsack variation comes with the constraint that we can only carry 1 copy of each item. Thus, the runtime complexity of this algorithm is $O(nW)$, where $n$ is the number of items in the list and $W$ is the maximum capacity of the knapsack.\n",
        "\n",
        "For example, if we are given 3 items with weights $[w_1: 20, w_2: 50, w_3: 30]$ and values\n",
        "$[v_1: 60, v_2: 100, v_3: 120]$, a knapsack with capacity 50 may carry to 1 copy of item 1 and 1 copy of item 3 to maximize its value (180) in contrast to just carrying 1 copy of item 2 (value: 100)."
      ]
    },
    {
      "cell_type": "markdown",
      "metadata": {
        "id": "eRehIGBOoNir"
      },
      "source": [
        "Let's see how one \"greedy\" code implementation may look like:"
      ]
    },
    {
      "cell_type": "code",
      "execution_count": 10,
      "metadata": {
        "id": "D_P18PkEoNir"
      },
      "outputs": [],
      "source": [
        "def knapsack_01(capacity, weights, values):\n",
        "    val_by_weight = [value / weight\n",
        "                     for value, weight in zip(values, weights)] # so we create the best bang for buck values\n",
        "    # then we sort these items by value\n",
        "    sort_idx = [i[0] for i in sorted(enumerate(val_by_weight),\n",
        "                                     key=lambda x:x[1],\n",
        "                                     reverse=True)]\n",
        "    # initialize an empty knapsack\n",
        "    knapsack = [0 for _ in values]\n",
        "    total_weight, total_value = 0, 0\n",
        "\n",
        "    for i in sort_idx:\n",
        "        # so we check whether we can put the curent best value item inside\n",
        "        if total_weight + weights[i] <= capacity:\n",
        "            knapsack[i] = 1\n",
        "            total_weight += weights[i]\n",
        "            total_value += values[i]\n",
        "        if total_weight == capacity:\n",
        "            break\n",
        "        # so we keep trying if we do not get the current best value in\n",
        "        # maybe something else will fit again sorted by best value\n",
        "\n",
        "    return knapsack, total_weight, total_value"
      ]
    },
    {
      "cell_type": "markdown",
      "metadata": {
        "id": "YW4tRHrnoNir"
      },
      "source": [
        "We start by creating an array `val_by_weight`, which contains the value/weight values of the items. Next, we create an array of index positions by sorting the value/weight array; here, we can think of the item with the highest value/weight ratio as the item that gives us the \"best bang for the buck.\" Using a for-loop, we then iterate over the `sort_idx` and check if a given items fits in our knapsack or not, that is, if we can carry it without exceeding the knapsack's capacity. After we checked all items, or if reach the capacity limit prematurely, we exit the for-loop and return the contents of the knapsack as well as its current weight and total value, which we've been tracking all along.\n",
        "\n",
        "A concrete example:"
      ]
    },
    {
      "cell_type": "code",
      "execution_count": 11,
      "metadata": {
        "id": "Mk_9Lxf9oNis",
        "outputId": "926b2731-e097-4fbc-ea60-f16a17926bdf",
        "colab": {
          "base_uri": "https://localhost:8080/"
        }
      },
      "outputs": [
        {
          "output_type": "execute_result",
          "data": {
            "text/plain": [
              "([1, 0, 1], 50, 180)"
            ]
          },
          "metadata": {},
          "execution_count": 11
        }
      ],
      "source": [
        "weights = [20, 50, 30]\n",
        "values = [60, 100, 120]\n",
        "knapsack_01(capacity=50, weights=weights, values=values)"
      ]
    },
    {
      "cell_type": "markdown",
      "metadata": {
        "id": "K0ywZr4soNis"
      },
      "source": [
        "Running the `knapsack_01` function on the example input above returns a knapsack containing item 1 and item 3, with a total weight equal to its maximum capacity and a value of 180."
      ]
    },
    {
      "cell_type": "markdown",
      "metadata": {
        "id": "PWleUsG7oNis"
      },
      "source": [
        "Let us take a look at another example:"
      ]
    },
    {
      "cell_type": "code",
      "execution_count": 12,
      "metadata": {
        "id": "MH4NbIz6oNis",
        "outputId": "72a17d1f-b44c-440a-851a-788dd2dac785",
        "colab": {
          "base_uri": "https://localhost:8080/"
        }
      },
      "outputs": [
        {
          "output_type": "execute_result",
          "data": {
            "text/plain": [
              "([1, 0, 0], 40, 70)"
            ]
          },
          "metadata": {},
          "execution_count": 12
        }
      ],
      "source": [
        "weights = [40, 30, 20]\n",
        "values = [70, 40, 34]\n",
        "\n",
        "knapsack_01(capacity=50, weights=weights, values=values)"
      ]
    },
    {
      "cell_type": "code",
      "source": [
        "70/40, 40/30, 34/20"
      ],
      "metadata": {
        "id": "wqbtPYPubx0M",
        "outputId": "fc8b0054-ecac-4a07-f04e-61990c86d064",
        "colab": {
          "base_uri": "https://localhost:8080/"
        }
      },
      "execution_count": 13,
      "outputs": [
        {
          "output_type": "execute_result",
          "data": {
            "text/plain": [
              "(1.75, 1.3333333333333333, 1.7)"
            ]
          },
          "metadata": {},
          "execution_count": 13
        }
      ]
    },
    {
      "cell_type": "markdown",
      "metadata": {
        "id": "4n6Aq1zcoNis"
      },
      "source": [
        "Notice the problem here? Our greedy algorithm suggests packing item 1 with weight 40 and a value of 70. Now, our knapsack can't pack any of the other items (weights 20 and 30), without exceeding its capacity. This is an example of where a greedy strategy leads to a globally suboptimal solution. An optimal solution would be to take 1 copy of item 2 and 1 copy of item 3, so that our knapsack carries a weight of 50 with a value of 75."
      ]
    },
    {
      "cell_type": "markdown",
      "metadata": {
        "id": "KX3gw-gmoNit"
      },
      "source": [
        "### Fractional Knapsack"
      ]
    },
    {
      "cell_type": "markdown",
      "metadata": {
        "id": "jDt0kJAkoNit"
      },
      "source": [
        "Now, let's implement a slightly different flavor of the knapsack problem, the fractional knapsack, which is guaranteed to find the optimal solution. Here, the rules are slightly different from the 0-1 knapsack that we implemented earlier. Instead of either just *including* or *excluding* an item in the knapsack, we can also add fractions $f$ of an item, subject to the constraint $0 \\geq f \\leq 1$."
      ]
    },
    {
      "cell_type": "markdown",
      "metadata": {
        "id": "OdscMk1EoNit"
      },
      "source": [
        "Now, let's take our 0-1 knapsack implementation as a template and make some slight modifications to come up with a fractional knapsack algorithm:"
      ]
    },
    {
      "cell_type": "code",
      "execution_count": 14,
      "metadata": {
        "id": "4H8jiUJIoNit"
      },
      "outputs": [],
      "source": [
        "def knapsack_fract(capacity, weights, values):\n",
        "    val_by_weight = [value / weight\n",
        "                     for value, weight in zip(values, weights)]\n",
        "    sort_idx = [i[0] for i in sorted(enumerate(val_by_weight),\n",
        "                                     key=lambda x:x[1],\n",
        "                                     reverse=True)]\n",
        "    knapsack = [0 for _ in values]\n",
        "    total_weight, total_value = 0, 0\n",
        "\n",
        "    for i in sort_idx:\n",
        "        # again we are as greedy as possible at each step\n",
        "        # taking the most of currently available best value item\n",
        "        if total_weight + weights[i] <= capacity:\n",
        "            knapsack[i] = 1\n",
        "            total_weight += weights[i]\n",
        "            total_value += values[i]\n",
        "        else: # so this is the part I add over 0-1 knapsack\n",
        "            allowed = capacity - total_weight\n",
        "            frac = allowed / weights[i]\n",
        "            knapsack[i] = round(frac, 4)\n",
        "            total_weight += allowed\n",
        "            total_value += frac * values[i]\n",
        "        if total_weight == capacity:\n",
        "            break\n",
        "\n",
        "    return knapsack, total_weight, round(total_value, 4)"
      ]
    },
    {
      "cell_type": "markdown",
      "metadata": {
        "id": "sOvdGdyhoNit"
      },
      "source": [
        "Let's give it a whirl on a simple example first:"
      ]
    },
    {
      "cell_type": "code",
      "execution_count": 15,
      "metadata": {
        "id": "utPL80PaoNit",
        "outputId": "39988645-b242-4870-c12a-6cf6bb47693c",
        "colab": {
          "base_uri": "https://localhost:8080/"
        }
      },
      "outputs": [
        {
          "output_type": "execute_result",
          "data": {
            "text/plain": [
              "([1, 0, 1], 50, 180)"
            ]
          },
          "metadata": {},
          "execution_count": 15
        }
      ],
      "source": [
        "weights = [20, 50, 30]\n",
        "values = [60, 100, 120]\n",
        "knapsack_fract(capacity=50, weights=weights, values=values)"
      ]
    },
    {
      "cell_type": "markdown",
      "metadata": {
        "id": "EMTFRpuaoNiu"
      },
      "source": [
        "The solution is an optimal solution, and we notice that it is the same as the one we got by using the 0-1 knapsack previously."
      ]
    },
    {
      "cell_type": "markdown",
      "metadata": {
        "id": "CRfc_LA-oNiu"
      },
      "source": [
        "To demonstrate the difference between the 0-1 knapsack and the fractional knapsack, let's do a second example:"
      ]
    },
    {
      "cell_type": "code",
      "execution_count": 16,
      "metadata": {
        "id": "v7x0nqAsoNiu",
        "outputId": "b1996e00-98a3-4cbb-e68c-a327a48b2541",
        "colab": {
          "base_uri": "https://localhost:8080/"
        }
      },
      "outputs": [
        {
          "output_type": "execute_result",
          "data": {
            "text/plain": [
              "([0.3333], 10, 166.6667)"
            ]
          },
          "metadata": {},
          "execution_count": 16
        }
      ],
      "source": [
        "weights = [30]\n",
        "values = [500]\n",
        "\n",
        "knapsack_fract(capacity=10, weights=weights, values=values)"
      ]
    },
    {
      "cell_type": "code",
      "source": [
        "weights = [30,20]\n",
        "values = [90,80]\n",
        "\n",
        "knapsack_fract(capacity=40, weights=weights, values=values)"
      ],
      "metadata": {
        "id": "k3KGBl9Rcq4w",
        "outputId": "eb7ed405-06d2-40ee-d1f6-b4af475a935e",
        "colab": {
          "base_uri": "https://localhost:8080/"
        }
      },
      "execution_count": 17,
      "outputs": [
        {
          "output_type": "execute_result",
          "data": {
            "text/plain": [
              "([0.6667, 1], 40, 140.0)"
            ]
          },
          "metadata": {},
          "execution_count": 17
        }
      ]
    },
    {
      "cell_type": "code",
      "execution_count": 18,
      "metadata": {
        "id": "wnMNMNALoNiu",
        "outputId": "e5c81d5c-3566-4127-9ad6-0939607cdd20",
        "colab": {
          "base_uri": "https://localhost:8080/"
        }
      },
      "outputs": [
        {
          "output_type": "execute_result",
          "data": {
            "text/plain": [
              "([1, 0, 0.5], 50, 87.0)"
            ]
          },
          "metadata": {},
          "execution_count": 18
        }
      ],
      "source": [
        "weights = [40, 30, 20]\n",
        "values = [70, 40, 34]\n",
        "\n",
        "knapsack_fract(capacity=50, weights=weights, values=values)"
      ]
    },
    {
      "cell_type": "markdown",
      "metadata": {
        "id": "ybOKVXw9oNiu"
      },
      "source": [
        "## Example 3: Point-Cover-Interval Problem"
      ]
    },
    {
      "cell_type": "markdown",
      "metadata": {
        "id": "W_6N91HJoNiu"
      },
      "source": [
        "The classic Point-Cover-Interval problem is another example that is well suited for demonstrating greedy algorithms. Here, we are given a set of Intervals *L*, and we want to find the minimum set of points so that each interval is covered at least once by a given point as illustrated in the example below:\n",
        "\n",
        "![](https://github.com/ValRCS/RTU_Algorithms_DIP321/blob/main/topics/images/point-cover-interval-ex.png?raw=1)\n",
        "\n",
        "![interval](https://i.stack.imgur.com/4klhj.png)"
      ]
    },
    {
      "cell_type": "markdown",
      "metadata": {
        "id": "c0M2nQTtoNiu"
      },
      "source": [
        "Our greedy strategy, which finds the optimal solution for this problem, can be as follows:\n",
        "\n",
        "- sort intervals in increasing order by the value of their endpoints\n",
        "- for interval in interval-set:\n",
        "    - if interval is not yet covered:\n",
        "        - add interval-endpoint to the set of points"
      ]
    },
    {
      "cell_type": "code",
      "execution_count": 19,
      "metadata": {
        "id": "8CC9aHgDoNiv"
      },
      "outputs": [],
      "source": [
        "def min_points(intervals, debug=True):\n",
        "    s_ints = sorted(intervals, key=lambda x: x[1]) # so here we sort by ENDPOINT\n",
        "    if debug:\n",
        "        print(\"Intervals sorted by endpoints in ascending order\",s_ints)\n",
        "\n",
        "    points = [s_ints[0][-1]]\n",
        "\n",
        "    for interv in s_ints:\n",
        "        if not(points[-1] >= interv[0] and points[-1] <= interv[-1]):\n",
        "            points.append(interv[-1])\n",
        "\n",
        "    return points"
      ]
    },
    {
      "cell_type": "code",
      "execution_count": 20,
      "metadata": {
        "id": "Gs3MoQsFoNiv",
        "outputId": "a1ff94dd-e548-40eb-96fd-6edc050f8544",
        "colab": {
          "base_uri": "https://localhost:8080/"
        }
      },
      "outputs": [
        {
          "output_type": "stream",
          "name": "stdout",
          "text": [
            "Intervals sorted by endpoints in ascending order [[1, 3], [2, 5], [3, 6], [-5, 5000]]\n"
          ]
        },
        {
          "output_type": "execute_result",
          "data": {
            "text/plain": [
              "[3]"
            ]
          },
          "metadata": {},
          "execution_count": 20
        }
      ],
      "source": [
        "pts = [[2, 5], [1, 3], [3, 6], [-5, 5000]]\n",
        "min_points(pts)"
      ]
    },
    {
      "cell_type": "code",
      "execution_count": 21,
      "metadata": {
        "id": "jK_L5lEpoNiv",
        "outputId": "2f9f3271-7dcc-4b11-c9f4-45ed4fb02fac",
        "colab": {
          "base_uri": "https://localhost:8080/"
        }
      },
      "outputs": [
        {
          "output_type": "stream",
          "name": "stdout",
          "text": [
            "Intervals sorted by endpoints in ascending order [[1, 3], [2, 5], [5, 6], [4, 7]]\n"
          ]
        },
        {
          "output_type": "execute_result",
          "data": {
            "text/plain": [
              "[3, 6]"
            ]
          },
          "metadata": {},
          "execution_count": 21
        }
      ],
      "source": [
        "pts = [[4, 7], [1, 3], [2, 5], [5, 6]]\n",
        "min_points(pts)"
      ]
    },
    {
      "cell_type": "code",
      "execution_count": 22,
      "metadata": {
        "id": "iSW1RahyoNiv",
        "outputId": "75bc8d72-7679-4d0c-a600-3cde533bd47d",
        "colab": {
          "base_uri": "https://localhost:8080/"
        }
      },
      "outputs": [
        {
          "output_type": "stream",
          "name": "stdout",
          "text": [
            "Intervals sorted by endpoints in ascending order [[1, 2], [5, 14], [13, 15]]\n"
          ]
        },
        {
          "output_type": "execute_result",
          "data": {
            "text/plain": [
              "[2, 14]"
            ]
          },
          "metadata": {},
          "execution_count": 22
        }
      ],
      "source": [
        "pts = [[1,2],[5,14], [13,15]]\n",
        "min_points(pts)"
      ]
    },
    {
      "cell_type": "markdown",
      "metadata": {
        "id": "4810PG0moNiv"
      },
      "source": [
        "## Example 4: Pairwise Distinct Summands"
      ]
    },
    {
      "cell_type": "markdown",
      "metadata": {
        "id": "pE9pIvNNoNiv"
      },
      "source": [
        "In the pairwise distinct summands problem, we are given an integer $n$, and our goal is to find the maximum number of unique summands. For example, given an integer n=8, the maximum number of unique summands would be `[1 + 2 + 5] = 3`."
      ]
    },
    {
      "cell_type": "markdown",
      "metadata": {
        "id": "ioC1tiJ-oNiv"
      },
      "source": [
        "Implemented in code using a greedy strategy, it looks as follows:"
      ]
    },
    {
      "cell_type": "code",
      "execution_count": null,
      "metadata": {
        "collapsed": true,
        "id": "hyBR__0uoNiw"
      },
      "outputs": [],
      "source": [
        "def max_summands(num):\n",
        "    summands = []\n",
        "    sum_summands = 0\n",
        "    next_int = 1\n",
        "\n",
        "    while sum_summands + next_int <= num:\n",
        "        sum_summands += next_int\n",
        "        summands.append(next_int)\n",
        "        next_int += 1\n",
        "\n",
        "    summands[-1] += num - sum_summands\n",
        "    return summands"
      ]
    },
    {
      "cell_type": "code",
      "source": [
        "max_summands(14)"
      ],
      "metadata": {
        "id": "sNT68Zp4eu3-",
        "outputId": "ae2647c7-59e8-4594-b8de-4021cc97dc9c",
        "colab": {
          "base_uri": "https://localhost:8080/"
        }
      },
      "execution_count": null,
      "outputs": [
        {
          "output_type": "execute_result",
          "data": {
            "text/plain": [
              "[1, 2, 3, 8]"
            ]
          },
          "metadata": {},
          "execution_count": 30
        }
      ]
    },
    {
      "cell_type": "code",
      "source": [
        "max_summands(15)"
      ],
      "metadata": {
        "id": "buAsNJ9fezsk",
        "outputId": "32d1ca89-f635-4827-bf1e-c643c0f27107",
        "colab": {
          "base_uri": "https://localhost:8080/"
        }
      },
      "execution_count": null,
      "outputs": [
        {
          "output_type": "execute_result",
          "data": {
            "text/plain": [
              "[1, 2, 3, 4, 5]"
            ]
          },
          "metadata": {},
          "execution_count": 31
        }
      ]
    },
    {
      "cell_type": "markdown",
      "metadata": {
        "id": "jPmmo0pLoNiw"
      },
      "source": [
        "First, we intitialize the sum of the summands to 0 and evaluate the integer `next_int=1`. We then enter a while loop if the sum of the summ"
      ]
    },
    {
      "cell_type": "markdown",
      "metadata": {
        "id": "mp_vsaPhoNiw"
      },
      "source": [
        "## Set Cover Problems"
      ]
    },
    {
      "cell_type": "markdown",
      "metadata": {
        "id": "FxIomyihoNiw"
      },
      "source": [
        "Set cover problems are problems where we want to find the minimum number of subsets such that their set union contains all items in a target set. This target set is typically called the \"universe.\" To borrow an example from the excellent [Wikipedia page](https://en.wikipedia.org/wiki/Set_cover_problem) on set cover problems, let's assume we have the universe\n",
        "\n",
        "- $U=\\{1, 2, 3, 4, 5\\}$\n",
        "\n",
        "and are given the collection of sets\n",
        "\n",
        "- $C=\\{\\{1, 2, 3\\}, \\{2, 4\\}, \\{3, 4\\}, \\{4, 5\\}\\}$\n",
        "\n",
        "The task is to find the minimum number of sets in $C$ so that their union equals $U$.\n",
        "\n",
        "Note that set cover problems are NP-complete, thus no computationally efficient solution exists. However, we can use greedy algorithms to approximate the solution; this solution may or may not be globally optimal.\n",
        "\n",
        "The greedy strategy we are going to employ is very simple and works as follows:\n",
        "\n",
        "- While not all elements in U are covered:\n",
        "  - For all uncovered sets in C:\n",
        "  - Pick the set that covers most of the elements in U"
      ]
    },
    {
      "cell_type": "code",
      "execution_count": null,
      "metadata": {
        "id": "p7r3i_SGoNiw",
        "outputId": "5df23aeb-8b74-437e-8c9e-19ca97d519b9",
        "colab": {
          "base_uri": "https://localhost:8080/"
        }
      },
      "outputs": [
        {
          "output_type": "stream",
          "name": "stdout",
          "text": [
            "['set_1', 'set_2', 'set_4']\n"
          ]
        }
      ],
      "source": [
        "collection = {'set_1': {1, 2, 3},\n",
        "              'set_2': {2, 4},\n",
        "              'set_3': {3, 4},\n",
        "              'set_4': {4, 5}}\n",
        "sets_used = []\n",
        "elements_not_covered = {1, 2, 3, 4, 5}\n",
        "\n",
        "\n",
        "while elements_not_covered:\n",
        "    elements_covered = set()\n",
        "    for set_ in collection.keys():\n",
        "\n",
        "        if set_ in sets_used:\n",
        "            continue\n",
        "\n",
        "        current_set = collection[set_]\n",
        "        would_cover = elements_covered.union(current_set)\n",
        "        if len(would_cover) > len(elements_covered):\n",
        "            elements_covered = would_cover\n",
        "            sets_used.append(set_)\n",
        "            elements_not_covered -= elements_covered\n",
        "\n",
        "            if not elements_not_covered:\n",
        "                break\n",
        "\n",
        "print(sets_used)"
      ]
    },
    {
      "cell_type": "markdown",
      "metadata": {
        "id": "pp_LP2U5oNiw"
      },
      "source": [
        "As a result, we can see that 3 sets are required to cover the universe U. In this case, the greedy algorithm has not found the globally optimal solution, which would be `'set_1'` and `'set_4'`. Note that this is just a trivial example, and greedy algorithms can be very useful approximators for solutions that are computationally infeasible.\n",
        "\n",
        "For instance, an exhaustive solution to this problem that would guaranteed to find the global optimum (remember that set cover problems are NP-complete) would involve iterating over a power set, which has $2^n$ elements, where $n$ is the number of sets in the collection. For example, a collection of 30 sets would already require comparing the solutions of $2^{30}=1,073,741,824$ million possible combinations!\n",
        "\n",
        "(Note that the greedy approach may have found the globally optimal solution in this simple example if it had iterated over the dictionary in a different order -- for example, if we had swapped the positions of {2, 4} and {4, 5})"
      ]
    },
    {
      "cell_type": "markdown",
      "source": [
        "## Activity Selection algorithm"
      ],
      "metadata": {
        "id": "IpfCS98YoxfE"
      }
    },
    {
      "cell_type": "markdown",
      "source": [
        "Problem: Given a set of n activities with their start and finish times, select the maximum number of non-overlapping activities that can be performed by a single person, assuming that the person can only work on one activity at a time."
      ],
      "metadata": {
        "id": "cO5nXHWSo1mh"
      }
    },
    {
      "cell_type": "markdown",
      "source": [
        "### Activity Selection Solution:\n",
        "\n",
        "One way to solve this problem is by using a greedy algorithm that selects the activity with the earliest finish time that does not overlap with the previously selected activities.\n",
        "\n",
        "Here's how the algorithm works:\n",
        "\n",
        "Sort the activities by their finish times in non-decreasing order.\n",
        "Select the first activity in the sorted list and add it to the selected activities list.\n",
        "For each subsequent activity in the sorted list, check if its start time is greater than or equal to the finish time of the last selected activity. If it is, select the activity and add it to the selected activities list.\n",
        "Repeat step 3 for all remaining activities."
      ],
      "metadata": {
        "id": "GilgWSf2o26E"
      }
    },
    {
      "cell_type": "code",
      "source": [
        "def activity_selection(activities):\n",
        "    # Sort the activities by their finish times\n",
        "    activities = sorted(activities, key=lambda x: x[2])\n",
        "\n",
        "    # Select the first activity\n",
        "    selected_activities = [activities[0]]\n",
        "    last_finish_time = activities[0][2]\n",
        "\n",
        "    # Iterate over the remaining activities and select non-overlapping ones\n",
        "    for activity in activities[1:]:\n",
        "        activity_name, start_time, finish_time = activity\n",
        "        if start_time >= last_finish_time:\n",
        "            selected_activities.append(activity)\n",
        "            last_finish_time = finish_time\n",
        "\n",
        "    return selected_activities"
      ],
      "metadata": {
        "id": "Jr0soPfNo-4s"
      },
      "execution_count": 23,
      "outputs": []
    },
    {
      "cell_type": "markdown",
      "source": [
        "In this algorithm, the activities parameter is a list of tuples, where each tuple contains the start and finish times of an activity. The function returns a list of tuples, which represents the selected activities.\n",
        "\n",
        "This algorithm has a time complexity of O(n log n) due to the sorting step. However, it is a very efficient algorithm in practice and can handle large inputs with ease."
      ],
      "metadata": {
        "id": "OKSIcFw_pEG8"
      }
    },
    {
      "cell_type": "code",
      "source": [
        "activities = [('A', 1, 4), ('B', 3, 5), ('C', 0, 6), ('D', 5, 7), ('E', 3, 8), ('F', 5, 9), ('G', 6, 10), ('H', 8, 11), ('I', 8, 12), ('J', 2, 13)]\n",
        "\n",
        "selected_activities = activity_selection(activities)\n",
        "\n",
        "print(selected_activities)"
      ],
      "metadata": {
        "id": "L9YrnsTBo0eq",
        "outputId": "26e44f7b-df49-44d7-dde5-49e7e76d2a41",
        "colab": {
          "base_uri": "https://localhost:8080/"
        }
      },
      "execution_count": 24,
      "outputs": [
        {
          "output_type": "stream",
          "name": "stdout",
          "text": [
            "[('A', 1, 4), ('D', 5, 7), ('H', 8, 11)]\n"
          ]
        }
      ]
    },
    {
      "cell_type": "markdown",
      "source": [
        "### Activity example with full names"
      ],
      "metadata": {
        "id": "27_ENOfXqBji"
      }
    },
    {
      "cell_type": "code",
      "source": [
        "activities = [('Art Class', 1, 4),\n",
        "              ('Band Practice', 3, 5),\n",
        "              ('Chess Club', 0, 6),\n",
        "              ('Drama Club', 5, 7),\n",
        "              ('English Club', 3, 8),\n",
        "              ('Football', 5, 9),\n",
        "              ('Gymnastics', 6, 10),\n",
        "              ('History Club', 8, 11),\n",
        "              ('Instrumental Ensemble', 8, 12),\n",
        "              ('Jazz Band', 2, 13),\n",
        "              ('Karate Club', 16, 19)]\n",
        "# the above activities do not have to be sorted in any way since our algorithm will take care of it\n",
        "selected_activities = activity_selection(activities)\n",
        "\n",
        "print(selected_activities)"
      ],
      "metadata": {
        "id": "XkbeHbmip0gF",
        "outputId": "087c7474-ac10-49fe-b1c3-82a8b9e3848c",
        "colab": {
          "base_uri": "https://localhost:8080/"
        }
      },
      "execution_count": 26,
      "outputs": [
        {
          "output_type": "stream",
          "name": "stdout",
          "text": [
            "[('Art Class', 1, 4), ('Drama Club', 5, 7), ('History Club', 8, 11), ('Karate Club', 16, 19)]\n"
          ]
        }
      ]
    },
    {
      "cell_type": "code",
      "source": [
        "activities = [('Art Class', 700, 950),\n",
        "              ('Band Practice', 830, 1050),\n",
        "              ('Chess Club', 1000, 1100),\n",
        "              ('Drama Club', 1000, 1200),\n",
        "              ('English Club', 1150, 1400),\n",
        "              ('Football', 1200, 1250),\n",
        "              ('Gymnastics', 1400, 1500),\n",
        "              ('History Club', 1600, 1700),\n",
        "              ('Instrumental Ensemble', 1630, 1645),\n",
        "              ('Jazz Band', 1800, 1900)]\n",
        "# the above activities do not have to be sorted in any way since our algorithm will take care of it\n",
        "selected_activities = activity_selection(activities)\n",
        "\n",
        "print(*selected_activities,sep=\"\\n\")"
      ],
      "metadata": {
        "id": "VRxZc8KegJKL",
        "outputId": "67ab6968-c0d9-420f-d16a-85b7201fc287",
        "colab": {
          "base_uri": "https://localhost:8080/"
        }
      },
      "execution_count": 27,
      "outputs": [
        {
          "output_type": "stream",
          "name": "stdout",
          "text": [
            "('Art Class', 700, 950)\n",
            "('Chess Club', 1000, 1100)\n",
            "('Football', 1200, 1250)\n",
            "('Gymnastics', 1400, 1500)\n",
            "('Instrumental Ensemble', 1630, 1645)\n",
            "('Jazz Band', 1800, 1900)\n"
          ]
        }
      ]
    },
    {
      "cell_type": "code",
      "source": [],
      "metadata": {
        "id": "fkgGDXQEg0pE"
      },
      "execution_count": null,
      "outputs": []
    },
    {
      "cell_type": "markdown",
      "source": [
        "## Hill climbing\n",
        "\n",
        "If you are on some plane and you want to climb a hill\n",
        "\n",
        "A greedy approach would be.\n",
        "\n",
        "Take first order derivative (meanin slope) and pick the highest climb.\n",
        "\n",
        "So this \"greedy\" approach will run into question of global vs local optimums\n",
        "\n"
      ],
      "metadata": {
        "id": "VZ4aMxG3g1lu"
      }
    },
    {
      "cell_type": "markdown",
      "source": [
        "src: https://www.geeksforgeeks.org/introduction-hill-climbing-artificial-intelligence/\n",
        "\n",
        "![Hill](https://media.geeksforgeeks.org/wp-content/cdn-uploads/20210726172958/objectfuntion.png)\n",
        "\n",
        "There are various methods of trying to \"jump\" around your search space (in real life it is not going to be just one parameter with linear search)\n",
        "\n",
        "But again \"greedy\" approach will find you \"some\" solution but it might not be globally optimal."
      ],
      "metadata": {
        "id": "_zp9ZruehHgH"
      }
    }
  ],
  "metadata": {
    "kernelspec": {
      "display_name": "Python 3",
      "language": "python",
      "name": "python3"
    },
    "language_info": {
      "codemirror_mode": {
        "name": "ipython",
        "version": 3
      },
      "file_extension": ".py",
      "mimetype": "text/x-python",
      "name": "python",
      "nbconvert_exporter": "python",
      "pygments_lexer": "ipython3",
      "version": "3.8.3"
    },
    "colab": {
      "provenance": []
    }
  },
  "nbformat": 4,
  "nbformat_minor": 0
}