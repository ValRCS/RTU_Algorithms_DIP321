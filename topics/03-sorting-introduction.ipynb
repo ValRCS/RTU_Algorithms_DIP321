{
  "cells": [
    {
      "cell_type": "markdown",
      "metadata": {
        "toc": true,
        "id": "j1Kr1GtsTVJr"
      },
      "source": [
        "<h1>Table of Contents<span class=\"tocSkip\"></span></h1>\n",
        "<div class=\"toc\" style=\"margin-top: 1em;\"><ul class=\"toc-item\"><li><span><a href=\"#Algorithm-complexity\" data-toc-modified-id=\"Algorithm-complexity-1\"><span class=\"toc-item-num\">1&nbsp;&nbsp;</span>Algorithm complexity</a></span><ul class=\"toc-item\"><li><span><a href=\"#Search-algorithm\" data-toc-modified-id=\"Search-algorithm-1.1\"><span class=\"toc-item-num\">1.1&nbsp;&nbsp;</span>Search algorithm</a></span><ul class=\"toc-item\"><li><span><a href=\"#Linear-search\" data-toc-modified-id=\"Linear-search-1.1.1\"><span class=\"toc-item-num\">1.1.1&nbsp;&nbsp;</span>Linear search</a></span></li><li><span><a href=\"#Binary-search\" data-toc-modified-id=\"Binary-search-1.1.2\"><span class=\"toc-item-num\">1.1.2&nbsp;&nbsp;</span>Binary search</a></span></li></ul></li></ul></li><li><span><a href=\"#Sorting-algorithms\" data-toc-modified-id=\"Sorting-algorithms-2\"><span class=\"toc-item-num\">2&nbsp;&nbsp;</span>Sorting algorithms</a></span><ul class=\"toc-item\"><li><ul class=\"toc-item\"><li><span><a href=\"#Bubble-sort\" data-toc-modified-id=\"Bubble-sort-2.0.1\"><span class=\"toc-item-num\">2.0.1&nbsp;&nbsp;</span>Bubble sort</a></span></li><li><span><a href=\"#Selection-sort\" data-toc-modified-id=\"Selection-sort-2.0.2\"><span class=\"toc-item-num\">2.0.2&nbsp;&nbsp;</span>Selection sort</a></span></li><li><span><a href=\"#Insertion-sort\" data-toc-modified-id=\"Insertion-sort-2.0.3\"><span class=\"toc-item-num\">2.0.3&nbsp;&nbsp;</span>Insertion sort</a></span></li><li><span><a href=\"#Merge-Sort\" data-toc-modified-id=\"Merge-Sort-2.0.4\"><span class=\"toc-item-num\">2.0.4&nbsp;&nbsp;</span>Merge Sort</a></span></li><li><span><a href=\"#Quick-sort\" data-toc-modified-id=\"Quick-sort-2.0.5\"><span class=\"toc-item-num\">2.0.5&nbsp;&nbsp;</span>Quick sort</a></span></li></ul></li></ul></li></ul></div>"
      ]
    },
    {
      "cell_type": "markdown",
      "metadata": {
        "id": "DzoVD2YbTVJs"
      },
      "source": [
        "Discussion and implementation of basic sorting algorithms"
      ]
    },
    {
      "cell_type": "markdown",
      "metadata": {
        "id": "IGaMO1HYTVJt"
      },
      "source": [
        "Notebook is adapted from: https://github.com/shik3519/programming-concepts-for-data-science\n",
        "Content is heavily derived from: http://interactivepython.org/runestone/static/pythonds/index.html"
      ]
    },
    {
      "cell_type": "code",
      "execution_count": 1,
      "metadata": {
        "id": "n9bMpNqkTVJt"
      },
      "outputs": [],
      "source": [
        "import pandas as pd\n",
        "import numpy as np\n",
        "import time\n",
        "import matplotlib.pyplot as plt\n",
        "%matplotlib inline"
      ]
    },
    {
      "cell_type": "markdown",
      "metadata": {
        "heading_collapsed": true,
        "id": "FpNFM3R5TVJv"
      },
      "source": [
        "# Algorithm complexity"
      ]
    },
    {
      "cell_type": "markdown",
      "metadata": {
        "hidden": true,
        "id": "3XQ-KO5ETVJw"
      },
      "source": [
        "`Big O notation` is used in Computer Science to describe the performance or complexity of an algorithm. Big O specifically describes the worst-case scenario, and can be used to describe the execution time required or the space used."
      ]
    },
    {
      "cell_type": "markdown",
      "metadata": {
        "hidden": true,
        "id": "YOiMNxHETVJw"
      },
      "source": [
        "To know more: http://interactivepython.org/runestone/static/pythonds/AlgorithmAnalysis/BigONotation.html"
      ]
    },
    {
      "cell_type": "markdown",
      "metadata": {
        "hidden": true,
        "id": "lM7FDh2JTVJw"
      },
      "source": [
        "![selection](https://github.com/ValRCS/RTU_Algorithms_DIP321/blob/main/imgs/bigo.png?raw=1)"
      ]
    },
    {
      "cell_type": "markdown",
      "metadata": {
        "hidden": true,
        "id": "Ck6BmY5_TVJw"
      },
      "source": [
        "<img src=\"https://miro.medium.com/v2/format:webp/1*KfZYFUT2OKfjekJlCeYvuQ.jpeg\">\n",
        "OG Src: bigocheatsheet.com"
      ]
    },
    {
      "cell_type": "markdown",
      "metadata": {
        "hidden": true,
        "id": "t1coAHXlTVJw"
      },
      "source": [
        "Let's understand this through 2 different implementation of search algorithm"
      ]
    },
    {
      "cell_type": "markdown",
      "metadata": {
        "heading_collapsed": true,
        "hidden": true,
        "id": "kuQioGj0TVJw"
      },
      "source": [
        "## Search algorithm"
      ]
    },
    {
      "cell_type": "markdown",
      "metadata": {
        "heading_collapsed": true,
        "hidden": true,
        "id": "8gVNWu5YTVJx"
      },
      "source": [
        "### Linear search"
      ]
    },
    {
      "cell_type": "code",
      "execution_count": null,
      "metadata": {
        "hidden": true,
        "id": "RrkiMmlUTVJx"
      },
      "outputs": [],
      "source": [
        "def linear_search(l, target):\n",
        "    for e in l:\n",
        "        if e == target:\n",
        "            return True\n",
        "    return False"
      ]
    },
    {
      "cell_type": "code",
      "execution_count": null,
      "metadata": {
        "hidden": true,
        "id": "Ah8TEfovTVJx",
        "outputId": "2d4b1cc6-2db2-4f6f-c5b2-558d61e74339",
        "colab": {
          "base_uri": "https://localhost:8080/"
        }
      },
      "outputs": [
        {
          "output_type": "execute_result",
          "data": {
            "text/plain": [
              "(array([0, 1, 2, 3, 4]), array([995, 996, 997, 998, 999]))"
            ]
          },
          "metadata": {},
          "execution_count": 4
        }
      ],
      "source": [
        "l = np.arange(1000) # i created an array of 1000 items from 0 to 999\n",
        "# np gives you c like arrays which are much more efficient than regular Python lists\n",
        "l[:5], l[-5:]"
      ]
    },
    {
      "cell_type": "code",
      "execution_count": null,
      "metadata": {
        "hidden": true,
        "id": "HHKp28qwTVJx",
        "outputId": "ab81ca4c-15c2-4009-aa2e-004f062e9c71",
        "colab": {
          "base_uri": "https://localhost:8080/"
        }
      },
      "outputs": [
        {
          "output_type": "stream",
          "name": "stdout",
          "text": [
            "213 µs ± 23.3 µs per loop (mean ± std. dev. of 7 runs, 1000 loops each)\n"
          ]
        }
      ],
      "source": [
        "%%timeit\n",
        "linear_search(l,999)"
      ]
    },
    {
      "cell_type": "code",
      "source": [
        "a100k = np.arange(100_000)\n",
        "a100k[99_990:]"
      ],
      "metadata": {
        "id": "esIZWoOEc2yL",
        "outputId": "d372f1c3-d2df-4375-c5a2-4df3156f0831",
        "colab": {
          "base_uri": "https://localhost:8080/"
        }
      },
      "execution_count": null,
      "outputs": [
        {
          "output_type": "execute_result",
          "data": {
            "text/plain": [
              "array([99990, 99991, 99992, 99993, 99994, 99995, 99996, 99997, 99998,\n",
              "       99999])"
            ]
          },
          "metadata": {},
          "execution_count": 6
        }
      ]
    },
    {
      "cell_type": "code",
      "source": [
        "%%timeit\n",
        "linear_search(a100k,99_999) # we will look for the very last item\n",
        "# we pretend that we do know that it is the very last item"
      ],
      "metadata": {
        "id": "85xFvU5TdG2N",
        "outputId": "8dd721fc-0750-46e0-bb48-0bb71e8a0b1f",
        "colab": {
          "base_uri": "https://localhost:8080/"
        }
      },
      "execution_count": null,
      "outputs": [
        {
          "output_type": "stream",
          "name": "stdout",
          "text": [
            "21.8 ms ± 618 µs per loop (mean ± std. dev. of 7 runs, 10 loops each)\n"
          ]
        }
      ]
    },
    {
      "cell_type": "code",
      "source": [
        "%%timeit\n",
        "linear_search(a100k, 532532525)  # so looking for something that does not exists"
      ],
      "metadata": {
        "id": "lp0GrCgJGZTQ",
        "outputId": "c5d3dfc6-eb96-4b2c-a742-68080ba1b106",
        "colab": {
          "base_uri": "https://localhost:8080/"
        }
      },
      "execution_count": null,
      "outputs": [
        {
          "output_type": "stream",
          "name": "stdout",
          "text": [
            "20.4 ms ± 705 µs per loop (mean ± std. dev. of 7 runs, 10 loops each)\n"
          ]
        }
      ]
    },
    {
      "cell_type": "code",
      "source": [
        "%%timeit\n",
        "linear_search(a100k, 50_000) # so looking for something in the middle should take roughly half the time"
      ],
      "metadata": {
        "id": "mlR289Y1GpXv",
        "outputId": "3b63f237-cfe6-4793-c88f-1e647e66e33b",
        "colab": {
          "base_uri": "https://localhost:8080/"
        }
      },
      "execution_count": null,
      "outputs": [
        {
          "output_type": "stream",
          "name": "stdout",
          "text": [
            "12.4 ms ± 3.39 ms per loop (mean ± std. dev. of 7 runs, 100 loops each)\n"
          ]
        }
      ]
    },
    {
      "cell_type": "markdown",
      "metadata": {
        "hidden": true,
        "id": "zup16EMVTVJx"
      },
      "source": [
        "Time scales linearly with n. So Big-O is $O(n)$"
      ]
    },
    {
      "cell_type": "markdown",
      "metadata": {
        "heading_collapsed": true,
        "hidden": true,
        "id": "o2VUxc8aTVJx"
      },
      "source": [
        "### Binary search"
      ]
    },
    {
      "cell_type": "markdown",
      "metadata": {
        "hidden": true,
        "id": "LSkoC63STVJy"
      },
      "source": [
        "Iterative algo"
      ]
    },
    {
      "cell_type": "code",
      "execution_count": null,
      "metadata": {
        "hidden": true,
        "id": "e2eJnZyrTVJy"
      },
      "outputs": [],
      "source": [
        "def binarySearchIterative(a, t):\n",
        "    upper = len(a) - 1\n",
        "    lower = 0\n",
        "    while lower <= upper:\n",
        "        middle = (lower + upper) // 2\n",
        "        if t == a[middle]:\n",
        "            return True\n",
        "        else:\n",
        "            if t < a[middle]:\n",
        "                upper = middle - 1\n",
        "            else:\n",
        "                lower = middle + 1\n",
        "    return False"
      ]
    },
    {
      "cell_type": "code",
      "execution_count": null,
      "metadata": {
        "hidden": true,
        "id": "yY1EGcMJTVJy"
      },
      "outputs": [],
      "source": [
        "l = np.arange(1000)"
      ]
    },
    {
      "cell_type": "code",
      "execution_count": null,
      "metadata": {
        "hidden": true,
        "id": "Z899rzdPTVJy",
        "outputId": "364dd196-c68f-46ce-9800-fba77c2318a8",
        "colab": {
          "base_uri": "https://localhost:8080/"
        }
      },
      "outputs": [
        {
          "output_type": "stream",
          "name": "stdout",
          "text": [
            "9.31 µs ± 2.93 µs per loop (mean ± std. dev. of 7 runs, 100000 loops each)\n"
          ]
        }
      ],
      "source": [
        "%%timeit\n",
        "binarySearchIterative(l,999)"
      ]
    },
    {
      "cell_type": "code",
      "source": [
        "%%timeit\n",
        "binarySearchIterative(a100k,99_999)"
      ],
      "metadata": {
        "id": "0Vz_XqaidbPJ",
        "outputId": "e15e5e4e-0a04-45d3-9c43-65f1127c0ad2",
        "colab": {
          "base_uri": "https://localhost:8080/"
        }
      },
      "execution_count": null,
      "outputs": [
        {
          "output_type": "stream",
          "name": "stdout",
          "text": [
            "13.7 µs ± 3.29 µs per loop (mean ± std. dev. of 7 runs, 100000 loops each)\n"
          ]
        }
      ]
    },
    {
      "cell_type": "code",
      "source": [
        "import math\n",
        "math.log2(100_000)"
      ],
      "metadata": {
        "id": "RPoSZTjSHdRt",
        "outputId": "f603205b-6683-471b-fb19-f7c242c630fe",
        "colab": {
          "base_uri": "https://localhost:8080/"
        }
      },
      "execution_count": null,
      "outputs": [
        {
          "output_type": "execute_result",
          "data": {
            "text/plain": [
              "16.609640474436812"
            ]
          },
          "metadata": {},
          "execution_count": 13
        }
      ]
    },
    {
      "cell_type": "markdown",
      "metadata": {
        "hidden": true,
        "id": "W_vrqx7iTVJy"
      },
      "source": [
        "Time scales linearly with n. So Big-O is $O(log(n))$"
      ]
    },
    {
      "cell_type": "markdown",
      "metadata": {
        "hidden": true,
        "id": "MfGA2f4ETVJy"
      },
      "source": [
        "We can see that binary search is almost 30x faster"
      ]
    },
    {
      "cell_type": "markdown",
      "metadata": {
        "hidden": true,
        "id": "Ct03aGe9TVJy"
      },
      "source": [
        "We can do binary search in a recursive way too"
      ]
    },
    {
      "cell_type": "code",
      "execution_count": null,
      "metadata": {
        "hidden": true,
        "id": "ZuR1YtJNTVJy"
      },
      "outputs": [],
      "source": [
        "def binarySearchRecursive(a, t):\n",
        "    upper = len(a) - 1\n",
        "    lower = 0\n",
        "    if upper >= 0:\n",
        "        middle = (lower + upper) // 2\n",
        "        if t == a[middle]: return True\n",
        "        if t < a[middle]: return binarySearchRecursive(a[:middle], t)\n",
        "        else: return binarySearchRecursive(a[middle + 1:], t)\n",
        "    return False"
      ]
    },
    {
      "cell_type": "code",
      "execution_count": null,
      "metadata": {
        "hidden": true,
        "id": "c5z0gyn6TVJz"
      },
      "outputs": [],
      "source": [
        "%%timeit\n",
        "binarySearchRecursive(l,999)"
      ]
    },
    {
      "cell_type": "markdown",
      "metadata": {
        "heading_collapsed": true,
        "id": "B0HKBaA9TVJz"
      },
      "source": [
        "# Sorting algorithms"
      ]
    },
    {
      "cell_type": "code",
      "execution_count": null,
      "metadata": {
        "id": "dTAaQRrpTVJz"
      },
      "outputs": [],
      "source": [
        "# What is the worst type of sorting algorithm that you can think of ?\n",
        "# https://en.wikipedia.org/wiki/Bogosort\n",
        "# while not isInOrder(deck):\n",
        "#    shuffle(deck)"
      ]
    },
    {
      "cell_type": "code",
      "execution_count": 2,
      "metadata": {
        "id": "-8WWmD-iTVJz"
      },
      "outputs": [],
      "source": [
        "from random import shuffle # we are too lazy to create our own shuffle\n",
        "# in fact shuffling completely randomly is hard to do\n",
        "\n",
        "# helper function\n",
        "def is_sorted(data) -> bool:\n",
        "    \"\"\"Determine whether the data is sorted.\"\"\"\n",
        "    # linear complexity\n",
        "    return all(data[i] <= data[i + 1] for i in range(len(data) - 1)) # go through all items in collection and check order\n",
        "\n",
        "\n",
        "def bogosort(data_og) -> list:\n",
        "    \"\"\"Shuffle data until sorted.\"\"\"\n",
        "    data = data_og.copy()  # we want to keep original for timing\n",
        "    # in real life we often do not want to make copy as that takes memory\n",
        "    while not is_sorted(data): # well will we ever be done ? :)\n",
        "        shuffle(data) # in place\n",
        "    return data"
      ]
    },
    {
      "cell_type": "code",
      "execution_count": 3,
      "metadata": {
        "id": "aes4Dqz1TVJz",
        "outputId": "f5d2be8f-0d8a-476d-8b2c-43dbdaa2303a",
        "colab": {
          "base_uri": "https://localhost:8080/"
        }
      },
      "outputs": [
        {
          "output_type": "execute_result",
          "data": {
            "text/plain": [
              "[1, 6, 4, 3, -7, 50, 10]"
            ]
          },
          "metadata": {},
          "execution_count": 3
        }
      ],
      "source": [
        "mydata = [1,6,4,3,-7,50,10]\n",
        "mydata"
      ]
    },
    {
      "cell_type": "code",
      "execution_count": 6,
      "metadata": {
        "id": "tWaf5minTVJz",
        "outputId": "f6cd40ac-b133-4a18-ac55-ab3a178b6c7a",
        "colab": {
          "base_uri": "https://localhost:8080/"
        }
      },
      "outputs": [
        {
          "output_type": "execute_result",
          "data": {
            "text/plain": [
              "[-7, 1, 3, 4, 6, 10, 50]"
            ]
          },
          "metadata": {},
          "execution_count": 6
        }
      ],
      "source": [
        "bogodata = bogosort(mydata)\n",
        "bogodata"
      ]
    },
    {
      "cell_type": "code",
      "source": [
        "mydata # we need to check whether our original data were affected by sorting"
      ],
      "metadata": {
        "id": "96gWVlAeeZsj",
        "outputId": "34dd603b-0461-41fb-84c7-3050e0cfd76f",
        "colab": {
          "base_uri": "https://localhost:8080/"
        }
      },
      "execution_count": 7,
      "outputs": [
        {
          "output_type": "execute_result",
          "data": {
            "text/plain": [
              "[1, 6, 4, 3, -7, 50, 10]"
            ]
          },
          "metadata": {},
          "execution_count": 7
        }
      ]
    },
    {
      "cell_type": "code",
      "execution_count": 9,
      "metadata": {
        "id": "QbPkDW7nTVJ0",
        "outputId": "2157587a-ffb9-47d9-97bc-c4ecec01a9aa",
        "colab": {
          "base_uri": "https://localhost:8080/"
        }
      },
      "outputs": [
        {
          "output_type": "stream",
          "name": "stdout",
          "text": [
            "16.6 ms ± 2.97 ms per loop (mean ± std. dev. of 7 runs, 100 loops each)\n"
          ]
        }
      ],
      "source": [
        "%%timeit\n",
        "bogosort(mydata)"
      ]
    },
    {
      "cell_type": "code",
      "execution_count": 10,
      "metadata": {
        "id": "q6WUgHYZTVJ0"
      },
      "outputs": [],
      "source": [
        "import random\n",
        "random.seed(2025)\n",
        "# so creating some pseudo random numbers\n",
        "rand100000 = [random.randint(1,1_000_000) for _ in range(100_000)]\n",
        "rand10000 = [random.randint(1,100000) for _ in range(10000)]\n",
        "rand1000 = [random.randint(1,100000) for _ in range(1000)]\n",
        "rand100 = [random.randint(1,1000) for _ in range(100)]\n",
        "rand10 = [random.randint(1,1000) for _ in range(10)]\n",
        "rand9 = [random.randint(1,1000) for _ in range(9)]\n",
        "rand8 = [random.randint(1,1000) for _ in range(8)]\n",
        "rand7 = [random.randint(1,1000) for _ in range(7)]\n",
        "rand6 = [random.randint(1,1000) for _ in range(6)]"
      ]
    },
    {
      "cell_type": "code",
      "execution_count": 11,
      "metadata": {
        "id": "zo2xHvE1TVJ0",
        "outputId": "c8d1f3fc-4b1a-463b-bd1e-cd2168a6e89b",
        "colab": {
          "base_uri": "https://localhost:8080/"
        }
      },
      "outputs": [
        {
          "output_type": "execute_result",
          "data": {
            "text/plain": [
              "([196, 114, 208, 361, 198, 486], [114, 196, 198, 208, 361, 486])"
            ]
          },
          "metadata": {},
          "execution_count": 11
        }
      ],
      "source": [
        "rand6sorted = bogosort(rand6)\n",
        "rand6, rand6sorted"
      ]
    },
    {
      "cell_type": "code",
      "execution_count": 13,
      "metadata": {
        "id": "31NUlEnKTVJ1",
        "outputId": "bf3a5bec-d684-402b-a1c5-f7d17edcd0ab",
        "colab": {
          "base_uri": "https://localhost:8080/"
        }
      },
      "outputs": [
        {
          "output_type": "stream",
          "name": "stdout",
          "text": [
            "2 ms ± 418 µs per loop (mean ± std. dev. of 7 runs, 1000 loops each)\n"
          ]
        }
      ],
      "source": [
        "%%timeit\n",
        "bogosort(rand6)"
      ]
    },
    {
      "cell_type": "code",
      "execution_count": null,
      "metadata": {
        "id": "aGaFjSZLTVJ1",
        "outputId": "780094b3-3ee4-47f1-8191-1ec6598cab46",
        "colab": {
          "base_uri": "https://localhost:8080/"
        }
      },
      "outputs": [
        {
          "output_type": "execute_result",
          "data": {
            "text/plain": [
              "([438, 548, 111, 183, 598, 296, 938], [111, 183, 296, 438, 548, 598, 938])"
            ]
          },
          "metadata": {},
          "execution_count": 14
        }
      ],
      "source": [
        "rand7sorted = bogosort(rand7)\n",
        "rand7, rand7sorted"
      ]
    },
    {
      "cell_type": "code",
      "source": [
        "%%timeit\n",
        "bogosort(rand8)"
      ],
      "metadata": {
        "id": "DIhNcBpO68D8",
        "outputId": "c6951d7f-34a5-47ca-fc00-8fd5a501cf74",
        "colab": {
          "base_uri": "https://localhost:8080/"
        }
      },
      "execution_count": 14,
      "outputs": [
        {
          "output_type": "stream",
          "name": "stdout",
          "text": [
            "145 ms ± 58.9 ms per loop (mean ± std. dev. of 7 runs, 10 loops each)\n"
          ]
        }
      ]
    },
    {
      "cell_type": "code",
      "execution_count": null,
      "metadata": {
        "id": "V4iHnqegTVJ1",
        "outputId": "6c7cd172-198f-40b2-db2d-0ef8a06e9f3e",
        "colab": {
          "base_uri": "https://localhost:8080/"
        }
      },
      "outputs": [
        {
          "output_type": "stream",
          "name": "stdout",
          "text": [
            "17.2 ms ± 4.49 ms per loop (mean ± std. dev. of 7 runs, 100 loops each)\n"
          ]
        }
      ],
      "source": [
        "%%timeit\n",
        "bogosort(rand7)"
      ]
    },
    {
      "cell_type": "code",
      "source": [
        "rand9sorted = bogosort(rand9)\n",
        "rand9, rand9sorted"
      ],
      "metadata": {
        "id": "J2sI2Lez7ko3",
        "outputId": "fdc71c71-b306-436d-c74b-5d4e724f8061",
        "colab": {
          "base_uri": "https://localhost:8080/"
        }
      },
      "execution_count": 16,
      "outputs": [
        {
          "output_type": "execute_result",
          "data": {
            "text/plain": [
              "([446, 354, 271, 136, 1000, 859, 598, 132, 10],\n",
              " [10, 132, 136, 271, 354, 446, 598, 859, 1000])"
            ]
          },
          "metadata": {},
          "execution_count": 16
        }
      ]
    },
    {
      "cell_type": "code",
      "source": [
        "# so lets do rand10\n",
        "rand10sorted = bogosort(rand10)\n",
        "rand10, rand10sorted"
      ],
      "metadata": {
        "id": "OZScta577whp",
        "outputId": "2c37e745-b157-4dce-a26d-1cbad523b58d",
        "colab": {
          "base_uri": "https://localhost:8080/"
        }
      },
      "execution_count": 17,
      "outputs": [
        {
          "output_type": "execute_result",
          "data": {
            "text/plain": [
              "([532, 763, 705, 985, 249, 701, 184, 271, 770, 104],\n",
              " [104, 184, 249, 271, 532, 701, 705, 763, 770, 985])"
            ]
          },
          "metadata": {},
          "execution_count": 17
        }
      ]
    },
    {
      "cell_type": "code",
      "source": [
        "%%timeit\n",
        "bogosort(rand9)"
      ],
      "metadata": {
        "id": "M7TKx7167Osi",
        "outputId": "65500cb9-cbbd-4fdc-8ab2-c06c93730dda",
        "colab": {
          "base_uri": "https://localhost:8080/",
          "height": 378
        }
      },
      "execution_count": 15,
      "outputs": [
        {
          "output_type": "error",
          "ename": "KeyboardInterrupt",
          "evalue": "",
          "traceback": [
            "\u001b[0;31m---------------------------------------------------------------------------\u001b[0m",
            "\u001b[0;31mKeyboardInterrupt\u001b[0m                         Traceback (most recent call last)",
            "\u001b[0;32m<ipython-input-15-21b09d63a4af>\u001b[0m in \u001b[0;36m<cell line: 0>\u001b[0;34m()\u001b[0m\n\u001b[0;32m----> 1\u001b[0;31m \u001b[0mget_ipython\u001b[0m\u001b[0;34m(\u001b[0m\u001b[0;34m)\u001b[0m\u001b[0;34m.\u001b[0m\u001b[0mrun_cell_magic\u001b[0m\u001b[0;34m(\u001b[0m\u001b[0;34m'timeit'\u001b[0m\u001b[0;34m,\u001b[0m \u001b[0;34m''\u001b[0m\u001b[0;34m,\u001b[0m \u001b[0;34m'bogosort(rand9)\\n'\u001b[0m\u001b[0;34m)\u001b[0m\u001b[0;34m\u001b[0m\u001b[0;34m\u001b[0m\u001b[0m\n\u001b[0m",
            "\u001b[0;32m/usr/local/lib/python3.11/dist-packages/google/colab/_shell.py\u001b[0m in \u001b[0;36mrun_cell_magic\u001b[0;34m(self, magic_name, line, cell)\u001b[0m\n\u001b[1;32m    332\u001b[0m     \u001b[0;32mif\u001b[0m \u001b[0mline\u001b[0m \u001b[0;32mand\u001b[0m \u001b[0;32mnot\u001b[0m \u001b[0mcell\u001b[0m\u001b[0;34m:\u001b[0m\u001b[0;34m\u001b[0m\u001b[0;34m\u001b[0m\u001b[0m\n\u001b[1;32m    333\u001b[0m       \u001b[0mcell\u001b[0m \u001b[0;34m=\u001b[0m \u001b[0;34m' '\u001b[0m\u001b[0;34m\u001b[0m\u001b[0;34m\u001b[0m\u001b[0m\n\u001b[0;32m--> 334\u001b[0;31m     \u001b[0;32mreturn\u001b[0m \u001b[0msuper\u001b[0m\u001b[0;34m(\u001b[0m\u001b[0;34m)\u001b[0m\u001b[0;34m.\u001b[0m\u001b[0mrun_cell_magic\u001b[0m\u001b[0;34m(\u001b[0m\u001b[0mmagic_name\u001b[0m\u001b[0;34m,\u001b[0m \u001b[0mline\u001b[0m\u001b[0;34m,\u001b[0m \u001b[0mcell\u001b[0m\u001b[0;34m)\u001b[0m\u001b[0;34m\u001b[0m\u001b[0;34m\u001b[0m\u001b[0m\n\u001b[0m\u001b[1;32m    335\u001b[0m \u001b[0;34m\u001b[0m\u001b[0m\n\u001b[1;32m    336\u001b[0m \u001b[0;34m\u001b[0m\u001b[0m\n",
            "\u001b[0;32m/usr/local/lib/python3.11/dist-packages/IPython/core/interactiveshell.py\u001b[0m in \u001b[0;36mrun_cell_magic\u001b[0;34m(self, magic_name, line, cell)\u001b[0m\n\u001b[1;32m   2471\u001b[0m             \u001b[0;32mwith\u001b[0m \u001b[0mself\u001b[0m\u001b[0;34m.\u001b[0m\u001b[0mbuiltin_trap\u001b[0m\u001b[0;34m:\u001b[0m\u001b[0;34m\u001b[0m\u001b[0;34m\u001b[0m\u001b[0m\n\u001b[1;32m   2472\u001b[0m                 \u001b[0margs\u001b[0m \u001b[0;34m=\u001b[0m \u001b[0;34m(\u001b[0m\u001b[0mmagic_arg_s\u001b[0m\u001b[0;34m,\u001b[0m \u001b[0mcell\u001b[0m\u001b[0;34m)\u001b[0m\u001b[0;34m\u001b[0m\u001b[0;34m\u001b[0m\u001b[0m\n\u001b[0;32m-> 2473\u001b[0;31m                 \u001b[0mresult\u001b[0m \u001b[0;34m=\u001b[0m \u001b[0mfn\u001b[0m\u001b[0;34m(\u001b[0m\u001b[0;34m*\u001b[0m\u001b[0margs\u001b[0m\u001b[0;34m,\u001b[0m \u001b[0;34m**\u001b[0m\u001b[0mkwargs\u001b[0m\u001b[0;34m)\u001b[0m\u001b[0;34m\u001b[0m\u001b[0;34m\u001b[0m\u001b[0m\n\u001b[0m\u001b[1;32m   2474\u001b[0m             \u001b[0;32mreturn\u001b[0m \u001b[0mresult\u001b[0m\u001b[0;34m\u001b[0m\u001b[0;34m\u001b[0m\u001b[0m\n\u001b[1;32m   2475\u001b[0m \u001b[0;34m\u001b[0m\u001b[0m\n",
            "\u001b[0;32m<decorator-gen-53>\u001b[0m in \u001b[0;36mtimeit\u001b[0;34m(self, line, cell, local_ns)\u001b[0m\n",
            "\u001b[0;32m/usr/local/lib/python3.11/dist-packages/IPython/core/magic.py\u001b[0m in \u001b[0;36m<lambda>\u001b[0;34m(f, *a, **k)\u001b[0m\n\u001b[1;32m    185\u001b[0m     \u001b[0;31m# but it's overkill for just that one bit of state.\u001b[0m\u001b[0;34m\u001b[0m\u001b[0;34m\u001b[0m\u001b[0m\n\u001b[1;32m    186\u001b[0m     \u001b[0;32mdef\u001b[0m \u001b[0mmagic_deco\u001b[0m\u001b[0;34m(\u001b[0m\u001b[0marg\u001b[0m\u001b[0;34m)\u001b[0m\u001b[0;34m:\u001b[0m\u001b[0;34m\u001b[0m\u001b[0;34m\u001b[0m\u001b[0m\n\u001b[0;32m--> 187\u001b[0;31m         \u001b[0mcall\u001b[0m \u001b[0;34m=\u001b[0m \u001b[0;32mlambda\u001b[0m \u001b[0mf\u001b[0m\u001b[0;34m,\u001b[0m \u001b[0;34m*\u001b[0m\u001b[0ma\u001b[0m\u001b[0;34m,\u001b[0m \u001b[0;34m**\u001b[0m\u001b[0mk\u001b[0m\u001b[0;34m:\u001b[0m \u001b[0mf\u001b[0m\u001b[0;34m(\u001b[0m\u001b[0;34m*\u001b[0m\u001b[0ma\u001b[0m\u001b[0;34m,\u001b[0m \u001b[0;34m**\u001b[0m\u001b[0mk\u001b[0m\u001b[0;34m)\u001b[0m\u001b[0;34m\u001b[0m\u001b[0;34m\u001b[0m\u001b[0m\n\u001b[0m\u001b[1;32m    188\u001b[0m \u001b[0;34m\u001b[0m\u001b[0m\n\u001b[1;32m    189\u001b[0m         \u001b[0;32mif\u001b[0m \u001b[0mcallable\u001b[0m\u001b[0;34m(\u001b[0m\u001b[0marg\u001b[0m\u001b[0;34m)\u001b[0m\u001b[0;34m:\u001b[0m\u001b[0;34m\u001b[0m\u001b[0;34m\u001b[0m\u001b[0m\n",
            "\u001b[0;32m/usr/local/lib/python3.11/dist-packages/IPython/core/magics/execution.py\u001b[0m in \u001b[0;36mtimeit\u001b[0;34m(self, line, cell, local_ns)\u001b[0m\n\u001b[1;32m   1182\u001b[0m                     \u001b[0;32mbreak\u001b[0m\u001b[0;34m\u001b[0m\u001b[0;34m\u001b[0m\u001b[0m\n\u001b[1;32m   1183\u001b[0m \u001b[0;34m\u001b[0m\u001b[0m\n\u001b[0;32m-> 1184\u001b[0;31m         \u001b[0mall_runs\u001b[0m \u001b[0;34m=\u001b[0m \u001b[0mtimer\u001b[0m\u001b[0;34m.\u001b[0m\u001b[0mrepeat\u001b[0m\u001b[0;34m(\u001b[0m\u001b[0mrepeat\u001b[0m\u001b[0;34m,\u001b[0m \u001b[0mnumber\u001b[0m\u001b[0;34m)\u001b[0m\u001b[0;34m\u001b[0m\u001b[0;34m\u001b[0m\u001b[0m\n\u001b[0m\u001b[1;32m   1185\u001b[0m         \u001b[0mbest\u001b[0m \u001b[0;34m=\u001b[0m \u001b[0mmin\u001b[0m\u001b[0;34m(\u001b[0m\u001b[0mall_runs\u001b[0m\u001b[0;34m)\u001b[0m \u001b[0;34m/\u001b[0m \u001b[0mnumber\u001b[0m\u001b[0;34m\u001b[0m\u001b[0;34m\u001b[0m\u001b[0m\n\u001b[1;32m   1186\u001b[0m         \u001b[0mworst\u001b[0m \u001b[0;34m=\u001b[0m \u001b[0mmax\u001b[0m\u001b[0;34m(\u001b[0m\u001b[0mall_runs\u001b[0m\u001b[0;34m)\u001b[0m \u001b[0;34m/\u001b[0m \u001b[0mnumber\u001b[0m\u001b[0;34m\u001b[0m\u001b[0;34m\u001b[0m\u001b[0m\n",
            "\u001b[0;32m/usr/lib/python3.11/timeit.py\u001b[0m in \u001b[0;36mrepeat\u001b[0;34m(self, repeat, number)\u001b[0m\n\u001b[1;32m    206\u001b[0m         \u001b[0mr\u001b[0m \u001b[0;34m=\u001b[0m \u001b[0;34m[\u001b[0m\u001b[0;34m]\u001b[0m\u001b[0;34m\u001b[0m\u001b[0;34m\u001b[0m\u001b[0m\n\u001b[1;32m    207\u001b[0m         \u001b[0;32mfor\u001b[0m \u001b[0mi\u001b[0m \u001b[0;32min\u001b[0m \u001b[0mrange\u001b[0m\u001b[0;34m(\u001b[0m\u001b[0mrepeat\u001b[0m\u001b[0;34m)\u001b[0m\u001b[0;34m:\u001b[0m\u001b[0;34m\u001b[0m\u001b[0;34m\u001b[0m\u001b[0m\n\u001b[0;32m--> 208\u001b[0;31m             \u001b[0mt\u001b[0m \u001b[0;34m=\u001b[0m \u001b[0mself\u001b[0m\u001b[0;34m.\u001b[0m\u001b[0mtimeit\u001b[0m\u001b[0;34m(\u001b[0m\u001b[0mnumber\u001b[0m\u001b[0;34m)\u001b[0m\u001b[0;34m\u001b[0m\u001b[0;34m\u001b[0m\u001b[0m\n\u001b[0m\u001b[1;32m    209\u001b[0m             \u001b[0mr\u001b[0m\u001b[0;34m.\u001b[0m\u001b[0mappend\u001b[0m\u001b[0;34m(\u001b[0m\u001b[0mt\u001b[0m\u001b[0;34m)\u001b[0m\u001b[0;34m\u001b[0m\u001b[0;34m\u001b[0m\u001b[0m\n\u001b[1;32m    210\u001b[0m         \u001b[0;32mreturn\u001b[0m \u001b[0mr\u001b[0m\u001b[0;34m\u001b[0m\u001b[0;34m\u001b[0m\u001b[0m\n",
            "\u001b[0;32m/usr/local/lib/python3.11/dist-packages/IPython/core/magics/execution.py\u001b[0m in \u001b[0;36mtimeit\u001b[0;34m(self, number)\u001b[0m\n\u001b[1;32m    167\u001b[0m         \u001b[0mgc\u001b[0m\u001b[0;34m.\u001b[0m\u001b[0mdisable\u001b[0m\u001b[0;34m(\u001b[0m\u001b[0;34m)\u001b[0m\u001b[0;34m\u001b[0m\u001b[0;34m\u001b[0m\u001b[0m\n\u001b[1;32m    168\u001b[0m         \u001b[0;32mtry\u001b[0m\u001b[0;34m:\u001b[0m\u001b[0;34m\u001b[0m\u001b[0;34m\u001b[0m\u001b[0m\n\u001b[0;32m--> 169\u001b[0;31m             \u001b[0mtiming\u001b[0m \u001b[0;34m=\u001b[0m \u001b[0mself\u001b[0m\u001b[0;34m.\u001b[0m\u001b[0minner\u001b[0m\u001b[0;34m(\u001b[0m\u001b[0mit\u001b[0m\u001b[0;34m,\u001b[0m \u001b[0mself\u001b[0m\u001b[0;34m.\u001b[0m\u001b[0mtimer\u001b[0m\u001b[0;34m)\u001b[0m\u001b[0;34m\u001b[0m\u001b[0;34m\u001b[0m\u001b[0m\n\u001b[0m\u001b[1;32m    170\u001b[0m         \u001b[0;32mfinally\u001b[0m\u001b[0;34m:\u001b[0m\u001b[0;34m\u001b[0m\u001b[0;34m\u001b[0m\u001b[0m\n\u001b[1;32m    171\u001b[0m             \u001b[0;32mif\u001b[0m \u001b[0mgcold\u001b[0m\u001b[0;34m:\u001b[0m\u001b[0;34m\u001b[0m\u001b[0;34m\u001b[0m\u001b[0m\n",
            "\u001b[0;32m<magic-timeit>\u001b[0m in \u001b[0;36minner\u001b[0;34m(_it, _timer)\u001b[0m\n",
            "\u001b[0;32m<ipython-input-2-5ef63d6d3326>\u001b[0m in \u001b[0;36mbogosort\u001b[0;34m(data_og)\u001b[0m\n\u001b[1;32m     13\u001b[0m     \u001b[0mdata\u001b[0m \u001b[0;34m=\u001b[0m \u001b[0mdata_og\u001b[0m\u001b[0;34m.\u001b[0m\u001b[0mcopy\u001b[0m\u001b[0;34m(\u001b[0m\u001b[0;34m)\u001b[0m  \u001b[0;31m# we want to keep original for timing\u001b[0m\u001b[0;34m\u001b[0m\u001b[0;34m\u001b[0m\u001b[0m\n\u001b[1;32m     14\u001b[0m     \u001b[0;31m# in real life we often do not want to make copy as that takes memory\u001b[0m\u001b[0;34m\u001b[0m\u001b[0;34m\u001b[0m\u001b[0m\n\u001b[0;32m---> 15\u001b[0;31m     \u001b[0;32mwhile\u001b[0m \u001b[0;32mnot\u001b[0m \u001b[0mis_sorted\u001b[0m\u001b[0;34m(\u001b[0m\u001b[0mdata\u001b[0m\u001b[0;34m)\u001b[0m\u001b[0;34m:\u001b[0m \u001b[0;31m# well will we ever be done ? :)\u001b[0m\u001b[0;34m\u001b[0m\u001b[0;34m\u001b[0m\u001b[0m\n\u001b[0m\u001b[1;32m     16\u001b[0m         \u001b[0mshuffle\u001b[0m\u001b[0;34m(\u001b[0m\u001b[0mdata\u001b[0m\u001b[0;34m)\u001b[0m \u001b[0;31m# in place\u001b[0m\u001b[0;34m\u001b[0m\u001b[0;34m\u001b[0m\u001b[0m\n\u001b[1;32m     17\u001b[0m     \u001b[0;32mreturn\u001b[0m \u001b[0mdata\u001b[0m\u001b[0;34m\u001b[0m\u001b[0;34m\u001b[0m\u001b[0m\n",
            "\u001b[0;32m<ipython-input-2-5ef63d6d3326>\u001b[0m in \u001b[0;36mis_sorted\u001b[0;34m(data)\u001b[0m\n\u001b[1;32m      6\u001b[0m     \u001b[0;34m\"\"\"Determine whether the data is sorted.\"\"\"\u001b[0m\u001b[0;34m\u001b[0m\u001b[0;34m\u001b[0m\u001b[0m\n\u001b[1;32m      7\u001b[0m     \u001b[0;31m# linear complexity\u001b[0m\u001b[0;34m\u001b[0m\u001b[0;34m\u001b[0m\u001b[0m\n\u001b[0;32m----> 8\u001b[0;31m     \u001b[0;32mreturn\u001b[0m \u001b[0mall\u001b[0m\u001b[0;34m(\u001b[0m\u001b[0mdata\u001b[0m\u001b[0;34m[\u001b[0m\u001b[0mi\u001b[0m\u001b[0;34m]\u001b[0m \u001b[0;34m<=\u001b[0m \u001b[0mdata\u001b[0m\u001b[0;34m[\u001b[0m\u001b[0mi\u001b[0m \u001b[0;34m+\u001b[0m \u001b[0;36m1\u001b[0m\u001b[0;34m]\u001b[0m \u001b[0;32mfor\u001b[0m \u001b[0mi\u001b[0m \u001b[0;32min\u001b[0m \u001b[0mrange\u001b[0m\u001b[0;34m(\u001b[0m\u001b[0mlen\u001b[0m\u001b[0;34m(\u001b[0m\u001b[0mdata\u001b[0m\u001b[0;34m)\u001b[0m \u001b[0;34m-\u001b[0m \u001b[0;36m1\u001b[0m\u001b[0;34m)\u001b[0m\u001b[0;34m)\u001b[0m \u001b[0;31m# go through all items in collection and check order\u001b[0m\u001b[0;34m\u001b[0m\u001b[0;34m\u001b[0m\u001b[0m\n\u001b[0m\u001b[1;32m      9\u001b[0m \u001b[0;34m\u001b[0m\u001b[0m\n\u001b[1;32m     10\u001b[0m \u001b[0;34m\u001b[0m\u001b[0m\n",
            "\u001b[0;32m<ipython-input-2-5ef63d6d3326>\u001b[0m in \u001b[0;36m<genexpr>\u001b[0;34m(.0)\u001b[0m\n\u001b[1;32m      6\u001b[0m     \u001b[0;34m\"\"\"Determine whether the data is sorted.\"\"\"\u001b[0m\u001b[0;34m\u001b[0m\u001b[0;34m\u001b[0m\u001b[0m\n\u001b[1;32m      7\u001b[0m     \u001b[0;31m# linear complexity\u001b[0m\u001b[0;34m\u001b[0m\u001b[0;34m\u001b[0m\u001b[0m\n\u001b[0;32m----> 8\u001b[0;31m     \u001b[0;32mreturn\u001b[0m \u001b[0mall\u001b[0m\u001b[0;34m(\u001b[0m\u001b[0mdata\u001b[0m\u001b[0;34m[\u001b[0m\u001b[0mi\u001b[0m\u001b[0;34m]\u001b[0m \u001b[0;34m<=\u001b[0m \u001b[0mdata\u001b[0m\u001b[0;34m[\u001b[0m\u001b[0mi\u001b[0m \u001b[0;34m+\u001b[0m \u001b[0;36m1\u001b[0m\u001b[0;34m]\u001b[0m \u001b[0;32mfor\u001b[0m \u001b[0mi\u001b[0m \u001b[0;32min\u001b[0m \u001b[0mrange\u001b[0m\u001b[0;34m(\u001b[0m\u001b[0mlen\u001b[0m\u001b[0;34m(\u001b[0m\u001b[0mdata\u001b[0m\u001b[0;34m)\u001b[0m \u001b[0;34m-\u001b[0m \u001b[0;36m1\u001b[0m\u001b[0;34m)\u001b[0m\u001b[0;34m)\u001b[0m \u001b[0;31m# go through all items in collection and check order\u001b[0m\u001b[0;34m\u001b[0m\u001b[0;34m\u001b[0m\u001b[0m\n\u001b[0m\u001b[1;32m      9\u001b[0m \u001b[0;34m\u001b[0m\u001b[0m\n\u001b[1;32m     10\u001b[0m \u001b[0;34m\u001b[0m\u001b[0m\n",
            "\u001b[0;31mKeyboardInterrupt\u001b[0m: "
          ]
        }
      ]
    },
    {
      "cell_type": "code",
      "execution_count": null,
      "metadata": {
        "id": "lEmOvvC1TVJ1",
        "outputId": "13562574-3ebc-4028-a87f-688a69222ea5",
        "colab": {
          "base_uri": "https://localhost:8080/"
        }
      },
      "outputs": [
        {
          "output_type": "execute_result",
          "data": {
            "text/plain": [
              "([166, 847, 694, 508, 878, 935, 26, 395, 59, 846],\n",
              " [26, 59, 166, 395, 508, 694, 846, 847, 878, 935])"
            ]
          },
          "metadata": {},
          "execution_count": 16
        }
      ],
      "source": [
        "rand10sorted = bogosort(rand10)\n",
        "rand10, rand10sorted"
      ]
    },
    {
      "cell_type": "code",
      "source": [
        "# so if 6 elements take about 2ms\n",
        "# so 7 elements take about 15 ms\n",
        "# so 10 elements take about 8s\n",
        "# what kind of complexity does it smell like?\n",
        "# hint: https://en.wikipedia.org/wiki/Permutation"
      ],
      "metadata": {
        "id": "NnO0BasEpPm6"
      },
      "execution_count": null,
      "outputs": []
    },
    {
      "cell_type": "code",
      "execution_count": null,
      "metadata": {
        "id": "S6rv3q3ZTVJ1",
        "outputId": "30ffaafb-1bda-43b7-9477-5673cb95b9c3"
      },
      "outputs": [
        {
          "data": {
            "text/plain": [
              "[133, 921, 120, 508, 87, 293]"
            ]
          },
          "execution_count": 14,
          "metadata": {},
          "output_type": "execute_result"
        }
      ],
      "source": [
        "rand6"
      ]
    },
    {
      "cell_type": "code",
      "execution_count": null,
      "metadata": {
        "id": "B7FvqElLTVJ2",
        "outputId": "9848be62-72ee-4670-e32e-fa2f1301ad8f"
      },
      "outputs": [
        {
          "data": {
            "text/plain": [
              "[54, 275, 162, 341, 771, 255, 837]"
            ]
          },
          "execution_count": 13,
          "metadata": {},
          "output_type": "execute_result"
        }
      ],
      "source": [
        "rand7"
      ]
    },
    {
      "cell_type": "code",
      "execution_count": null,
      "metadata": {
        "id": "Cc4rcIEPTVJ2",
        "outputId": "86ef1428-37a7-4f94-9e97-e7c931ed7b24"
      },
      "outputs": [
        {
          "data": {
            "text/plain": [
              "[615, 538, 45, 258, 570, 963, 46, 122, 681, 303]"
            ]
          },
          "execution_count": 15,
          "metadata": {},
          "output_type": "execute_result"
        }
      ],
      "source": [
        "rand10"
      ]
    },
    {
      "cell_type": "code",
      "execution_count": 18,
      "metadata": {
        "id": "NBMDQjTYTVJ2",
        "outputId": "92839d42-16bf-454c-df40-4fc1f46b6b6d",
        "colab": {
          "base_uri": "https://localhost:8080/"
        }
      },
      "outputs": [
        {
          "output_type": "execute_result",
          "data": {
            "text/plain": [
              "3628800"
            ]
          },
          "metadata": {},
          "execution_count": 18
        }
      ],
      "source": [
        "import math\n",
        "math.factorial(10)"
      ]
    },
    {
      "cell_type": "code",
      "execution_count": null,
      "metadata": {
        "id": "THob02ZKTVJ2",
        "outputId": "83c14d05-4067-4b89-a9bf-d83b6a088619"
      },
      "outputs": [
        {
          "data": {
            "text/plain": [
              "[72, 179, 187, 408, 421, 481, 638]"
            ]
          },
          "execution_count": 10,
          "metadata": {},
          "output_type": "execute_result"
        }
      ],
      "source": [
        "bogo7 = bogosort(rand7)\n",
        "bogo7"
      ]
    },
    {
      "cell_type": "code",
      "execution_count": null,
      "metadata": {
        "id": "Zv-EBUSvTVJ2",
        "outputId": "c567a2a2-74c5-4926-9a59-a936f20e001f"
      },
      "outputs": [
        {
          "ename": "KeyboardInterrupt",
          "evalue": "",
          "output_type": "error",
          "traceback": [
            "\u001b[1;31m---------------------------------------------------------------------------\u001b[0m",
            "\u001b[1;31mKeyboardInterrupt\u001b[0m                         Traceback (most recent call last)",
            "\u001b[1;32m<ipython-input-6-a0576b1a5b5d>\u001b[0m in \u001b[0;36m<module>\u001b[1;34m\u001b[0m\n\u001b[1;32m----> 1\u001b[1;33m \u001b[0mget_ipython\u001b[0m\u001b[1;33m(\u001b[0m\u001b[1;33m)\u001b[0m\u001b[1;33m.\u001b[0m\u001b[0mrun_cell_magic\u001b[0m\u001b[1;33m(\u001b[0m\u001b[1;34m'timeit'\u001b[0m\u001b[1;33m,\u001b[0m \u001b[1;34m''\u001b[0m\u001b[1;33m,\u001b[0m \u001b[1;34m'bogosort(rand10)\\n'\u001b[0m\u001b[1;33m)\u001b[0m\u001b[1;33m\u001b[0m\u001b[1;33m\u001b[0m\u001b[0m\n\u001b[0m",
            "\u001b[1;32m~\\anaconda3\\lib\\site-packages\\IPython\\core\\interactiveshell.py\u001b[0m in \u001b[0;36mrun_cell_magic\u001b[1;34m(self, magic_name, line, cell)\u001b[0m\n\u001b[0;32m   2369\u001b[0m             \u001b[1;32mwith\u001b[0m \u001b[0mself\u001b[0m\u001b[1;33m.\u001b[0m\u001b[0mbuiltin_trap\u001b[0m\u001b[1;33m:\u001b[0m\u001b[1;33m\u001b[0m\u001b[1;33m\u001b[0m\u001b[0m\n\u001b[0;32m   2370\u001b[0m                 \u001b[0margs\u001b[0m \u001b[1;33m=\u001b[0m \u001b[1;33m(\u001b[0m\u001b[0mmagic_arg_s\u001b[0m\u001b[1;33m,\u001b[0m \u001b[0mcell\u001b[0m\u001b[1;33m)\u001b[0m\u001b[1;33m\u001b[0m\u001b[1;33m\u001b[0m\u001b[0m\n\u001b[1;32m-> 2371\u001b[1;33m                 \u001b[0mresult\u001b[0m \u001b[1;33m=\u001b[0m \u001b[0mfn\u001b[0m\u001b[1;33m(\u001b[0m\u001b[1;33m*\u001b[0m\u001b[0margs\u001b[0m\u001b[1;33m,\u001b[0m \u001b[1;33m**\u001b[0m\u001b[0mkwargs\u001b[0m\u001b[1;33m)\u001b[0m\u001b[1;33m\u001b[0m\u001b[1;33m\u001b[0m\u001b[0m\n\u001b[0m\u001b[0;32m   2372\u001b[0m             \u001b[1;32mreturn\u001b[0m \u001b[0mresult\u001b[0m\u001b[1;33m\u001b[0m\u001b[1;33m\u001b[0m\u001b[0m\n\u001b[0;32m   2373\u001b[0m \u001b[1;33m\u001b[0m\u001b[0m\n",
            "\u001b[1;32m<decorator-gen-61>\u001b[0m in \u001b[0;36mtimeit\u001b[1;34m(self, line, cell, local_ns)\u001b[0m\n",
            "\u001b[1;32m~\\anaconda3\\lib\\site-packages\\IPython\\core\\magic.py\u001b[0m in \u001b[0;36m<lambda>\u001b[1;34m(f, *a, **k)\u001b[0m\n\u001b[0;32m    185\u001b[0m     \u001b[1;31m# but it's overkill for just that one bit of state.\u001b[0m\u001b[1;33m\u001b[0m\u001b[1;33m\u001b[0m\u001b[1;33m\u001b[0m\u001b[0m\n\u001b[0;32m    186\u001b[0m     \u001b[1;32mdef\u001b[0m \u001b[0mmagic_deco\u001b[0m\u001b[1;33m(\u001b[0m\u001b[0marg\u001b[0m\u001b[1;33m)\u001b[0m\u001b[1;33m:\u001b[0m\u001b[1;33m\u001b[0m\u001b[1;33m\u001b[0m\u001b[0m\n\u001b[1;32m--> 187\u001b[1;33m         \u001b[0mcall\u001b[0m \u001b[1;33m=\u001b[0m \u001b[1;32mlambda\u001b[0m \u001b[0mf\u001b[0m\u001b[1;33m,\u001b[0m \u001b[1;33m*\u001b[0m\u001b[0ma\u001b[0m\u001b[1;33m,\u001b[0m \u001b[1;33m**\u001b[0m\u001b[0mk\u001b[0m\u001b[1;33m:\u001b[0m \u001b[0mf\u001b[0m\u001b[1;33m(\u001b[0m\u001b[1;33m*\u001b[0m\u001b[0ma\u001b[0m\u001b[1;33m,\u001b[0m \u001b[1;33m**\u001b[0m\u001b[0mk\u001b[0m\u001b[1;33m)\u001b[0m\u001b[1;33m\u001b[0m\u001b[1;33m\u001b[0m\u001b[0m\n\u001b[0m\u001b[0;32m    188\u001b[0m \u001b[1;33m\u001b[0m\u001b[0m\n\u001b[0;32m    189\u001b[0m         \u001b[1;32mif\u001b[0m \u001b[0mcallable\u001b[0m\u001b[1;33m(\u001b[0m\u001b[0marg\u001b[0m\u001b[1;33m)\u001b[0m\u001b[1;33m:\u001b[0m\u001b[1;33m\u001b[0m\u001b[1;33m\u001b[0m\u001b[0m\n",
            "\u001b[1;32m~\\anaconda3\\lib\\site-packages\\IPython\\core\\magics\\execution.py\u001b[0m in \u001b[0;36mtimeit\u001b[1;34m(self, line, cell, local_ns)\u001b[0m\n\u001b[0;32m   1161\u001b[0m             \u001b[1;32mfor\u001b[0m \u001b[0mindex\u001b[0m \u001b[1;32min\u001b[0m \u001b[0mrange\u001b[0m\u001b[1;33m(\u001b[0m\u001b[1;36m0\u001b[0m\u001b[1;33m,\u001b[0m \u001b[1;36m10\u001b[0m\u001b[1;33m)\u001b[0m\u001b[1;33m:\u001b[0m\u001b[1;33m\u001b[0m\u001b[1;33m\u001b[0m\u001b[0m\n\u001b[0;32m   1162\u001b[0m                 \u001b[0mnumber\u001b[0m \u001b[1;33m=\u001b[0m \u001b[1;36m10\u001b[0m \u001b[1;33m**\u001b[0m \u001b[0mindex\u001b[0m\u001b[1;33m\u001b[0m\u001b[1;33m\u001b[0m\u001b[0m\n\u001b[1;32m-> 1163\u001b[1;33m                 \u001b[0mtime_number\u001b[0m \u001b[1;33m=\u001b[0m \u001b[0mtimer\u001b[0m\u001b[1;33m.\u001b[0m\u001b[0mtimeit\u001b[0m\u001b[1;33m(\u001b[0m\u001b[0mnumber\u001b[0m\u001b[1;33m)\u001b[0m\u001b[1;33m\u001b[0m\u001b[1;33m\u001b[0m\u001b[0m\n\u001b[0m\u001b[0;32m   1164\u001b[0m                 \u001b[1;32mif\u001b[0m \u001b[0mtime_number\u001b[0m \u001b[1;33m>=\u001b[0m \u001b[1;36m0.2\u001b[0m\u001b[1;33m:\u001b[0m\u001b[1;33m\u001b[0m\u001b[1;33m\u001b[0m\u001b[0m\n\u001b[0;32m   1165\u001b[0m                     \u001b[1;32mbreak\u001b[0m\u001b[1;33m\u001b[0m\u001b[1;33m\u001b[0m\u001b[0m\n",
            "\u001b[1;32m~\\anaconda3\\lib\\site-packages\\IPython\\core\\magics\\execution.py\u001b[0m in \u001b[0;36mtimeit\u001b[1;34m(self, number)\u001b[0m\n\u001b[0;32m    167\u001b[0m         \u001b[0mgc\u001b[0m\u001b[1;33m.\u001b[0m\u001b[0mdisable\u001b[0m\u001b[1;33m(\u001b[0m\u001b[1;33m)\u001b[0m\u001b[1;33m\u001b[0m\u001b[1;33m\u001b[0m\u001b[0m\n\u001b[0;32m    168\u001b[0m         \u001b[1;32mtry\u001b[0m\u001b[1;33m:\u001b[0m\u001b[1;33m\u001b[0m\u001b[1;33m\u001b[0m\u001b[0m\n\u001b[1;32m--> 169\u001b[1;33m             \u001b[0mtiming\u001b[0m \u001b[1;33m=\u001b[0m \u001b[0mself\u001b[0m\u001b[1;33m.\u001b[0m\u001b[0minner\u001b[0m\u001b[1;33m(\u001b[0m\u001b[0mit\u001b[0m\u001b[1;33m,\u001b[0m \u001b[0mself\u001b[0m\u001b[1;33m.\u001b[0m\u001b[0mtimer\u001b[0m\u001b[1;33m)\u001b[0m\u001b[1;33m\u001b[0m\u001b[1;33m\u001b[0m\u001b[0m\n\u001b[0m\u001b[0;32m    170\u001b[0m         \u001b[1;32mfinally\u001b[0m\u001b[1;33m:\u001b[0m\u001b[1;33m\u001b[0m\u001b[1;33m\u001b[0m\u001b[0m\n\u001b[0;32m    171\u001b[0m             \u001b[1;32mif\u001b[0m \u001b[0mgcold\u001b[0m\u001b[1;33m:\u001b[0m\u001b[1;33m\u001b[0m\u001b[1;33m\u001b[0m\u001b[0m\n",
            "\u001b[1;32m<magic-timeit>\u001b[0m in \u001b[0;36minner\u001b[1;34m(_it, _timer)\u001b[0m\n",
            "\u001b[1;32m<ipython-input-1-0d2f3c5499de>\u001b[0m in \u001b[0;36mbogosort\u001b[1;34m(data)\u001b[0m\n\u001b[0;32m      8\u001b[0m     \u001b[1;34m\"\"\"Shuffle data until sorted.\"\"\"\u001b[0m\u001b[1;33m\u001b[0m\u001b[1;33m\u001b[0m\u001b[0m\n\u001b[0;32m      9\u001b[0m     \u001b[1;32mwhile\u001b[0m \u001b[1;32mnot\u001b[0m \u001b[0mis_sorted\u001b[0m\u001b[1;33m(\u001b[0m\u001b[0mdata\u001b[0m\u001b[1;33m)\u001b[0m\u001b[1;33m:\u001b[0m\u001b[1;33m\u001b[0m\u001b[1;33m\u001b[0m\u001b[0m\n\u001b[1;32m---> 10\u001b[1;33m         \u001b[0mshuffle\u001b[0m\u001b[1;33m(\u001b[0m\u001b[0mdata\u001b[0m\u001b[1;33m)\u001b[0m\u001b[1;33m\u001b[0m\u001b[1;33m\u001b[0m\u001b[0m\n\u001b[0m\u001b[0;32m     11\u001b[0m     \u001b[1;32mreturn\u001b[0m \u001b[0mdata\u001b[0m\u001b[1;33m\u001b[0m\u001b[1;33m\u001b[0m\u001b[0m\n",
            "\u001b[1;32m~\\anaconda3\\lib\\random.py\u001b[0m in \u001b[0;36mshuffle\u001b[1;34m(self, x, random)\u001b[0m\n\u001b[0;32m    304\u001b[0m             \u001b[1;32mfor\u001b[0m \u001b[0mi\u001b[0m \u001b[1;32min\u001b[0m \u001b[0mreversed\u001b[0m\u001b[1;33m(\u001b[0m\u001b[0mrange\u001b[0m\u001b[1;33m(\u001b[0m\u001b[1;36m1\u001b[0m\u001b[1;33m,\u001b[0m \u001b[0mlen\u001b[0m\u001b[1;33m(\u001b[0m\u001b[0mx\u001b[0m\u001b[1;33m)\u001b[0m\u001b[1;33m)\u001b[0m\u001b[1;33m)\u001b[0m\u001b[1;33m:\u001b[0m\u001b[1;33m\u001b[0m\u001b[1;33m\u001b[0m\u001b[0m\n\u001b[0;32m    305\u001b[0m                 \u001b[1;31m# pick an element in x[:i+1] with which to exchange x[i]\u001b[0m\u001b[1;33m\u001b[0m\u001b[1;33m\u001b[0m\u001b[1;33m\u001b[0m\u001b[0m\n\u001b[1;32m--> 306\u001b[1;33m                 \u001b[0mj\u001b[0m \u001b[1;33m=\u001b[0m \u001b[0mrandbelow\u001b[0m\u001b[1;33m(\u001b[0m\u001b[0mi\u001b[0m\u001b[1;33m+\u001b[0m\u001b[1;36m1\u001b[0m\u001b[1;33m)\u001b[0m\u001b[1;33m\u001b[0m\u001b[1;33m\u001b[0m\u001b[0m\n\u001b[0m\u001b[0;32m    307\u001b[0m                 \u001b[0mx\u001b[0m\u001b[1;33m[\u001b[0m\u001b[0mi\u001b[0m\u001b[1;33m]\u001b[0m\u001b[1;33m,\u001b[0m \u001b[0mx\u001b[0m\u001b[1;33m[\u001b[0m\u001b[0mj\u001b[0m\u001b[1;33m]\u001b[0m \u001b[1;33m=\u001b[0m \u001b[0mx\u001b[0m\u001b[1;33m[\u001b[0m\u001b[0mj\u001b[0m\u001b[1;33m]\u001b[0m\u001b[1;33m,\u001b[0m \u001b[0mx\u001b[0m\u001b[1;33m[\u001b[0m\u001b[0mi\u001b[0m\u001b[1;33m]\u001b[0m\u001b[1;33m\u001b[0m\u001b[1;33m\u001b[0m\u001b[0m\n\u001b[0;32m    308\u001b[0m         \u001b[1;32melse\u001b[0m\u001b[1;33m:\u001b[0m\u001b[1;33m\u001b[0m\u001b[1;33m\u001b[0m\u001b[0m\n",
            "\u001b[1;31mKeyboardInterrupt\u001b[0m: "
          ]
        }
      ],
      "source": [
        "%%timeit\n",
        "bogosort(rand10)"
      ]
    },
    {
      "cell_type": "code",
      "execution_count": null,
      "metadata": {
        "id": "egGQ4E97TVJ3"
      },
      "outputs": [],
      "source": [
        "# so time complexity for Bogosort is (n!) not very practical :)"
      ]
    },
    {
      "cell_type": "markdown",
      "metadata": {
        "hidden": true,
        "id": "wGiLZZqkTVJ3"
      },
      "source": [
        "Source: http://interactivepython.org/runestone/static/pythonds/SortSearch/toctree.html"
      ]
    },
    {
      "cell_type": "markdown",
      "metadata": {
        "heading_collapsed": true,
        "hidden": true,
        "id": "Wc-X4Q01TVJ3"
      },
      "source": [
        "### Bubble sort"
      ]
    },
    {
      "cell_type": "markdown",
      "metadata": {
        "hidden": true,
        "id": "8FgFoOGWTVJ3"
      },
      "source": [
        "![bubble](https://github.com/ValRCS/RTU_Algorithms_DIP321/blob/main/imgs/bubblepass.png?raw=1)"
      ]
    },
    {
      "cell_type": "markdown",
      "metadata": {
        "hidden": true,
        "id": "BkeFlN_NTVJ3"
      },
      "source": [
        "$$Complexity: O(n^2)$$"
      ]
    },
    {
      "cell_type": "markdown",
      "metadata": {
        "hidden": true,
        "id": "8JFxhKN-TVJ3"
      },
      "source": [
        "A bubble sort is often considered the most inefficient sorting method since it must exchange items before the final location is known. These “wasted” exchange operations are very costly. However, because the bubble sort makes passes through the entire unsorted portion of the list, it has the capability to do something most sorting algorithms cannot. In particular, if during a pass there are no exchanges, then we know that the list must be sorted. A bubble sort can be modified to stop early if it finds that the list has become sorted. This means that for lists that require just a few passes, a bubble sort may have an advantage in that it will recognize the sorted list and stop."
      ]
    },
    {
      "cell_type": "code",
      "execution_count": 20,
      "metadata": {
        "hidden": true,
        "id": "bBxO_QeLTVJ3"
      },
      "outputs": [],
      "source": [
        "l = [1,2,3,4,32,5,5,66,33,221,34,23,12]"
      ]
    },
    {
      "cell_type": "code",
      "execution_count": 21,
      "metadata": {
        "hidden": true,
        "id": "OX5F9t_zTVJ3"
      },
      "outputs": [],
      "source": [
        "def bubblesort(nums_og, debug = False):\n",
        "    nums = nums_og.copy() # linear complexity to copy something, for teaching purposes here\n",
        "    n = len(nums)\n",
        "    exchange_cnt = 1 # could use Boolean here as well\n",
        "    # note the two nested loops - that usually smells O(n^2) complexity\n",
        "    while exchange_cnt > 0: # outside loop\n",
        "        exchange_cnt = 0\n",
        "        for i in range(1, n): #inner loop\n",
        "            if nums[i] < nums[i - 1]:\n",
        "                exchange_cnt += 1\n",
        "                nums[i - 1], nums[i] = nums[i], nums[i - 1]  # tuple unpacking to exchange, no need for temp variables\n",
        "        if debug:\n",
        "            print(nums, exchange_cnt)\n",
        "    return nums"
      ]
    },
    {
      "cell_type": "code",
      "source": [
        "shuffle(l)\n",
        "l"
      ],
      "metadata": {
        "id": "6tABFigiin_f",
        "outputId": "41ac09aa-52f7-475e-c596-bdc4d035d6e0",
        "colab": {
          "base_uri": "https://localhost:8080/"
        }
      },
      "execution_count": 22,
      "outputs": [
        {
          "output_type": "execute_result",
          "data": {
            "text/plain": [
              "[34, 23, 4, 5, 3, 12, 221, 5, 33, 1, 32, 2, 66]"
            ]
          },
          "metadata": {},
          "execution_count": 22
        }
      ]
    },
    {
      "cell_type": "code",
      "execution_count": 23,
      "metadata": {
        "hidden": true,
        "id": "mYdSv_esTVJ4",
        "outputId": "7a9f0e36-45de-41ae-f87e-2e73ad0533a3",
        "colab": {
          "base_uri": "https://localhost:8080/"
        }
      },
      "outputs": [
        {
          "output_type": "stream",
          "name": "stdout",
          "text": [
            "[23, 4, 5, 3, 12, 34, 5, 33, 1, 32, 2, 66, 221] 11\n",
            "[4, 5, 3, 12, 23, 5, 33, 1, 32, 2, 34, 66, 221] 9\n",
            "[4, 3, 5, 12, 5, 23, 1, 32, 2, 33, 34, 66, 221] 5\n",
            "[3, 4, 5, 5, 12, 1, 23, 2, 32, 33, 34, 66, 221] 4\n",
            "[3, 4, 5, 5, 1, 12, 2, 23, 32, 33, 34, 66, 221] 2\n",
            "[3, 4, 5, 1, 5, 2, 12, 23, 32, 33, 34, 66, 221] 2\n",
            "[3, 4, 1, 5, 2, 5, 12, 23, 32, 33, 34, 66, 221] 2\n",
            "[3, 1, 4, 2, 5, 5, 12, 23, 32, 33, 34, 66, 221] 2\n",
            "[1, 3, 2, 4, 5, 5, 12, 23, 32, 33, 34, 66, 221] 2\n",
            "[1, 2, 3, 4, 5, 5, 12, 23, 32, 33, 34, 66, 221] 1\n",
            "[1, 2, 3, 4, 5, 5, 12, 23, 32, 33, 34, 66, 221] 0\n"
          ]
        },
        {
          "output_type": "execute_result",
          "data": {
            "text/plain": [
              "[1, 2, 3, 4, 5, 5, 12, 23, 32, 33, 34, 66, 221]"
            ]
          },
          "metadata": {},
          "execution_count": 23
        }
      ],
      "source": [
        "bubblesort(l, debug=True)"
      ]
    },
    {
      "cell_type": "code",
      "execution_count": null,
      "metadata": {
        "id": "29gPiR8oTVJ4"
      },
      "outputs": [],
      "source": [
        "ran"
      ]
    },
    {
      "cell_type": "code",
      "source": [
        "shuffle(rand1000)\n",
        "rand1000[:5]"
      ],
      "metadata": {
        "id": "czLBTkQ8jOPA",
        "outputId": "243f9c0c-83bb-42fa-9e14-72a99b45c9ec",
        "colab": {
          "base_uri": "https://localhost:8080/"
        }
      },
      "execution_count": null,
      "outputs": [
        {
          "output_type": "execute_result",
          "data": {
            "text/plain": [
              "[96745, 20315, 73122, 55538, 56260]"
            ]
          },
          "metadata": {},
          "execution_count": 29
        }
      ]
    },
    {
      "cell_type": "code",
      "execution_count": 24,
      "metadata": {
        "id": "WN1lC9XGTVJ4",
        "outputId": "4f411d65-0852-4bbb-b2c2-8e37de4f7c02",
        "colab": {
          "base_uri": "https://localhost:8080/"
        }
      },
      "outputs": [
        {
          "output_type": "execute_result",
          "data": {
            "text/plain": [
              "([61052, 5645, 24185, 96363, 16172], [68, 87, 234, 412, 597])"
            ]
          },
          "metadata": {},
          "execution_count": 24
        }
      ],
      "source": [
        "bubble1000 = bubblesort(rand1000)\n",
        "rand1000[:5], bubble1000[:5]"
      ]
    },
    {
      "cell_type": "code",
      "source": [
        "%%timeit\n",
        "bubblesort(rand10)"
      ],
      "metadata": {
        "id": "rJjNrFdCK5gR",
        "outputId": "142f9b01-bb6d-42db-d0c2-3b5681ed018e",
        "colab": {
          "base_uri": "https://localhost:8080/"
        }
      },
      "execution_count": 25,
      "outputs": [
        {
          "output_type": "stream",
          "name": "stdout",
          "text": [
            "9.69 µs ± 2.19 µs per loop (mean ± std. dev. of 7 runs, 100000 loops each)\n"
          ]
        }
      ]
    },
    {
      "cell_type": "code",
      "execution_count": 26,
      "metadata": {
        "id": "S5jyOqtnTVJ4",
        "outputId": "cd55b05f-9901-42d9-acbf-7574ebcc3fe6",
        "colab": {
          "base_uri": "https://localhost:8080/"
        }
      },
      "outputs": [
        {
          "output_type": "stream",
          "name": "stdout",
          "text": [
            "79 ms ± 971 µs per loop (mean ± std. dev. of 7 runs, 10 loops each)\n"
          ]
        }
      ],
      "source": [
        "%%timeit\n",
        "bubblesort(rand1000)"
      ]
    },
    {
      "cell_type": "code",
      "execution_count": null,
      "metadata": {
        "id": "WESiuaJHTVJ4",
        "outputId": "fae6b0a2-267d-493d-846f-4f08f4d6b629",
        "colab": {
          "base_uri": "https://localhost:8080/"
        }
      },
      "outputs": [
        {
          "output_type": "stream",
          "name": "stdout",
          "text": [
            "9.83 s ± 512 ms per loop (mean ± std. dev. of 7 runs, 1 loop each)\n"
          ]
        }
      ],
      "source": [
        "%%timeit\n",
        "bubblesort(rand10000)"
      ]
    },
    {
      "cell_type": "code",
      "source": [
        "# so we had 10 x as many elements but 100x slower sorting speed\n",
        "# classical case of quadratic complexity"
      ],
      "metadata": {
        "id": "CgQaXnj7kWnp"
      },
      "execution_count": null,
      "outputs": []
    },
    {
      "cell_type": "code",
      "execution_count": null,
      "metadata": {
        "id": "OqQAhILbTVJ4",
        "outputId": "6790754d-b2ea-49a8-a9f4-ef147a8eb52e"
      },
      "outputs": [
        {
          "ename": "KeyboardInterrupt",
          "evalue": "",
          "output_type": "error",
          "traceback": [
            "\u001b[1;31m---------------------------------------------------------------------------\u001b[0m",
            "\u001b[1;31mKeyboardInterrupt\u001b[0m                         Traceback (most recent call last)",
            "\u001b[1;32m<timed eval>\u001b[0m in \u001b[0;36m<module>\u001b[1;34m\u001b[0m\n",
            "\u001b[1;32m<ipython-input-24-f8dc47ee1031>\u001b[0m in \u001b[0;36mbubblesort\u001b[1;34m(nums, debug)\u001b[0m\n\u001b[0;32m      7\u001b[0m             \u001b[1;32mif\u001b[0m \u001b[0mnums\u001b[0m\u001b[1;33m[\u001b[0m\u001b[0mi\u001b[0m\u001b[1;33m]\u001b[0m \u001b[1;33m<\u001b[0m \u001b[0mnums\u001b[0m\u001b[1;33m[\u001b[0m\u001b[0mi\u001b[0m \u001b[1;33m-\u001b[0m \u001b[1;36m1\u001b[0m\u001b[1;33m]\u001b[0m\u001b[1;33m:\u001b[0m\u001b[1;33m\u001b[0m\u001b[1;33m\u001b[0m\u001b[0m\n\u001b[0;32m      8\u001b[0m                 \u001b[0mexchange_cnt\u001b[0m \u001b[1;33m+=\u001b[0m \u001b[1;36m1\u001b[0m\u001b[1;33m\u001b[0m\u001b[1;33m\u001b[0m\u001b[0m\n\u001b[1;32m----> 9\u001b[1;33m                 \u001b[0mnums\u001b[0m\u001b[1;33m[\u001b[0m\u001b[0mi\u001b[0m \u001b[1;33m-\u001b[0m \u001b[1;36m1\u001b[0m\u001b[1;33m]\u001b[0m\u001b[1;33m,\u001b[0m \u001b[0mnums\u001b[0m\u001b[1;33m[\u001b[0m\u001b[0mi\u001b[0m\u001b[1;33m]\u001b[0m \u001b[1;33m=\u001b[0m \u001b[0mnums\u001b[0m\u001b[1;33m[\u001b[0m\u001b[0mi\u001b[0m\u001b[1;33m]\u001b[0m\u001b[1;33m,\u001b[0m \u001b[0mnums\u001b[0m\u001b[1;33m[\u001b[0m\u001b[0mi\u001b[0m \u001b[1;33m-\u001b[0m \u001b[1;36m1\u001b[0m\u001b[1;33m]\u001b[0m\u001b[1;33m\u001b[0m\u001b[1;33m\u001b[0m\u001b[0m\n\u001b[0m\u001b[0;32m     10\u001b[0m         \u001b[1;32mif\u001b[0m \u001b[0mdebug\u001b[0m\u001b[1;33m:\u001b[0m\u001b[1;33m\u001b[0m\u001b[1;33m\u001b[0m\u001b[0m\n\u001b[0;32m     11\u001b[0m             \u001b[0mprint\u001b[0m\u001b[1;33m(\u001b[0m\u001b[0mnums\u001b[0m\u001b[1;33m)\u001b[0m\u001b[1;33m\u001b[0m\u001b[1;33m\u001b[0m\u001b[0m\n",
            "\u001b[1;31mKeyboardInterrupt\u001b[0m: "
          ]
        }
      ],
      "source": [
        "# so sorting 100k random elements by bubble sort would take 2000 seconds - over half an hour on this virtual machine!\n",
        "# bubblesort(rand100000)"
      ]
    },
    {
      "cell_type": "code",
      "execution_count": null,
      "metadata": {
        "id": "oZgJ4gdsTVJ4",
        "outputId": "3191e9b3-9592-455b-8fce-8860cb519efe"
      },
      "outputs": [
        {
          "data": {
            "text/plain": [
              "(100000000, 10000000000)"
            ]
          },
          "execution_count": 37,
          "metadata": {},
          "output_type": "execute_result"
        }
      ],
      "source": [
        "10_000**2, 100_000**2"
      ]
    },
    {
      "cell_type": "markdown",
      "metadata": {
        "heading_collapsed": true,
        "hidden": true,
        "id": "ykM4eVIqTVJ5"
      },
      "source": [
        "### Selection sort"
      ]
    },
    {
      "cell_type": "markdown",
      "metadata": {
        "hidden": true,
        "id": "k9OMR6znTVJ5"
      },
      "source": [
        "![selection](https://github.com/ValRCS/RTU_Algorithms_DIP321/blob/main/imgs/selectionsort.png?raw=1)"
      ]
    },
    {
      "cell_type": "markdown",
      "metadata": {
        "hidden": true,
        "id": "GxGHtk2gTVJ5"
      },
      "source": [
        "$$Complexity: O(n^2)$$"
      ]
    },
    {
      "cell_type": "markdown",
      "metadata": {
        "hidden": true,
        "id": "dL9ndMy8TVJ5"
      },
      "source": [
        "The selection sort improves on the bubble sort by making only one exchange for every pass through the list. In order to do this, a selection sort looks for the largest value as it makes a pass and, after completing the pass, places it in the proper location. As with a bubble sort, after the first pass, the largest item is in the correct place. After the second pass, the next largest is in place. This process continues and requires n−1 passes to sort n items, since the final item must be in place after the (n−1) st pass."
      ]
    },
    {
      "cell_type": "code",
      "execution_count": null,
      "metadata": {
        "hidden": true,
        "id": "9Ln6410uTVJ5"
      },
      "outputs": [],
      "source": [
        "l = [1,2,3,4,32,5,5,66,33,221,34,23,12]"
      ]
    },
    {
      "cell_type": "code",
      "execution_count": 27,
      "metadata": {
        "hidden": true,
        "id": "DYky7DN3TVJ5"
      },
      "outputs": [],
      "source": [
        "def selectionSort(l_og, debug=False):\n",
        "    l = l_og.copy() # again linear complexity\n",
        "    n = len(l)\n",
        "    end = n - 1\n",
        "    # again we see two nested loops -> smells like O(n^2)\n",
        "    for j in range(n): ## outer loop\n",
        "        max_ = l[-1 - j]  # we use max_ because max is used by Python for finding max values\n",
        "        max_idx = -1 - j\n",
        "        for i in range(end): ## inner loop\n",
        "            if l[i] > max_:\n",
        "                max_ = l[i]\n",
        "                max_idx = i\n",
        "            else:\n",
        "                continue\n",
        "        l[-1 - j], l[max_idx] = l[max_idx], l[-1 - j] # swapping items at the end so max value gets to the end\n",
        "        end = end - 1\n",
        "        if debug:\n",
        "            print(l)\n",
        "    return l"
      ]
    },
    {
      "cell_type": "code",
      "execution_count": 28,
      "metadata": {
        "hidden": true,
        "id": "d0JTw7bMTVJ6",
        "outputId": "30fa5bc0-1644-426c-fe60-25e67f4a418a",
        "colab": {
          "base_uri": "https://localhost:8080/"
        }
      },
      "outputs": [
        {
          "output_type": "stream",
          "name": "stdout",
          "text": [
            "[34, 23, 4, 5, 3, 12, 66, 5, 33, 1, 32, 2, 221]\n",
            "[34, 23, 4, 5, 3, 12, 2, 5, 33, 1, 32, 66, 221]\n",
            "[32, 23, 4, 5, 3, 12, 2, 5, 33, 1, 34, 66, 221]\n",
            "[32, 23, 4, 5, 3, 12, 2, 5, 1, 33, 34, 66, 221]\n",
            "[1, 23, 4, 5, 3, 12, 2, 5, 32, 33, 34, 66, 221]\n",
            "[1, 5, 4, 5, 3, 12, 2, 23, 32, 33, 34, 66, 221]\n",
            "[1, 5, 4, 5, 3, 2, 12, 23, 32, 33, 34, 66, 221]\n",
            "[1, 2, 4, 5, 3, 5, 12, 23, 32, 33, 34, 66, 221]\n",
            "[1, 2, 4, 3, 5, 5, 12, 23, 32, 33, 34, 66, 221]\n",
            "[1, 2, 3, 4, 5, 5, 12, 23, 32, 33, 34, 66, 221]\n",
            "[1, 2, 3, 4, 5, 5, 12, 23, 32, 33, 34, 66, 221]\n",
            "[1, 2, 3, 4, 5, 5, 12, 23, 32, 33, 34, 66, 221]\n",
            "[1, 2, 3, 4, 5, 5, 12, 23, 32, 33, 34, 66, 221]\n"
          ]
        },
        {
          "output_type": "execute_result",
          "data": {
            "text/plain": [
              "[1, 2, 3, 4, 5, 5, 12, 23, 32, 33, 34, 66, 221]"
            ]
          },
          "metadata": {},
          "execution_count": 28
        }
      ],
      "source": [
        "selectionSort(l, debug=True)"
      ]
    },
    {
      "cell_type": "markdown",
      "metadata": {
        "hidden": true,
        "id": "aqCkpkgxTVJ6"
      },
      "source": [
        "The benefit of selection over bubble sort is it does one exchange per pass whereas bubble sort can do multiple exchanges."
      ]
    },
    {
      "cell_type": "code",
      "execution_count": 29,
      "metadata": {
        "id": "e5sl9vARTVJ6",
        "outputId": "d4e31490-d523-4c47-c212-91272b0bcdad",
        "colab": {
          "base_uri": "https://localhost:8080/"
        }
      },
      "outputs": [
        {
          "output_type": "stream",
          "name": "stdout",
          "text": [
            "19.2 ms ± 2.59 ms per loop (mean ± std. dev. of 7 runs, 100 loops each)\n"
          ]
        }
      ],
      "source": [
        "%%timeit\n",
        "selectionSort(rand1000)"
      ]
    },
    {
      "cell_type": "code",
      "execution_count": 30,
      "metadata": {
        "id": "cEBge29jTVJ6",
        "outputId": "7cbb2f1c-f08b-4c68-cc57-5e47cc8ba788",
        "colab": {
          "base_uri": "https://localhost:8080/"
        }
      },
      "outputs": [
        {
          "output_type": "stream",
          "name": "stdout",
          "text": [
            "2.04 s ± 266 ms per loop (mean ± std. dev. of 7 runs, 1 loop each)\n"
          ]
        }
      ],
      "source": [
        "%%timeit\n",
        "selectionSort(rand10000)"
      ]
    },
    {
      "cell_type": "code",
      "execution_count": null,
      "metadata": {
        "id": "gnhWjnZfTVJ6"
      },
      "outputs": [],
      "source": [
        "# so 10 x more items and we ge 10x10=100 slower speed"
      ]
    },
    {
      "cell_type": "markdown",
      "metadata": {
        "heading_collapsed": true,
        "hidden": true,
        "id": "9RcbNShiTVJ7"
      },
      "source": [
        "### Insertion sort"
      ]
    },
    {
      "cell_type": "markdown",
      "metadata": {
        "hidden": true,
        "id": "Zd-81coCTVJ7"
      },
      "source": [
        "![insertion](https://github.com/ValRCS/RTU_Algorithms_DIP321/blob/main/imgs/insertionsort.png?raw=1)"
      ]
    },
    {
      "cell_type": "markdown",
      "metadata": {
        "hidden": true,
        "id": "p0J-ASRNTVJ7"
      },
      "source": [
        "$$Complexity: O(n^2)$$"
      ]
    },
    {
      "cell_type": "code",
      "execution_count": null,
      "metadata": {
        "hidden": true,
        "id": "9Jkq3SsFTVJ7"
      },
      "outputs": [],
      "source": [
        "l = [45,1,2,3,4,32,5,5,66,33,221,34,23,12]"
      ]
    },
    {
      "cell_type": "code",
      "execution_count": 31,
      "metadata": {
        "hidden": true,
        "id": "kUzCYRwATVJ7"
      },
      "outputs": [],
      "source": [
        "def insertionSort(l_og, debug=False):\n",
        "    l = l_og.copy() # again linear complexity copy, we would avoid this in real life most likely\n",
        "    for i in range(1, len(l)): # outer loop\n",
        "        cval = l[i]\n",
        "        pos = i\n",
        "        while pos > 0 and l[pos - 1] > cval: # inner loop\n",
        "            l[pos],l[pos-1] = l[pos - 1],l[pos]  # we utilize tuple packing and unpacking to do the swap\n",
        "            # in some other languages you'd have to use a temp variable\n",
        "            pos = pos - 1\n",
        "        if debug:\n",
        "            print(l)\n",
        "    return l"
      ]
    },
    {
      "cell_type": "code",
      "execution_count": 32,
      "metadata": {
        "hidden": true,
        "id": "JJ7BhMwlTVJ7",
        "outputId": "c164d421-7ecd-4237-bde6-c0a542f56c01",
        "colab": {
          "base_uri": "https://localhost:8080/"
        }
      },
      "outputs": [
        {
          "output_type": "stream",
          "name": "stdout",
          "text": [
            "[23, 34, 4, 5, 3, 12, 221, 5, 33, 1, 32, 2, 66]\n",
            "[4, 23, 34, 5, 3, 12, 221, 5, 33, 1, 32, 2, 66]\n",
            "[4, 5, 23, 34, 3, 12, 221, 5, 33, 1, 32, 2, 66]\n",
            "[3, 4, 5, 23, 34, 12, 221, 5, 33, 1, 32, 2, 66]\n",
            "[3, 4, 5, 12, 23, 34, 221, 5, 33, 1, 32, 2, 66]\n",
            "[3, 4, 5, 12, 23, 34, 221, 5, 33, 1, 32, 2, 66]\n",
            "[3, 4, 5, 5, 12, 23, 34, 221, 33, 1, 32, 2, 66]\n",
            "[3, 4, 5, 5, 12, 23, 33, 34, 221, 1, 32, 2, 66]\n",
            "[1, 3, 4, 5, 5, 12, 23, 33, 34, 221, 32, 2, 66]\n",
            "[1, 3, 4, 5, 5, 12, 23, 32, 33, 34, 221, 2, 66]\n",
            "[1, 2, 3, 4, 5, 5, 12, 23, 32, 33, 34, 221, 66]\n",
            "[1, 2, 3, 4, 5, 5, 12, 23, 32, 33, 34, 66, 221]\n"
          ]
        },
        {
          "output_type": "execute_result",
          "data": {
            "text/plain": [
              "[1, 2, 3, 4, 5, 5, 12, 23, 32, 33, 34, 66, 221]"
            ]
          },
          "metadata": {},
          "execution_count": 32
        }
      ],
      "source": [
        "insertionSort(l,debug=True)"
      ]
    },
    {
      "cell_type": "code",
      "execution_count": 33,
      "metadata": {
        "id": "dxsKEhvTTVJ7",
        "outputId": "5de8abaa-c72e-4ddb-9e3b-daf20102570d",
        "colab": {
          "base_uri": "https://localhost:8080/"
        }
      },
      "outputs": [
        {
          "output_type": "stream",
          "name": "stdout",
          "text": [
            "32.9 ms ± 500 µs per loop (mean ± std. dev. of 7 runs, 10 loops each)\n"
          ]
        }
      ],
      "source": [
        "%%timeit\n",
        "insertionSort(rand1000)"
      ]
    },
    {
      "cell_type": "code",
      "execution_count": 34,
      "metadata": {
        "id": "GXuR4mFQTVJ8",
        "outputId": "8a4b86cf-435d-45a2-e2f4-9507c1cdaeff",
        "colab": {
          "base_uri": "https://localhost:8080/"
        }
      },
      "outputs": [
        {
          "output_type": "stream",
          "name": "stdout",
          "text": [
            "4.08 s ± 591 ms per loop (mean ± std. dev. of 7 runs, 1 loop each)\n"
          ]
        }
      ],
      "source": [
        "%%timeit\n",
        "insertionSort(rand10000)"
      ]
    },
    {
      "cell_type": "code",
      "source": [],
      "metadata": {
        "id": "SLsrLJPwRfK6"
      },
      "execution_count": null,
      "outputs": []
    },
    {
      "cell_type": "code",
      "source": [
        "sorted10k = insertionSort(rand10000)\n",
        "sorted10k[:5], sorted10k[-5:]"
      ],
      "metadata": {
        "id": "x2a3OzQsq1aF",
        "outputId": "76317b10-e76c-43dc-b867-5b197ce59a9d",
        "colab": {
          "base_uri": "https://localhost:8080/"
        }
      },
      "execution_count": null,
      "outputs": [
        {
          "output_type": "execute_result",
          "data": {
            "text/plain": [
              "([28, 58, 58, 61, 72], [99951, 99964, 99983, 99984, 99990])"
            ]
          },
          "metadata": {},
          "execution_count": 45
        }
      ]
    },
    {
      "cell_type": "code",
      "source": [
        "%%timeit\n",
        "insertionSort(sorted10k) # so what happens if we insertion sort already sorted values.."
      ],
      "metadata": {
        "id": "x6i872kHrJAs",
        "outputId": "7d3efe00-941f-44e9-88a5-3f31ef6c8b23",
        "colab": {
          "base_uri": "https://localhost:8080/"
        }
      },
      "execution_count": null,
      "outputs": [
        {
          "output_type": "stream",
          "name": "stdout",
          "text": [
            "2.15 ms ± 438 µs per loop (mean ± std. dev. of 7 runs, 1000 loops each)\n"
          ]
        }
      ]
    },
    {
      "cell_type": "code",
      "execution_count": null,
      "metadata": {
        "id": "-WCsXHqXTVJ8",
        "outputId": "2c9d269f-868e-4d9b-acce-31d97a6c7d0a"
      },
      "outputs": [
        {
          "data": {
            "text/plain": [
              "[430748,\n",
              " 478942,\n",
              " 328814,\n",
              " 467954,\n",
              " 288719,\n",
              " 109581,\n",
              " 254921,\n",
              " 506815,\n",
              " 714653,\n",
              " 171634]"
            ]
          },
          "execution_count": 52,
          "metadata": {},
          "output_type": "execute_result"
        }
      ],
      "source": [
        "rand20k = [random.randint(1,1000000) for _ in range(20_000)]\n",
        "rand20k[:10]"
      ]
    },
    {
      "cell_type": "code",
      "execution_count": null,
      "metadata": {
        "id": "sqyvFl9NTVJ8",
        "outputId": "5e5b3204-210d-4d8c-e1af-c1bfd5f879f8"
      },
      "outputs": [
        {
          "name": "stdout",
          "output_type": "stream",
          "text": [
            "7.34 ms ± 576 µs per loop (mean ± std. dev. of 7 runs, 1 loop each)\n"
          ]
        }
      ],
      "source": [
        "%%timeit\n",
        "insertionSort(rand20k)"
      ]
    },
    {
      "cell_type": "code",
      "execution_count": null,
      "metadata": {
        "id": "CS84r1_kTVJ8",
        "outputId": "c8681e73-a112-474f-b9d5-2ab9e964ca99"
      },
      "outputs": [
        {
          "data": {
            "text/plain": [
              "[72, 208, 313, 370, 530, 572, 582, 687, 692, 768]"
            ]
          },
          "execution_count": 51,
          "metadata": {},
          "output_type": "execute_result"
        }
      ],
      "source": [
        "rand20k[:10]"
      ]
    },
    {
      "cell_type": "code",
      "execution_count": null,
      "metadata": {
        "id": "8tu1_-4oTVJ8",
        "outputId": "5485a807-14d6-405b-bf4c-29d1c20aaba5"
      },
      "outputs": [
        {
          "name": "stdout",
          "output_type": "stream",
          "text": [
            "Wall time: 1min 3s\n"
          ]
        }
      ],
      "source": [
        "%%time\n",
        "sorted20k = insertionSort(rand20k)"
      ]
    },
    {
      "cell_type": "code",
      "execution_count": null,
      "metadata": {
        "id": "fiMH8_tGTVJ9",
        "outputId": "15d4ef45-62f1-4d50-ee1d-321ec3d1072d"
      },
      "outputs": [
        {
          "data": {
            "text/plain": [
              "([116, 132, 161, 269, 435], [116, 132, 161, 269, 435])"
            ]
          },
          "execution_count": 54,
          "metadata": {},
          "output_type": "execute_result"
        }
      ],
      "source": [
        "sorted20k[:5], rand20k[:5]"
      ]
    },
    {
      "cell_type": "code",
      "execution_count": null,
      "metadata": {
        "id": "M4CT5mcCTVJ9"
      },
      "outputs": [],
      "source": [
        "sorted20k[9000] = 777\n",
        "sorted20k[12000] = 555\n",
        "# so not sorted anymore"
      ]
    },
    {
      "cell_type": "code",
      "source": [
        "# so insertion sort works well on almost sorted data\n",
        "# also insertion sort has low overhead for sorting small arrays/list\n",
        "# for these reasons, insertion sort is used as part of hybrid sort that utilizes some better algorithms for\n",
        "# longer data but for small chunks these hybrids use insertion sort\n",
        "# good example timsort which is Python's default sorted algorithm"
      ],
      "metadata": {
        "id": "oCO8Pnh2R4R-"
      },
      "execution_count": null,
      "outputs": []
    },
    {
      "cell_type": "markdown",
      "metadata": {
        "heading_collapsed": true,
        "hidden": true,
        "id": "OplzxcpwTVJ9"
      },
      "source": [
        "### Merge Sort"
      ]
    },
    {
      "cell_type": "code",
      "execution_count": null,
      "metadata": {
        "id": "oDMxhVG4TVJ9"
      },
      "outputs": [],
      "source": [
        "# first implementation idea by https://en.wikipedia.org/wiki/John_von_Neumann\n"
      ]
    },
    {
      "cell_type": "markdown",
      "metadata": {
        "hidden": true,
        "id": "Fpjy2sb8TVJ9"
      },
      "source": [
        "![merge](https://github.com/ValRCS/RTU_Algorithms_DIP321/blob/main/imgs/mergesort.png?raw=1)"
      ]
    },
    {
      "cell_type": "markdown",
      "metadata": {
        "hidden": true,
        "id": "GkL-yElgTVJ9"
      },
      "source": [
        "![merge1](https://github.com/ValRCS/RTU_Algorithms_DIP321/blob/main/imgs/mergesortB.png?raw=1)"
      ]
    },
    {
      "cell_type": "markdown",
      "metadata": {
        "hidden": true,
        "id": "TgB1VqFqTVJ-"
      },
      "source": [
        "$$Complexity: O(nlog(n))$$"
      ]
    },
    {
      "cell_type": "code",
      "execution_count": null,
      "metadata": {
        "hidden": true,
        "id": "6rLFJ3_GTVJ-"
      },
      "outputs": [],
      "source": [
        "l = [1,2,3,4,32,5,5,66,33,221,34,23,12]"
      ]
    },
    {
      "cell_type": "code",
      "execution_count": 35,
      "metadata": {
        "hidden": true,
        "id": "nuidg-aCTVJ-"
      },
      "outputs": [],
      "source": [
        "# recursive mergesort\n",
        "def mergeSort(alist, debug=False):\n",
        "#     alist = olist[:] # should be a copy\n",
        "#     print(\"Splitting \", alist)\n",
        "    if len(alist) > 1:\n",
        "        mid = len(alist) // 2\n",
        "        lefthalf = alist[:mid]\n",
        "        righthalf = alist[mid:]\n",
        "\n",
        "        # so we call recursive mergeSort on each half\n",
        "        mergeSort(lefthalf)\n",
        "        mergeSort(righthalf)\n",
        "        # this could a seperate function the mergin part\n",
        "        i = 0\n",
        "        j = 0\n",
        "        k = 0\n",
        "        # then we merge the lefthalf and righthalf\n",
        "        while i < len(lefthalf) and j < len(righthalf): #so 0 based indexing\n",
        "            if lefthalf[i] < righthalf[j]:\n",
        "                alist[k] = lefthalf[i]\n",
        "                i = i + 1 # we advance the left side index/pointer\n",
        "            else:\n",
        "                alist[k] = righthalf[j]\n",
        "                j = j + 1  #andvance the right side index/pointer\n",
        "            k = k + 1\n",
        "\n",
        "        while i < len(lefthalf):\n",
        "            alist[k] = lefthalf[i]\n",
        "            i = i + 1\n",
        "            k = k + 1\n",
        "\n",
        "        while j < len(righthalf):\n",
        "            alist[k] = righthalf[j]\n",
        "            j = j + 1\n",
        "            k = k + 1\n",
        "    if debug:\n",
        "        print(\"Merging \", alist)\n",
        "    return alist"
      ]
    },
    {
      "cell_type": "code",
      "execution_count": 36,
      "metadata": {
        "hidden": true,
        "id": "pyOr0U8kTVJ-",
        "outputId": "470d6387-ac99-49ef-d468-8375279b7ea2",
        "colab": {
          "base_uri": "https://localhost:8080/"
        }
      },
      "outputs": [
        {
          "output_type": "stream",
          "name": "stdout",
          "text": [
            "Merging  [1, 2, 3, 4, 5, 5, 12, 23, 32, 33, 34, 66, 221]\n"
          ]
        },
        {
          "output_type": "execute_result",
          "data": {
            "text/plain": [
              "[1, 2, 3, 4, 5, 5, 12, 23, 32, 33, 34, 66, 221]"
            ]
          },
          "metadata": {},
          "execution_count": 36
        }
      ],
      "source": [
        "mergeSort(l, debug=True)"
      ]
    },
    {
      "cell_type": "code",
      "source": [
        "# so this particular mergeSort is IN-PLACE (unlike ou previous examples)\n",
        "# meaning it modifies the list/array we give it\n",
        "# so l is going to be sorted\n",
        "l"
      ],
      "metadata": {
        "id": "KPcv9f98U2RV",
        "outputId": "a209ca1e-81d0-4b7c-9ea2-7c4dced4d94c",
        "colab": {
          "base_uri": "https://localhost:8080/"
        }
      },
      "execution_count": null,
      "outputs": [
        {
          "output_type": "execute_result",
          "data": {
            "text/plain": [
              "[1, 2, 3, 4, 5, 5, 12, 23, 32, 33, 34, 45, 66, 221]"
            ]
          },
          "metadata": {},
          "execution_count": 50
        }
      ]
    },
    {
      "cell_type": "code",
      "execution_count": null,
      "metadata": {
        "id": "yXGp4nttTVJ-",
        "outputId": "9fc6b15b-544a-4d65-bf05-fba9300749f9",
        "colab": {
          "base_uri": "https://localhost:8080/"
        }
      },
      "outputs": [
        {
          "output_type": "execute_result",
          "data": {
            "text/plain": [
              "[46930, 17038, 11801, 88074, 58219, 91737, 42178, 7644, 34142, 63634]"
            ]
          },
          "metadata": {},
          "execution_count": 71
        }
      ],
      "source": [
        "rand1000[:10]"
      ]
    },
    {
      "cell_type": "code",
      "execution_count": null,
      "metadata": {
        "id": "wowv1ncRTVJ-"
      },
      "outputs": [],
      "source": [
        "shuffle(rand1000)"
      ]
    },
    {
      "cell_type": "code",
      "execution_count": null,
      "metadata": {
        "id": "X49FuNZbTVJ-",
        "outputId": "9b61ada2-ad09-4c0b-8724-f41adc6ee9d0",
        "colab": {
          "base_uri": "https://localhost:8080/"
        }
      },
      "outputs": [
        {
          "output_type": "execute_result",
          "data": {
            "text/plain": [
              "[48864, 30291, 31875, 59440, 18849, 94561, 34567, 64798, 66449, 42583]"
            ]
          },
          "metadata": {},
          "execution_count": 38
        }
      ],
      "source": [
        "rand1000[:10]"
      ]
    },
    {
      "cell_type": "code",
      "execution_count": null,
      "metadata": {
        "id": "LE07goTiTVJ_",
        "outputId": "87dd8b9d-9716-4858-b0d3-c143336fff43",
        "colab": {
          "base_uri": "https://localhost:8080/"
        }
      },
      "outputs": [
        {
          "output_type": "execute_result",
          "data": {
            "text/plain": [
              "([141, 154, 280, 429, 456], [141, 154, 280, 429, 456])"
            ]
          },
          "metadata": {},
          "execution_count": 72
        }
      ],
      "source": [
        "merge1000 = mergeSort(rand1000)\n",
        "merge1000[:5], rand1000[:5]"
      ]
    },
    {
      "cell_type": "code",
      "execution_count": null,
      "metadata": {
        "id": "pvnGT4KYTVJ_",
        "outputId": "7c48f308-c5ba-4792-9f78-b640e96530b4",
        "colab": {
          "base_uri": "https://localhost:8080/"
        }
      },
      "outputs": [
        {
          "output_type": "execute_result",
          "data": {
            "text/plain": [
              "[12, 23, 26, 28, 30, 34, 41, 50, 52, 56]"
            ]
          },
          "metadata": {},
          "execution_count": 39
        }
      ],
      "source": [
        "merge10k = mergeSort(rand10000)\n",
        "merge10k[:10]"
      ]
    },
    {
      "cell_type": "code",
      "execution_count": 37,
      "metadata": {
        "id": "yep8rsjNTVJ_",
        "outputId": "98ddfd9b-2f10-485a-be33-f895d7411764",
        "colab": {
          "base_uri": "https://localhost:8080/"
        }
      },
      "outputs": [
        {
          "output_type": "stream",
          "name": "stdout",
          "text": [
            "1.65 ms ± 299 µs per loop (mean ± std. dev. of 7 runs, 1000 loops each)\n"
          ]
        }
      ],
      "source": [
        "%%timeit\n",
        "mergeSort(rand1000)"
      ]
    },
    {
      "cell_type": "code",
      "execution_count": 38,
      "metadata": {
        "scrolled": true,
        "id": "EBajvy4PTVJ_",
        "outputId": "beaf5252-e1df-49ce-9f59-4f6d140e2dab",
        "colab": {
          "base_uri": "https://localhost:8080/"
        }
      },
      "outputs": [
        {
          "output_type": "stream",
          "name": "stdout",
          "text": [
            "21.6 ms ± 2.8 ms per loop (mean ± std. dev. of 7 runs, 100 loops each)\n"
          ]
        }
      ],
      "source": [
        "%%timeit\n",
        "mergeSort(rand10000)"
      ]
    },
    {
      "cell_type": "code",
      "execution_count": 40,
      "metadata": {
        "id": "cyQ-IlpLTVJ_",
        "outputId": "7b5c5506-d57c-4780-9743-3366aaf47b8f",
        "colab": {
          "base_uri": "https://localhost:8080/"
        }
      },
      "outputs": [
        {
          "output_type": "execute_result",
          "data": {
            "text/plain": [
              "[743910, 624742, 306220, 671521, 826005]"
            ]
          },
          "metadata": {},
          "execution_count": 40
        }
      ],
      "source": [
        "r100_000 = [random.randint(1,1_000_000) for _ in range(100_000)]\n",
        "r100_000[:5]"
      ]
    },
    {
      "cell_type": "code",
      "execution_count": 41,
      "metadata": {
        "id": "9TbRm4vhTVJ_",
        "outputId": "78b786c3-0491-4898-eafa-3fece8305e96",
        "colab": {
          "base_uri": "https://localhost:8080/"
        }
      },
      "outputs": [
        {
          "output_type": "stream",
          "name": "stdout",
          "text": [
            "402 ms ± 106 ms per loop (mean ± std. dev. of 7 runs, 1 loop each)\n"
          ]
        }
      ],
      "source": [
        "%%timeit\n",
        "mergeSort(r100_000) # so here n log n starts to really shine"
      ]
    },
    {
      "cell_type": "code",
      "execution_count": 43,
      "metadata": {
        "id": "ArPk0RDgTVJ_"
      },
      "outputs": [],
      "source": [
        "shuffle(r100_000)"
      ]
    },
    {
      "cell_type": "code",
      "execution_count": 44,
      "metadata": {
        "id": "mx_Y_uaiTVJ_",
        "outputId": "32c5d1c7-2819-44f3-902c-ee46c2216674",
        "colab": {
          "base_uri": "https://localhost:8080/"
        }
      },
      "outputs": [
        {
          "output_type": "stream",
          "name": "stdout",
          "text": [
            "43.6 ms ± 7.31 ms per loop (mean ± std. dev. of 7 runs, 10 loops each)\n"
          ]
        }
      ],
      "source": [
        "%%timeit\n",
        "sorted(r100_000) # sorted uses timsort which is a combination of insertion sort + merge sort"
      ]
    },
    {
      "cell_type": "code",
      "execution_count": null,
      "metadata": {
        "id": "1hvmdgvDTVKA",
        "outputId": "443ff925-d369-4b7b-a285-fdd0225aa08b"
      },
      "outputs": [
        {
          "data": {
            "text/plain": [
              "[18, 18, 24, 62, 66]"
            ]
          },
          "execution_count": 57,
          "metadata": {},
          "output_type": "execute_result"
        }
      ],
      "source": [
        "sorted100k = mergeSort(r100_000)\n",
        "sorted100k[:5]"
      ]
    },
    {
      "cell_type": "code",
      "execution_count": null,
      "metadata": {
        "id": "qgcgxe7uTVKA",
        "outputId": "52f6dcbb-77fe-4b64-c83a-5dcb3a08295f"
      },
      "outputs": [
        {
          "name": "stdout",
          "output_type": "stream",
          "text": [
            "956 ms ± 25.5 ms per loop (mean ± std. dev. of 7 runs, 1 loop each)\n"
          ]
        }
      ],
      "source": [
        "%%timeit\n",
        "mergeSort(sorted100k) # so we gained nothing from being sorted"
      ]
    },
    {
      "cell_type": "code",
      "execution_count": null,
      "metadata": {
        "id": "zqklBk8eTVKA",
        "outputId": "4e56b55c-a145-4b1f-a3f6-6606e29301d3"
      },
      "outputs": [
        {
          "name": "stdout",
          "output_type": "stream",
          "text": [
            "38.8 ms ± 1.95 ms per loop (mean ± std. dev. of 7 runs, 10 loops each)\n"
          ]
        }
      ],
      "source": [
        "%%timeit\n",
        "insertionSort(sorted100k)  # insertion sort should be slow we shall see\n"
      ]
    },
    {
      "cell_type": "code",
      "execution_count": null,
      "metadata": {
        "id": "mNIADBOtTVKA",
        "outputId": "a7075453-ee25-4c24-b2d4-c95558edcc6e"
      },
      "outputs": [
        {
          "data": {
            "text/plain": [
              "[499488,\n",
              " 499502,\n",
              " 499511,\n",
              " 499522,\n",
              " 499523,\n",
              " 499529,\n",
              " 499540,\n",
              " 499590,\n",
              " 499594,\n",
              " 499604]"
            ]
          },
          "execution_count": 61,
          "metadata": {},
          "output_type": "execute_result"
        }
      ],
      "source": [
        "sorted100k[50000:50000+10]"
      ]
    },
    {
      "cell_type": "code",
      "execution_count": null,
      "metadata": {
        "id": "yjBo9m4STVKA"
      },
      "outputs": [],
      "source": [
        "sorted100k[555] = 400000\n",
        "sorted100k[9000] = 1333\n"
      ]
    },
    {
      "cell_type": "code",
      "execution_count": null,
      "metadata": {
        "id": "8457xcJ0TVKA",
        "outputId": "3c177247-0815-454e-ce98-b45a70bb267a"
      },
      "outputs": [
        {
          "name": "stdout",
          "output_type": "stream",
          "text": [
            "40 ms ± 2.78 ms per loop (mean ± std. dev. of 7 runs, 10 loops each)\n"
          ]
        }
      ],
      "source": [
        "%%timeit\n",
        "insertionSort(sorted100k)"
      ]
    },
    {
      "cell_type": "code",
      "source": [
        "random_1M = [random.randint(1,10_000_000) for _ in range(1_000_000)]  # _ means we do not care about iterator\n",
        "random_1M[:5]"
      ],
      "metadata": {
        "id": "0tmDJHC-VvAI",
        "outputId": "85a7d1cc-acf3-4a76-d338-fd396268c026",
        "colab": {
          "base_uri": "https://localhost:8080/"
        }
      },
      "execution_count": null,
      "outputs": [
        {
          "output_type": "execute_result",
          "data": {
            "text/plain": [
              "[2741942, 6945545, 8485864, 1672445, 2355126]"
            ]
          },
          "metadata": {},
          "execution_count": 59
        }
      ]
    },
    {
      "cell_type": "code",
      "source": [
        "%%timeit\n",
        "sorted(random_1M)"
      ],
      "metadata": {
        "id": "t6MLvw4nV5kR",
        "outputId": "4d238eb0-8e2b-4799-9fe7-b8ce1f27b284",
        "colab": {
          "base_uri": "https://localhost:8080/"
        }
      },
      "execution_count": null,
      "outputs": [
        {
          "output_type": "stream",
          "name": "stdout",
          "text": [
            "369 ms ± 8.55 ms per loop (mean ± std. dev. of 7 runs, 1 loop each)\n"
          ]
        }
      ]
    },
    {
      "cell_type": "code",
      "source": [
        "%%timeit\n",
        "mergeSort(random_1M)"
      ],
      "metadata": {
        "id": "srsZtoCLVoQX",
        "outputId": "334faf17-4776-45be-9b2f-3dc96d3fa29f",
        "colab": {
          "base_uri": "https://localhost:8080/"
        }
      },
      "execution_count": null,
      "outputs": [
        {
          "output_type": "stream",
          "name": "stdout",
          "text": [
            "9.44 s ± 505 ms per loop (mean ± std. dev. of 7 runs, 1 loop each)\n"
          ]
        }
      ]
    },
    {
      "cell_type": "code",
      "source": [
        "%%timeit\n",
        "sorted(random_1M)"
      ],
      "metadata": {
        "id": "1XGlLsftWZ0W",
        "outputId": "73da8893-9d42-4dcc-ee7d-497f971c768c",
        "colab": {
          "base_uri": "https://localhost:8080/"
        }
      },
      "execution_count": null,
      "outputs": [
        {
          "output_type": "stream",
          "name": "stdout",
          "text": [
            "101 ms ± 2.11 ms per loop (mean ± std. dev. of 7 runs, 10 loops each)\n"
          ]
        }
      ]
    },
    {
      "cell_type": "code",
      "source": [
        "random_1M[:5]"
      ],
      "metadata": {
        "id": "sX_jHDihWt_b",
        "outputId": "89418936-d475-4621-ab56-d497d67679e5",
        "colab": {
          "base_uri": "https://localhost:8080/"
        }
      },
      "execution_count": null,
      "outputs": [
        {
          "output_type": "execute_result",
          "data": {
            "text/plain": [
              "[1, 15, 32, 36, 39]"
            ]
          },
          "metadata": {},
          "execution_count": 63
        }
      ]
    },
    {
      "cell_type": "markdown",
      "metadata": {
        "id": "CrT_ND4lTVKA"
      },
      "source": [
        "# Big O, Theta and Omega bounds"
      ]
    },
    {
      "cell_type": "markdown",
      "metadata": {
        "id": "wwjY2yyUTVKB"
      },
      "source": [
        "### Merge sort is defined by recurrence formula\n",
        "T(n) = 2T(n/2) + n\n",
        "So each problem has to be divided in two halfs and also we have linear(n) merging operation"
      ]
    },
    {
      "cell_type": "code",
      "execution_count": null,
      "metadata": {
        "id": "BsmcSeupTVKB"
      },
      "outputs": [],
      "source": [
        "# so how to prove that merge sort is really O(n log n) time complexity?\n",
        "# in reality we are looking for tight bound the Θ(n log n) complexity\n",
        "# so O is very loose, in every day usage when people say O they really mean Θ - theta\n",
        "# O is showing that the algorith is no worse than some f(n)\n",
        "# I could say that merge sort is O(n!) and it would still be correct but practically useless\n",
        "# since most algorithms are O(n!)\n",
        "# so Merge sort is O(n!), O(n^5),O(n^2) and so on and finally most crucially O(n log n)\n",
        "# Merge sort is NOT O(n)\n",
        "# so thats what Θ(n log n)"
      ]
    },
    {
      "cell_type": "code",
      "execution_count": null,
      "metadata": {
        "id": "HBKcRmt0TVKB"
      },
      "outputs": [],
      "source": [
        "## So ideas on how to prove mergesort is O(n log n) ?\n",
        "## Instinctively we see that we are dividing in halves and solving the problem for those\n",
        "\n",
        "# There is something called Master Theorem which lets us quickly see the solution for most types of recurrence"
      ]
    },
    {
      "cell_type": "code",
      "execution_count": null,
      "metadata": {
        "id": "UDLVEFEJTVKB"
      },
      "outputs": [],
      "source": [
        "# what is a reccurence relation then?"
      ]
    },
    {
      "cell_type": "markdown",
      "metadata": {
        "id": "nH653ehsTVKB"
      },
      "source": [
        "# given n is our data\n",
        "# so merge sort the reccurence will be\n",
        "T(n) = 2(T(n/2)) + n # because we have to merge in n time the halves\n",
        "# so reccurence defines the recursive function"
      ]
    },
    {
      "cell_type": "code",
      "execution_count": null,
      "metadata": {
        "id": "561nHkdNTVKB"
      },
      "outputs": [],
      "source": [
        "# so for next week we will look at solving this and also the Master Theorem on how to generally\n",
        "# find the complexity"
      ]
    },
    {
      "cell_type": "code",
      "execution_count": null,
      "metadata": {
        "id": "Rj-3o5LITVKB"
      },
      "outputs": [],
      "source": [
        "# we do not need the reccurrence if we have regular loops without recursion.."
      ]
    },
    {
      "cell_type": "markdown",
      "metadata": {
        "heading_collapsed": true,
        "hidden": true,
        "id": "tMCVLBlzTVKB"
      },
      "source": [
        "### Quick sort"
      ]
    },
    {
      "cell_type": "markdown",
      "metadata": {
        "hidden": true,
        "id": "wJAg_wtZTVKB"
      },
      "source": [
        "![quick](https://github.com/ValRCS/RTU_Algorithms_DIP321/blob/main/imgs/quicksort.png?raw=1)"
      ]
    },
    {
      "cell_type": "markdown",
      "metadata": {
        "hidden": true,
        "id": "mRoVdK8gTVKC"
      },
      "source": [
        "$$Complexity: O(nlog(n))$$ $$Worst case : O(n^2)$$"
      ]
    },
    {
      "cell_type": "code",
      "execution_count": null,
      "metadata": {
        "hidden": true,
        "id": "OY7OAdY3TVKC"
      },
      "outputs": [],
      "source": [
        "def quickSort(alist):\n",
        "    quickSortHelper(alist, 0, len(alist) - 1)\n",
        "\n",
        "\n",
        "def quickSortHelper(alist, first, last):\n",
        "    if first < last:\n",
        "\n",
        "        splitpoint = partition(alist, first, last)\n",
        "\n",
        "        quickSortHelper(alist, first, splitpoint - 1)\n",
        "        quickSortHelper(alist, splitpoint + 1, last)\n",
        "\n",
        "\n",
        "def partition(alist, first, last):\n",
        "    pivotvalue = alist[first]\n",
        "\n",
        "    leftmark = first + 1\n",
        "    rightmark = last\n",
        "\n",
        "    done = False\n",
        "    while not done:\n",
        "\n",
        "        while leftmark <= rightmark and alist[leftmark] <= pivotvalue:\n",
        "            leftmark = leftmark + 1\n",
        "\n",
        "        while alist[rightmark] >= pivotvalue and rightmark >= leftmark:\n",
        "            rightmark = rightmark - 1\n",
        "\n",
        "        if rightmark < leftmark:\n",
        "            done = True\n",
        "        else:\n",
        "            temp = alist[leftmark]\n",
        "            alist[leftmark] = alist[rightmark]\n",
        "            alist[rightmark] = temp\n",
        "\n",
        "    temp = alist[first]\n",
        "    alist[first] = alist[rightmark]\n",
        "    alist[rightmark] = temp\n",
        "\n",
        "    return rightmark\n",
        "\n",
        "\n",
        "alist = [54, 26, 93, 17, 77, 31, 44, 55, 20]\n",
        "quickSort(alist)\n",
        "print(alist)"
      ]
    },
    {
      "cell_type": "markdown",
      "metadata": {
        "id": "pwErcexeTVKC"
      },
      "source": [
        "# References and useful links:"
      ]
    },
    {
      "cell_type": "markdown",
      "metadata": {
        "id": "H7vwROxzTVKC"
      },
      "source": [
        "* Visualization of these concepst : https://visualgo.net/en\n"
      ]
    },
    {
      "cell_type": "code",
      "execution_count": null,
      "metadata": {
        "id": "yRZCqBLkTVKC"
      },
      "outputs": [],
      "source": [
        "\n"
      ]
    }
  ],
  "metadata": {
    "kernelspec": {
      "display_name": "Python 3",
      "language": "python",
      "name": "python3"
    },
    "language_info": {
      "codemirror_mode": {
        "name": "ipython",
        "version": 3
      },
      "file_extension": ".py",
      "mimetype": "text/x-python",
      "name": "python",
      "nbconvert_exporter": "python",
      "pygments_lexer": "ipython3",
      "version": "3.8.3"
    },
    "toc": {
      "nav_menu": {},
      "number_sections": true,
      "sideBar": true,
      "skip_h1_title": false,
      "toc_cell": true,
      "toc_position": {},
      "toc_section_display": "none",
      "toc_window_display": false
    },
    "colab": {
      "provenance": []
    }
  },
  "nbformat": 4,
  "nbformat_minor": 0
}