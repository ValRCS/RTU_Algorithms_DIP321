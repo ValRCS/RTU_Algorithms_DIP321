{
  "cells": [
    {
      "cell_type": "markdown",
      "metadata": {
        "id": "20c2bqCBNWeJ"
      },
      "source": [
        "# What is an Algorithm anyway?\n",
        "\n",
        "An algorithm is an explicit, precise, unambiguous, mechanically-executable\n",
        "sequence of elementary instructions, usually intended to accomplish a specific purpose\n",
        "\n",
        "Source: https://jeffe.cs.illinois.edu/teaching/algorithms/"
      ]
    },
    {
      "cell_type": "markdown",
      "metadata": {
        "id": "1oLXpnAkP4fX"
      },
      "source": [
        "## Al-gebra and al-gorithm and al-gorists (not Al-Gorists)\n",
        "\n",
        "![Musa-al-Kharismi](https://upload.wikimedia.org/wikipedia/commons/a/a6/Khwarizmi_Amirkabir_University_of_Technology.png)\n",
        "\n",
        "https://en.wikipedia.org/wiki/Muhammad_ibn_Musa_al-Khwarizmi\n",
        "\n",
        "Muhhamad ibn Musa al-Khwarizmi was a Persian mathematician, astronomer, geographer, and scholar in the House of Wisdom in Baghdad, whose name means 'the native of Khwarazm', a region that was part of Greater Iran and is now in Uzbekistan. He lived in Baghdad, working under the patronage of the Abbasid Caliphate.\n",
        "\n",
        "He is considered the father of algebra, a name that comes from the title of his book, Kitab al-Jabr. His pioneering work offered practical solutions to mathematical problems in areas such as algebra, trigonometry, and Indian and Greek arithmetic.\n",
        "\n",
        "The years of his activity are not entirely certain, but it is known that he wrote his Al-Jabr wa-l-Muqabala (algebra) in 820, and his Al-Zhir wa-l-Takhtit (astronomy) in 830, and he died around 850."
      ]
    },
    {
      "cell_type": "markdown",
      "metadata": {
        "id": "XaQT2vJyPP9u"
      },
      "source": [
        "## Decent Algorithm\n",
        "\n",
        "BottlesOfBeer(n):\n",
        "\n",
        "```\n",
        "  For i ← n down to 1\n",
        "\n",
        "    Sing “i bottles of beer on the wall, i bottles of beer, ”\n",
        "\n",
        "    Sing “ Take one down, pass it around, i − 1 bottles of beer on the wall. ”\n",
        "\n",
        "    Sing “ No bottles of beer on the wall, no bottles of beer, ”\n",
        "\n",
        "  Sing “ Go to the store, buy some more, n bottles of beer on the wall. ”\n",
        "```\n",
        "\n",
        "Note not all the constraints are specified, but it is a decent algorithm.\n"
      ]
    },
    {
      "cell_type": "markdown",
      "metadata": {
        "id": "ag3UlpCEN7d-"
      },
      "source": [
        "## Not a real algorithm\n",
        "\n",
        "BeAMillionaireAndNeverPayTaxes():\n",
        "\n",
        "\n",
        "```\n",
        "\n",
        "Get a million dollars.\n",
        "\n",
        "If the tax man comes to your door and says, “ You have never paid taxes! ”\n",
        "\n",
        "Say “ I forgot.\n",
        "```\n",
        "\n",
        "\n",
        "\n",
        "\n",
        "### How about  Get a million dollars algorithm?\n",
        "1. Collect underpants\n",
        "2. ?\n",
        "3. Profit\n",
        "\n",
        "Source: https://en.wikipedia.org/wiki/Gnomes_(South_Park)\n",
        "\n",
        "Still not a real algorithm.\n"
      ]
    },
    {
      "cell_type": "markdown",
      "metadata": {
        "id": "Kcqi5WkhOg74"
      },
      "source": [
        "## Describing Algorithms\n",
        "\n",
        "The skills required to effectively design and analyze algorithms are entangled with the skills required to effectively describe algorithms. A complete description of any algorithm has four components:\n",
        "\n",
        " *  **What:** A precise specification of the problem that the algorithm solves.\n",
        " *  **How:** A precise description of the algorithm itself.\n",
        " * **Why:** A proof that the algorithm solves the problem it is supposed to solve.\n",
        " * **How fast:** An analysis of the running time of the algorithm."
      ]
    },
    {
      "cell_type": "markdown",
      "metadata": {
        "id": "gWcvAM8GiPES"
      },
      "source": [
        "## Heuristic - not an algorithm\n",
        "\n",
        "### See lion - run!\n",
        "\n",
        "Above is a rule of thumb. It is not an algorithm. It is a heuristic.\n",
        "\n",
        "Heuristic is a technique designed for solving a problem more quickly when classic methods are too slow, or for finding an approximate solution when classic methods fail to find any exact solution.\n",
        "\n",
        "Heuristic is not an algorithm. Heuristic is a technique which is used as an aid in the process of finding a solution to a problem. It could be a mental shortcut, an educated guess, or a rule of thumb. Heuristics as a noun is another name for heuristic techniques."
      ]
    },
    {
      "cell_type": "code",
      "execution_count": null,
      "metadata": {
        "id": "a6Ayo4tTOzTe"
      },
      "outputs": [],
      "source": []
    },
    {
      "cell_type": "markdown",
      "metadata": {
        "id": "vlXOIa4MM-Ao"
      },
      "source": [
        "# How to find a the largest number in an unsorted list(array)?\n",
        "#"
      ]
    },
    {
      "cell_type": "code",
      "execution_count": 1,
      "metadata": {
        "colab": {
          "base_uri": "https://localhost:8080/"
        },
        "id": "4fdPxJvEM-Aw",
        "outputId": "a1f521da-06f9-49ea-eb72-baa1befe3ecb"
      },
      "outputs": [
        {
          "output_type": "stream",
          "name": "stdout",
          "text": [
            "9000\n"
          ]
        }
      ],
      "source": [
        "mylist = [1,4,67,2,7,9000,2] # most languages called an array (not a linked list!) also not as optimal as C arrays because of overhead\n",
        "print(max(mylist)) # built in max function in Python"
      ]
    },
    {
      "cell_type": "code",
      "execution_count": 2,
      "metadata": {
        "id": "n1bkJVxKM-A0"
      },
      "outputs": [],
      "source": [
        "# lets implement our naive max algorithm\n",
        "# or as they call it Brute Force\n",
        "def find_my_max(seq):\n",
        "    my_max = None # alternatives start with first value or max negative\n",
        "    for n in seq:\n",
        "        if my_max == None or n > my_max:\n",
        "            my_max = n\n",
        "    return my_max\n",
        "    # set max to negative infinitty\n",
        "    # loop through seq\n",
        "    # if any number is larger than max we set max to this number\n",
        "    # return max"
      ]
    },
    {
      "cell_type": "code",
      "execution_count": 3,
      "metadata": {
        "colab": {
          "base_uri": "https://localhost:8080/"
        },
        "id": "HYKr3rSLM-A3",
        "outputId": "02714d69-905c-4f34-9ee5-12bb2e5f7373"
      },
      "outputs": [
        {
          "output_type": "stream",
          "name": "stdout",
          "text": [
            "9000\n"
          ]
        }
      ],
      "source": [
        "print(find_my_max(mylist))"
      ]
    },
    {
      "cell_type": "code",
      "execution_count": 4,
      "metadata": {
        "colab": {
          "base_uri": "https://localhost:8080/"
        },
        "id": "IFYycmEYM-A4",
        "outputId": "91606a46-ce2f-4ff1-9e6b-32f1df7c6dba"
      },
      "outputs": [
        {
          "output_type": "stream",
          "name": "stdout",
          "text": [
            "99953252523525252\n"
          ]
        }
      ],
      "source": [
        "# before proving things a good idea is to run a suite of tests\n",
        "print(find_my_max([-4,23,-6,2,0,0,5,99953252523525252,-3523525253]))"
      ]
    },
    {
      "cell_type": "markdown",
      "metadata": {
        "id": "romO4D5zF8hD"
      },
      "source": []
    },
    {
      "cell_type": "markdown",
      "metadata": {
        "id": "8Y6BeAdoGJqf"
      },
      "source": []
    },
    {
      "cell_type": "code",
      "execution_count": 5,
      "metadata": {
        "colab": {
          "base_uri": "https://localhost:8080/"
        },
        "id": "KXgk-E94M-A5",
        "outputId": "68e92c88-3985-4499-8e53-038df9e80abc"
      },
      "outputs": [
        {
          "output_type": "execute_result",
          "data": {
            "text/plain": [
              "1000000"
            ]
          },
          "metadata": {},
          "execution_count": 5
        }
      ],
      "source": [
        "import random # random provides umm random functions in Python\n",
        "random.seed(42) # answer to the Universe - here we use it set specific pseudo random numbers\n",
        "# note randint is inclusive on both ends (rare for a function / method )\n",
        "big_list = [random.randint(1,100_000_000) for _ in range(1_000_000)]  # list comprehension, _ signifies that iterator is not important\n",
        "len(big_list) # so 1 million items of random numbers from 1 to 100million\n",
        "# btw random is not truly random in most architectures it is pseudo-random"
      ]
    },
    {
      "cell_type": "code",
      "execution_count": 6,
      "metadata": {
        "colab": {
          "base_uri": "https://localhost:8080/"
        },
        "id": "KzUEiimOdWLM",
        "outputId": "a9e35cdf-7085-48b9-f161-a916ec31b082"
      },
      "outputs": [
        {
          "output_type": "execute_result",
          "data": {
            "text/plain": [
              "[85822413, 14942604, 3356887, 99529224, 36913811]"
            ]
          },
          "metadata": {},
          "execution_count": 6
        }
      ],
      "source": [
        "big_list[:5] # first 5"
      ]
    },
    {
      "cell_type": "code",
      "execution_count": 7,
      "metadata": {
        "colab": {
          "base_uri": "https://localhost:8080/"
        },
        "id": "jMg53JFEdY1C",
        "outputId": "1f472457-6805-41c5-a659-c01f4db224f2"
      },
      "outputs": [
        {
          "output_type": "execute_result",
          "data": {
            "text/plain": [
              "[4235542, 37491616, 60085083, 52300740, 44742665]"
            ]
          },
          "metadata": {},
          "execution_count": 7
        }
      ],
      "source": [
        "big_list[-5:] # last 5"
      ]
    },
    {
      "cell_type": "code",
      "source": [
        "# let's see if we have any duplicates\n",
        "# simple way would be to make a set and then check if it same length as big_list\n",
        "len(set(big_list)) == len(big_list)"
      ],
      "metadata": {
        "id": "PzumqtdsqDk_",
        "outputId": "50b98f65-de82-467a-8793-bc6be8459f9d",
        "colab": {
          "base_uri": "https://localhost:8080/"
        }
      },
      "execution_count": 9,
      "outputs": [
        {
          "output_type": "execute_result",
          "data": {
            "text/plain": [
              "False"
            ]
          },
          "metadata": {},
          "execution_count": 9
        }
      ]
    },
    {
      "cell_type": "code",
      "source": [
        "# how many members in set?\n",
        "len(set(big_list))"
      ],
      "metadata": {
        "id": "AFxNaqPPqQoe",
        "outputId": "bea52fd4-602b-466e-8e04-b492bda0a2d9",
        "colab": {
          "base_uri": "https://localhost:8080/"
        }
      },
      "execution_count": 10,
      "outputs": [
        {
          "output_type": "execute_result",
          "data": {
            "text/plain": [
              "995106"
            ]
          },
          "metadata": {},
          "execution_count": 10
        }
      ]
    },
    {
      "cell_type": "code",
      "source": [
        "from collections import Counter\n",
        "counts = Counter(big_list)\n",
        "# top 20\n",
        "counts.most_common(20)"
      ],
      "metadata": {
        "id": "VD5pEmkXqgTn",
        "outputId": "00d30d5c-f1df-460a-f82f-816f97b551d9",
        "colab": {
          "base_uri": "https://localhost:8080/"
        }
      },
      "execution_count": 11,
      "outputs": [
        {
          "output_type": "execute_result",
          "data": {
            "text/plain": [
              "[(93050876, 3),\n",
              " (79342613, 3),\n",
              " (49080046, 3),\n",
              " (37165290, 3),\n",
              " (21102615, 3),\n",
              " (30182112, 3),\n",
              " (24356083, 3),\n",
              " (2726614, 3),\n",
              " (72543850, 3),\n",
              " (31259466, 3),\n",
              " (95311300, 3),\n",
              " (27969702, 3),\n",
              " (62674165, 3),\n",
              " (88541465, 3),\n",
              " (70786717, 3),\n",
              " (24086588, 3),\n",
              " (96816535, 3),\n",
              " (68390793, 3),\n",
              " (45176956, 2),\n",
              " (81030737, 2)]"
            ]
          },
          "metadata": {},
          "execution_count": 11
        }
      ]
    },
    {
      "cell_type": "code",
      "execution_count": 8,
      "metadata": {
        "colab": {
          "base_uri": "https://localhost:8080/"
        },
        "id": "CEKFuO3ddsAI",
        "outputId": "a1345fb5-6016-4849-ae50-7fe164b9ddaf"
      },
      "outputs": [
        {
          "output_type": "execute_result",
          "data": {
            "text/plain": [
              "99999938"
            ]
          },
          "metadata": {},
          "execution_count": 8
        }
      ],
      "source": [
        "max(big_list)"
      ]
    },
    {
      "cell_type": "code",
      "execution_count": null,
      "metadata": {
        "colab": {
          "base_uri": "https://localhost:8080/"
        },
        "id": "uyrcLrMueCI2",
        "outputId": "c2cb1955-65b3-4164-ca1e-46200a663d5f"
      },
      "outputs": [
        {
          "output_type": "execute_result",
          "data": {
            "text/plain": [
              "99999938"
            ]
          },
          "metadata": {},
          "execution_count": 9
        }
      ],
      "source": [
        "find_my_max(big_list)"
      ]
    },
    {
      "cell_type": "markdown",
      "metadata": {
        "id": "W-rIu21fiPEd"
      },
      "source": [
        "## Checking the speed/time of an algorithm"
      ]
    },
    {
      "cell_type": "code",
      "execution_count": 14,
      "metadata": {
        "colab": {
          "base_uri": "https://localhost:8080/"
        },
        "id": "HnNHIE_FgJuS",
        "outputId": "ccc684df-6212-4f78-d75a-0f29fd7bcc5a"
      },
      "outputs": [
        {
          "output_type": "stream",
          "name": "stdout",
          "text": [
            "580 ns ± 157 ns per loop (mean ± std. dev. of 7 runs, 1000000 loops each)\n"
          ]
        }
      ],
      "source": [
        "%%timeit\n",
        "find_my_max(mylist)"
      ]
    },
    {
      "cell_type": "code",
      "execution_count": 12,
      "metadata": {
        "colab": {
          "base_uri": "https://localhost:8080/"
        },
        "id": "BAM96Rwjf22a",
        "outputId": "1dc65e00-cb82-4749-f10f-40d372572437"
      },
      "outputs": [
        {
          "output_type": "stream",
          "name": "stdout",
          "text": [
            "325 ns ± 116 ns per loop (mean ± std. dev. of 7 runs, 1000000 loops each)\n"
          ]
        }
      ],
      "source": [
        "%%timeit\n",
        "max(mylist)"
      ]
    },
    {
      "cell_type": "code",
      "execution_count": 15,
      "metadata": {
        "id": "j8ljrIrRiPEd",
        "outputId": "dbee4ee3-bf73-4bba-c6c0-e0d91c8050ea",
        "colab": {
          "base_uri": "https://localhost:8080/"
        }
      },
      "outputs": [
        {
          "output_type": "stream",
          "name": "stdout",
          "text": [
            "Lenght of mylist is 7\n"
          ]
        }
      ],
      "source": [
        "print(f\"Lenght of mylist is {len(mylist)}\")"
      ]
    },
    {
      "cell_type": "markdown",
      "metadata": {
        "id": "MwJ02P29iPEe"
      },
      "source": [
        "## Tiny list\n",
        "\n",
        "Let's test it on one item list"
      ]
    },
    {
      "cell_type": "code",
      "execution_count": 16,
      "metadata": {
        "id": "Y54TAhfGiPEe",
        "outputId": "84b81921-3fbc-4081-c2f0-14a8edc57d63",
        "colab": {
          "base_uri": "https://localhost:8080/"
        }
      },
      "outputs": [
        {
          "output_type": "execute_result",
          "data": {
            "text/plain": [
              "[10]"
            ]
          },
          "metadata": {},
          "execution_count": 16
        }
      ],
      "source": [
        "tiny_list = [10]\n",
        "tiny_list"
      ]
    },
    {
      "cell_type": "code",
      "execution_count": 17,
      "metadata": {
        "id": "yol1Y8eHiPEe",
        "outputId": "6526c5a1-90d5-444a-d7bb-cd3ace136573",
        "colab": {
          "base_uri": "https://localhost:8080/"
        }
      },
      "outputs": [
        {
          "output_type": "stream",
          "name": "stdout",
          "text": [
            "129 ns ± 21.4 ns per loop (mean ± std. dev. of 7 runs, 10000000 loops each)\n"
          ]
        }
      ],
      "source": [
        "%%timeit\n",
        "max(tiny_list)"
      ]
    },
    {
      "cell_type": "code",
      "execution_count": 18,
      "metadata": {
        "id": "MyXmoTYoiPEf",
        "outputId": "21bc630b-76ca-4552-e0e5-3285f4eb17ba",
        "colab": {
          "base_uri": "https://localhost:8080/"
        }
      },
      "outputs": [
        {
          "output_type": "stream",
          "name": "stdout",
          "text": [
            "141 ns ± 41.6 ns per loop (mean ± std. dev. of 7 runs, 1000000 loops each)\n"
          ]
        }
      ],
      "source": [
        "%%timeit\n",
        "find_my_max(tiny_list)"
      ]
    },
    {
      "cell_type": "code",
      "execution_count": 19,
      "metadata": {
        "colab": {
          "base_uri": "https://localhost:8080/"
        },
        "id": "K3XEZd-GM-A6",
        "outputId": "98ecbae0-a90c-4484-c8d4-12a634d3db18"
      },
      "outputs": [
        {
          "output_type": "stream",
          "name": "stdout",
          "text": [
            "16.6 ms ± 3.21 ms per loop (mean ± std. dev. of 7 runs, 100 loops each)\n"
          ]
        }
      ],
      "source": [
        "%%timeit\n",
        "max(big_list) # most likely this is already cached so running it 1000 times will not prove nothing"
      ]
    },
    {
      "cell_type": "code",
      "execution_count": 20,
      "metadata": {
        "colab": {
          "base_uri": "https://localhost:8080/"
        },
        "id": "aXmlSvbPM-A7",
        "outputId": "15c39558-f357-4acd-d840-3103f4845296"
      },
      "outputs": [
        {
          "output_type": "stream",
          "name": "stdout",
          "text": [
            "43.2 ms ± 802 µs per loop (mean ± std. dev. of 7 runs, 10 loops each)\n"
          ]
        }
      ],
      "source": [
        "%%timeit\n",
        "find_my_max(big_list)"
      ]
    },
    {
      "cell_type": "code",
      "execution_count": 21,
      "metadata": {
        "id": "gehlEGmbM-A9"
      },
      "outputs": [],
      "source": [
        "huge_list = [random.randint(1,1_000_000_000) for _ in range(10_000_000)] # lists are not as efficient as c arrays\n"
      ]
    },
    {
      "cell_type": "code",
      "execution_count": 22,
      "metadata": {
        "colab": {
          "base_uri": "https://localhost:8080/"
        },
        "id": "CO7RHHlNglNQ",
        "outputId": "32b58d7f-1c12-4a8e-b7fd-30d21112d71f"
      },
      "outputs": [
        {
          "output_type": "execute_result",
          "data": {
            "text/plain": [
              "10000000"
            ]
          },
          "metadata": {},
          "execution_count": 22
        }
      ],
      "source": [
        "len(huge_list)"
      ]
    },
    {
      "cell_type": "code",
      "source": [
        "max(huge_list)"
      ],
      "metadata": {
        "id": "PQYQ_PdUsofc",
        "outputId": "01f319c2-ca77-4e4a-ad17-917d395935d7",
        "colab": {
          "base_uri": "https://localhost:8080/"
        }
      },
      "execution_count": 24,
      "outputs": [
        {
          "output_type": "execute_result",
          "data": {
            "text/plain": [
              "999999958"
            ]
          },
          "metadata": {},
          "execution_count": 24
        }
      ]
    },
    {
      "cell_type": "code",
      "execution_count": 23,
      "metadata": {
        "colab": {
          "base_uri": "https://localhost:8080/"
        },
        "id": "uQpR7BrWM-A-",
        "outputId": "ecfb34db-0286-4c16-c27b-032fe7f8f8a4"
      },
      "outputs": [
        {
          "output_type": "stream",
          "name": "stdout",
          "text": [
            "146 ms ± 9.89 ms per loop (mean ± std. dev. of 7 runs, 10 loops each)\n"
          ]
        }
      ],
      "source": [
        "%%timeit\n",
        "max(huge_list)"
      ]
    },
    {
      "cell_type": "code",
      "execution_count": 25,
      "metadata": {
        "colab": {
          "base_uri": "https://localhost:8080/"
        },
        "id": "MKebvWqIM-A_",
        "outputId": "c88af108-0a40-4d57-97a5-da1b15700fd6"
      },
      "outputs": [
        {
          "output_type": "stream",
          "name": "stdout",
          "text": [
            "449 ms ± 57.7 ms per loop (mean ± std. dev. of 7 runs, 1 loop each)\n"
          ]
        }
      ],
      "source": [
        "%%timeit\n",
        "find_my_max(huge_list)"
      ]
    },
    {
      "cell_type": "code",
      "execution_count": null,
      "metadata": {
        "id": "zaYvnMXCM-BA",
        "outputId": "c1b4e611-dd67-4320-9bec-f9dfe8657d30"
      },
      "outputs": [
        {
          "name": "stdout",
          "output_type": "stream",
          "text": [
            "497 ms ± 15.7 ms per loop (mean ± std. dev. of 7 runs, 1 loop each)\n"
          ]
        }
      ],
      "source": [
        "%%timeit\n",
        "find_my_max(huge_list)"
      ]
    },
    {
      "cell_type": "markdown",
      "metadata": {
        "id": "3kLSuHJphmVT"
      },
      "source": [
        "## Can we find max(or min) in a faster way in a list?"
      ]
    },
    {
      "cell_type": "code",
      "execution_count": 26,
      "metadata": {
        "colab": {
          "base_uri": "https://localhost:8080/"
        },
        "id": "q_mdquc5M-BB",
        "outputId": "95a25746-2db5-45ad-ff9d-8dddb1666030"
      },
      "outputs": [
        {
          "output_type": "stream",
          "name": "stdout",
          "text": [
            "We have 1000000 items in our list\n"
          ]
        },
        {
          "output_type": "execute_result",
          "data": {
            "text/plain": [
              "[102, 187, 476, 615, 684]"
            ]
          },
          "metadata": {},
          "execution_count": 26
        }
      ],
      "source": [
        "sorted_big_list = sorted(big_list)  # sorted has its own complexity (about that later)\n",
        "print(f\"We have {len(sorted_big_list)} items in our list\")\n",
        "sorted_big_list[:5]\n"
      ]
    },
    {
      "cell_type": "code",
      "execution_count": 28,
      "metadata": {
        "colab": {
          "base_uri": "https://localhost:8080/"
        },
        "id": "ZDMXXyotM-BB",
        "outputId": "472f2ac0-7e3c-4725-90ec-2d08ed3bc8e4"
      },
      "outputs": [
        {
          "output_type": "stream",
          "name": "stdout",
          "text": [
            "59.6 ms ± 1.19 ms per loop (mean ± std. dev. of 7 runs, 10 loops each)\n"
          ]
        }
      ],
      "source": [
        "%%timeit\n",
        "max(sorted_big_list)"
      ]
    },
    {
      "cell_type": "code",
      "execution_count": 29,
      "metadata": {
        "colab": {
          "base_uri": "https://localhost:8080/"
        },
        "id": "bLpo65OdM-BC",
        "outputId": "1f2ebab9-6e91-4ae6-8c88-e8eeba8759d1"
      },
      "outputs": [
        {
          "output_type": "stream",
          "name": "stdout",
          "text": [
            "72.6 ms ± 17.5 ms per loop (mean ± std. dev. of 7 runs, 10 loops each)\n"
          ]
        }
      ],
      "source": [
        "%%timeit\n",
        "min(sorted_big_list)"
      ]
    },
    {
      "cell_type": "code",
      "execution_count": 30,
      "metadata": {
        "id": "L7qD_YVKiPEi",
        "outputId": "6e6e29d3-1f10-49c0-aa40-91a67fd81798",
        "colab": {
          "base_uri": "https://localhost:8080/"
        }
      },
      "outputs": [
        {
          "output_type": "execute_result",
          "data": {
            "text/plain": [
              "(102, 99999938)"
            ]
          },
          "metadata": {},
          "execution_count": 30
        }
      ],
      "source": [
        "## So min and max function do not know that I could just get the first or last element of the sorted list\n",
        "## they are not optimized for this..\n",
        "# instead I could just\n",
        "sorted_big_list[0], sorted_big_list[-1]"
      ]
    },
    {
      "cell_type": "code",
      "execution_count": 31,
      "metadata": {
        "id": "hmrGP35RiPEm",
        "outputId": "9d30dd85-9be3-4109-d139-21881b1c4d2b",
        "colab": {
          "base_uri": "https://localhost:8080/"
        }
      },
      "outputs": [
        {
          "output_type": "stream",
          "name": "stdout",
          "text": [
            "29.6 ns ± 0.745 ns per loop (mean ± std. dev. of 7 runs, 10000000 loops each)\n"
          ]
        }
      ],
      "source": [
        "%%timeit\n",
        "sorted_big_list[-1]"
      ]
    },
    {
      "cell_type": "code",
      "execution_count": 32,
      "metadata": {
        "id": "JQQpB_tiiPEn",
        "outputId": "790a7fd0-7bdf-4f8a-e7a2-7f3fa1bbbb9b",
        "colab": {
          "base_uri": "https://localhost:8080/"
        }
      },
      "outputs": [
        {
          "output_type": "stream",
          "name": "stdout",
          "text": [
            "255 ms ± 6.14 ms per loop (mean ± std. dev. of 7 runs, 1 loop each)\n"
          ]
        }
      ],
      "source": [
        "%%timeit\n",
        "find_my_max(sorted_big_list)"
      ]
    },
    {
      "cell_type": "code",
      "execution_count": null,
      "metadata": {
        "colab": {
          "base_uri": "https://localhost:8080/"
        },
        "id": "01t2T1ksM-BC",
        "outputId": "2c1ef9f2-9f45-4dfb-f483-f68169738380"
      },
      "outputs": [
        {
          "data": {
            "text/plain": [
              "(102, 99999938)"
            ]
          },
          "execution_count": 25,
          "metadata": {},
          "output_type": "execute_result"
        }
      ],
      "source": [
        "sorted_big_list[0], sorted_big_list[-1]  # we can find min and max in O(1) CONSTANT time! assuming the list is sorted\n",
        "# we could have as many items as memory allows"
      ]
    },
    {
      "cell_type": "code",
      "execution_count": null,
      "metadata": {
        "id": "oGPJv-9EiPEn",
        "outputId": "2f19218d-d49c-4474-c117-b9064ea64209",
        "colab": {
          "base_uri": "https://localhost:8080/"
        }
      },
      "outputs": [
        {
          "output_type": "stream",
          "name": "stdout",
          "text": [
            "70.5 ns ± 17.9 ns per loop (mean ± std. dev. of 7 runs, 10000000 loops each)\n"
          ]
        }
      ],
      "source": [
        "%%timeit\n",
        "## thus I could find max in sorted list in O(1) time - just get the last item\n",
        "sorted_big_list[-1]"
      ]
    },
    {
      "cell_type": "code",
      "execution_count": 33,
      "metadata": {
        "colab": {
          "base_uri": "https://localhost:8080/"
        },
        "id": "dygHgOAFM-BD",
        "outputId": "704e6e49-303b-4733-9a2b-b52a2316e7e1"
      },
      "outputs": [
        {
          "output_type": "execute_result",
          "data": {
            "text/plain": [
              "[False,\n",
              " False,\n",
              " False,\n",
              " False,\n",
              " False,\n",
              " False,\n",
              " False,\n",
              " False,\n",
              " False,\n",
              " False,\n",
              " False,\n",
              " False,\n",
              " False,\n",
              " False,\n",
              " False,\n",
              " False,\n",
              " False,\n",
              " False,\n",
              " False,\n",
              " False,\n",
              " False,\n",
              " False,\n",
              " False,\n",
              " False,\n",
              " False,\n",
              " False,\n",
              " False,\n",
              " False,\n",
              " False,\n",
              " False,\n",
              " False,\n",
              " False,\n",
              " False,\n",
              " False,\n",
              " False,\n",
              " False,\n",
              " False,\n",
              " False,\n",
              " False,\n",
              " False,\n",
              " False,\n",
              " False,\n",
              " False,\n",
              " False,\n",
              " False,\n",
              " False,\n",
              " False,\n",
              " False,\n",
              " False,\n",
              " False,\n",
              " False,\n",
              " False,\n",
              " False,\n",
              " False,\n",
              " False,\n",
              " False,\n",
              " False,\n",
              " False,\n",
              " False,\n",
              " False,\n",
              " False,\n",
              " False,\n",
              " False,\n",
              " False,\n",
              " False,\n",
              " False,\n",
              " False,\n",
              " False,\n",
              " False,\n",
              " False,\n",
              " False,\n",
              " False,\n",
              " False,\n",
              " False,\n",
              " False,\n",
              " False,\n",
              " False,\n",
              " False,\n",
              " False,\n",
              " False,\n",
              " False,\n",
              " False,\n",
              " False,\n",
              " False,\n",
              " False,\n",
              " False,\n",
              " False,\n",
              " False,\n",
              " False,\n",
              " False,\n",
              " False,\n",
              " False,\n",
              " False,\n",
              " False,\n",
              " False,\n",
              " False,\n",
              " False,\n",
              " False,\n",
              " False,\n",
              " False,\n",
              " False,\n",
              " False,\n",
              " False,\n",
              " False,\n",
              " False,\n",
              " False,\n",
              " False,\n",
              " False,\n",
              " False,\n",
              " False,\n",
              " False,\n",
              " False,\n",
              " False,\n",
              " False,\n",
              " False,\n",
              " False,\n",
              " False,\n",
              " False,\n",
              " False,\n",
              " False,\n",
              " False,\n",
              " False,\n",
              " False,\n",
              " False,\n",
              " False,\n",
              " False,\n",
              " False,\n",
              " False,\n",
              " False,\n",
              " True,\n",
              " False,\n",
              " False,\n",
              " False,\n",
              " False,\n",
              " False,\n",
              " False,\n",
              " False,\n",
              " False,\n",
              " False,\n",
              " False,\n",
              " False,\n",
              " False,\n",
              " False,\n",
              " False,\n",
              " False,\n",
              " False,\n",
              " False,\n",
              " False,\n",
              " False,\n",
              " False,\n",
              " False,\n",
              " False,\n",
              " False,\n",
              " False,\n",
              " False,\n",
              " False,\n",
              " False,\n",
              " False,\n",
              " False,\n",
              " False,\n",
              " False,\n",
              " False,\n",
              " False,\n",
              " False,\n",
              " False,\n",
              " False,\n",
              " False,\n",
              " False,\n",
              " False,\n",
              " False,\n",
              " False,\n",
              " False,\n",
              " False,\n",
              " False,\n",
              " False,\n",
              " False,\n",
              " False,\n",
              " False,\n",
              " False,\n",
              " False,\n",
              " False,\n",
              " False,\n",
              " False,\n",
              " False,\n",
              " False,\n",
              " False,\n",
              " False,\n",
              " False,\n",
              " False,\n",
              " False,\n",
              " False,\n",
              " False,\n",
              " False,\n",
              " False,\n",
              " False,\n",
              " False,\n",
              " False,\n",
              " False,\n",
              " False,\n",
              " False]"
            ]
          },
          "metadata": {},
          "execution_count": 33
        }
      ],
      "source": [
        "# How about finding some value in a list\n",
        "# i make a list of booleans to see if any values are in range from 9000 until 9199\n",
        "over_9000 = [n in big_list for n in range(9000,9200)]\n",
        "over_9000"
      ]
    },
    {
      "cell_type": "code",
      "execution_count": 34,
      "metadata": {
        "colab": {
          "base_uri": "https://localhost:8080/"
        },
        "id": "eFrx1bp4M-BD",
        "outputId": "a83a5a3e-4329-4eb1-d124-bde545a077dd"
      },
      "outputs": [
        {
          "output_type": "execute_result",
          "data": {
            "text/plain": [
              "True"
            ]
          },
          "metadata": {},
          "execution_count": 34
        }
      ],
      "source": [
        "True in over_9000"
      ]
    },
    {
      "cell_type": "code",
      "execution_count": 35,
      "metadata": {
        "colab": {
          "base_uri": "https://localhost:8080/"
        },
        "id": "UJXTvrD0M-BD",
        "outputId": "35270046-a732-4e93-bcd2-da7cce7a3e84"
      },
      "outputs": [
        {
          "output_type": "execute_result",
          "data": {
            "text/plain": [
              "129"
            ]
          },
          "metadata": {},
          "execution_count": 35
        }
      ],
      "source": [
        "over_9000.index(True)"
      ]
    },
    {
      "cell_type": "code",
      "execution_count": 36,
      "metadata": {
        "colab": {
          "base_uri": "https://localhost:8080/"
        },
        "id": "3QvdVySnjZuO",
        "outputId": "6a95ac49-324e-4315-ce3e-25f82591da4d"
      },
      "outputs": [
        {
          "output_type": "execute_result",
          "data": {
            "text/plain": [
              "1"
            ]
          },
          "metadata": {},
          "execution_count": 36
        }
      ],
      "source": [
        "# how many are in range 9000 to 9199\n",
        "sum(over_9000)"
      ]
    },
    {
      "cell_type": "code",
      "execution_count": 37,
      "metadata": {
        "colab": {
          "base_uri": "https://localhost:8080/"
        },
        "id": "kkn9C78xjGql",
        "outputId": "a99de315-60b3-4853-a445-6d2e475ab205"
      },
      "outputs": [
        {
          "output_type": "execute_result",
          "data": {
            "text/plain": [
              "(False, True)"
            ]
          },
          "metadata": {},
          "execution_count": 37
        }
      ],
      "source": [
        "9128 in big_list, 9129 in big_list"
      ]
    },
    {
      "cell_type": "markdown",
      "source": [
        "## Existance Check"
      ],
      "metadata": {
        "id": "w9gLmkA0vfDc"
      }
    },
    {
      "cell_type": "code",
      "execution_count": 38,
      "metadata": {
        "colab": {
          "base_uri": "https://localhost:8080/"
        },
        "id": "obO1N8Y5M-BE",
        "outputId": "9eb4747e-deca-4a38-c4b5-973ed6437219"
      },
      "outputs": [
        {
          "output_type": "stream",
          "name": "stdout",
          "text": [
            "12 ms ± 2.57 ms per loop (mean ± std. dev. of 7 runs, 100 loops each)\n"
          ]
        }
      ],
      "source": [
        "%%timeit\n",
        "9129 in big_list # so this check took a while"
      ]
    },
    {
      "cell_type": "code",
      "execution_count": 39,
      "metadata": {
        "colab": {
          "base_uri": "https://localhost:8080/"
        },
        "id": "cvEVSy4mM-BE",
        "outputId": "8878fc1e-11c1-4251-cb55-4cbf2ff4251f"
      },
      "outputs": [
        {
          "output_type": "stream",
          "name": "stdout",
          "text": [
            "2.09 µs ± 58.2 ns per loop (mean ± std. dev. of 7 runs, 100000 loops each)\n"
          ]
        }
      ],
      "source": [
        "%%timeit\n",
        "9129 in sorted_big_list"
      ]
    },
    {
      "cell_type": "code",
      "execution_count": 40,
      "metadata": {
        "id": "43xRmhk-NzY_",
        "outputId": "5526e431-1689-4a28-86ae-717d151fb598",
        "colab": {
          "base_uri": "https://localhost:8080/"
        }
      },
      "outputs": [
        {
          "output_type": "stream",
          "name": "stdout",
          "text": [
            "Index of 9129 in unsorted list 891828\n",
            "Index of 9129 in sorted list 94\n"
          ]
        }
      ],
      "source": [
        "# let's check indexes of both lists\n",
        "print(\"Index of 9129 in unsorted list\", big_list.index(9129))\n",
        "print(\"Index of 9129 in sorted list\", sorted_big_list.index(9129))"
      ]
    },
    {
      "cell_type": "code",
      "execution_count": null,
      "metadata": {
        "id": "PxMEnrwiiPEo",
        "outputId": "7523e3fa-1fd4-4802-9265-15937a72a606",
        "colab": {
          "base_uri": "https://localhost:8080/"
        }
      },
      "outputs": [
        {
          "output_type": "execute_result",
          "data": {
            "text/plain": [
              "9487.531914893618"
            ]
          },
          "metadata": {},
          "execution_count": 38
        }
      ],
      "source": [
        "# let's divide unsorte list index with sorted list index\n",
        "big_list.index(9129) / sorted_big_list.index(9129)\n",
        "# so roughly 10 000 times faster, which matches with our timeit tests"
      ]
    },
    {
      "cell_type": "code",
      "execution_count": null,
      "metadata": {
        "colab": {
          "base_uri": "https://localhost:8080/"
        },
        "id": "kVg5JlvEM-BF",
        "outputId": "7064c171-fd9c-4c1c-d1b0-d074c14c6369"
      },
      "outputs": [
        {
          "data": {
            "text/plain": [
              "(891828, 94)"
            ]
          },
          "execution_count": 37,
          "metadata": {},
          "output_type": "execute_result"
        }
      ],
      "source": [
        "# why is finding 9129 so much faster in sorted list in this case?\n",
        "big_list.index(9129),sorted_big_list.index(9129)"
      ]
    },
    {
      "cell_type": "code",
      "execution_count": null,
      "metadata": {
        "colab": {
          "base_uri": "https://localhost:8080/"
        },
        "id": "xB6Ecgcmj8eh",
        "outputId": "d419ffbe-e922-4dc3-abbf-9b0c2807f2d7"
      },
      "outputs": [
        {
          "output_type": "execute_result",
          "data": {
            "text/plain": [
              "[99999266, 99999353, 99999851, 99999855, 99999938]"
            ]
          },
          "metadata": {},
          "execution_count": 39
        }
      ],
      "source": [
        "sorted_big_list[-5:] # last five values"
      ]
    },
    {
      "cell_type": "code",
      "execution_count": 41,
      "metadata": {
        "colab": {
          "base_uri": "https://localhost:8080/"
        },
        "id": "DDcRVxPBkDKS",
        "outputId": "f07ede9d-47ae-4afc-8e4a-80c9f0727218"
      },
      "outputs": [
        {
          "output_type": "stream",
          "name": "stdout",
          "text": [
            "56.4 ms ± 934 µs per loop (mean ± std. dev. of 7 runs, 10 loops each)\n"
          ]
        }
      ],
      "source": [
        "%%timeit\n",
        "99999938 in sorted_big_list"
      ]
    },
    {
      "cell_type": "code",
      "execution_count": 42,
      "metadata": {
        "colab": {
          "base_uri": "https://localhost:8080/"
        },
        "id": "jyXymNpZkOQl",
        "outputId": "23492d6e-a1db-49b1-c7ab-99540ec8dee3"
      },
      "outputs": [
        {
          "output_type": "stream",
          "name": "stdout",
          "text": [
            "6.74 ms ± 128 µs per loop (mean ± std. dev. of 7 runs, 100 loops each)\n"
          ]
        }
      ],
      "source": [
        "%%timeit\n",
        "99999938 in big_list"
      ]
    },
    {
      "cell_type": "code",
      "execution_count": 43,
      "metadata": {
        "id": "Hm17D2_LiPEp",
        "outputId": "7e8761f7-6fb1-46ac-cde8-fd51bca41bcb",
        "colab": {
          "base_uri": "https://localhost:8080/"
        }
      },
      "outputs": [
        {
          "output_type": "stream",
          "name": "stdout",
          "text": [
            "16.2 ms ± 4.4 ms per loop (mean ± std. dev. of 7 runs, 10 loops each)\n"
          ]
        }
      ],
      "source": [
        "%%timeit\n",
        "100_000_050 in big_list"
      ]
    },
    {
      "cell_type": "code",
      "execution_count": null,
      "metadata": {
        "colab": {
          "base_uri": "https://localhost:8080/"
        },
        "id": "lmAoHkZGOOqj",
        "outputId": "7a8b3c30-6e19-4488-917e-80fa1119341c"
      },
      "outputs": [
        {
          "output_type": "execute_result",
          "data": {
            "text/plain": [
              "(544926, 999999)"
            ]
          },
          "metadata": {},
          "execution_count": 43
        }
      ],
      "source": [
        "# so in this case finding something in unsorted list was faster\n",
        "# because it was found earlier, naturally when it was sorted it was at the very end\n",
        "big_list.index(99999938), sorted_big_list.index(99999938)"
      ]
    },
    {
      "cell_type": "code",
      "execution_count": null,
      "metadata": {
        "id": "Gbab_CvxkUXw"
      },
      "outputs": [],
      "source": [
        "# Can we do better for membership testing in sorted list?\n",
        "# in an unsorted list we have to spend O(n) time, meaning the more items we have the longer we search"
      ]
    },
    {
      "cell_type": "code",
      "execution_count": 44,
      "metadata": {
        "id": "WymuZ-YVM-BF"
      },
      "outputs": [],
      "source": [
        "# this is the best way if you need to do a lot of memerbership testing\n",
        "big_set = set(big_list) # another data structure based on hashmap"
      ]
    },
    {
      "cell_type": "code",
      "source": [
        "%%timeit\n",
        "set(big_list)"
      ],
      "metadata": {
        "id": "8Rwa2AUbxZux",
        "outputId": "232c9672-c0f0-4968-f222-a8b3290aa072",
        "colab": {
          "base_uri": "https://localhost:8080/"
        }
      },
      "execution_count": 45,
      "outputs": [
        {
          "output_type": "stream",
          "name": "stdout",
          "text": [
            "155 ms ± 21.7 ms per loop (mean ± std. dev. of 7 runs, 10 loops each)\n"
          ]
        }
      ]
    },
    {
      "cell_type": "code",
      "execution_count": 46,
      "metadata": {
        "colab": {
          "base_uri": "https://localhost:8080/"
        },
        "id": "b3XWSfpNM-BF",
        "outputId": "ee4d2e9d-ea09-47ac-91f0-81c127bb2588"
      },
      "outputs": [
        {
          "output_type": "stream",
          "name": "stdout",
          "text": [
            "42 ns ± 12.7 ns per loop (mean ± std. dev. of 7 runs, 10000000 loops each)\n"
          ]
        }
      ],
      "source": [
        "%%timeit\n",
        "99999983 in big_set\n"
      ]
    },
    {
      "cell_type": "code",
      "execution_count": null,
      "metadata": {
        "colab": {
          "base_uri": "https://localhost:8080/"
        },
        "id": "M8seBQg1kfy-",
        "outputId": "45aef179-5f48-4153-8897-ba818fecf4a4"
      },
      "outputs": [
        {
          "output_type": "stream",
          "name": "stdout",
          "text": [
            "63.4 ns ± 12.9 ns per loop (mean ± std. dev. of 7 runs, 10000000 loops each)\n"
          ]
        }
      ],
      "source": [
        "%%timeit\n",
        "-14124215151 in big_set\n",
        "# works(fast) even for non existing values"
      ]
    },
    {
      "cell_type": "code",
      "execution_count": null,
      "metadata": {
        "id": "ddXiZjc-iPEq",
        "outputId": "366fc532-d571-454a-866b-63256a0274ca"
      },
      "outputs": [
        {
          "name": "stdout",
          "output_type": "stream",
          "text": [
            "13.4 ms ± 1.36 ms per loop (mean ± std. dev. of 7 runs, 100 loops each)\n"
          ]
        }
      ],
      "source": [
        "%%timeit\n",
        "-14124215151 in big_list\n",
        "# should be slower than set"
      ]
    },
    {
      "cell_type": "code",
      "execution_count": null,
      "metadata": {
        "id": "8FrB50ygM-BG"
      },
      "outputs": [],
      "source": [
        "# Key takeaway - choosing a right data structure can be crucial\n",
        "# in set is O(1) lookup\n",
        "# in list is O(n) - on average, sometimes the value is found quickly sometimes you have to go through whole list"
      ]
    },
    {
      "cell_type": "code",
      "execution_count": null,
      "metadata": {
        "id": "Fj_pQqyMM-BG",
        "outputId": "c81a09df-c343-49d8-ff5f-e31878d85d7f"
      },
      "outputs": [
        {
          "name": "stdout",
          "output_type": "stream",
          "text": [
            "20.8 ms ± 782 µs per loop (mean ± std. dev. of 7 runs, 10 loops each)\n"
          ]
        }
      ],
      "source": [
        "%%timeit\n",
        "9000 in big_list"
      ]
    },
    {
      "cell_type": "code",
      "execution_count": null,
      "metadata": {
        "id": "59lAkXCPM-BH",
        "outputId": "bb157d53-e7dd-4a0b-bb57-ce22ce80151f"
      },
      "outputs": [
        {
          "name": "stdout",
          "output_type": "stream",
          "text": [
            "90.3 ns ± 10.2 ns per loop (mean ± std. dev. of 7 runs, 10000000 loops each)\n"
          ]
        }
      ],
      "source": [
        "%%timeit\n",
        "9000 in big_set"
      ]
    },
    {
      "cell_type": "code",
      "execution_count": null,
      "metadata": {
        "id": "1n-ThLDAM-BH",
        "outputId": "ca97ce5b-2d9d-4255-ccee-4ca819399879",
        "colab": {
          "base_uri": "https://localhost:8080/"
        }
      },
      "outputs": [
        {
          "output_type": "stream",
          "name": "stdout",
          "text": [
            "7.75 ms ± 173 µs per loop (mean ± std. dev. of 7 runs, 100 loops each)\n"
          ]
        }
      ],
      "source": [
        "%%timeit\n",
        "count = 100_000\n",
        "nums = [] # lets imagine we do not know about list comprehension\n",
        "for n in range(count):\n",
        "    nums.append(n)\n",
        "nums.reverse() # in place number reversal\n",
        "# of course list(range(count))\n",
        "# nums[:10]"
      ]
    },
    {
      "cell_type": "code",
      "execution_count": null,
      "metadata": {
        "id": "euc4O30RiPEr",
        "outputId": "99ce4446-a9f9-4e81-b8f6-6ea8d28624ac",
        "colab": {
          "base_uri": "https://localhost:8080/"
        }
      },
      "outputs": [
        {
          "output_type": "stream",
          "name": "stdout",
          "text": [
            "3.54 ms ± 1.02 ms per loop (mean ± std. dev. of 7 runs, 100 loops each)\n"
          ]
        }
      ],
      "source": [
        "%%timeit\n",
        "count = 100_000\n",
        "nums = list(reversed(range(count)))"
      ]
    },
    {
      "cell_type": "code",
      "execution_count": null,
      "metadata": {
        "id": "Taw_RB3sM-BH"
      },
      "outputs": [],
      "source": [
        "# can we try to do better ? why reverse if we could already make reverse immediate...."
      ]
    },
    {
      "cell_type": "code",
      "execution_count": null,
      "metadata": {
        "id": "SjfdjM1hM-BI",
        "outputId": "f9eab4d9-50ad-4fc4-b676-c0622a1452a0",
        "colab": {
          "base_uri": "https://localhost:8080/"
        }
      },
      "outputs": [
        {
          "output_type": "stream",
          "name": "stdout",
          "text": [
            "2.69 s ± 355 ms per loop (mean ± std. dev. of 7 runs, 1 loop each)\n"
          ]
        }
      ],
      "source": [
        "%%timeit\n",
        "count = 100_000\n",
        "nums2 = []\n",
        "for n in range(count):\n",
        "    nums2.insert(0, n) # this hides linear complexity for insert\n"
      ]
    },
    {
      "cell_type": "markdown",
      "metadata": {
        "id": "gS_CFUhtiPEr"
      },
      "source": [
        "## Takeways - avoid hidden loops - quadratic time\n",
        "\n",
        "Story of GTA loading screen: https://nee.lv/2021/02/28/How-I-cut-GTA-Online-loading-times-by-70/"
      ]
    },
    {
      "cell_type": "code",
      "execution_count": null,
      "metadata": {
        "id": "r1YQDhfxM-BI",
        "outputId": "1da73168-70cb-48a2-f651-6a61715c20a3"
      },
      "outputs": [
        {
          "data": {
            "text/plain": [
              "([999999, 999998, 999997, 999996, 999995], [99999, 99998, 99997, 99996, 99995])"
            ]
          },
          "execution_count": 59,
          "metadata": {},
          "output_type": "execute_result"
        }
      ],
      "source": [
        "nums[:5],nums2[:5]"
      ]
    },
    {
      "cell_type": "code",
      "execution_count": null,
      "metadata": {
        "id": "BGZzc05Nleer"
      },
      "outputs": [],
      "source": [
        "# if we did not have set we could use binary search in a sorted list"
      ]
    },
    {
      "cell_type": "code",
      "execution_count": null,
      "metadata": {
        "id": "DRwwKuNflkie"
      },
      "outputs": [],
      "source": [
        "# pseudo code for binary search\n",
        "# check if needle is bigger or lesser than middle of sorted collection\n",
        "# check the appropriate half"
      ]
    },
    {
      "cell_type": "code",
      "execution_count": 47,
      "metadata": {
        "id": "4M-4b-moQWoY"
      },
      "outputs": [],
      "source": [
        "import math"
      ]
    },
    {
      "cell_type": "code",
      "execution_count": 48,
      "metadata": {
        "colab": {
          "base_uri": "https://localhost:8080/"
        },
        "id": "NA4VpH1DQZbq",
        "outputId": "b8be98f2-85c7-44ba-a5a1-c57b85d77fce"
      },
      "outputs": [
        {
          "output_type": "execute_result",
          "data": {
            "text/plain": [
              "(8.0, 10.0)"
            ]
          },
          "metadata": {},
          "execution_count": 48
        }
      ],
      "source": [
        "math.log2(256), math.log2(1024)"
      ]
    },
    {
      "cell_type": "code",
      "execution_count": 49,
      "metadata": {
        "colab": {
          "base_uri": "https://localhost:8080/"
        },
        "id": "Lu9TunHzQogP",
        "outputId": "8b0d08f3-661c-42af-9fb8-6ce93ff6e862"
      },
      "outputs": [
        {
          "output_type": "execute_result",
          "data": {
            "text/plain": [
              "10000000000000000000000000000000000000000000000000000000000000000000000000000000000000000000000000000"
            ]
          },
          "metadata": {},
          "execution_count": 49
        }
      ],
      "source": [
        "10**100 # Googol https://en.wikipedia.org/wiki/Googol"
      ]
    },
    {
      "cell_type": "code",
      "execution_count": 50,
      "metadata": {
        "colab": {
          "base_uri": "https://localhost:8080/"
        },
        "id": "A0KWCXYLQduI",
        "outputId": "dd5d22f0-8c07-4dd0-e1fd-ccfbecb29779"
      },
      "outputs": [
        {
          "output_type": "execute_result",
          "data": {
            "text/plain": [
              "(19.931568569324174, 29.897352853986263, 332.19280948873626)"
            ]
          },
          "metadata": {},
          "execution_count": 50
        }
      ],
      "source": [
        "math.log2(1_000_000),math.log2(1_000_000_000),math.log2(10**100) # 1 with 100 zeroes"
      ]
    },
    {
      "cell_type": "code",
      "execution_count": 52,
      "metadata": {
        "id": "2waybW61l6O8"
      },
      "outputs": [],
      "source": [
        "def is_needle_in_seq(seq, needle, debug=False):\n",
        "    \"\"\"\n",
        "    seq should be sorted and indexable!!!\n",
        "    needle can be or not be in the seq\n",
        "    \"\"\"\n",
        "    start = 0\n",
        "    end = len(seq)-1 # len can hide linear complexity in some structures... not here\n",
        "\n",
        "    # now we will make a while loop\n",
        "    while start <= end:\n",
        "        mid = (end+start) // 2  # // means no reminder , integer division\n",
        "        if needle == seq[mid]:\n",
        "            if debug:\n",
        "                print(\"Found it at index\", mid)\n",
        "            return True\n",
        "        elif needle > seq[mid]:\n",
        "            start = mid + 1\n",
        "        elif needle < seq[mid]: # else would work here just as well\n",
        "            end = mid - 1\n",
        "    if debug:\n",
        "        print(\"Sorry did  not find your needle\", needle)\n",
        "    return False"
      ]
    },
    {
      "cell_type": "code",
      "source": [
        "math.log2(100)"
      ],
      "metadata": {
        "id": "LGB823P4wVtH",
        "outputId": "48d2074e-0073-45b8-c509-57e521f5134d",
        "colab": {
          "base_uri": "https://localhost:8080/"
        }
      },
      "execution_count": 51,
      "outputs": [
        {
          "output_type": "execute_result",
          "data": {
            "text/plain": [
              "6.643856189774724"
            ]
          },
          "metadata": {},
          "execution_count": 51
        }
      ]
    },
    {
      "cell_type": "code",
      "execution_count": null,
      "metadata": {
        "id": "xkxb-yuGQVo-"
      },
      "outputs": [],
      "source": []
    },
    {
      "cell_type": "code",
      "execution_count": 53,
      "metadata": {
        "colab": {
          "base_uri": "https://localhost:8080/"
        },
        "id": "MX-GjsORnyii",
        "outputId": "208c8f0e-b2bf-4d99-eec3-c0c4b64393bf"
      },
      "outputs": [
        {
          "output_type": "execute_result",
          "data": {
            "text/plain": [
              "True"
            ]
          },
          "metadata": {},
          "execution_count": 53
        }
      ],
      "source": [
        "is_needle_in_seq(sorted_big_list, 9129)"
      ]
    },
    {
      "cell_type": "code",
      "execution_count": 54,
      "metadata": {
        "colab": {
          "base_uri": "https://localhost:8080/"
        },
        "id": "Uc63Vz0dpHHY",
        "outputId": "ed59bf73-a421-4408-c051-e3a7803417c0"
      },
      "outputs": [
        {
          "output_type": "execute_result",
          "data": {
            "text/plain": [
              "True"
            ]
          },
          "metadata": {},
          "execution_count": 54
        }
      ],
      "source": [
        "9129 in sorted_big_list"
      ]
    },
    {
      "cell_type": "code",
      "execution_count": 55,
      "metadata": {
        "id": "iD1uWhnDiPEt",
        "outputId": "65c44f5e-1f59-48e2-e13b-bdf33ec70937",
        "colab": {
          "base_uri": "https://localhost:8080/"
        }
      },
      "outputs": [
        {
          "output_type": "stream",
          "name": "stdout",
          "text": [
            "1.32 µs ± 317 ns per loop (mean ± std. dev. of 7 runs, 1000000 loops each)\n"
          ]
        }
      ],
      "source": [
        "%%timeit\n",
        "9129 in sorted_big_list"
      ]
    },
    {
      "cell_type": "code",
      "execution_count": 56,
      "metadata": {
        "colab": {
          "base_uri": "https://localhost:8080/"
        },
        "id": "dcBtYRCIRbCL",
        "outputId": "b0a460e1-df64-4b51-b2ec-18cefdb0d2bd"
      },
      "outputs": [
        {
          "output_type": "stream",
          "name": "stdout",
          "text": [
            "2.68 µs ± 87.2 ns per loop (mean ± std. dev. of 7 runs, 100000 loops each)\n"
          ]
        }
      ],
      "source": [
        "%%timeit\n",
        "is_needle_in_seq(sorted_big_list, 9129)"
      ]
    },
    {
      "cell_type": "code",
      "execution_count": 57,
      "metadata": {
        "id": "5-yny6NtiPEt",
        "outputId": "d7c99377-f8f6-4163-fb8a-16fb97b5c275",
        "colab": {
          "base_uri": "https://localhost:8080/"
        }
      },
      "outputs": [
        {
          "output_type": "stream",
          "name": "stdout",
          "text": [
            "3.05 µs ± 111 ns per loop (mean ± std. dev. of 7 runs, 100000 loops each)\n"
          ]
        }
      ],
      "source": [
        "%%timeit\n",
        "# let's test it on number that is not in sorted_big_list\n",
        "is_needle_in_seq(sorted_big_list, 9129_000_000)"
      ]
    },
    {
      "cell_type": "code",
      "execution_count": 58,
      "metadata": {
        "id": "0OUn1ptOiPEt",
        "outputId": "2d0be1b2-8086-45d9-9a99-d950b9d8a384",
        "colab": {
          "base_uri": "https://localhost:8080/"
        }
      },
      "outputs": [
        {
          "output_type": "stream",
          "name": "stdout",
          "text": [
            "44.3 ms ± 1.05 ms per loop (mean ± std. dev. of 7 runs, 10 loops each)\n"
          ]
        }
      ],
      "source": [
        "%%timeit\n",
        "# we expect that looking for non existant number by brute force will be slower\n",
        "9129_000_000 in sorted_big_list"
      ]
    },
    {
      "cell_type": "code",
      "execution_count": null,
      "metadata": {
        "id": "_d8LiTd2iPEu",
        "outputId": "36824411-ea6c-4bbe-a374-cd77b919aeda"
      },
      "outputs": [
        {
          "name": "stdout",
          "output_type": "stream",
          "text": [
            "Log 2 of 10 3.321928094887362\n",
            "Log 2 of 100 6.643856189774724\n",
            "Log 2 of 1000 9.965784284662087\n",
            "Log 2 of 1_000_000 19.931568569324174\n",
            "Log 2 of 10**100 332.19280948873626\n"
          ]
        }
      ],
      "source": [
        "import math\n",
        "print(\"Log 2 of 10\", math.log2(10))\n",
        "print(\"Log 2 of 100\", math.log2(100))\n",
        "print(\"Log 2 of 1000\", math.log2(1000))\n",
        "# big list\n",
        "print(\"Log 2 of 1_000_000\", math.log2(1_000_000))\n",
        "# googol\n",
        "print(\"Log 2 of 10**100\", math.log2(10**100)) # more than atoms in the universe"
      ]
    },
    {
      "cell_type": "markdown",
      "metadata": {
        "id": "4yzxPg7FM-BI"
      },
      "source": [
        "# What is GCD?\n",
        "## the largest number that divides two numbers evenly (no reminder)\n",
        "## 12 8 will have GCD of 4, and 21, 18, will have GCD of 3\n",
        "# 15 and 5 would be 5 (it is possible for one of the numbers to be GCD)\n",
        "# and 23 and 7 would be 1 (GCD is always at least 1)\n",
        "\n",
        "## TODO Find a real life example of GCD use"
      ]
    },
    {
      "cell_type": "markdown",
      "metadata": {
        "id": "R6vS2ZseM-BI"
      },
      "source": [
        "# one algorithm to solve would be this\n",
        "* divide numbers in prime factors\n",
        "* GCD will be the common prime factors in both numbers multiplied"
      ]
    },
    {
      "cell_type": "code",
      "execution_count": null,
      "metadata": {
        "id": "DiSOFH-qM-BJ"
      },
      "outputs": [],
      "source": [
        "# GCD or 30 and 12 would be 6 because:\n",
        "# 30 = 2*3*5\n",
        "# 12 = 2*2*3\n",
        "# so GCD is 2*3\n",
        "# the only catch being that you have to find prime factors for a number\n",
        "# well"
      ]
    },
    {
      "cell_type": "code",
      "execution_count": null,
      "metadata": {
        "id": "Jqn3bYKjM-BJ"
      },
      "outputs": [],
      "source": [
        "# if we did not know about Euclid\n",
        "# brute force algorithm\n",
        "def naiveGCD(x, y):\n",
        "    gcd = 1 # so 1 will always be a fallback GCD\n",
        "    for n in range(2, min(x,y)+1): # also those off by one errors you have to watch out\n",
        "        if x%n == 0 and y%n ==0:\n",
        "            gcd = n # wow we got a new high gcd\n",
        "    return gcd"
      ]
    },
    {
      "cell_type": "code",
      "execution_count": null,
      "metadata": {
        "colab": {
          "base_uri": "https://localhost:8080/"
        },
        "id": "tP3YkeMdM-BJ",
        "outputId": "60b02e79-19af-4bfb-d861-f3364fb169c0"
      },
      "outputs": [
        {
          "data": {
            "text/plain": [
              "4"
            ]
          },
          "execution_count": 57,
          "metadata": {},
          "output_type": "execute_result"
        }
      ],
      "source": [
        "naiveGCD(12,8)"
      ]
    },
    {
      "cell_type": "code",
      "execution_count": null,
      "metadata": {
        "colab": {
          "base_uri": "https://localhost:8080/"
        },
        "id": "5rkbg-4cM-BK",
        "outputId": "c908f0e9-074b-4e23-8823-53becf39ab29"
      },
      "outputs": [
        {
          "data": {
            "text/plain": [
              "6"
            ]
          },
          "execution_count": 58,
          "metadata": {},
          "output_type": "execute_result"
        }
      ],
      "source": [
        "naiveGCD(30,12)"
      ]
    },
    {
      "cell_type": "code",
      "execution_count": null,
      "metadata": {
        "id": "dgtoiUl7iPEv",
        "outputId": "cfb725dc-c546-462c-c81f-0d3d84be200a"
      },
      "outputs": [
        {
          "data": {
            "text/plain": [
              "600"
            ]
          },
          "execution_count": 59,
          "metadata": {},
          "output_type": "execute_result"
        }
      ],
      "source": [
        "naiveGCD(10_000_200,900_000)"
      ]
    },
    {
      "cell_type": "code",
      "execution_count": null,
      "metadata": {
        "colab": {
          "base_uri": "https://localhost:8080/"
        },
        "id": "afT0le3sM-BK",
        "outputId": "114a3f76-52c2-4e40-8f53-ee915f847737"
      },
      "outputs": [
        {
          "name": "stdout",
          "output_type": "stream",
          "text": [
            "95.7 ms ± 7.16 ms per loop (mean ± std. dev. of 7 runs, 10 loops each)\n"
          ]
        }
      ],
      "source": [
        "%%timeit\n",
        "naiveGCD(10_000_200,900_000)"
      ]
    },
    {
      "cell_type": "code",
      "execution_count": null,
      "metadata": {
        "id": "ycBTLwl0M-BL"
      },
      "outputs": [],
      "source": [
        "# This 2000 years old algorithm\n",
        "# https://en.wikipedia.org/wiki/Euclidean_algorithm"
      ]
    },
    {
      "cell_type": "code",
      "execution_count": null,
      "metadata": {
        "id": "2U9yrtBwM-BL"
      },
      "outputs": [],
      "source": [
        "def gcd(x, y):\n",
        "    while(y):\n",
        "        # we utilize tuple packing and unpacking in Python\n",
        "        x, y = y, x % y # calculate the reminder and then swap the values, in other languages you'd use a temp variable\n",
        "    return x"
      ]
    },
    {
      "cell_type": "code",
      "execution_count": null,
      "metadata": {
        "id": "-Ots9_rXqDSy"
      },
      "outputs": [],
      "source": []
    },
    {
      "cell_type": "code",
      "execution_count": null,
      "metadata": {
        "colab": {
          "base_uri": "https://localhost:8080/"
        },
        "id": "IzrOh88TM-BL",
        "outputId": "f064a597-eb4a-45e4-d6d7-aaa489bd31fb"
      },
      "outputs": [
        {
          "data": {
            "text/plain": [
              "600"
            ]
          },
          "execution_count": 62,
          "metadata": {},
          "output_type": "execute_result"
        }
      ],
      "source": [
        "gcd(10_000_200,900_000)"
      ]
    },
    {
      "cell_type": "code",
      "execution_count": null,
      "metadata": {
        "colab": {
          "base_uri": "https://localhost:8080/"
        },
        "id": "R0U1j1P3M-BM",
        "outputId": "19bd58dc-e99c-47ac-8fdd-d1eef594fab5"
      },
      "outputs": [
        {
          "name": "stdout",
          "output_type": "stream",
          "text": [
            "435 ns ± 29.9 ns per loop (mean ± std. dev. of 7 runs, 1,000,000 loops each)\n"
          ]
        }
      ],
      "source": [
        "%%timeit\n",
        "gcd(10_000_200,900_000)"
      ]
    },
    {
      "cell_type": "code",
      "execution_count": null,
      "metadata": {
        "colab": {
          "base_uri": "https://localhost:8080/"
        },
        "id": "trnxxyLpM-BM",
        "outputId": "232fe852-f2d9-47a0-d495-46a940ae8367"
      },
      "outputs": [
        {
          "data": {
            "text/plain": [
              "4"
            ]
          },
          "execution_count": 64,
          "metadata": {},
          "output_type": "execute_result"
        }
      ],
      "source": [
        "gcd(12, 8)"
      ]
    },
    {
      "cell_type": "code",
      "execution_count": null,
      "metadata": {
        "colab": {
          "base_uri": "https://localhost:8080/"
        },
        "id": "Lb-bC86-M-BM",
        "outputId": "58e29309-d784-4160-a5a2-ac8895d339e0"
      },
      "outputs": [
        {
          "data": {
            "text/plain": [
              "3"
            ]
          },
          "execution_count": 65,
          "metadata": {},
          "output_type": "execute_result"
        }
      ],
      "source": [
        "gcd(21,18)"
      ]
    },
    {
      "cell_type": "code",
      "execution_count": null,
      "metadata": {
        "colab": {
          "base_uri": "https://localhost:8080/"
        },
        "id": "DP5-W3f_M-BN",
        "outputId": "26cf0ab4-9ae8-4ed0-e585-07055ecfe1d8"
      },
      "outputs": [
        {
          "data": {
            "text/plain": [
              "1"
            ]
          },
          "execution_count": 66,
          "metadata": {},
          "output_type": "execute_result"
        }
      ],
      "source": [
        "gcd(100, 93)"
      ]
    },
    {
      "cell_type": "code",
      "execution_count": null,
      "metadata": {
        "colab": {
          "base_uri": "https://localhost:8080/"
        },
        "id": "c3uQ1r2MM-BN",
        "outputId": "9aaa8bf1-493a-4906-9f93-1eef84ab62e5"
      },
      "outputs": [
        {
          "data": {
            "text/plain": [
              "2"
            ]
          },
          "execution_count": 59,
          "metadata": {},
          "output_type": "execute_result"
        }
      ],
      "source": [
        "gcd(10, 8)"
      ]
    },
    {
      "cell_type": "code",
      "execution_count": null,
      "metadata": {
        "colab": {
          "base_uri": "https://localhost:8080/"
        },
        "id": "ODWG3GQGM-BN",
        "outputId": "bf0f9636-d795-4088-e69f-109e73a1f209"
      },
      "outputs": [
        {
          "data": {
            "text/plain": [
              "12"
            ]
          },
          "execution_count": 67,
          "metadata": {},
          "output_type": "execute_result"
        }
      ],
      "source": [
        "gcd(24,12)"
      ]
    },
    {
      "cell_type": "markdown",
      "metadata": {
        "id": "__pIz4-viPEw"
      },
      "source": [
        "## Make it work, make it right, make it fast\n",
        "\n",
        "* make it works - write the code,\n",
        "* make it right - make it work for all the cases,\n",
        "* make it fast - optimize it\n",
        "\n",
        "Optimization is the process of transforming a piece of code to make some aspect of it work more efficiently or use fewer resources.\n",
        "\n",
        "In algorithmic optimization, we are concerned with improving the running time of an algorithm. In practice, this usually means reducing the order of growth of the running time, which is the same as reducing the number of times the most frequently executed statement is executed."
      ]
    },
    {
      "cell_type": "code",
      "execution_count": null,
      "metadata": {
        "id": "iVJRdvUeiPEw"
      },
      "outputs": [],
      "source": []
    }
  ],
  "metadata": {
    "colab": {
      "collapsed_sections": [
        "4yzxPg7FM-BI",
        "R6vS2ZseM-BI"
      ],
      "name": "Introduction_to_Algorithms.ipynb",
      "provenance": []
    },
    "kernelspec": {
      "display_name": "Python 3",
      "language": "python",
      "name": "python3"
    },
    "language_info": {
      "codemirror_mode": {
        "name": "ipython",
        "version": 3
      },
      "file_extension": ".py",
      "mimetype": "text/x-python",
      "name": "python",
      "nbconvert_exporter": "python",
      "pygments_lexer": "ipython3",
      "version": "3.10.7"
    }
  },
  "nbformat": 4,
  "nbformat_minor": 0
}